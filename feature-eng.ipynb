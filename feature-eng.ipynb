{
    "cells": [
        {
            "cell_type": "code",
            "execution_count": 4,
            "source": [
                "import pandas as pd\n",
                "import sqlite3\n",
                "import requests\n",
                "import re\n",
                "import nltk\n",
                "from nltk.stem.porter import PorterStemmer\n",
                "import numpy as np"
            ],
            "outputs": [],
            "metadata": {}
        },
        {
            "cell_type": "code",
            "execution_count": 5,
            "source": [
                "OHCO = ['book_id', 'para_num', 'sent_num', 'token_num']\n",
                "SENTS = OHCO[:4]\n",
                "PARAS = OHCO[:3]\n",
                "CHAPS = OHCO[:2]\n",
                "BOOKS = OHCO[:1]"
            ],
            "outputs": [],
            "metadata": {}
        },
        {
            "cell_type": "code",
            "execution_count": 6,
            "source": [
                "# Load data\n",
                "data_dir = './'\n",
                "\n",
                "LIBRARY = pd.read_csv(data_dir + \"LIBRARY.csv\").set_index(BOOKS)\n",
                "TOKEN = pd.read_csv(data_dir + 'TOKEN.csv').set_index(OHCO)\n",
                "VOCAB = pd.read_csv(data_dir + 'VOCAB.csv').set_index('term_id')"
            ],
            "outputs": [],
            "metadata": {}
        },
        {
            "cell_type": "code",
            "execution_count": 7,
            "source": [
                "# enhance vocab table\n",
                "\n",
                "# stop words\n",
                "sw = pd.DataFrame(nltk.corpus.stopwords.words('english'), columns=['term_str'])\n",
                "sw = sw.reset_index().set_index('term_str')\n",
                "sw.columns = ['dummy']\n",
                "sw.dummy = 1\n",
                "\n",
                "VOCAB['stop'] = VOCAB.term_str.map(sw.dummy)\n",
                "VOCAB['stop'] = VOCAB['stop'].fillna(0).astype('int')"
            ],
            "outputs": [],
            "metadata": {}
        },
        {
            "cell_type": "code",
            "execution_count": 8,
            "source": [
                "from nltk.stem.porter import PorterStemmer\n",
                "\n",
                "stemmer = PorterStemmer()\n",
                "VOCAB['p_stem'] = VOCAB.term_str.apply(str).apply(stemmer.stem)"
            ],
            "outputs": [],
            "metadata": {}
        },
        {
            "cell_type": "code",
            "execution_count": 9,
            "source": [
                "VOCAB.head()"
            ],
            "outputs": [
                {
                    "output_type": "execute_result",
                    "data": {
                        "text/plain": [
                            "        term_str     n             p      log_p  stop   p_stem\n",
                            "term_id                                                       \n",
                            "100            A  4277  1.217456e-03  -9.681915     0        a\n",
                            "47080         AB     1  2.846519e-07 -21.744298     0       ab\n",
                            "39729    ABANDON     1  2.846519e-07 -21.744298     0  abandon\n",
                            "33967      ABBEY     2  5.693038e-07 -20.744298     0    abbey\n",
                            "36300      ABBOT     2  5.693038e-07 -20.744298     0    abbot"
                        ],
                        "text/html": [
                            "<div>\n",
                            "<style scoped>\n",
                            "    .dataframe tbody tr th:only-of-type {\n",
                            "        vertical-align: middle;\n",
                            "    }\n",
                            "\n",
                            "    .dataframe tbody tr th {\n",
                            "        vertical-align: top;\n",
                            "    }\n",
                            "\n",
                            "    .dataframe thead th {\n",
                            "        text-align: right;\n",
                            "    }\n",
                            "</style>\n",
                            "<table border=\"1\" class=\"dataframe\">\n",
                            "  <thead>\n",
                            "    <tr style=\"text-align: right;\">\n",
                            "      <th></th>\n",
                            "      <th>term_str</th>\n",
                            "      <th>n</th>\n",
                            "      <th>p</th>\n",
                            "      <th>log_p</th>\n",
                            "      <th>stop</th>\n",
                            "      <th>p_stem</th>\n",
                            "    </tr>\n",
                            "    <tr>\n",
                            "      <th>term_id</th>\n",
                            "      <th></th>\n",
                            "      <th></th>\n",
                            "      <th></th>\n",
                            "      <th></th>\n",
                            "      <th></th>\n",
                            "      <th></th>\n",
                            "    </tr>\n",
                            "  </thead>\n",
                            "  <tbody>\n",
                            "    <tr>\n",
                            "      <th>100</th>\n",
                            "      <td>A</td>\n",
                            "      <td>4277</td>\n",
                            "      <td>1.217456e-03</td>\n",
                            "      <td>-9.681915</td>\n",
                            "      <td>0</td>\n",
                            "      <td>a</td>\n",
                            "    </tr>\n",
                            "    <tr>\n",
                            "      <th>47080</th>\n",
                            "      <td>AB</td>\n",
                            "      <td>1</td>\n",
                            "      <td>2.846519e-07</td>\n",
                            "      <td>-21.744298</td>\n",
                            "      <td>0</td>\n",
                            "      <td>ab</td>\n",
                            "    </tr>\n",
                            "    <tr>\n",
                            "      <th>39729</th>\n",
                            "      <td>ABANDON</td>\n",
                            "      <td>1</td>\n",
                            "      <td>2.846519e-07</td>\n",
                            "      <td>-21.744298</td>\n",
                            "      <td>0</td>\n",
                            "      <td>abandon</td>\n",
                            "    </tr>\n",
                            "    <tr>\n",
                            "      <th>33967</th>\n",
                            "      <td>ABBEY</td>\n",
                            "      <td>2</td>\n",
                            "      <td>5.693038e-07</td>\n",
                            "      <td>-20.744298</td>\n",
                            "      <td>0</td>\n",
                            "      <td>abbey</td>\n",
                            "    </tr>\n",
                            "    <tr>\n",
                            "      <th>36300</th>\n",
                            "      <td>ABBOT</td>\n",
                            "      <td>2</td>\n",
                            "      <td>5.693038e-07</td>\n",
                            "      <td>-20.744298</td>\n",
                            "      <td>0</td>\n",
                            "      <td>abbot</td>\n",
                            "    </tr>\n",
                            "  </tbody>\n",
                            "</table>\n",
                            "</div>"
                        ]
                    },
                    "metadata": {},
                    "execution_count": 9
                }
            ],
            "metadata": {}
        },
        {
            "cell_type": "code",
            "execution_count": 10,
            "source": [
                "# add term_id to TOKEN table\n",
                "TOKEN['term_id'] = TOKEN.token_str.map(VOCAB.reset_index().set_index('term_str').term_id)\n",
                "TOKEN.head()"
            ],
            "outputs": [
                {
                    "output_type": "execute_result",
                    "data": {
                        "text/plain": [
                            "                                               pos_tuple  pos token_str  \\\n",
                            "book_id para_num sent_num token_num                                       \n",
                            "21768   0        0        0          ('Produced', 'VBN')  VBN  Produced   \n",
                            "                          1                 ('by', 'IN')   IN        by   \n",
                            "                          2             ('David', 'NNP')  NNP     David   \n",
                            "                          3            ('Widger', 'NNP')  NNP    Widger   \n",
                            "        1        0        0                  ('A', 'DT')   DT         A   \n",
                            "\n",
                            "                                     term_id  \n",
                            "book_id para_num sent_num token_num           \n",
                            "21768   0        0        0             5472  \n",
                            "                          1               33  \n",
                            "                          2             6693  \n",
                            "                          3            25278  \n",
                            "        1        0        0              100  "
                        ],
                        "text/html": [
                            "<div>\n",
                            "<style scoped>\n",
                            "    .dataframe tbody tr th:only-of-type {\n",
                            "        vertical-align: middle;\n",
                            "    }\n",
                            "\n",
                            "    .dataframe tbody tr th {\n",
                            "        vertical-align: top;\n",
                            "    }\n",
                            "\n",
                            "    .dataframe thead th {\n",
                            "        text-align: right;\n",
                            "    }\n",
                            "</style>\n",
                            "<table border=\"1\" class=\"dataframe\">\n",
                            "  <thead>\n",
                            "    <tr style=\"text-align: right;\">\n",
                            "      <th></th>\n",
                            "      <th></th>\n",
                            "      <th></th>\n",
                            "      <th></th>\n",
                            "      <th>pos_tuple</th>\n",
                            "      <th>pos</th>\n",
                            "      <th>token_str</th>\n",
                            "      <th>term_id</th>\n",
                            "    </tr>\n",
                            "    <tr>\n",
                            "      <th>book_id</th>\n",
                            "      <th>para_num</th>\n",
                            "      <th>sent_num</th>\n",
                            "      <th>token_num</th>\n",
                            "      <th></th>\n",
                            "      <th></th>\n",
                            "      <th></th>\n",
                            "      <th></th>\n",
                            "    </tr>\n",
                            "  </thead>\n",
                            "  <tbody>\n",
                            "    <tr>\n",
                            "      <th rowspan=\"5\" valign=\"top\">21768</th>\n",
                            "      <th rowspan=\"4\" valign=\"top\">0</th>\n",
                            "      <th rowspan=\"4\" valign=\"top\">0</th>\n",
                            "      <th>0</th>\n",
                            "      <td>('Produced', 'VBN')</td>\n",
                            "      <td>VBN</td>\n",
                            "      <td>Produced</td>\n",
                            "      <td>5472</td>\n",
                            "    </tr>\n",
                            "    <tr>\n",
                            "      <th>1</th>\n",
                            "      <td>('by', 'IN')</td>\n",
                            "      <td>IN</td>\n",
                            "      <td>by</td>\n",
                            "      <td>33</td>\n",
                            "    </tr>\n",
                            "    <tr>\n",
                            "      <th>2</th>\n",
                            "      <td>('David', 'NNP')</td>\n",
                            "      <td>NNP</td>\n",
                            "      <td>David</td>\n",
                            "      <td>6693</td>\n",
                            "    </tr>\n",
                            "    <tr>\n",
                            "      <th>3</th>\n",
                            "      <td>('Widger', 'NNP')</td>\n",
                            "      <td>NNP</td>\n",
                            "      <td>Widger</td>\n",
                            "      <td>25278</td>\n",
                            "    </tr>\n",
                            "    <tr>\n",
                            "      <th>1</th>\n",
                            "      <th>0</th>\n",
                            "      <th>0</th>\n",
                            "      <td>('A', 'DT')</td>\n",
                            "      <td>DT</td>\n",
                            "      <td>A</td>\n",
                            "      <td>100</td>\n",
                            "    </tr>\n",
                            "  </tbody>\n",
                            "</table>\n",
                            "</div>"
                        ]
                    },
                    "metadata": {},
                    "execution_count": 10
                }
            ],
            "metadata": {}
        },
        {
            "cell_type": "code",
            "execution_count": 11,
            "source": [
                "# Add max pos to VOCAB\n",
                "VOCAB['pos_max'] = TOKEN.groupby(['term_id', 'pos']).count().iloc[:,0].unstack().idxmax(1)\n",
                "VOCAB.head()"
            ],
            "outputs": [
                {
                    "output_type": "execute_result",
                    "data": {
                        "text/plain": [
                            "        term_str     n             p      log_p  stop   p_stem pos_max\n",
                            "term_id                                                               \n",
                            "100            A  4277  1.217456e-03  -9.681915     0        a      DT\n",
                            "47080         AB     1  2.846519e-07 -21.744298     0       ab     NNP\n",
                            "39729    ABANDON     1  2.846519e-07 -21.744298     0  abandon     NNP\n",
                            "33967      ABBEY     2  5.693038e-07 -20.744298     0    abbey     NNP\n",
                            "36300      ABBOT     2  5.693038e-07 -20.744298     0    abbot     NNP"
                        ],
                        "text/html": [
                            "<div>\n",
                            "<style scoped>\n",
                            "    .dataframe tbody tr th:only-of-type {\n",
                            "        vertical-align: middle;\n",
                            "    }\n",
                            "\n",
                            "    .dataframe tbody tr th {\n",
                            "        vertical-align: top;\n",
                            "    }\n",
                            "\n",
                            "    .dataframe thead th {\n",
                            "        text-align: right;\n",
                            "    }\n",
                            "</style>\n",
                            "<table border=\"1\" class=\"dataframe\">\n",
                            "  <thead>\n",
                            "    <tr style=\"text-align: right;\">\n",
                            "      <th></th>\n",
                            "      <th>term_str</th>\n",
                            "      <th>n</th>\n",
                            "      <th>p</th>\n",
                            "      <th>log_p</th>\n",
                            "      <th>stop</th>\n",
                            "      <th>p_stem</th>\n",
                            "      <th>pos_max</th>\n",
                            "    </tr>\n",
                            "    <tr>\n",
                            "      <th>term_id</th>\n",
                            "      <th></th>\n",
                            "      <th></th>\n",
                            "      <th></th>\n",
                            "      <th></th>\n",
                            "      <th></th>\n",
                            "      <th></th>\n",
                            "      <th></th>\n",
                            "    </tr>\n",
                            "  </thead>\n",
                            "  <tbody>\n",
                            "    <tr>\n",
                            "      <th>100</th>\n",
                            "      <td>A</td>\n",
                            "      <td>4277</td>\n",
                            "      <td>1.217456e-03</td>\n",
                            "      <td>-9.681915</td>\n",
                            "      <td>0</td>\n",
                            "      <td>a</td>\n",
                            "      <td>DT</td>\n",
                            "    </tr>\n",
                            "    <tr>\n",
                            "      <th>47080</th>\n",
                            "      <td>AB</td>\n",
                            "      <td>1</td>\n",
                            "      <td>2.846519e-07</td>\n",
                            "      <td>-21.744298</td>\n",
                            "      <td>0</td>\n",
                            "      <td>ab</td>\n",
                            "      <td>NNP</td>\n",
                            "    </tr>\n",
                            "    <tr>\n",
                            "      <th>39729</th>\n",
                            "      <td>ABANDON</td>\n",
                            "      <td>1</td>\n",
                            "      <td>2.846519e-07</td>\n",
                            "      <td>-21.744298</td>\n",
                            "      <td>0</td>\n",
                            "      <td>abandon</td>\n",
                            "      <td>NNP</td>\n",
                            "    </tr>\n",
                            "    <tr>\n",
                            "      <th>33967</th>\n",
                            "      <td>ABBEY</td>\n",
                            "      <td>2</td>\n",
                            "      <td>5.693038e-07</td>\n",
                            "      <td>-20.744298</td>\n",
                            "      <td>0</td>\n",
                            "      <td>abbey</td>\n",
                            "      <td>NNP</td>\n",
                            "    </tr>\n",
                            "    <tr>\n",
                            "      <th>36300</th>\n",
                            "      <td>ABBOT</td>\n",
                            "      <td>2</td>\n",
                            "      <td>5.693038e-07</td>\n",
                            "      <td>-20.744298</td>\n",
                            "      <td>0</td>\n",
                            "      <td>abbot</td>\n",
                            "      <td>NNP</td>\n",
                            "    </tr>\n",
                            "  </tbody>\n",
                            "</table>\n",
                            "</div>"
                        ]
                    },
                    "metadata": {},
                    "execution_count": 11
                }
            ],
            "metadata": {}
        },
        {
            "cell_type": "code",
            "execution_count": 12,
            "source": [
                "# Zipf's Law\n",
                "# Add term rank\n",
                "if 'term_rank' not in VOCAB.columns:\n",
                "    VOCAB = VOCAB.sort_values('n', ascending=False).reset_index()\n",
                "    VOCAB.index.name = 'term_rank'\n",
                "    VOCAB = VOCAB.reset_index()\n",
                "    VOCAB = VOCAB.set_index('term_id')\n",
                "    VOCAB['term_rank'] = VOCAB['term_rank'] + 1\n",
                "VOCAB.head()"
            ],
            "outputs": [
                {
                    "output_type": "execute_result",
                    "data": {
                        "text/plain": [
                            "         term_rank term_str       n         p     log_p  stop p_stem pos_max\n",
                            "term_id                                                                     \n",
                            "0                1      the  201564  0.057376 -4.123420     1    the      DT\n",
                            "1                2       of  104234  0.029670 -5.074832     1     of      IN\n",
                            "2                3      and  102976  0.029312 -5.092349     1    and      CC\n",
                            "3                4       to   80831  0.023009 -5.441677     1     to      TO\n",
                            "4                5        a   80180  0.022823 -5.453343     1      a      DT"
                        ],
                        "text/html": [
                            "<div>\n",
                            "<style scoped>\n",
                            "    .dataframe tbody tr th:only-of-type {\n",
                            "        vertical-align: middle;\n",
                            "    }\n",
                            "\n",
                            "    .dataframe tbody tr th {\n",
                            "        vertical-align: top;\n",
                            "    }\n",
                            "\n",
                            "    .dataframe thead th {\n",
                            "        text-align: right;\n",
                            "    }\n",
                            "</style>\n",
                            "<table border=\"1\" class=\"dataframe\">\n",
                            "  <thead>\n",
                            "    <tr style=\"text-align: right;\">\n",
                            "      <th></th>\n",
                            "      <th>term_rank</th>\n",
                            "      <th>term_str</th>\n",
                            "      <th>n</th>\n",
                            "      <th>p</th>\n",
                            "      <th>log_p</th>\n",
                            "      <th>stop</th>\n",
                            "      <th>p_stem</th>\n",
                            "      <th>pos_max</th>\n",
                            "    </tr>\n",
                            "    <tr>\n",
                            "      <th>term_id</th>\n",
                            "      <th></th>\n",
                            "      <th></th>\n",
                            "      <th></th>\n",
                            "      <th></th>\n",
                            "      <th></th>\n",
                            "      <th></th>\n",
                            "      <th></th>\n",
                            "      <th></th>\n",
                            "    </tr>\n",
                            "  </thead>\n",
                            "  <tbody>\n",
                            "    <tr>\n",
                            "      <th>0</th>\n",
                            "      <td>1</td>\n",
                            "      <td>the</td>\n",
                            "      <td>201564</td>\n",
                            "      <td>0.057376</td>\n",
                            "      <td>-4.123420</td>\n",
                            "      <td>1</td>\n",
                            "      <td>the</td>\n",
                            "      <td>DT</td>\n",
                            "    </tr>\n",
                            "    <tr>\n",
                            "      <th>1</th>\n",
                            "      <td>2</td>\n",
                            "      <td>of</td>\n",
                            "      <td>104234</td>\n",
                            "      <td>0.029670</td>\n",
                            "      <td>-5.074832</td>\n",
                            "      <td>1</td>\n",
                            "      <td>of</td>\n",
                            "      <td>IN</td>\n",
                            "    </tr>\n",
                            "    <tr>\n",
                            "      <th>2</th>\n",
                            "      <td>3</td>\n",
                            "      <td>and</td>\n",
                            "      <td>102976</td>\n",
                            "      <td>0.029312</td>\n",
                            "      <td>-5.092349</td>\n",
                            "      <td>1</td>\n",
                            "      <td>and</td>\n",
                            "      <td>CC</td>\n",
                            "    </tr>\n",
                            "    <tr>\n",
                            "      <th>3</th>\n",
                            "      <td>4</td>\n",
                            "      <td>to</td>\n",
                            "      <td>80831</td>\n",
                            "      <td>0.023009</td>\n",
                            "      <td>-5.441677</td>\n",
                            "      <td>1</td>\n",
                            "      <td>to</td>\n",
                            "      <td>TO</td>\n",
                            "    </tr>\n",
                            "    <tr>\n",
                            "      <th>4</th>\n",
                            "      <td>5</td>\n",
                            "      <td>a</td>\n",
                            "      <td>80180</td>\n",
                            "      <td>0.022823</td>\n",
                            "      <td>-5.453343</td>\n",
                            "      <td>1</td>\n",
                            "      <td>a</td>\n",
                            "      <td>DT</td>\n",
                            "    </tr>\n",
                            "  </tbody>\n",
                            "</table>\n",
                            "</div>"
                        ]
                    },
                    "metadata": {},
                    "execution_count": 12
                }
            ],
            "metadata": {}
        },
        {
            "cell_type": "code",
            "execution_count": 13,
            "source": [
                "VOCAB['p'] = VOCAB.n / TOKEN.shape[0]\n",
                "VOCAB.head()"
            ],
            "outputs": [
                {
                    "output_type": "execute_result",
                    "data": {
                        "text/plain": [
                            "         term_rank term_str       n         p     log_p  stop p_stem pos_max\n",
                            "term_id                                                                     \n",
                            "0                1      the  201564  0.057376 -4.123420     1    the      DT\n",
                            "1                2       of  104234  0.029670 -5.074832     1     of      IN\n",
                            "2                3      and  102976  0.029312 -5.092349     1    and      CC\n",
                            "3                4       to   80831  0.023009 -5.441677     1     to      TO\n",
                            "4                5        a   80180  0.022823 -5.453343     1      a      DT"
                        ],
                        "text/html": [
                            "<div>\n",
                            "<style scoped>\n",
                            "    .dataframe tbody tr th:only-of-type {\n",
                            "        vertical-align: middle;\n",
                            "    }\n",
                            "\n",
                            "    .dataframe tbody tr th {\n",
                            "        vertical-align: top;\n",
                            "    }\n",
                            "\n",
                            "    .dataframe thead th {\n",
                            "        text-align: right;\n",
                            "    }\n",
                            "</style>\n",
                            "<table border=\"1\" class=\"dataframe\">\n",
                            "  <thead>\n",
                            "    <tr style=\"text-align: right;\">\n",
                            "      <th></th>\n",
                            "      <th>term_rank</th>\n",
                            "      <th>term_str</th>\n",
                            "      <th>n</th>\n",
                            "      <th>p</th>\n",
                            "      <th>log_p</th>\n",
                            "      <th>stop</th>\n",
                            "      <th>p_stem</th>\n",
                            "      <th>pos_max</th>\n",
                            "    </tr>\n",
                            "    <tr>\n",
                            "      <th>term_id</th>\n",
                            "      <th></th>\n",
                            "      <th></th>\n",
                            "      <th></th>\n",
                            "      <th></th>\n",
                            "      <th></th>\n",
                            "      <th></th>\n",
                            "      <th></th>\n",
                            "      <th></th>\n",
                            "    </tr>\n",
                            "  </thead>\n",
                            "  <tbody>\n",
                            "    <tr>\n",
                            "      <th>0</th>\n",
                            "      <td>1</td>\n",
                            "      <td>the</td>\n",
                            "      <td>201564</td>\n",
                            "      <td>0.057376</td>\n",
                            "      <td>-4.123420</td>\n",
                            "      <td>1</td>\n",
                            "      <td>the</td>\n",
                            "      <td>DT</td>\n",
                            "    </tr>\n",
                            "    <tr>\n",
                            "      <th>1</th>\n",
                            "      <td>2</td>\n",
                            "      <td>of</td>\n",
                            "      <td>104234</td>\n",
                            "      <td>0.029670</td>\n",
                            "      <td>-5.074832</td>\n",
                            "      <td>1</td>\n",
                            "      <td>of</td>\n",
                            "      <td>IN</td>\n",
                            "    </tr>\n",
                            "    <tr>\n",
                            "      <th>2</th>\n",
                            "      <td>3</td>\n",
                            "      <td>and</td>\n",
                            "      <td>102976</td>\n",
                            "      <td>0.029312</td>\n",
                            "      <td>-5.092349</td>\n",
                            "      <td>1</td>\n",
                            "      <td>and</td>\n",
                            "      <td>CC</td>\n",
                            "    </tr>\n",
                            "    <tr>\n",
                            "      <th>3</th>\n",
                            "      <td>4</td>\n",
                            "      <td>to</td>\n",
                            "      <td>80831</td>\n",
                            "      <td>0.023009</td>\n",
                            "      <td>-5.441677</td>\n",
                            "      <td>1</td>\n",
                            "      <td>to</td>\n",
                            "      <td>TO</td>\n",
                            "    </tr>\n",
                            "    <tr>\n",
                            "      <th>4</th>\n",
                            "      <td>5</td>\n",
                            "      <td>a</td>\n",
                            "      <td>80180</td>\n",
                            "      <td>0.022823</td>\n",
                            "      <td>-5.453343</td>\n",
                            "      <td>1</td>\n",
                            "      <td>a</td>\n",
                            "      <td>DT</td>\n",
                            "    </tr>\n",
                            "  </tbody>\n",
                            "</table>\n",
                            "</div>"
                        ]
                    },
                    "metadata": {},
                    "execution_count": 13
                }
            ],
            "metadata": {}
        },
        {
            "cell_type": "code",
            "execution_count": 14,
            "source": [
                "VOCAB['zipf_k'] = VOCAB.n * VOCAB.term_rank\n",
                "VOCAB['zipf_k_p'] = VOCAB.p * VOCAB.term_rank\n",
                "VOCAB.head()"
            ],
            "outputs": [
                {
                    "output_type": "execute_result",
                    "data": {
                        "text/plain": [
                            "         term_rank term_str       n         p     log_p  stop p_stem pos_max  \\\n",
                            "term_id                                                                        \n",
                            "0                1      the  201564  0.057376 -4.123420     1    the      DT   \n",
                            "1                2       of  104234  0.029670 -5.074832     1     of      IN   \n",
                            "2                3      and  102976  0.029312 -5.092349     1    and      CC   \n",
                            "3                4       to   80831  0.023009 -5.441677     1     to      TO   \n",
                            "4                5        a   80180  0.022823 -5.453343     1      a      DT   \n",
                            "\n",
                            "         zipf_k  zipf_k_p  \n",
                            "term_id                    \n",
                            "0        201564  0.057376  \n",
                            "1        208468  0.059341  \n",
                            "2        308928  0.087937  \n",
                            "3        323324  0.092035  \n",
                            "4        400900  0.114117  "
                        ],
                        "text/html": [
                            "<div>\n",
                            "<style scoped>\n",
                            "    .dataframe tbody tr th:only-of-type {\n",
                            "        vertical-align: middle;\n",
                            "    }\n",
                            "\n",
                            "    .dataframe tbody tr th {\n",
                            "        vertical-align: top;\n",
                            "    }\n",
                            "\n",
                            "    .dataframe thead th {\n",
                            "        text-align: right;\n",
                            "    }\n",
                            "</style>\n",
                            "<table border=\"1\" class=\"dataframe\">\n",
                            "  <thead>\n",
                            "    <tr style=\"text-align: right;\">\n",
                            "      <th></th>\n",
                            "      <th>term_rank</th>\n",
                            "      <th>term_str</th>\n",
                            "      <th>n</th>\n",
                            "      <th>p</th>\n",
                            "      <th>log_p</th>\n",
                            "      <th>stop</th>\n",
                            "      <th>p_stem</th>\n",
                            "      <th>pos_max</th>\n",
                            "      <th>zipf_k</th>\n",
                            "      <th>zipf_k_p</th>\n",
                            "    </tr>\n",
                            "    <tr>\n",
                            "      <th>term_id</th>\n",
                            "      <th></th>\n",
                            "      <th></th>\n",
                            "      <th></th>\n",
                            "      <th></th>\n",
                            "      <th></th>\n",
                            "      <th></th>\n",
                            "      <th></th>\n",
                            "      <th></th>\n",
                            "      <th></th>\n",
                            "      <th></th>\n",
                            "    </tr>\n",
                            "  </thead>\n",
                            "  <tbody>\n",
                            "    <tr>\n",
                            "      <th>0</th>\n",
                            "      <td>1</td>\n",
                            "      <td>the</td>\n",
                            "      <td>201564</td>\n",
                            "      <td>0.057376</td>\n",
                            "      <td>-4.123420</td>\n",
                            "      <td>1</td>\n",
                            "      <td>the</td>\n",
                            "      <td>DT</td>\n",
                            "      <td>201564</td>\n",
                            "      <td>0.057376</td>\n",
                            "    </tr>\n",
                            "    <tr>\n",
                            "      <th>1</th>\n",
                            "      <td>2</td>\n",
                            "      <td>of</td>\n",
                            "      <td>104234</td>\n",
                            "      <td>0.029670</td>\n",
                            "      <td>-5.074832</td>\n",
                            "      <td>1</td>\n",
                            "      <td>of</td>\n",
                            "      <td>IN</td>\n",
                            "      <td>208468</td>\n",
                            "      <td>0.059341</td>\n",
                            "    </tr>\n",
                            "    <tr>\n",
                            "      <th>2</th>\n",
                            "      <td>3</td>\n",
                            "      <td>and</td>\n",
                            "      <td>102976</td>\n",
                            "      <td>0.029312</td>\n",
                            "      <td>-5.092349</td>\n",
                            "      <td>1</td>\n",
                            "      <td>and</td>\n",
                            "      <td>CC</td>\n",
                            "      <td>308928</td>\n",
                            "      <td>0.087937</td>\n",
                            "    </tr>\n",
                            "    <tr>\n",
                            "      <th>3</th>\n",
                            "      <td>4</td>\n",
                            "      <td>to</td>\n",
                            "      <td>80831</td>\n",
                            "      <td>0.023009</td>\n",
                            "      <td>-5.441677</td>\n",
                            "      <td>1</td>\n",
                            "      <td>to</td>\n",
                            "      <td>TO</td>\n",
                            "      <td>323324</td>\n",
                            "      <td>0.092035</td>\n",
                            "    </tr>\n",
                            "    <tr>\n",
                            "      <th>4</th>\n",
                            "      <td>5</td>\n",
                            "      <td>a</td>\n",
                            "      <td>80180</td>\n",
                            "      <td>0.022823</td>\n",
                            "      <td>-5.453343</td>\n",
                            "      <td>1</td>\n",
                            "      <td>a</td>\n",
                            "      <td>DT</td>\n",
                            "      <td>400900</td>\n",
                            "      <td>0.114117</td>\n",
                            "    </tr>\n",
                            "  </tbody>\n",
                            "</table>\n",
                            "</div>"
                        ]
                    },
                    "metadata": {},
                    "execution_count": 14
                }
            ],
            "metadata": {}
        },
        {
            "cell_type": "code",
            "execution_count": 15,
            "source": [
                "# get TFIDF\n",
                "def make_TFIDF(df, OHCO, count_method, tf_method, idf_method):\n",
                "    # df: The tokens data frame to use.\n",
                "    # OHCO: The OHCO level to use, e.g. which \"bag\" to use.\n",
                "    # count_type: The type of count to use (e.g. binary counts are regular counts). (n or c, c is T/F in bag or no)\n",
                "    # TF: The type of TF to use.\n",
                "    # IDF: The type of IDF to use.\n",
                "\n",
                "    # set bag\n",
                "    bag = OHCO\n",
                "\n",
                "    # Create the bag of words\n",
                "    BOW = df.groupby(bag+['term_id']).term_id.count()\\\n",
                "        .to_frame().rename(columns={'term_id':'n'})\n",
                "    BOW['c'] = BOW.n.astype('bool').astype('int')\n",
                "    \n",
                "    # BOW to Document Term Matrix\n",
                "    DTCM = BOW[count_method].unstack().fillna(0).astype('int')\n",
                "\n",
                "    # selecting TF method\n",
                "    TF = 0\n",
                "    if tf_method == 'sum':\n",
                "        TF = DTCM.T / DTCM.T.sum()\n",
                "\n",
                "    elif tf_method == 'max':\n",
                "        TF = DTCM.T / DTCM.T.max()\n",
                "\n",
                "    elif tf_method == 'log':\n",
                "        TF = np.log10(1 + DTCM.T)\n",
                "        \n",
                "    elif tf_method == 'raw':\n",
                "        TF = DTCM.T\n",
                "\n",
                "    elif tf_method == 'double_norm':\n",
                "        TF = DTCM.T / DTCM.T.max()\n",
                "        TF = tf_norm_k + (1 - tf_norm_k) * TF[TF > 0] # EXPLAIN; may defeat purpose of norming\n",
                "\n",
                "    elif tf_method == 'binary':\n",
                "        TF = DTCM.T.astype('bool').astype('int')\n",
                "        \n",
                "    TF = TF.T\n",
                "\n",
                "\n",
                "    # selecting IDF method\n",
                "    # print('IDF method:', idf_method)\n",
                "    DF = DTCM[DTCM > 0].count()\n",
                "    N = DTCM.shape[0]\n",
                "\n",
                "    if idf_method == 'standard':\n",
                "        IDF = np.log10(N / DF)\n",
                "\n",
                "    elif idf_method == 'max':\n",
                "        IDF = np.log10(DF.max() / DF) \n",
                "\n",
                "    elif idf_method == 'smooth':\n",
                "        IDF = np.log10((1 + N) / (1 + DF)) + 1 # Correct?\n",
                "\n",
                "    TFIDF = TF * IDF\n",
                "\n",
                "    return TFIDF"
            ],
            "outputs": [],
            "metadata": {}
        },
        {
            "cell_type": "code",
            "execution_count": 16,
            "source": [
                "TFIDF = make_TFIDF(TOKEN,BOOKS,'n','sum','standard')\n",
                "TFIDF.head()"
            ],
            "outputs": [
                {
                    "output_type": "execute_result",
                    "data": {
                        "text/plain": [
                            "term_id  0      1      2      3      4      5      6      7      8      9      \\\n",
                            "book_id                                                                         \n",
                            "108        0.0    0.0    0.0    0.0    0.0    0.0    0.0    0.0    0.0    0.0   \n",
                            "126        0.0    0.0    0.0    0.0    0.0    0.0    0.0    0.0    0.0    0.0   \n",
                            "139        0.0    0.0    0.0    0.0    0.0    0.0    0.0    0.0    0.0    0.0   \n",
                            "244        0.0    0.0    0.0    0.0    0.0    0.0    0.0    0.0    0.0    0.0   \n",
                            "290        0.0    0.0    0.0    0.0    0.0    0.0    0.0    0.0    0.0    0.0   \n",
                            "\n",
                            "term_id  ...  56810     56811  56812  56813  56814  56815  56816  56817  \\\n",
                            "book_id  ...                                                              \n",
                            "108      ...    0.0  0.000000    0.0    0.0    0.0    0.0    0.0    0.0   \n",
                            "126      ...    0.0  0.000000    0.0    0.0    0.0    0.0    0.0    0.0   \n",
                            "139      ...    0.0  0.000000    0.0    0.0    0.0    0.0    0.0    0.0   \n",
                            "244      ...    0.0  0.000000    0.0    0.0    0.0    0.0    0.0    0.0   \n",
                            "290      ...    0.0  0.000023    0.0    0.0    0.0    0.0    0.0    0.0   \n",
                            "\n",
                            "term_id  56818  56819  \n",
                            "book_id                \n",
                            "108        0.0    0.0  \n",
                            "126        0.0    0.0  \n",
                            "139        0.0    0.0  \n",
                            "244        0.0    0.0  \n",
                            "290        0.0    0.0  \n",
                            "\n",
                            "[5 rows x 56820 columns]"
                        ],
                        "text/html": [
                            "<div>\n",
                            "<style scoped>\n",
                            "    .dataframe tbody tr th:only-of-type {\n",
                            "        vertical-align: middle;\n",
                            "    }\n",
                            "\n",
                            "    .dataframe tbody tr th {\n",
                            "        vertical-align: top;\n",
                            "    }\n",
                            "\n",
                            "    .dataframe thead th {\n",
                            "        text-align: right;\n",
                            "    }\n",
                            "</style>\n",
                            "<table border=\"1\" class=\"dataframe\">\n",
                            "  <thead>\n",
                            "    <tr style=\"text-align: right;\">\n",
                            "      <th>term_id</th>\n",
                            "      <th>0</th>\n",
                            "      <th>1</th>\n",
                            "      <th>2</th>\n",
                            "      <th>3</th>\n",
                            "      <th>4</th>\n",
                            "      <th>5</th>\n",
                            "      <th>6</th>\n",
                            "      <th>7</th>\n",
                            "      <th>8</th>\n",
                            "      <th>9</th>\n",
                            "      <th>...</th>\n",
                            "      <th>56810</th>\n",
                            "      <th>56811</th>\n",
                            "      <th>56812</th>\n",
                            "      <th>56813</th>\n",
                            "      <th>56814</th>\n",
                            "      <th>56815</th>\n",
                            "      <th>56816</th>\n",
                            "      <th>56817</th>\n",
                            "      <th>56818</th>\n",
                            "      <th>56819</th>\n",
                            "    </tr>\n",
                            "    <tr>\n",
                            "      <th>book_id</th>\n",
                            "      <th></th>\n",
                            "      <th></th>\n",
                            "      <th></th>\n",
                            "      <th></th>\n",
                            "      <th></th>\n",
                            "      <th></th>\n",
                            "      <th></th>\n",
                            "      <th></th>\n",
                            "      <th></th>\n",
                            "      <th></th>\n",
                            "      <th></th>\n",
                            "      <th></th>\n",
                            "      <th></th>\n",
                            "      <th></th>\n",
                            "      <th></th>\n",
                            "      <th></th>\n",
                            "      <th></th>\n",
                            "      <th></th>\n",
                            "      <th></th>\n",
                            "      <th></th>\n",
                            "      <th></th>\n",
                            "    </tr>\n",
                            "  </thead>\n",
                            "  <tbody>\n",
                            "    <tr>\n",
                            "      <th>108</th>\n",
                            "      <td>0.0</td>\n",
                            "      <td>0.0</td>\n",
                            "      <td>0.0</td>\n",
                            "      <td>0.0</td>\n",
                            "      <td>0.0</td>\n",
                            "      <td>0.0</td>\n",
                            "      <td>0.0</td>\n",
                            "      <td>0.0</td>\n",
                            "      <td>0.0</td>\n",
                            "      <td>0.0</td>\n",
                            "      <td>...</td>\n",
                            "      <td>0.0</td>\n",
                            "      <td>0.000000</td>\n",
                            "      <td>0.0</td>\n",
                            "      <td>0.0</td>\n",
                            "      <td>0.0</td>\n",
                            "      <td>0.0</td>\n",
                            "      <td>0.0</td>\n",
                            "      <td>0.0</td>\n",
                            "      <td>0.0</td>\n",
                            "      <td>0.0</td>\n",
                            "    </tr>\n",
                            "    <tr>\n",
                            "      <th>126</th>\n",
                            "      <td>0.0</td>\n",
                            "      <td>0.0</td>\n",
                            "      <td>0.0</td>\n",
                            "      <td>0.0</td>\n",
                            "      <td>0.0</td>\n",
                            "      <td>0.0</td>\n",
                            "      <td>0.0</td>\n",
                            "      <td>0.0</td>\n",
                            "      <td>0.0</td>\n",
                            "      <td>0.0</td>\n",
                            "      <td>...</td>\n",
                            "      <td>0.0</td>\n",
                            "      <td>0.000000</td>\n",
                            "      <td>0.0</td>\n",
                            "      <td>0.0</td>\n",
                            "      <td>0.0</td>\n",
                            "      <td>0.0</td>\n",
                            "      <td>0.0</td>\n",
                            "      <td>0.0</td>\n",
                            "      <td>0.0</td>\n",
                            "      <td>0.0</td>\n",
                            "    </tr>\n",
                            "    <tr>\n",
                            "      <th>139</th>\n",
                            "      <td>0.0</td>\n",
                            "      <td>0.0</td>\n",
                            "      <td>0.0</td>\n",
                            "      <td>0.0</td>\n",
                            "      <td>0.0</td>\n",
                            "      <td>0.0</td>\n",
                            "      <td>0.0</td>\n",
                            "      <td>0.0</td>\n",
                            "      <td>0.0</td>\n",
                            "      <td>0.0</td>\n",
                            "      <td>...</td>\n",
                            "      <td>0.0</td>\n",
                            "      <td>0.000000</td>\n",
                            "      <td>0.0</td>\n",
                            "      <td>0.0</td>\n",
                            "      <td>0.0</td>\n",
                            "      <td>0.0</td>\n",
                            "      <td>0.0</td>\n",
                            "      <td>0.0</td>\n",
                            "      <td>0.0</td>\n",
                            "      <td>0.0</td>\n",
                            "    </tr>\n",
                            "    <tr>\n",
                            "      <th>244</th>\n",
                            "      <td>0.0</td>\n",
                            "      <td>0.0</td>\n",
                            "      <td>0.0</td>\n",
                            "      <td>0.0</td>\n",
                            "      <td>0.0</td>\n",
                            "      <td>0.0</td>\n",
                            "      <td>0.0</td>\n",
                            "      <td>0.0</td>\n",
                            "      <td>0.0</td>\n",
                            "      <td>0.0</td>\n",
                            "      <td>...</td>\n",
                            "      <td>0.0</td>\n",
                            "      <td>0.000000</td>\n",
                            "      <td>0.0</td>\n",
                            "      <td>0.0</td>\n",
                            "      <td>0.0</td>\n",
                            "      <td>0.0</td>\n",
                            "      <td>0.0</td>\n",
                            "      <td>0.0</td>\n",
                            "      <td>0.0</td>\n",
                            "      <td>0.0</td>\n",
                            "    </tr>\n",
                            "    <tr>\n",
                            "      <th>290</th>\n",
                            "      <td>0.0</td>\n",
                            "      <td>0.0</td>\n",
                            "      <td>0.0</td>\n",
                            "      <td>0.0</td>\n",
                            "      <td>0.0</td>\n",
                            "      <td>0.0</td>\n",
                            "      <td>0.0</td>\n",
                            "      <td>0.0</td>\n",
                            "      <td>0.0</td>\n",
                            "      <td>0.0</td>\n",
                            "      <td>...</td>\n",
                            "      <td>0.0</td>\n",
                            "      <td>0.000023</td>\n",
                            "      <td>0.0</td>\n",
                            "      <td>0.0</td>\n",
                            "      <td>0.0</td>\n",
                            "      <td>0.0</td>\n",
                            "      <td>0.0</td>\n",
                            "      <td>0.0</td>\n",
                            "      <td>0.0</td>\n",
                            "      <td>0.0</td>\n",
                            "    </tr>\n",
                            "  </tbody>\n",
                            "</table>\n",
                            "<p>5 rows × 56820 columns</p>\n",
                            "</div>"
                        ]
                    },
                    "metadata": {},
                    "execution_count": 16
                }
            ],
            "metadata": {}
        },
        {
            "cell_type": "code",
            "execution_count": null,
            "source": [],
            "outputs": [],
            "metadata": {}
        },
        {
            "cell_type": "markdown",
            "source": [
                "# PCA"
            ],
            "metadata": {}
        },
        {
            "cell_type": "code",
            "execution_count": 22,
            "source": [
                "from sklearn.decomposition import PCA\n",
                "from scipy.linalg import norm\n",
                "import plotly_express as px\n",
                "import seaborn as sns"
            ],
            "outputs": [],
            "metadata": {}
        },
        {
            "cell_type": "code",
            "execution_count": 18,
            "source": [
                "pca_engine = PCA(n_components=10)"
            ],
            "outputs": [],
            "metadata": {}
        },
        {
            "cell_type": "code",
            "execution_count": 19,
            "source": [
                "DCM = pd.DataFrame(pca_engine.fit_transform(TFIDF), index=TFIDF.index)\n",
                "DCM.columns = ['PC{}'.format(i) for i in DCM.columns]\n",
                "DCM['title'] = LIBRARY.title"
            ],
            "outputs": [],
            "metadata": {}
        },
        {
            "cell_type": "code",
            "execution_count": 21,
            "source": [
                "DCM.head().style.background_gradient()"
            ],
            "outputs": [
                {
                    "output_type": "execute_result",
                    "data": {
                        "text/plain": [
                            "<pandas.io.formats.style.Styler at 0x7fc4a90e7fd0>"
                        ],
                        "text/html": [
                            "<style  type=\"text/css\" >\n",
                            "#T_da8a6a5a_f4e9_11eb_8753_acde48001122row0_col0,#T_da8a6a5a_f4e9_11eb_8753_acde48001122row0_col2,#T_da8a6a5a_f4e9_11eb_8753_acde48001122row1_col1,#T_da8a6a5a_f4e9_11eb_8753_acde48001122row1_col3,#T_da8a6a5a_f4e9_11eb_8753_acde48001122row1_col6,#T_da8a6a5a_f4e9_11eb_8753_acde48001122row1_col7,#T_da8a6a5a_f4e9_11eb_8753_acde48001122row1_col8,#T_da8a6a5a_f4e9_11eb_8753_acde48001122row1_col9,#T_da8a6a5a_f4e9_11eb_8753_acde48001122row4_col4,#T_da8a6a5a_f4e9_11eb_8753_acde48001122row4_col5{\n",
                            "            background-color:  #023858;\n",
                            "            color:  #f1f1f1;\n",
                            "        }#T_da8a6a5a_f4e9_11eb_8753_acde48001122row0_col1,#T_da8a6a5a_f4e9_11eb_8753_acde48001122row0_col3,#T_da8a6a5a_f4e9_11eb_8753_acde48001122row0_col6,#T_da8a6a5a_f4e9_11eb_8753_acde48001122row1_col0,#T_da8a6a5a_f4e9_11eb_8753_acde48001122row1_col2,#T_da8a6a5a_f4e9_11eb_8753_acde48001122row1_col4,#T_da8a6a5a_f4e9_11eb_8753_acde48001122row1_col5,#T_da8a6a5a_f4e9_11eb_8753_acde48001122row3_col3,#T_da8a6a5a_f4e9_11eb_8753_acde48001122row3_col9,#T_da8a6a5a_f4e9_11eb_8753_acde48001122row4_col7,#T_da8a6a5a_f4e9_11eb_8753_acde48001122row4_col8{\n",
                            "            background-color:  #fff7fb;\n",
                            "            color:  #000000;\n",
                            "        }#T_da8a6a5a_f4e9_11eb_8753_acde48001122row0_col4{\n",
                            "            background-color:  #034d79;\n",
                            "            color:  #f1f1f1;\n",
                            "        }#T_da8a6a5a_f4e9_11eb_8753_acde48001122row0_col5{\n",
                            "            background-color:  #046096;\n",
                            "            color:  #f1f1f1;\n",
                            "        }#T_da8a6a5a_f4e9_11eb_8753_acde48001122row0_col7{\n",
                            "            background-color:  #e0dded;\n",
                            "            color:  #000000;\n",
                            "        }#T_da8a6a5a_f4e9_11eb_8753_acde48001122row0_col8{\n",
                            "            background-color:  #cccfe5;\n",
                            "            color:  #000000;\n",
                            "        }#T_da8a6a5a_f4e9_11eb_8753_acde48001122row0_col9{\n",
                            "            background-color:  #f8f1f8;\n",
                            "            color:  #000000;\n",
                            "        }#T_da8a6a5a_f4e9_11eb_8753_acde48001122row2_col0{\n",
                            "            background-color:  #ece7f2;\n",
                            "            color:  #000000;\n",
                            "        }#T_da8a6a5a_f4e9_11eb_8753_acde48001122row2_col1{\n",
                            "            background-color:  #04649e;\n",
                            "            color:  #f1f1f1;\n",
                            "        }#T_da8a6a5a_f4e9_11eb_8753_acde48001122row2_col2{\n",
                            "            background-color:  #b7c5df;\n",
                            "            color:  #000000;\n",
                            "        }#T_da8a6a5a_f4e9_11eb_8753_acde48001122row2_col3{\n",
                            "            background-color:  #4094c3;\n",
                            "            color:  #000000;\n",
                            "        }#T_da8a6a5a_f4e9_11eb_8753_acde48001122row2_col4{\n",
                            "            background-color:  #93b5d6;\n",
                            "            color:  #000000;\n",
                            "        }#T_da8a6a5a_f4e9_11eb_8753_acde48001122row2_col5{\n",
                            "            background-color:  #9ebad9;\n",
                            "            color:  #000000;\n",
                            "        }#T_da8a6a5a_f4e9_11eb_8753_acde48001122row2_col6{\n",
                            "            background-color:  #045c90;\n",
                            "            color:  #f1f1f1;\n",
                            "        }#T_da8a6a5a_f4e9_11eb_8753_acde48001122row2_col7{\n",
                            "            background-color:  #529bc7;\n",
                            "            color:  #000000;\n",
                            "        }#T_da8a6a5a_f4e9_11eb_8753_acde48001122row2_col8{\n",
                            "            background-color:  #4496c3;\n",
                            "            color:  #000000;\n",
                            "        }#T_da8a6a5a_f4e9_11eb_8753_acde48001122row2_col9{\n",
                            "            background-color:  #5a9ec9;\n",
                            "            color:  #000000;\n",
                            "        }#T_da8a6a5a_f4e9_11eb_8753_acde48001122row3_col0{\n",
                            "            background-color:  #4c99c5;\n",
                            "            color:  #000000;\n",
                            "        }#T_da8a6a5a_f4e9_11eb_8753_acde48001122row3_col1{\n",
                            "            background-color:  #c4cbe3;\n",
                            "            color:  #000000;\n",
                            "        }#T_da8a6a5a_f4e9_11eb_8753_acde48001122row3_col2{\n",
                            "            background-color:  #045a8d;\n",
                            "            color:  #f1f1f1;\n",
                            "        }#T_da8a6a5a_f4e9_11eb_8753_acde48001122row3_col4{\n",
                            "            background-color:  #03446a;\n",
                            "            color:  #f1f1f1;\n",
                            "        }#T_da8a6a5a_f4e9_11eb_8753_acde48001122row3_col5{\n",
                            "            background-color:  #045280;\n",
                            "            color:  #f1f1f1;\n",
                            "        }#T_da8a6a5a_f4e9_11eb_8753_acde48001122row3_col6{\n",
                            "            background-color:  #c1cae2;\n",
                            "            color:  #000000;\n",
                            "        }#T_da8a6a5a_f4e9_11eb_8753_acde48001122row3_col7{\n",
                            "            background-color:  #f4edf6;\n",
                            "            color:  #000000;\n",
                            "        }#T_da8a6a5a_f4e9_11eb_8753_acde48001122row3_col8{\n",
                            "            background-color:  #ebe6f2;\n",
                            "            color:  #000000;\n",
                            "        }#T_da8a6a5a_f4e9_11eb_8753_acde48001122row4_col0{\n",
                            "            background-color:  #b3c3de;\n",
                            "            color:  #000000;\n",
                            "        }#T_da8a6a5a_f4e9_11eb_8753_acde48001122row4_col1{\n",
                            "            background-color:  #589ec8;\n",
                            "            color:  #000000;\n",
                            "        }#T_da8a6a5a_f4e9_11eb_8753_acde48001122row4_col2{\n",
                            "            background-color:  #0569a5;\n",
                            "            color:  #f1f1f1;\n",
                            "        }#T_da8a6a5a_f4e9_11eb_8753_acde48001122row4_col3{\n",
                            "            background-color:  #fdf5fa;\n",
                            "            color:  #000000;\n",
                            "        }#T_da8a6a5a_f4e9_11eb_8753_acde48001122row4_col6{\n",
                            "            background-color:  #2685bb;\n",
                            "            color:  #000000;\n",
                            "        }#T_da8a6a5a_f4e9_11eb_8753_acde48001122row4_col9{\n",
                            "            background-color:  #fef6fa;\n",
                            "            color:  #000000;\n",
                            "        }</style><table id=\"T_da8a6a5a_f4e9_11eb_8753_acde48001122\" ><thead>    <tr>        <th class=\"blank level0\" ></th>        <th class=\"col_heading level0 col0\" >PC0</th>        <th class=\"col_heading level0 col1\" >PC1</th>        <th class=\"col_heading level0 col2\" >PC2</th>        <th class=\"col_heading level0 col3\" >PC3</th>        <th class=\"col_heading level0 col4\" >PC4</th>        <th class=\"col_heading level0 col5\" >PC5</th>        <th class=\"col_heading level0 col6\" >PC6</th>        <th class=\"col_heading level0 col7\" >PC7</th>        <th class=\"col_heading level0 col8\" >PC8</th>        <th class=\"col_heading level0 col9\" >PC9</th>        <th class=\"col_heading level0 col10\" >title</th>    </tr>    <tr>        <th class=\"index_name level0\" >book_id</th>        <th class=\"blank\" ></th>        <th class=\"blank\" ></th>        <th class=\"blank\" ></th>        <th class=\"blank\" ></th>        <th class=\"blank\" ></th>        <th class=\"blank\" ></th>        <th class=\"blank\" ></th>        <th class=\"blank\" ></th>        <th class=\"blank\" ></th>        <th class=\"blank\" ></th>        <th class=\"blank\" ></th>    </tr></thead><tbody>\n",
                            "                <tr>\n",
                            "                        <th id=\"T_da8a6a5a_f4e9_11eb_8753_acde48001122level0_row0\" class=\"row_heading level0 row0\" >108</th>\n",
                            "                        <td id=\"T_da8a6a5a_f4e9_11eb_8753_acde48001122row0_col0\" class=\"data row0 col0\" >0.000432</td>\n",
                            "                        <td id=\"T_da8a6a5a_f4e9_11eb_8753_acde48001122row0_col1\" class=\"data row0 col1\" >-0.001324</td>\n",
                            "                        <td id=\"T_da8a6a5a_f4e9_11eb_8753_acde48001122row0_col2\" class=\"data row0 col2\" >0.000382</td>\n",
                            "                        <td id=\"T_da8a6a5a_f4e9_11eb_8753_acde48001122row0_col3\" class=\"data row0 col3\" >-0.000038</td>\n",
                            "                        <td id=\"T_da8a6a5a_f4e9_11eb_8753_acde48001122row0_col4\" class=\"data row0 col4\" >-0.000142</td>\n",
                            "                        <td id=\"T_da8a6a5a_f4e9_11eb_8753_acde48001122row0_col5\" class=\"data row0 col5\" >-0.000069</td>\n",
                            "                        <td id=\"T_da8a6a5a_f4e9_11eb_8753_acde48001122row0_col6\" class=\"data row0 col6\" >-0.000380</td>\n",
                            "                        <td id=\"T_da8a6a5a_f4e9_11eb_8753_acde48001122row0_col7\" class=\"data row0 col7\" >0.000104</td>\n",
                            "                        <td id=\"T_da8a6a5a_f4e9_11eb_8753_acde48001122row0_col8\" class=\"data row0 col8\" >0.000112</td>\n",
                            "                        <td id=\"T_da8a6a5a_f4e9_11eb_8753_acde48001122row0_col9\" class=\"data row0 col9\" >-0.000036</td>\n",
                            "                        <td id=\"T_da8a6a5a_f4e9_11eb_8753_acde48001122row0_col10\" class=\"data row0 col10\" >THE RETURN OF SHERLOCK HOLMES</td>\n",
                            "            </tr>\n",
                            "            <tr>\n",
                            "                        <th id=\"T_da8a6a5a_f4e9_11eb_8753_acde48001122level0_row1\" class=\"row_heading level0 row1\" >126</th>\n",
                            "                        <td id=\"T_da8a6a5a_f4e9_11eb_8753_acde48001122row1_col0\" class=\"data row1 col0\" >-0.000635</td>\n",
                            "                        <td id=\"T_da8a6a5a_f4e9_11eb_8753_acde48001122row1_col1\" class=\"data row1 col1\" >0.001358</td>\n",
                            "                        <td id=\"T_da8a6a5a_f4e9_11eb_8753_acde48001122row1_col2\" class=\"data row1 col2\" >-0.002032</td>\n",
                            "                        <td id=\"T_da8a6a5a_f4e9_11eb_8753_acde48001122row1_col3\" class=\"data row1 col3\" >0.006246</td>\n",
                            "                        <td id=\"T_da8a6a5a_f4e9_11eb_8753_acde48001122row1_col4\" class=\"data row1 col4\" >-0.003421</td>\n",
                            "                        <td id=\"T_da8a6a5a_f4e9_11eb_8753_acde48001122row1_col5\" class=\"data row1 col5\" >-0.001587</td>\n",
                            "                        <td id=\"T_da8a6a5a_f4e9_11eb_8753_acde48001122row1_col6\" class=\"data row1 col6\" >0.000199</td>\n",
                            "                        <td id=\"T_da8a6a5a_f4e9_11eb_8753_acde48001122row1_col7\" class=\"data row1 col7\" >0.001667</td>\n",
                            "                        <td id=\"T_da8a6a5a_f4e9_11eb_8753_acde48001122row1_col8\" class=\"data row1 col8\" >0.001183</td>\n",
                            "                        <td id=\"T_da8a6a5a_f4e9_11eb_8753_acde48001122row1_col9\" class=\"data row1 col9\" >0.000341</td>\n",
                            "                        <td id=\"T_da8a6a5a_f4e9_11eb_8753_acde48001122row1_col10\" class=\"data row1 col10\" >THE POISON BELT</td>\n",
                            "            </tr>\n",
                            "            <tr>\n",
                            "                        <th id=\"T_da8a6a5a_f4e9_11eb_8753_acde48001122level0_row2\" class=\"row_heading level0 row2\" >139</th>\n",
                            "                        <td id=\"T_da8a6a5a_f4e9_11eb_8753_acde48001122row2_col0\" class=\"data row2 col0\" >-0.000500</td>\n",
                            "                        <td id=\"T_da8a6a5a_f4e9_11eb_8753_acde48001122row2_col1\" class=\"data row2 col1\" >0.000856</td>\n",
                            "                        <td id=\"T_da8a6a5a_f4e9_11eb_8753_acde48001122row2_col2\" class=\"data row2 col2\" >-0.001246</td>\n",
                            "                        <td id=\"T_da8a6a5a_f4e9_11eb_8753_acde48001122row2_col3\" class=\"data row2 col3\" >0.003748</td>\n",
                            "                        <td id=\"T_da8a6a5a_f4e9_11eb_8753_acde48001122row2_col4\" class=\"data row2 col4\" >-0.001903</td>\n",
                            "                        <td id=\"T_da8a6a5a_f4e9_11eb_8753_acde48001122row2_col5\" class=\"data row2 col5\" >-0.000873</td>\n",
                            "                        <td id=\"T_da8a6a5a_f4e9_11eb_8753_acde48001122row2_col6\" class=\"data row2 col6\" >0.000118</td>\n",
                            "                        <td id=\"T_da8a6a5a_f4e9_11eb_8753_acde48001122row2_col7\" class=\"data row2 col7\" >0.000841</td>\n",
                            "                        <td id=\"T_da8a6a5a_f4e9_11eb_8753_acde48001122row2_col8\" class=\"data row2 col8\" >0.000594</td>\n",
                            "                        <td id=\"T_da8a6a5a_f4e9_11eb_8753_acde48001122row2_col9\" class=\"data row2 col9\" >0.000164</td>\n",
                            "                        <td id=\"T_da8a6a5a_f4e9_11eb_8753_acde48001122row2_col10\" class=\"data row2 col10\" >THE LOST WORLD</td>\n",
                            "            </tr>\n",
                            "            <tr>\n",
                            "                        <th id=\"T_da8a6a5a_f4e9_11eb_8753_acde48001122level0_row3\" class=\"row_heading level0 row3\" >244</th>\n",
                            "                        <td id=\"T_da8a6a5a_f4e9_11eb_8753_acde48001122row3_col0\" class=\"data row3 col0\" >-0.000017</td>\n",
                            "                        <td id=\"T_da8a6a5a_f4e9_11eb_8753_acde48001122row3_col1\" class=\"data row3 col1\" >-0.000551</td>\n",
                            "                        <td id=\"T_da8a6a5a_f4e9_11eb_8753_acde48001122row3_col2\" class=\"data row3 col2\" >0.000074</td>\n",
                            "                        <td id=\"T_da8a6a5a_f4e9_11eb_8753_acde48001122row3_col3\" class=\"data row3 col3\" >-0.000018</td>\n",
                            "                        <td id=\"T_da8a6a5a_f4e9_11eb_8753_acde48001122row3_col4\" class=\"data row3 col4\" >-0.000013</td>\n",
                            "                        <td id=\"T_da8a6a5a_f4e9_11eb_8753_acde48001122row3_col5\" class=\"data row3 col5\" >0.000043</td>\n",
                            "                        <td id=\"T_da8a6a5a_f4e9_11eb_8753_acde48001122row3_col6\" class=\"data row3 col6\" >-0.000210</td>\n",
                            "                        <td id=\"T_da8a6a5a_f4e9_11eb_8753_acde48001122row3_col7\" class=\"data row3 col7\" >-0.000094</td>\n",
                            "                        <td id=\"T_da8a6a5a_f4e9_11eb_8753_acde48001122row3_col8\" class=\"data row3 col8\" >-0.000082</td>\n",
                            "                        <td id=\"T_da8a6a5a_f4e9_11eb_8753_acde48001122row3_col9\" class=\"data row3 col9\" >-0.000055</td>\n",
                            "                        <td id=\"T_da8a6a5a_f4e9_11eb_8753_acde48001122row3_col10\" class=\"data row3 col10\" >A STUDY IN SCARLET</td>\n",
                            "            </tr>\n",
                            "            <tr>\n",
                            "                        <th id=\"T_da8a6a5a_f4e9_11eb_8753_acde48001122level0_row4\" class=\"row_heading level0 row4\" >290</th>\n",
                            "                        <td id=\"T_da8a6a5a_f4e9_11eb_8753_acde48001122row4_col0\" class=\"data row4 col0\" >-0.000273</td>\n",
                            "                        <td id=\"T_da8a6a5a_f4e9_11eb_8753_acde48001122row4_col1\" class=\"data row4 col1\" >0.000165</td>\n",
                            "                        <td id=\"T_da8a6a5a_f4e9_11eb_8753_acde48001122row4_col2\" class=\"data row4 col2\" >-0.000133</td>\n",
                            "                        <td id=\"T_da8a6a5a_f4e9_11eb_8753_acde48001122row4_col3\" class=\"data row4 col3\" >0.000057</td>\n",
                            "                        <td id=\"T_da8a6a5a_f4e9_11eb_8753_acde48001122row4_col4\" class=\"data row4 col4\" >0.000144</td>\n",
                            "                        <td id=\"T_da8a6a5a_f4e9_11eb_8753_acde48001122row4_col5\" class=\"data row4 col5\" >0.000213</td>\n",
                            "                        <td id=\"T_da8a6a5a_f4e9_11eb_8753_acde48001122row4_col6\" class=\"data row4 col6\" >0.000007</td>\n",
                            "                        <td id=\"T_da8a6a5a_f4e9_11eb_8753_acde48001122row4_col7\" class=\"data row4 col7\" >-0.000240</td>\n",
                            "                        <td id=\"T_da8a6a5a_f4e9_11eb_8753_acde48001122row4_col8\" class=\"data row4 col8\" >-0.000271</td>\n",
                            "                        <td id=\"T_da8a6a5a_f4e9_11eb_8753_acde48001122row4_col9\" class=\"data row4 col9\" >-0.000052</td>\n",
                            "                        <td id=\"T_da8a6a5a_f4e9_11eb_8753_acde48001122row4_col10\" class=\"data row4 col10\" >THE STARK MUNRO LETTERS BEING SERIES OF TWELVE LETTERS WRITTEN BY J STARK MUNRO M B TO HIS FRIEND AND FORMER FELLOW STUDENT HERBERT SWANBOROUGH OF LOWELL MASSACHUSETTS DURING THE YEARS 1881 1884</td>\n",
                            "            </tr>\n",
                            "    </tbody></table>"
                        ]
                    },
                    "metadata": {},
                    "execution_count": 21
                }
            ],
            "metadata": {}
        },
        {
            "cell_type": "code",
            "execution_count": 23,
            "source": [
                "px.scatter_3d(DCM, 'PC0', 'PC1','PC2', hover_name='title', height=1000, width=1200)"
            ],
            "outputs": [
                {
                    "output_type": "display_data",
                    "data": {
                        "application/vnd.plotly.v1+json": {
                            "config": {
                                "plotlyServerURL": "https://plot.ly"
                            },
                            "data": [
                                {
                                    "hovertemplate": "<b>%{hovertext}</b><br><br>PC0=%{x}<br>PC1=%{y}<br>PC2=%{z}<extra></extra>",
                                    "hovertext": [
                                        "THE RETURN OF SHERLOCK HOLMES",
                                        "THE POISON BELT",
                                        "THE LOST WORLD",
                                        "A STUDY IN SCARLET",
                                        "THE STARK MUNRO LETTERS BEING SERIES OF TWELVE LETTERS WRITTEN BY J STARK MUNRO M B TO HIS FRIEND AND FORMER FELLOW STUDENT HERBERT SWANBOROUGH OF LOWELL MASSACHUSETTS DURING THE YEARS 1881 1884",
                                        "THE CAPTAIN OF THE POLESTAR AND OTHER TALES",
                                        "THE PARASITE A STORY",
                                        "BEYOND THE CITY",
                                        "ROUND THE RED LAMP BEING FACTS AND FANCIES OF MEDICAL LIFE",
                                        "THE VITAL MESSAGE",
                                        "TALES OF TERROR AND MYSTERY",
                                        "THE WHITE COMPANY",
                                        "THE NEW REVELATION",
                                        "THE ADVENTURES OF GERARD",
                                        "THE ADVENTURES OF SHERLOCK HOLMES",
                                        "THE SIGN OF THE FOUR",
                                        "THE ADVENTURE OF WISTERIA LODGE",
                                        "THE ADVENTURE OF THE CARDBOARD BOX",
                                        "THE ADVENTURE OF THE RED CIRCLE",
                                        "THE ADVENTURE OF THE BRUCE PARTINGTON PLANS",
                                        "THE ADVENTURE OF THE DYING DETECTIVE",
                                        "THE DISAPPEARANCE OF LADY FRANCES CARFAX",
                                        "THE ADVENTURE OF THE DEVIL S FOOT",
                                        "HIS LAST BOW AN EPILOGUE OF SHERLOCK HOLMES",
                                        "SIR NIGEL",
                                        "THE HOUND OF THE BASKERVILLES",
                                        "THE GREAT BOER WAR",
                                        "THE VALLEY OF FEAR",
                                        "SONGS OF ACTION",
                                        "RODNEY STONE",
                                        "A DUET WITH AN OCCASIONAL CHORUS",
                                        "THROUGH THE MAGIC DOOR",
                                        "THE MYSTERY OF CLOOMBER",
                                        "THE DOINGS OF RAFFLES HAW",
                                        "THE LAST GALLEY IMPRESSIONS AND TALES",
                                        "MICAH CLARKE HIS STATEMENT AS MADE TO HIS THREE GRANDCHILDREN JOSEPH GERVAS AND REUBEN DURING THE HARD WINTER OF 1734",
                                        "A VISIT TO THREE FRONTS JUNE 1916",
                                        "THE GREEN FLAG AND OTHER STORIES OF WAR AND SPORT",
                                        "UNCLE BERNAC A MEMORY OF THE EMPIRE",
                                        "THE EXPLOITS OF BRIGADIER GERARD",
                                        "THE REFUGEES A TALE OF TWO CONTINENTS",
                                        "THE GREAT SHADOW AND OTHER NAPOLEONIC TALES",
                                        "THE TRAGEDY OF THE KOROSKO",
                                        "THE FIRM OF GIRDLESTONE",
                                        "THE CABMAN S STORY THE MYSTERIES OF A LONDON GROWLER",
                                        "A DESERT DRAMA BEING THE TRAGEDY OF THE KOROSKO",
                                        "SONGS OF THE ROAD",
                                        "DANGER AND OTHER STORIES",
                                        "MY FRIEND THE MURDERER",
                                        "THE WAR IN SOUTH AFRICA ITS CAUSE AND CONDUCT",
                                        "THE GREAT KEINPLATZ EXPERIMENT AND OTHER TALES OF TWILIGHT AND THE UNSEEN",
                                        "THE DEALINGS OF CAPTAIN SHARKEY AND OTHER TALES OF PIRATES",
                                        "THE MAN FROM ARCHANGEL AND OTHER TALES OF ADVENTURE",
                                        "THE CRIME OF THE CONGO",
                                        "THE GUARDS CAME THROUGH AND OTHER POEMS",
                                        "THE CROXLEY MASTER A GREAT TALE OF THE PRIZE RING",
                                        "THE WANDERINGS OF A SPIRITUALIST",
                                        "THE GULLY OF BLUEMANSDYKE AND OTHER STORIES",
                                        "THE GERMAN WAR",
                                        "THE COMING OF THE FAIRIES",
                                        "ADVENTURES OF SHERLOCK HOLMES ILLUSTRATED"
                                    ],
                                    "legendgroup": "",
                                    "marker": {
                                        "color": "#636efa",
                                        "symbol": "circle"
                                    },
                                    "mode": "markers",
                                    "name": "",
                                    "scene": "scene",
                                    "showlegend": false,
                                    "type": "scatter3d",
                                    "x": [
                                        0.00043195917635052234,
                                        -0.0006350762175642607,
                                        -0.0004997305800776238,
                                        -0.000016532106658754017,
                                        -0.00027285817436167517,
                                        -0.00020769663833754512,
                                        -0.0003451552583287201,
                                        -0.00036177293105934703,
                                        -0.00025115174904018884,
                                        -0.00030080486010320714,
                                        -0.00022638908987973464,
                                        -0.0005053705634445526,
                                        -0.0002759097231854233,
                                        -0.0002857672745755055,
                                        0.00018423862776796213,
                                        0.00004649674931833455,
                                        0.0006652364406010885,
                                        0.0001947914127756138,
                                        0.0007763131322911658,
                                        0.0006281060397850328,
                                        0.0011609865426888595,
                                        0.0008091798544559239,
                                        0.0007089856336968482,
                                        0.011333094619381772,
                                        -0.0005226393764079911,
                                        0.00018846919672047297,
                                        -0.0004565018606722636,
                                        0.00010770721637326245,
                                        -0.0006968056381772453,
                                        -0.00030977826670917,
                                        -0.00039226694599642356,
                                        -0.00025493397201160504,
                                        -0.00029560175525668715,
                                        -0.000565490686309139,
                                        -0.0002704487694355397,
                                        -0.0002920009682751116,
                                        -0.00026574239518028023,
                                        -0.00045033714139436023,
                                        -0.0002972565961155237,
                                        -0.0002584461839489108,
                                        -0.000357684485885308,
                                        -0.0003000909491024316,
                                        -0.0006536380288151366,
                                        -0.00027404089240553844,
                                        -0.00030032888330661057,
                                        -0.0006604174230700489,
                                        -0.0007355708174061904,
                                        -0.00023083147541971453,
                                        -0.00028568140446592324,
                                        -0.0004592818634413183,
                                        -0.00018706674917311677,
                                        -0.00028381938164475057,
                                        -0.0002543145928829517,
                                        -0.0004225618686876696,
                                        -0.00052212007153097,
                                        -0.0009871508761828737,
                                        -0.0002736252247772676,
                                        -0.00019503217872142705,
                                        -0.0001738984933491585,
                                        -0.00045347793426684643,
                                        0.0002875346748352078
                                    ],
                                    "y": [
                                        -0.0013242039726182654,
                                        0.0013583048946017293,
                                        0.0008558158448202079,
                                        -0.0005509759895776651,
                                        0.00016484565950722403,
                                        0.0001867323267912883,
                                        0.00023470398782325964,
                                        0.0002244764568210594,
                                        0.00012792281714156338,
                                        0.0001880026957157734,
                                        0.00010037489487490973,
                                        0.0006627713061373595,
                                        0.00014839291691291429,
                                        0.00022233763013453374,
                                        -0.0008746610873951533,
                                        -0.0006122411855878857,
                                        -0.0030905257713855893,
                                        -0.0014622534323281752,
                                        -0.0029143669814029817,
                                        -0.0021014888113524773,
                                        -0.002790618009800219,
                                        -0.0027945811924773357,
                                        -0.0029812665914809525,
                                        0.0025891499596760515,
                                        0.0006663569094268921,
                                        -0.000916390855775412,
                                        0.0005108021800986715,
                                        -0.000903242188431548,
                                        0.001765710870683775,
                                        0.0003384614014413483,
                                        0.00027700368641631913,
                                        0.00018837841839852433,
                                        0.00020024248576021867,
                                        0.0005818058998773014,
                                        0.00022357375182184455,
                                        0.00026085926682281016,
                                        0.00024943977547812427,
                                        0.0010846269132663692,
                                        0.00023185519894428894,
                                        0.0002107718148008689,
                                        0.0002977880858640778,
                                        0.00025215995357460503,
                                        0.0010454309564214856,
                                        0.0004100964205932443,
                                        0.00020169645522181897,
                                        0.0010563881321183344,
                                        0.0017799027992523497,
                                        0.00018679188442480163,
                                        0.0002232262963444368,
                                        0.0005026119193711129,
                                        0.00017137072871860164,
                                        0.00027190485355716766,
                                        0.00015904384610135889,
                                        0.0004403648083703938,
                                        0.0009646184312958775,
                                        0.003994189058918511,
                                        0.0001854634201639571,
                                        0.00021345735906300458,
                                        0.0002770904856523468,
                                        0.00027198386154371663,
                                        -0.0034424836511527715
                                    ],
                                    "z": [
                                        0.00038201266271524736,
                                        -0.0020316854047262036,
                                        -0.0012462754223980773,
                                        0.00007412441156649045,
                                        -0.00013316379604798914,
                                        -0.00011074284297418959,
                                        -0.00013302597420337118,
                                        -0.0002434538386389323,
                                        -0.00010572080777500959,
                                        -0.00019814862813892088,
                                        -0.00006631906061692279,
                                        -0.00038664382927998603,
                                        -0.0001691796616734593,
                                        -0.0001647431557058751,
                                        0.00023013754466688185,
                                        0.0001021309003419334,
                                        0.0007800323972360657,
                                        0.0004801598920665337,
                                        0.0008754043379170398,
                                        0.0005770044214780201,
                                        0.0008354329234653452,
                                        0.0007371879287917215,
                                        0.0008563334446146333,
                                        -0.0003864565622006689,
                                        -0.0004728652645731132,
                                        0.0003336846129126266,
                                        -0.00047895625849750725,
                                        0.0002563196697336848,
                                        -0.0016830024669944486,
                                        -0.0001000919383979417,
                                        -0.0002526727872683859,
                                        -0.00010289633391122995,
                                        -0.0001287934941944911,
                                        -0.0005633528338041205,
                                        -0.0001122111853913708,
                                        -0.00012915324645540585,
                                        -0.00021497882422333485,
                                        0.0017765325178573563,
                                        -0.00018832873935602194,
                                        -0.00016225978898046862,
                                        -0.00023671021756344702,
                                        -0.00012354320835126129,
                                        -0.0010684096148403323,
                                        -0.00022267159779474103,
                                        -0.0001343638807492724,
                                        -0.0010723423029293812,
                                        -0.0016779247178039193,
                                        -0.00016461841547382676,
                                        -0.00016978319699443908,
                                        -0.0005072465532384232,
                                        -0.0001011588290411818,
                                        -0.000021541569835659432,
                                        -0.00010795421289516272,
                                        -0.00042301012706022126,
                                        -0.0010460390664401415,
                                        0.008519397708175733,
                                        -0.00018001279207450197,
                                        -0.00014475581944349883,
                                        -0.00022267813725368278,
                                        -0.0003905516013798823,
                                        0.0011645426340511052
                                    ]
                                }
                            ],
                            "layout": {
                                "height": 1000,
                                "legend": {
                                    "tracegroupgap": 0
                                },
                                "margin": {
                                    "t": 60
                                },
                                "scene": {
                                    "domain": {
                                        "x": [
                                            0,
                                            1
                                        ],
                                        "y": [
                                            0,
                                            1
                                        ]
                                    },
                                    "xaxis": {
                                        "title": {
                                            "text": "PC0"
                                        }
                                    },
                                    "yaxis": {
                                        "title": {
                                            "text": "PC1"
                                        }
                                    },
                                    "zaxis": {
                                        "title": {
                                            "text": "PC2"
                                        }
                                    }
                                },
                                "template": {
                                    "data": {
                                        "bar": [
                                            {
                                                "error_x": {
                                                    "color": "#2a3f5f"
                                                },
                                                "error_y": {
                                                    "color": "#2a3f5f"
                                                },
                                                "marker": {
                                                    "line": {
                                                        "color": "#E5ECF6",
                                                        "width": 0.5
                                                    }
                                                },
                                                "type": "bar"
                                            }
                                        ],
                                        "barpolar": [
                                            {
                                                "marker": {
                                                    "line": {
                                                        "color": "#E5ECF6",
                                                        "width": 0.5
                                                    }
                                                },
                                                "type": "barpolar"
                                            }
                                        ],
                                        "carpet": [
                                            {
                                                "aaxis": {
                                                    "endlinecolor": "#2a3f5f",
                                                    "gridcolor": "white",
                                                    "linecolor": "white",
                                                    "minorgridcolor": "white",
                                                    "startlinecolor": "#2a3f5f"
                                                },
                                                "baxis": {
                                                    "endlinecolor": "#2a3f5f",
                                                    "gridcolor": "white",
                                                    "linecolor": "white",
                                                    "minorgridcolor": "white",
                                                    "startlinecolor": "#2a3f5f"
                                                },
                                                "type": "carpet"
                                            }
                                        ],
                                        "choropleth": [
                                            {
                                                "colorbar": {
                                                    "outlinewidth": 0,
                                                    "ticks": ""
                                                },
                                                "type": "choropleth"
                                            }
                                        ],
                                        "contour": [
                                            {
                                                "colorbar": {
                                                    "outlinewidth": 0,
                                                    "ticks": ""
                                                },
                                                "colorscale": [
                                                    [
                                                        0,
                                                        "#0d0887"
                                                    ],
                                                    [
                                                        0.1111111111111111,
                                                        "#46039f"
                                                    ],
                                                    [
                                                        0.2222222222222222,
                                                        "#7201a8"
                                                    ],
                                                    [
                                                        0.3333333333333333,
                                                        "#9c179e"
                                                    ],
                                                    [
                                                        0.4444444444444444,
                                                        "#bd3786"
                                                    ],
                                                    [
                                                        0.5555555555555556,
                                                        "#d8576b"
                                                    ],
                                                    [
                                                        0.6666666666666666,
                                                        "#ed7953"
                                                    ],
                                                    [
                                                        0.7777777777777778,
                                                        "#fb9f3a"
                                                    ],
                                                    [
                                                        0.8888888888888888,
                                                        "#fdca26"
                                                    ],
                                                    [
                                                        1,
                                                        "#f0f921"
                                                    ]
                                                ],
                                                "type": "contour"
                                            }
                                        ],
                                        "contourcarpet": [
                                            {
                                                "colorbar": {
                                                    "outlinewidth": 0,
                                                    "ticks": ""
                                                },
                                                "type": "contourcarpet"
                                            }
                                        ],
                                        "heatmap": [
                                            {
                                                "colorbar": {
                                                    "outlinewidth": 0,
                                                    "ticks": ""
                                                },
                                                "colorscale": [
                                                    [
                                                        0,
                                                        "#0d0887"
                                                    ],
                                                    [
                                                        0.1111111111111111,
                                                        "#46039f"
                                                    ],
                                                    [
                                                        0.2222222222222222,
                                                        "#7201a8"
                                                    ],
                                                    [
                                                        0.3333333333333333,
                                                        "#9c179e"
                                                    ],
                                                    [
                                                        0.4444444444444444,
                                                        "#bd3786"
                                                    ],
                                                    [
                                                        0.5555555555555556,
                                                        "#d8576b"
                                                    ],
                                                    [
                                                        0.6666666666666666,
                                                        "#ed7953"
                                                    ],
                                                    [
                                                        0.7777777777777778,
                                                        "#fb9f3a"
                                                    ],
                                                    [
                                                        0.8888888888888888,
                                                        "#fdca26"
                                                    ],
                                                    [
                                                        1,
                                                        "#f0f921"
                                                    ]
                                                ],
                                                "type": "heatmap"
                                            }
                                        ],
                                        "heatmapgl": [
                                            {
                                                "colorbar": {
                                                    "outlinewidth": 0,
                                                    "ticks": ""
                                                },
                                                "colorscale": [
                                                    [
                                                        0,
                                                        "#0d0887"
                                                    ],
                                                    [
                                                        0.1111111111111111,
                                                        "#46039f"
                                                    ],
                                                    [
                                                        0.2222222222222222,
                                                        "#7201a8"
                                                    ],
                                                    [
                                                        0.3333333333333333,
                                                        "#9c179e"
                                                    ],
                                                    [
                                                        0.4444444444444444,
                                                        "#bd3786"
                                                    ],
                                                    [
                                                        0.5555555555555556,
                                                        "#d8576b"
                                                    ],
                                                    [
                                                        0.6666666666666666,
                                                        "#ed7953"
                                                    ],
                                                    [
                                                        0.7777777777777778,
                                                        "#fb9f3a"
                                                    ],
                                                    [
                                                        0.8888888888888888,
                                                        "#fdca26"
                                                    ],
                                                    [
                                                        1,
                                                        "#f0f921"
                                                    ]
                                                ],
                                                "type": "heatmapgl"
                                            }
                                        ],
                                        "histogram": [
                                            {
                                                "marker": {
                                                    "colorbar": {
                                                        "outlinewidth": 0,
                                                        "ticks": ""
                                                    }
                                                },
                                                "type": "histogram"
                                            }
                                        ],
                                        "histogram2d": [
                                            {
                                                "colorbar": {
                                                    "outlinewidth": 0,
                                                    "ticks": ""
                                                },
                                                "colorscale": [
                                                    [
                                                        0,
                                                        "#0d0887"
                                                    ],
                                                    [
                                                        0.1111111111111111,
                                                        "#46039f"
                                                    ],
                                                    [
                                                        0.2222222222222222,
                                                        "#7201a8"
                                                    ],
                                                    [
                                                        0.3333333333333333,
                                                        "#9c179e"
                                                    ],
                                                    [
                                                        0.4444444444444444,
                                                        "#bd3786"
                                                    ],
                                                    [
                                                        0.5555555555555556,
                                                        "#d8576b"
                                                    ],
                                                    [
                                                        0.6666666666666666,
                                                        "#ed7953"
                                                    ],
                                                    [
                                                        0.7777777777777778,
                                                        "#fb9f3a"
                                                    ],
                                                    [
                                                        0.8888888888888888,
                                                        "#fdca26"
                                                    ],
                                                    [
                                                        1,
                                                        "#f0f921"
                                                    ]
                                                ],
                                                "type": "histogram2d"
                                            }
                                        ],
                                        "histogram2dcontour": [
                                            {
                                                "colorbar": {
                                                    "outlinewidth": 0,
                                                    "ticks": ""
                                                },
                                                "colorscale": [
                                                    [
                                                        0,
                                                        "#0d0887"
                                                    ],
                                                    [
                                                        0.1111111111111111,
                                                        "#46039f"
                                                    ],
                                                    [
                                                        0.2222222222222222,
                                                        "#7201a8"
                                                    ],
                                                    [
                                                        0.3333333333333333,
                                                        "#9c179e"
                                                    ],
                                                    [
                                                        0.4444444444444444,
                                                        "#bd3786"
                                                    ],
                                                    [
                                                        0.5555555555555556,
                                                        "#d8576b"
                                                    ],
                                                    [
                                                        0.6666666666666666,
                                                        "#ed7953"
                                                    ],
                                                    [
                                                        0.7777777777777778,
                                                        "#fb9f3a"
                                                    ],
                                                    [
                                                        0.8888888888888888,
                                                        "#fdca26"
                                                    ],
                                                    [
                                                        1,
                                                        "#f0f921"
                                                    ]
                                                ],
                                                "type": "histogram2dcontour"
                                            }
                                        ],
                                        "mesh3d": [
                                            {
                                                "colorbar": {
                                                    "outlinewidth": 0,
                                                    "ticks": ""
                                                },
                                                "type": "mesh3d"
                                            }
                                        ],
                                        "parcoords": [
                                            {
                                                "line": {
                                                    "colorbar": {
                                                        "outlinewidth": 0,
                                                        "ticks": ""
                                                    }
                                                },
                                                "type": "parcoords"
                                            }
                                        ],
                                        "pie": [
                                            {
                                                "automargin": true,
                                                "type": "pie"
                                            }
                                        ],
                                        "scatter": [
                                            {
                                                "marker": {
                                                    "colorbar": {
                                                        "outlinewidth": 0,
                                                        "ticks": ""
                                                    }
                                                },
                                                "type": "scatter"
                                            }
                                        ],
                                        "scatter3d": [
                                            {
                                                "line": {
                                                    "colorbar": {
                                                        "outlinewidth": 0,
                                                        "ticks": ""
                                                    }
                                                },
                                                "marker": {
                                                    "colorbar": {
                                                        "outlinewidth": 0,
                                                        "ticks": ""
                                                    }
                                                },
                                                "type": "scatter3d"
                                            }
                                        ],
                                        "scattercarpet": [
                                            {
                                                "marker": {
                                                    "colorbar": {
                                                        "outlinewidth": 0,
                                                        "ticks": ""
                                                    }
                                                },
                                                "type": "scattercarpet"
                                            }
                                        ],
                                        "scattergeo": [
                                            {
                                                "marker": {
                                                    "colorbar": {
                                                        "outlinewidth": 0,
                                                        "ticks": ""
                                                    }
                                                },
                                                "type": "scattergeo"
                                            }
                                        ],
                                        "scattergl": [
                                            {
                                                "marker": {
                                                    "colorbar": {
                                                        "outlinewidth": 0,
                                                        "ticks": ""
                                                    }
                                                },
                                                "type": "scattergl"
                                            }
                                        ],
                                        "scattermapbox": [
                                            {
                                                "marker": {
                                                    "colorbar": {
                                                        "outlinewidth": 0,
                                                        "ticks": ""
                                                    }
                                                },
                                                "type": "scattermapbox"
                                            }
                                        ],
                                        "scatterpolar": [
                                            {
                                                "marker": {
                                                    "colorbar": {
                                                        "outlinewidth": 0,
                                                        "ticks": ""
                                                    }
                                                },
                                                "type": "scatterpolar"
                                            }
                                        ],
                                        "scatterpolargl": [
                                            {
                                                "marker": {
                                                    "colorbar": {
                                                        "outlinewidth": 0,
                                                        "ticks": ""
                                                    }
                                                },
                                                "type": "scatterpolargl"
                                            }
                                        ],
                                        "scatterternary": [
                                            {
                                                "marker": {
                                                    "colorbar": {
                                                        "outlinewidth": 0,
                                                        "ticks": ""
                                                    }
                                                },
                                                "type": "scatterternary"
                                            }
                                        ],
                                        "surface": [
                                            {
                                                "colorbar": {
                                                    "outlinewidth": 0,
                                                    "ticks": ""
                                                },
                                                "colorscale": [
                                                    [
                                                        0,
                                                        "#0d0887"
                                                    ],
                                                    [
                                                        0.1111111111111111,
                                                        "#46039f"
                                                    ],
                                                    [
                                                        0.2222222222222222,
                                                        "#7201a8"
                                                    ],
                                                    [
                                                        0.3333333333333333,
                                                        "#9c179e"
                                                    ],
                                                    [
                                                        0.4444444444444444,
                                                        "#bd3786"
                                                    ],
                                                    [
                                                        0.5555555555555556,
                                                        "#d8576b"
                                                    ],
                                                    [
                                                        0.6666666666666666,
                                                        "#ed7953"
                                                    ],
                                                    [
                                                        0.7777777777777778,
                                                        "#fb9f3a"
                                                    ],
                                                    [
                                                        0.8888888888888888,
                                                        "#fdca26"
                                                    ],
                                                    [
                                                        1,
                                                        "#f0f921"
                                                    ]
                                                ],
                                                "type": "surface"
                                            }
                                        ],
                                        "table": [
                                            {
                                                "cells": {
                                                    "fill": {
                                                        "color": "#EBF0F8"
                                                    },
                                                    "line": {
                                                        "color": "white"
                                                    }
                                                },
                                                "header": {
                                                    "fill": {
                                                        "color": "#C8D4E3"
                                                    },
                                                    "line": {
                                                        "color": "white"
                                                    }
                                                },
                                                "type": "table"
                                            }
                                        ]
                                    },
                                    "layout": {
                                        "annotationdefaults": {
                                            "arrowcolor": "#2a3f5f",
                                            "arrowhead": 0,
                                            "arrowwidth": 1
                                        },
                                        "autotypenumbers": "strict",
                                        "coloraxis": {
                                            "colorbar": {
                                                "outlinewidth": 0,
                                                "ticks": ""
                                            }
                                        },
                                        "colorscale": {
                                            "diverging": [
                                                [
                                                    0,
                                                    "#8e0152"
                                                ],
                                                [
                                                    0.1,
                                                    "#c51b7d"
                                                ],
                                                [
                                                    0.2,
                                                    "#de77ae"
                                                ],
                                                [
                                                    0.3,
                                                    "#f1b6da"
                                                ],
                                                [
                                                    0.4,
                                                    "#fde0ef"
                                                ],
                                                [
                                                    0.5,
                                                    "#f7f7f7"
                                                ],
                                                [
                                                    0.6,
                                                    "#e6f5d0"
                                                ],
                                                [
                                                    0.7,
                                                    "#b8e186"
                                                ],
                                                [
                                                    0.8,
                                                    "#7fbc41"
                                                ],
                                                [
                                                    0.9,
                                                    "#4d9221"
                                                ],
                                                [
                                                    1,
                                                    "#276419"
                                                ]
                                            ],
                                            "sequential": [
                                                [
                                                    0,
                                                    "#0d0887"
                                                ],
                                                [
                                                    0.1111111111111111,
                                                    "#46039f"
                                                ],
                                                [
                                                    0.2222222222222222,
                                                    "#7201a8"
                                                ],
                                                [
                                                    0.3333333333333333,
                                                    "#9c179e"
                                                ],
                                                [
                                                    0.4444444444444444,
                                                    "#bd3786"
                                                ],
                                                [
                                                    0.5555555555555556,
                                                    "#d8576b"
                                                ],
                                                [
                                                    0.6666666666666666,
                                                    "#ed7953"
                                                ],
                                                [
                                                    0.7777777777777778,
                                                    "#fb9f3a"
                                                ],
                                                [
                                                    0.8888888888888888,
                                                    "#fdca26"
                                                ],
                                                [
                                                    1,
                                                    "#f0f921"
                                                ]
                                            ],
                                            "sequentialminus": [
                                                [
                                                    0,
                                                    "#0d0887"
                                                ],
                                                [
                                                    0.1111111111111111,
                                                    "#46039f"
                                                ],
                                                [
                                                    0.2222222222222222,
                                                    "#7201a8"
                                                ],
                                                [
                                                    0.3333333333333333,
                                                    "#9c179e"
                                                ],
                                                [
                                                    0.4444444444444444,
                                                    "#bd3786"
                                                ],
                                                [
                                                    0.5555555555555556,
                                                    "#d8576b"
                                                ],
                                                [
                                                    0.6666666666666666,
                                                    "#ed7953"
                                                ],
                                                [
                                                    0.7777777777777778,
                                                    "#fb9f3a"
                                                ],
                                                [
                                                    0.8888888888888888,
                                                    "#fdca26"
                                                ],
                                                [
                                                    1,
                                                    "#f0f921"
                                                ]
                                            ]
                                        },
                                        "colorway": [
                                            "#636efa",
                                            "#EF553B",
                                            "#00cc96",
                                            "#ab63fa",
                                            "#FFA15A",
                                            "#19d3f3",
                                            "#FF6692",
                                            "#B6E880",
                                            "#FF97FF",
                                            "#FECB52"
                                        ],
                                        "font": {
                                            "color": "#2a3f5f"
                                        },
                                        "geo": {
                                            "bgcolor": "white",
                                            "lakecolor": "white",
                                            "landcolor": "#E5ECF6",
                                            "showlakes": true,
                                            "showland": true,
                                            "subunitcolor": "white"
                                        },
                                        "hoverlabel": {
                                            "align": "left"
                                        },
                                        "hovermode": "closest",
                                        "mapbox": {
                                            "style": "light"
                                        },
                                        "paper_bgcolor": "white",
                                        "plot_bgcolor": "#E5ECF6",
                                        "polar": {
                                            "angularaxis": {
                                                "gridcolor": "white",
                                                "linecolor": "white",
                                                "ticks": ""
                                            },
                                            "bgcolor": "#E5ECF6",
                                            "radialaxis": {
                                                "gridcolor": "white",
                                                "linecolor": "white",
                                                "ticks": ""
                                            }
                                        },
                                        "scene": {
                                            "xaxis": {
                                                "backgroundcolor": "#E5ECF6",
                                                "gridcolor": "white",
                                                "gridwidth": 2,
                                                "linecolor": "white",
                                                "showbackground": true,
                                                "ticks": "",
                                                "zerolinecolor": "white"
                                            },
                                            "yaxis": {
                                                "backgroundcolor": "#E5ECF6",
                                                "gridcolor": "white",
                                                "gridwidth": 2,
                                                "linecolor": "white",
                                                "showbackground": true,
                                                "ticks": "",
                                                "zerolinecolor": "white"
                                            },
                                            "zaxis": {
                                                "backgroundcolor": "#E5ECF6",
                                                "gridcolor": "white",
                                                "gridwidth": 2,
                                                "linecolor": "white",
                                                "showbackground": true,
                                                "ticks": "",
                                                "zerolinecolor": "white"
                                            }
                                        },
                                        "shapedefaults": {
                                            "line": {
                                                "color": "#2a3f5f"
                                            }
                                        },
                                        "ternary": {
                                            "aaxis": {
                                                "gridcolor": "white",
                                                "linecolor": "white",
                                                "ticks": ""
                                            },
                                            "baxis": {
                                                "gridcolor": "white",
                                                "linecolor": "white",
                                                "ticks": ""
                                            },
                                            "bgcolor": "#E5ECF6",
                                            "caxis": {
                                                "gridcolor": "white",
                                                "linecolor": "white",
                                                "ticks": ""
                                            }
                                        },
                                        "title": {
                                            "x": 0.05
                                        },
                                        "xaxis": {
                                            "automargin": true,
                                            "gridcolor": "white",
                                            "linecolor": "white",
                                            "ticks": "",
                                            "title": {
                                                "standoff": 15
                                            },
                                            "zerolinecolor": "white",
                                            "zerolinewidth": 2
                                        },
                                        "yaxis": {
                                            "automargin": true,
                                            "gridcolor": "white",
                                            "linecolor": "white",
                                            "ticks": "",
                                            "title": {
                                                "standoff": 15
                                            },
                                            "zerolinecolor": "white",
                                            "zerolinewidth": 2
                                        }
                                    }
                                },
                                "width": 1200
                            }
                        }
                    },
                    "metadata": {}
                }
            ],
            "metadata": {}
        },
        {
            "cell_type": "code",
            "execution_count": 24,
            "source": [
                "LOADINGS = pd.DataFrame(pca_engine.components_.T * np.sqrt(pca_engine.explained_variance_))\n",
                "LOADINGS.columns = [\"PC{}\".format(i) for i in LOADINGS.columns]"
            ],
            "outputs": [],
            "metadata": {}
        },
        {
            "cell_type": "code",
            "execution_count": 25,
            "source": [
                "LOADINGS.index = TFIDF.columns\n",
                "LOADINGS.index.name = 'term_id'\n",
                "LOADINGS['term_str'] = LOADINGS.apply(lambda x: VOCAB.loc[int(x.name)].term_str, 1)"
            ],
            "outputs": [],
            "metadata": {}
        },
        {
            "cell_type": "code",
            "execution_count": 28,
            "source": [
                "pc0_pos = LOADINGS.sort_values('PC0', ascending=False).head(10).term_str.str.cat(sep=' ')\n",
                "pc0_neg = LOADINGS.sort_values('PC0', ascending=True).head(10).term_str.str.cat(sep=' ')\n",
                "pc1_pos = LOADINGS.sort_values('PC1', ascending=False).head(10).term_str.str.cat(sep=' ')\n",
                "pc1_neg = LOADINGS.sort_values('PC1', ascending=True).head(10).term_str.str.cat(sep=' ')\n",
                "pc2_pos = LOADINGS.sort_values('PC2', ascending=False).head(10).term_str.str.cat(sep=' ')\n",
                "pc2_neg = LOADINGS.sort_values('PC2', ascending=True).head(10).term_str.str.cat(sep=' ')\n",
                "pc3_pos = LOADINGS.sort_values('PC3', ascending=False).head(10).term_str.str.cat(sep=' ')\n",
                "pc3_neg = LOADINGS.sort_values('PC3', ascending=True).head(10).term_str.str.cat(sep=' ')"
            ],
            "outputs": [],
            "metadata": {}
        },
        {
            "cell_type": "code",
            "execution_count": 31,
            "source": [
                "print('BOOKS PC0+', pc0_pos)\n",
                "print('BOOKS PC0-', pc0_neg)\n",
                "print('BOOKS PC1+', pc1_pos)\n",
                "print('BOOKS PC1-', pc1_neg)\n",
                "print('BOOKS PC2+', pc2_pos)\n",
                "print('BOOKS PC2-', pc2_neg)\n",
                "print('BOOKS PC3+', pc3_pos)\n",
                "print('BOOKS PC3-', pc3_neg)"
            ],
            "outputs": [
                {
                    "output_type": "stream",
                    "name": "stdout",
                    "text": [
                        "BOOKS PC0+ Bork Von Holmes Altamont Watson Steiner Martha mister dossier valise\n",
                        "BOOKS PC0- Montgomery Challenger Summerlee Nigel Belmont e Haw Croxley Sadie mdash\n",
                        "BOOKS PC1+ Montgomery Bork Croxley Challenger referee e Von Summerlee mdash Barton\n",
                        "BOOKS PC1- Holmes Watson “I Tregennis Baynes Gennaro — Gregson Lestrade Eccles\n",
                        "BOOKS PC2+ Montgomery Croxley referee Barton Holmes Craggs t thou Master Montgomerys\n",
                        "BOOKS PC2- Challenger Summerlee e mdash Belmont im Sadie orse Cremona Cochrane\n",
                        "BOOKS PC3+ Challenger Summerlee oxygen Austin Malone Professor Challengers Roxton ether McArdle\n",
                        "BOOKS PC3- e mdash orse Cremona im oer Pennarby Till Spider orses\n"
                    ]
                }
            ],
            "metadata": {}
        },
        {
            "cell_type": "markdown",
            "source": [
                "Looking at the PCA's we can see a clear seperation between Sherlock Holmes books and books about George Challenger (The Lost World, The Poison Belt, The Land of the Mist).\n",
                "\n",
                "Summerlee is a character who travels with Challenger."
            ],
            "metadata": {}
        },
        {
            "cell_type": "code",
            "execution_count": null,
            "source": [
                "# research question.  Can we group books by character reliably?  What methods are most reliable?\n",
                "\n",
                "# word cloud? (where is this?)\n",
                "# word2vec, include in PCA?? (add sentement analysis too?)\n",
                "# Can I use PCA to predict whether a book has sherlock holmes or not?\n",
                "# clustering analysis to group books with trees\n",
                "\n",
                "# Do some more research into the books categories of books that ACD wrote"
            ],
            "outputs": [],
            "metadata": {}
        }
    ],
    "metadata": {
        "orig_nbformat": 4,
        "language_info": {
            "name": "python",
            "version": "3.8.3",
            "mimetype": "text/x-python",
            "codemirror_mode": {
                "name": "ipython",
                "version": 3
            },
            "pygments_lexer": "ipython3",
            "nbconvert_exporter": "python",
            "file_extension": ".py"
        },
        "kernelspec": {
            "name": "python3",
            "display_name": "Python 3.8.3 64-bit ('base': conda)"
        },
        "interpreter": {
            "hash": "b3d065463af8e3c52545a9d586f241a2a947b5dd1e81241794a42d6e30975c25"
        }
    },
    "nbformat": 4,
    "nbformat_minor": 2
}