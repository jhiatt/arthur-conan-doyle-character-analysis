{
    "cells": [
        {
            "cell_type": "code",
            "execution_count": 1,
            "source": [
                "import pandas as pd\n",
                "import nltk\n",
                "from nltk.stem.porter import PorterStemmer\n",
                "import numpy as np\n",
                "from numpy.linalg import norm\n",
                "from gensim.models import word2vec\n",
                "from sklearn.manifold import TSNE\n",
                "import plotly_express as px\n",
                "\n",
                "from numpy.linalg import norm\n",
                "from scipy.spatial.distance import pdist\n",
                "\n",
                "import seaborn as sns\n",
                "sns.set(style=\"ticks\")\n",
                "\n",
                "# tree models\n",
                "import scipy.cluster.hierarchy as sch\n",
                "import matplotlib.pyplot as plt\n",
                "\n",
                "# topic modeling\n",
                "from sklearn.feature_extraction.text import CountVectorizer\n",
                "from sklearn.decomposition import LatentDirichletAllocation as LDA\n",
                "\n",
                "from sklearn.cluster import AgglomerativeClustering\n",
                "from sklearn.preprocessing import normalize\n",
                "\n",
                "import scipy.fftpack as fftpack\n",
                "from sklearn.neighbors import KernelDensity as KDE\n",
                "\n",
                "%matplotlib inline"
            ],
            "outputs": [],
            "metadata": {}
        },
        {
            "cell_type": "code",
            "execution_count": 2,
            "source": [
                "OHCO = ['book_id', 'para_num', 'sent_num', 'token_num']\n",
                "SENTS = OHCO[:4]\n",
                "PARAS = OHCO[:3]\n",
                "CHAPS = OHCO[:2]\n",
                "BOOKS = OHCO[:1]"
            ],
            "outputs": [],
            "metadata": {}
        },
        {
            "cell_type": "code",
            "execution_count": 3,
            "source": [
                "# Load data\n",
                "data_dir = './'\n",
                "\n",
                "LIBRARY = pd.read_csv(data_dir + \"LIBRARY.csv\").set_index(BOOKS)\n",
                "TOKEN = pd.read_csv(data_dir + 'TOKEN.csv').set_index(OHCO)\n",
                "VOCAB = pd.read_csv(data_dir + 'VOCAB.csv').set_index('term_id')"
            ],
            "outputs": [],
            "metadata": {}
        },
        {
            "cell_type": "code",
            "execution_count": 4,
            "source": [
                "# enhance vocab table\n",
                "\n",
                "# stop words\n",
                "sw = pd.DataFrame(nltk.corpus.stopwords.words('english'), columns=['term_str'])\n",
                "sw = sw.reset_index().set_index('term_str')\n",
                "sw.columns = ['dummy']\n",
                "sw.dummy = 1\n",
                "\n",
                "VOCAB['stop'] = VOCAB.term_str.map(sw.dummy)\n",
                "VOCAB['stop'] = VOCAB['stop'].fillna(0).astype('int')"
            ],
            "outputs": [],
            "metadata": {}
        },
        {
            "cell_type": "code",
            "execution_count": 5,
            "source": [
                "from nltk.stem.porter import PorterStemmer\n",
                "\n",
                "stemmer = PorterStemmer()\n",
                "VOCAB['p_stem'] = VOCAB.term_str.apply(str).apply(stemmer.stem)"
            ],
            "outputs": [],
            "metadata": {}
        },
        {
            "cell_type": "code",
            "execution_count": 6,
            "source": [
                "VOCAB.head()"
            ],
            "outputs": [
                {
                    "output_type": "execute_result",
                    "data": {
                        "text/plain": [
                            "        term_str     n             p      log_p  stop   p_stem\n",
                            "term_id                                                       \n",
                            "100            A  4277  1.217456e-03  -9.681915     0        a\n",
                            "44791         AB     1  2.846519e-07 -21.744298     0       ab\n",
                            "50322    ABANDON     1  2.846519e-07 -21.744298     0  abandon\n",
                            "34216      ABBEY     2  5.693038e-07 -20.744298     0    abbey\n",
                            "33710      ABBOT     2  5.693038e-07 -20.744298     0    abbot"
                        ],
                        "text/html": [
                            "<div>\n",
                            "<style scoped>\n",
                            "    .dataframe tbody tr th:only-of-type {\n",
                            "        vertical-align: middle;\n",
                            "    }\n",
                            "\n",
                            "    .dataframe tbody tr th {\n",
                            "        vertical-align: top;\n",
                            "    }\n",
                            "\n",
                            "    .dataframe thead th {\n",
                            "        text-align: right;\n",
                            "    }\n",
                            "</style>\n",
                            "<table border=\"1\" class=\"dataframe\">\n",
                            "  <thead>\n",
                            "    <tr style=\"text-align: right;\">\n",
                            "      <th></th>\n",
                            "      <th>term_str</th>\n",
                            "      <th>n</th>\n",
                            "      <th>p</th>\n",
                            "      <th>log_p</th>\n",
                            "      <th>stop</th>\n",
                            "      <th>p_stem</th>\n",
                            "    </tr>\n",
                            "    <tr>\n",
                            "      <th>term_id</th>\n",
                            "      <th></th>\n",
                            "      <th></th>\n",
                            "      <th></th>\n",
                            "      <th></th>\n",
                            "      <th></th>\n",
                            "      <th></th>\n",
                            "    </tr>\n",
                            "  </thead>\n",
                            "  <tbody>\n",
                            "    <tr>\n",
                            "      <th>100</th>\n",
                            "      <td>A</td>\n",
                            "      <td>4277</td>\n",
                            "      <td>1.217456e-03</td>\n",
                            "      <td>-9.681915</td>\n",
                            "      <td>0</td>\n",
                            "      <td>a</td>\n",
                            "    </tr>\n",
                            "    <tr>\n",
                            "      <th>44791</th>\n",
                            "      <td>AB</td>\n",
                            "      <td>1</td>\n",
                            "      <td>2.846519e-07</td>\n",
                            "      <td>-21.744298</td>\n",
                            "      <td>0</td>\n",
                            "      <td>ab</td>\n",
                            "    </tr>\n",
                            "    <tr>\n",
                            "      <th>50322</th>\n",
                            "      <td>ABANDON</td>\n",
                            "      <td>1</td>\n",
                            "      <td>2.846519e-07</td>\n",
                            "      <td>-21.744298</td>\n",
                            "      <td>0</td>\n",
                            "      <td>abandon</td>\n",
                            "    </tr>\n",
                            "    <tr>\n",
                            "      <th>34216</th>\n",
                            "      <td>ABBEY</td>\n",
                            "      <td>2</td>\n",
                            "      <td>5.693038e-07</td>\n",
                            "      <td>-20.744298</td>\n",
                            "      <td>0</td>\n",
                            "      <td>abbey</td>\n",
                            "    </tr>\n",
                            "    <tr>\n",
                            "      <th>33710</th>\n",
                            "      <td>ABBOT</td>\n",
                            "      <td>2</td>\n",
                            "      <td>5.693038e-07</td>\n",
                            "      <td>-20.744298</td>\n",
                            "      <td>0</td>\n",
                            "      <td>abbot</td>\n",
                            "    </tr>\n",
                            "  </tbody>\n",
                            "</table>\n",
                            "</div>"
                        ]
                    },
                    "metadata": {},
                    "execution_count": 6
                }
            ],
            "metadata": {}
        },
        {
            "cell_type": "code",
            "execution_count": 7,
            "source": [
                "# add term_id to TOKEN table\n",
                "TOKEN['term_id'] = TOKEN.token_str.map(VOCAB.reset_index().set_index('term_str').term_id)\n",
                "TOKEN.head()"
            ],
            "outputs": [
                {
                    "output_type": "execute_result",
                    "data": {
                        "text/plain": [
                            "                                               pos_tuple  pos token_str  \\\n",
                            "book_id para_num sent_num token_num                                       \n",
                            "21768   0        0        0          ('Produced', 'VBN')  VBN  Produced   \n",
                            "                          1                 ('by', 'IN')   IN        by   \n",
                            "                          2             ('David', 'NNP')  NNP     David   \n",
                            "                          3            ('Widger', 'NNP')  NNP    Widger   \n",
                            "        1        0        0                  ('A', 'DT')   DT         A   \n",
                            "\n",
                            "                                     term_id  \n",
                            "book_id para_num sent_num token_num           \n",
                            "21768   0        0        0             5501  \n",
                            "                          1               33  \n",
                            "                          2             6715  \n",
                            "                          3            25909  \n",
                            "        1        0        0              100  "
                        ],
                        "text/html": [
                            "<div>\n",
                            "<style scoped>\n",
                            "    .dataframe tbody tr th:only-of-type {\n",
                            "        vertical-align: middle;\n",
                            "    }\n",
                            "\n",
                            "    .dataframe tbody tr th {\n",
                            "        vertical-align: top;\n",
                            "    }\n",
                            "\n",
                            "    .dataframe thead th {\n",
                            "        text-align: right;\n",
                            "    }\n",
                            "</style>\n",
                            "<table border=\"1\" class=\"dataframe\">\n",
                            "  <thead>\n",
                            "    <tr style=\"text-align: right;\">\n",
                            "      <th></th>\n",
                            "      <th></th>\n",
                            "      <th></th>\n",
                            "      <th></th>\n",
                            "      <th>pos_tuple</th>\n",
                            "      <th>pos</th>\n",
                            "      <th>token_str</th>\n",
                            "      <th>term_id</th>\n",
                            "    </tr>\n",
                            "    <tr>\n",
                            "      <th>book_id</th>\n",
                            "      <th>para_num</th>\n",
                            "      <th>sent_num</th>\n",
                            "      <th>token_num</th>\n",
                            "      <th></th>\n",
                            "      <th></th>\n",
                            "      <th></th>\n",
                            "      <th></th>\n",
                            "    </tr>\n",
                            "  </thead>\n",
                            "  <tbody>\n",
                            "    <tr>\n",
                            "      <th rowspan=\"5\" valign=\"top\">21768</th>\n",
                            "      <th rowspan=\"4\" valign=\"top\">0</th>\n",
                            "      <th rowspan=\"4\" valign=\"top\">0</th>\n",
                            "      <th>0</th>\n",
                            "      <td>('Produced', 'VBN')</td>\n",
                            "      <td>VBN</td>\n",
                            "      <td>Produced</td>\n",
                            "      <td>5501</td>\n",
                            "    </tr>\n",
                            "    <tr>\n",
                            "      <th>1</th>\n",
                            "      <td>('by', 'IN')</td>\n",
                            "      <td>IN</td>\n",
                            "      <td>by</td>\n",
                            "      <td>33</td>\n",
                            "    </tr>\n",
                            "    <tr>\n",
                            "      <th>2</th>\n",
                            "      <td>('David', 'NNP')</td>\n",
                            "      <td>NNP</td>\n",
                            "      <td>David</td>\n",
                            "      <td>6715</td>\n",
                            "    </tr>\n",
                            "    <tr>\n",
                            "      <th>3</th>\n",
                            "      <td>('Widger', 'NNP')</td>\n",
                            "      <td>NNP</td>\n",
                            "      <td>Widger</td>\n",
                            "      <td>25909</td>\n",
                            "    </tr>\n",
                            "    <tr>\n",
                            "      <th>1</th>\n",
                            "      <th>0</th>\n",
                            "      <th>0</th>\n",
                            "      <td>('A', 'DT')</td>\n",
                            "      <td>DT</td>\n",
                            "      <td>A</td>\n",
                            "      <td>100</td>\n",
                            "    </tr>\n",
                            "  </tbody>\n",
                            "</table>\n",
                            "</div>"
                        ]
                    },
                    "metadata": {},
                    "execution_count": 7
                }
            ],
            "metadata": {}
        },
        {
            "cell_type": "code",
            "execution_count": 8,
            "source": [
                "# Add max pos to VOCAB\n",
                "VOCAB['pos_max'] = TOKEN.groupby(['term_id', 'pos']).count().iloc[:,0].unstack().idxmax(1)\n",
                "VOCAB.head()"
            ],
            "outputs": [
                {
                    "output_type": "execute_result",
                    "data": {
                        "text/plain": [
                            "        term_str     n             p      log_p  stop   p_stem pos_max\n",
                            "term_id                                                               \n",
                            "100            A  4277  1.217456e-03  -9.681915     0        a      DT\n",
                            "44791         AB     1  2.846519e-07 -21.744298     0       ab     NNP\n",
                            "50322    ABANDON     1  2.846519e-07 -21.744298     0  abandon     NNP\n",
                            "34216      ABBEY     2  5.693038e-07 -20.744298     0    abbey     NNP\n",
                            "33710      ABBOT     2  5.693038e-07 -20.744298     0    abbot     NNP"
                        ],
                        "text/html": [
                            "<div>\n",
                            "<style scoped>\n",
                            "    .dataframe tbody tr th:only-of-type {\n",
                            "        vertical-align: middle;\n",
                            "    }\n",
                            "\n",
                            "    .dataframe tbody tr th {\n",
                            "        vertical-align: top;\n",
                            "    }\n",
                            "\n",
                            "    .dataframe thead th {\n",
                            "        text-align: right;\n",
                            "    }\n",
                            "</style>\n",
                            "<table border=\"1\" class=\"dataframe\">\n",
                            "  <thead>\n",
                            "    <tr style=\"text-align: right;\">\n",
                            "      <th></th>\n",
                            "      <th>term_str</th>\n",
                            "      <th>n</th>\n",
                            "      <th>p</th>\n",
                            "      <th>log_p</th>\n",
                            "      <th>stop</th>\n",
                            "      <th>p_stem</th>\n",
                            "      <th>pos_max</th>\n",
                            "    </tr>\n",
                            "    <tr>\n",
                            "      <th>term_id</th>\n",
                            "      <th></th>\n",
                            "      <th></th>\n",
                            "      <th></th>\n",
                            "      <th></th>\n",
                            "      <th></th>\n",
                            "      <th></th>\n",
                            "      <th></th>\n",
                            "    </tr>\n",
                            "  </thead>\n",
                            "  <tbody>\n",
                            "    <tr>\n",
                            "      <th>100</th>\n",
                            "      <td>A</td>\n",
                            "      <td>4277</td>\n",
                            "      <td>1.217456e-03</td>\n",
                            "      <td>-9.681915</td>\n",
                            "      <td>0</td>\n",
                            "      <td>a</td>\n",
                            "      <td>DT</td>\n",
                            "    </tr>\n",
                            "    <tr>\n",
                            "      <th>44791</th>\n",
                            "      <td>AB</td>\n",
                            "      <td>1</td>\n",
                            "      <td>2.846519e-07</td>\n",
                            "      <td>-21.744298</td>\n",
                            "      <td>0</td>\n",
                            "      <td>ab</td>\n",
                            "      <td>NNP</td>\n",
                            "    </tr>\n",
                            "    <tr>\n",
                            "      <th>50322</th>\n",
                            "      <td>ABANDON</td>\n",
                            "      <td>1</td>\n",
                            "      <td>2.846519e-07</td>\n",
                            "      <td>-21.744298</td>\n",
                            "      <td>0</td>\n",
                            "      <td>abandon</td>\n",
                            "      <td>NNP</td>\n",
                            "    </tr>\n",
                            "    <tr>\n",
                            "      <th>34216</th>\n",
                            "      <td>ABBEY</td>\n",
                            "      <td>2</td>\n",
                            "      <td>5.693038e-07</td>\n",
                            "      <td>-20.744298</td>\n",
                            "      <td>0</td>\n",
                            "      <td>abbey</td>\n",
                            "      <td>NNP</td>\n",
                            "    </tr>\n",
                            "    <tr>\n",
                            "      <th>33710</th>\n",
                            "      <td>ABBOT</td>\n",
                            "      <td>2</td>\n",
                            "      <td>5.693038e-07</td>\n",
                            "      <td>-20.744298</td>\n",
                            "      <td>0</td>\n",
                            "      <td>abbot</td>\n",
                            "      <td>NNP</td>\n",
                            "    </tr>\n",
                            "  </tbody>\n",
                            "</table>\n",
                            "</div>"
                        ]
                    },
                    "metadata": {},
                    "execution_count": 8
                }
            ],
            "metadata": {}
        },
        {
            "cell_type": "code",
            "execution_count": 9,
            "source": [
                "# Zipf's Law\n",
                "# Add term rank\n",
                "if 'term_rank' not in VOCAB.columns:\n",
                "    VOCAB = VOCAB.sort_values('n', ascending=False).reset_index()\n",
                "    VOCAB.index.name = 'term_rank'\n",
                "    VOCAB = VOCAB.reset_index()\n",
                "    VOCAB = VOCAB.set_index('term_id')\n",
                "    VOCAB['term_rank'] = VOCAB['term_rank'] + 1\n",
                "VOCAB.head()"
            ],
            "outputs": [
                {
                    "output_type": "execute_result",
                    "data": {
                        "text/plain": [
                            "         term_rank term_str       n         p     log_p  stop p_stem pos_max\n",
                            "term_id                                                                     \n",
                            "0                1      the  201564  0.057376 -4.123420     1    the      DT\n",
                            "1                2       of  104234  0.029670 -5.074832     1     of      IN\n",
                            "2                3      and  102976  0.029312 -5.092349     1    and      CC\n",
                            "3                4       to   80831  0.023009 -5.441677     1     to      TO\n",
                            "4                5        a   80180  0.022823 -5.453343     1      a      DT"
                        ],
                        "text/html": [
                            "<div>\n",
                            "<style scoped>\n",
                            "    .dataframe tbody tr th:only-of-type {\n",
                            "        vertical-align: middle;\n",
                            "    }\n",
                            "\n",
                            "    .dataframe tbody tr th {\n",
                            "        vertical-align: top;\n",
                            "    }\n",
                            "\n",
                            "    .dataframe thead th {\n",
                            "        text-align: right;\n",
                            "    }\n",
                            "</style>\n",
                            "<table border=\"1\" class=\"dataframe\">\n",
                            "  <thead>\n",
                            "    <tr style=\"text-align: right;\">\n",
                            "      <th></th>\n",
                            "      <th>term_rank</th>\n",
                            "      <th>term_str</th>\n",
                            "      <th>n</th>\n",
                            "      <th>p</th>\n",
                            "      <th>log_p</th>\n",
                            "      <th>stop</th>\n",
                            "      <th>p_stem</th>\n",
                            "      <th>pos_max</th>\n",
                            "    </tr>\n",
                            "    <tr>\n",
                            "      <th>term_id</th>\n",
                            "      <th></th>\n",
                            "      <th></th>\n",
                            "      <th></th>\n",
                            "      <th></th>\n",
                            "      <th></th>\n",
                            "      <th></th>\n",
                            "      <th></th>\n",
                            "      <th></th>\n",
                            "    </tr>\n",
                            "  </thead>\n",
                            "  <tbody>\n",
                            "    <tr>\n",
                            "      <th>0</th>\n",
                            "      <td>1</td>\n",
                            "      <td>the</td>\n",
                            "      <td>201564</td>\n",
                            "      <td>0.057376</td>\n",
                            "      <td>-4.123420</td>\n",
                            "      <td>1</td>\n",
                            "      <td>the</td>\n",
                            "      <td>DT</td>\n",
                            "    </tr>\n",
                            "    <tr>\n",
                            "      <th>1</th>\n",
                            "      <td>2</td>\n",
                            "      <td>of</td>\n",
                            "      <td>104234</td>\n",
                            "      <td>0.029670</td>\n",
                            "      <td>-5.074832</td>\n",
                            "      <td>1</td>\n",
                            "      <td>of</td>\n",
                            "      <td>IN</td>\n",
                            "    </tr>\n",
                            "    <tr>\n",
                            "      <th>2</th>\n",
                            "      <td>3</td>\n",
                            "      <td>and</td>\n",
                            "      <td>102976</td>\n",
                            "      <td>0.029312</td>\n",
                            "      <td>-5.092349</td>\n",
                            "      <td>1</td>\n",
                            "      <td>and</td>\n",
                            "      <td>CC</td>\n",
                            "    </tr>\n",
                            "    <tr>\n",
                            "      <th>3</th>\n",
                            "      <td>4</td>\n",
                            "      <td>to</td>\n",
                            "      <td>80831</td>\n",
                            "      <td>0.023009</td>\n",
                            "      <td>-5.441677</td>\n",
                            "      <td>1</td>\n",
                            "      <td>to</td>\n",
                            "      <td>TO</td>\n",
                            "    </tr>\n",
                            "    <tr>\n",
                            "      <th>4</th>\n",
                            "      <td>5</td>\n",
                            "      <td>a</td>\n",
                            "      <td>80180</td>\n",
                            "      <td>0.022823</td>\n",
                            "      <td>-5.453343</td>\n",
                            "      <td>1</td>\n",
                            "      <td>a</td>\n",
                            "      <td>DT</td>\n",
                            "    </tr>\n",
                            "  </tbody>\n",
                            "</table>\n",
                            "</div>"
                        ]
                    },
                    "metadata": {},
                    "execution_count": 9
                }
            ],
            "metadata": {}
        },
        {
            "cell_type": "code",
            "execution_count": 10,
            "source": [
                "VOCAB['p'] = VOCAB.n / TOKEN.shape[0]\n",
                "VOCAB.head()"
            ],
            "outputs": [
                {
                    "output_type": "execute_result",
                    "data": {
                        "text/plain": [
                            "         term_rank term_str       n         p     log_p  stop p_stem pos_max\n",
                            "term_id                                                                     \n",
                            "0                1      the  201564  0.057376 -4.123420     1    the      DT\n",
                            "1                2       of  104234  0.029670 -5.074832     1     of      IN\n",
                            "2                3      and  102976  0.029312 -5.092349     1    and      CC\n",
                            "3                4       to   80831  0.023009 -5.441677     1     to      TO\n",
                            "4                5        a   80180  0.022823 -5.453343     1      a      DT"
                        ],
                        "text/html": [
                            "<div>\n",
                            "<style scoped>\n",
                            "    .dataframe tbody tr th:only-of-type {\n",
                            "        vertical-align: middle;\n",
                            "    }\n",
                            "\n",
                            "    .dataframe tbody tr th {\n",
                            "        vertical-align: top;\n",
                            "    }\n",
                            "\n",
                            "    .dataframe thead th {\n",
                            "        text-align: right;\n",
                            "    }\n",
                            "</style>\n",
                            "<table border=\"1\" class=\"dataframe\">\n",
                            "  <thead>\n",
                            "    <tr style=\"text-align: right;\">\n",
                            "      <th></th>\n",
                            "      <th>term_rank</th>\n",
                            "      <th>term_str</th>\n",
                            "      <th>n</th>\n",
                            "      <th>p</th>\n",
                            "      <th>log_p</th>\n",
                            "      <th>stop</th>\n",
                            "      <th>p_stem</th>\n",
                            "      <th>pos_max</th>\n",
                            "    </tr>\n",
                            "    <tr>\n",
                            "      <th>term_id</th>\n",
                            "      <th></th>\n",
                            "      <th></th>\n",
                            "      <th></th>\n",
                            "      <th></th>\n",
                            "      <th></th>\n",
                            "      <th></th>\n",
                            "      <th></th>\n",
                            "      <th></th>\n",
                            "    </tr>\n",
                            "  </thead>\n",
                            "  <tbody>\n",
                            "    <tr>\n",
                            "      <th>0</th>\n",
                            "      <td>1</td>\n",
                            "      <td>the</td>\n",
                            "      <td>201564</td>\n",
                            "      <td>0.057376</td>\n",
                            "      <td>-4.123420</td>\n",
                            "      <td>1</td>\n",
                            "      <td>the</td>\n",
                            "      <td>DT</td>\n",
                            "    </tr>\n",
                            "    <tr>\n",
                            "      <th>1</th>\n",
                            "      <td>2</td>\n",
                            "      <td>of</td>\n",
                            "      <td>104234</td>\n",
                            "      <td>0.029670</td>\n",
                            "      <td>-5.074832</td>\n",
                            "      <td>1</td>\n",
                            "      <td>of</td>\n",
                            "      <td>IN</td>\n",
                            "    </tr>\n",
                            "    <tr>\n",
                            "      <th>2</th>\n",
                            "      <td>3</td>\n",
                            "      <td>and</td>\n",
                            "      <td>102976</td>\n",
                            "      <td>0.029312</td>\n",
                            "      <td>-5.092349</td>\n",
                            "      <td>1</td>\n",
                            "      <td>and</td>\n",
                            "      <td>CC</td>\n",
                            "    </tr>\n",
                            "    <tr>\n",
                            "      <th>3</th>\n",
                            "      <td>4</td>\n",
                            "      <td>to</td>\n",
                            "      <td>80831</td>\n",
                            "      <td>0.023009</td>\n",
                            "      <td>-5.441677</td>\n",
                            "      <td>1</td>\n",
                            "      <td>to</td>\n",
                            "      <td>TO</td>\n",
                            "    </tr>\n",
                            "    <tr>\n",
                            "      <th>4</th>\n",
                            "      <td>5</td>\n",
                            "      <td>a</td>\n",
                            "      <td>80180</td>\n",
                            "      <td>0.022823</td>\n",
                            "      <td>-5.453343</td>\n",
                            "      <td>1</td>\n",
                            "      <td>a</td>\n",
                            "      <td>DT</td>\n",
                            "    </tr>\n",
                            "  </tbody>\n",
                            "</table>\n",
                            "</div>"
                        ]
                    },
                    "metadata": {},
                    "execution_count": 10
                }
            ],
            "metadata": {}
        },
        {
            "cell_type": "code",
            "execution_count": 11,
            "source": [
                "VOCAB['zipf_k'] = VOCAB.n * VOCAB.term_rank\n",
                "VOCAB['zipf_k_p'] = VOCAB.p * VOCAB.term_rank\n",
                "VOCAB.head()"
            ],
            "outputs": [
                {
                    "output_type": "execute_result",
                    "data": {
                        "text/plain": [
                            "         term_rank term_str       n         p     log_p  stop p_stem pos_max  \\\n",
                            "term_id                                                                        \n",
                            "0                1      the  201564  0.057376 -4.123420     1    the      DT   \n",
                            "1                2       of  104234  0.029670 -5.074832     1     of      IN   \n",
                            "2                3      and  102976  0.029312 -5.092349     1    and      CC   \n",
                            "3                4       to   80831  0.023009 -5.441677     1     to      TO   \n",
                            "4                5        a   80180  0.022823 -5.453343     1      a      DT   \n",
                            "\n",
                            "         zipf_k  zipf_k_p  \n",
                            "term_id                    \n",
                            "0        201564  0.057376  \n",
                            "1        208468  0.059341  \n",
                            "2        308928  0.087937  \n",
                            "3        323324  0.092035  \n",
                            "4        400900  0.114117  "
                        ],
                        "text/html": [
                            "<div>\n",
                            "<style scoped>\n",
                            "    .dataframe tbody tr th:only-of-type {\n",
                            "        vertical-align: middle;\n",
                            "    }\n",
                            "\n",
                            "    .dataframe tbody tr th {\n",
                            "        vertical-align: top;\n",
                            "    }\n",
                            "\n",
                            "    .dataframe thead th {\n",
                            "        text-align: right;\n",
                            "    }\n",
                            "</style>\n",
                            "<table border=\"1\" class=\"dataframe\">\n",
                            "  <thead>\n",
                            "    <tr style=\"text-align: right;\">\n",
                            "      <th></th>\n",
                            "      <th>term_rank</th>\n",
                            "      <th>term_str</th>\n",
                            "      <th>n</th>\n",
                            "      <th>p</th>\n",
                            "      <th>log_p</th>\n",
                            "      <th>stop</th>\n",
                            "      <th>p_stem</th>\n",
                            "      <th>pos_max</th>\n",
                            "      <th>zipf_k</th>\n",
                            "      <th>zipf_k_p</th>\n",
                            "    </tr>\n",
                            "    <tr>\n",
                            "      <th>term_id</th>\n",
                            "      <th></th>\n",
                            "      <th></th>\n",
                            "      <th></th>\n",
                            "      <th></th>\n",
                            "      <th></th>\n",
                            "      <th></th>\n",
                            "      <th></th>\n",
                            "      <th></th>\n",
                            "      <th></th>\n",
                            "      <th></th>\n",
                            "    </tr>\n",
                            "  </thead>\n",
                            "  <tbody>\n",
                            "    <tr>\n",
                            "      <th>0</th>\n",
                            "      <td>1</td>\n",
                            "      <td>the</td>\n",
                            "      <td>201564</td>\n",
                            "      <td>0.057376</td>\n",
                            "      <td>-4.123420</td>\n",
                            "      <td>1</td>\n",
                            "      <td>the</td>\n",
                            "      <td>DT</td>\n",
                            "      <td>201564</td>\n",
                            "      <td>0.057376</td>\n",
                            "    </tr>\n",
                            "    <tr>\n",
                            "      <th>1</th>\n",
                            "      <td>2</td>\n",
                            "      <td>of</td>\n",
                            "      <td>104234</td>\n",
                            "      <td>0.029670</td>\n",
                            "      <td>-5.074832</td>\n",
                            "      <td>1</td>\n",
                            "      <td>of</td>\n",
                            "      <td>IN</td>\n",
                            "      <td>208468</td>\n",
                            "      <td>0.059341</td>\n",
                            "    </tr>\n",
                            "    <tr>\n",
                            "      <th>2</th>\n",
                            "      <td>3</td>\n",
                            "      <td>and</td>\n",
                            "      <td>102976</td>\n",
                            "      <td>0.029312</td>\n",
                            "      <td>-5.092349</td>\n",
                            "      <td>1</td>\n",
                            "      <td>and</td>\n",
                            "      <td>CC</td>\n",
                            "      <td>308928</td>\n",
                            "      <td>0.087937</td>\n",
                            "    </tr>\n",
                            "    <tr>\n",
                            "      <th>3</th>\n",
                            "      <td>4</td>\n",
                            "      <td>to</td>\n",
                            "      <td>80831</td>\n",
                            "      <td>0.023009</td>\n",
                            "      <td>-5.441677</td>\n",
                            "      <td>1</td>\n",
                            "      <td>to</td>\n",
                            "      <td>TO</td>\n",
                            "      <td>323324</td>\n",
                            "      <td>0.092035</td>\n",
                            "    </tr>\n",
                            "    <tr>\n",
                            "      <th>4</th>\n",
                            "      <td>5</td>\n",
                            "      <td>a</td>\n",
                            "      <td>80180</td>\n",
                            "      <td>0.022823</td>\n",
                            "      <td>-5.453343</td>\n",
                            "      <td>1</td>\n",
                            "      <td>a</td>\n",
                            "      <td>DT</td>\n",
                            "      <td>400900</td>\n",
                            "      <td>0.114117</td>\n",
                            "    </tr>\n",
                            "  </tbody>\n",
                            "</table>\n",
                            "</div>"
                        ]
                    },
                    "metadata": {},
                    "execution_count": 11
                }
            ],
            "metadata": {}
        },
        {
            "cell_type": "code",
            "execution_count": 12,
            "source": [
                "# get TFIDF\n",
                "def make_TFIDF(df, OHCO, count_method, tf_method, idf_method):\n",
                "    # df: The tokens data frame to use.\n",
                "    # OHCO: The OHCO level to use, e.g. which \"bag\" to use.\n",
                "    # count_type: The type of count to use (e.g. binary counts are regular counts). (n or c, c is T/F in bag or no)\n",
                "    # TF: The type of TF to use.\n",
                "    # IDF: The type of IDF to use.\n",
                "\n",
                "    # set bag\n",
                "    bag = OHCO\n",
                "\n",
                "    # Create the bag of words\n",
                "    BOW = df.groupby(bag+['term_id']).term_id.count()\\\n",
                "        .to_frame().rename(columns={'term_id':'n'})\n",
                "    BOW['c'] = BOW.n.astype('bool').astype('int')\n",
                "    \n",
                "    # BOW to Document Term Matrix\n",
                "    DTCM = BOW[count_method].unstack().fillna(0).astype('int')\n",
                "\n",
                "    # selecting TF method\n",
                "    TF = 0\n",
                "    if tf_method == 'sum':\n",
                "        TF = DTCM.T / DTCM.T.sum()\n",
                "\n",
                "    elif tf_method == 'max':\n",
                "        TF = DTCM.T / DTCM.T.max()\n",
                "\n",
                "    elif tf_method == 'log':\n",
                "        TF = np.log10(1 + DTCM.T)\n",
                "        \n",
                "    elif tf_method == 'raw':\n",
                "        TF = DTCM.T\n",
                "\n",
                "    elif tf_method == 'double_norm':\n",
                "        TF = DTCM.T / DTCM.T.max()\n",
                "        TF = tf_norm_k + (1 - tf_norm_k) * TF[TF > 0] # EXPLAIN; may defeat purpose of norming\n",
                "\n",
                "    elif tf_method == 'binary':\n",
                "        TF = DTCM.T.astype('bool').astype('int')\n",
                "        \n",
                "    TF = TF.T\n",
                "\n",
                "\n",
                "    # selecting IDF method\n",
                "    # print('IDF method:', idf_method)\n",
                "    DF = DTCM[DTCM > 0].count()\n",
                "    N = DTCM.shape[0]\n",
                "\n",
                "    if idf_method == 'standard':\n",
                "        IDF = np.log10(N / DF)\n",
                "\n",
                "    elif idf_method == 'max':\n",
                "        IDF = np.log10(DF.max() / DF) \n",
                "\n",
                "    elif idf_method == 'smooth':\n",
                "        IDF = np.log10((1 + N) / (1 + DF)) + 1 # Correct?\n",
                "\n",
                "    TFIDF = TF * IDF\n",
                "\n",
                "    return TFIDF"
            ],
            "outputs": [],
            "metadata": {}
        },
        {
            "cell_type": "code",
            "execution_count": 13,
            "source": [
                "TFIDF = make_TFIDF(TOKEN,BOOKS,'n','sum','standard')\n",
                "TFIDF.head()"
            ],
            "outputs": [
                {
                    "output_type": "execute_result",
                    "data": {
                        "text/plain": [
                            "term_id  0      1      2      3      4      5      6      7      8      9      \\\n",
                            "book_id                                                                         \n",
                            "108        0.0    0.0    0.0    0.0    0.0    0.0    0.0    0.0    0.0    0.0   \n",
                            "126        0.0    0.0    0.0    0.0    0.0    0.0    0.0    0.0    0.0    0.0   \n",
                            "139        0.0    0.0    0.0    0.0    0.0    0.0    0.0    0.0    0.0    0.0   \n",
                            "244        0.0    0.0    0.0    0.0    0.0    0.0    0.0    0.0    0.0    0.0   \n",
                            "290        0.0    0.0    0.0    0.0    0.0    0.0    0.0    0.0    0.0    0.0   \n",
                            "\n",
                            "term_id  ...  56810  56811  56812  56813  56814  56815  56816  56817  56818  \\\n",
                            "book_id  ...                                                                  \n",
                            "108      ...    0.0    0.0    0.0    0.0    0.0    0.0    0.0    0.0    0.0   \n",
                            "126      ...    0.0    0.0    0.0    0.0    0.0    0.0    0.0    0.0    0.0   \n",
                            "139      ...    0.0    0.0    0.0    0.0    0.0    0.0    0.0    0.0    0.0   \n",
                            "244      ...    0.0    0.0    0.0    0.0    0.0    0.0    0.0    0.0    0.0   \n",
                            "290      ...    0.0    0.0    0.0    0.0    0.0    0.0    0.0    0.0    0.0   \n",
                            "\n",
                            "term_id  56819  \n",
                            "book_id         \n",
                            "108        0.0  \n",
                            "126        0.0  \n",
                            "139        0.0  \n",
                            "244        0.0  \n",
                            "290        0.0  \n",
                            "\n",
                            "[5 rows x 56820 columns]"
                        ],
                        "text/html": [
                            "<div>\n",
                            "<style scoped>\n",
                            "    .dataframe tbody tr th:only-of-type {\n",
                            "        vertical-align: middle;\n",
                            "    }\n",
                            "\n",
                            "    .dataframe tbody tr th {\n",
                            "        vertical-align: top;\n",
                            "    }\n",
                            "\n",
                            "    .dataframe thead th {\n",
                            "        text-align: right;\n",
                            "    }\n",
                            "</style>\n",
                            "<table border=\"1\" class=\"dataframe\">\n",
                            "  <thead>\n",
                            "    <tr style=\"text-align: right;\">\n",
                            "      <th>term_id</th>\n",
                            "      <th>0</th>\n",
                            "      <th>1</th>\n",
                            "      <th>2</th>\n",
                            "      <th>3</th>\n",
                            "      <th>4</th>\n",
                            "      <th>5</th>\n",
                            "      <th>6</th>\n",
                            "      <th>7</th>\n",
                            "      <th>8</th>\n",
                            "      <th>9</th>\n",
                            "      <th>...</th>\n",
                            "      <th>56810</th>\n",
                            "      <th>56811</th>\n",
                            "      <th>56812</th>\n",
                            "      <th>56813</th>\n",
                            "      <th>56814</th>\n",
                            "      <th>56815</th>\n",
                            "      <th>56816</th>\n",
                            "      <th>56817</th>\n",
                            "      <th>56818</th>\n",
                            "      <th>56819</th>\n",
                            "    </tr>\n",
                            "    <tr>\n",
                            "      <th>book_id</th>\n",
                            "      <th></th>\n",
                            "      <th></th>\n",
                            "      <th></th>\n",
                            "      <th></th>\n",
                            "      <th></th>\n",
                            "      <th></th>\n",
                            "      <th></th>\n",
                            "      <th></th>\n",
                            "      <th></th>\n",
                            "      <th></th>\n",
                            "      <th></th>\n",
                            "      <th></th>\n",
                            "      <th></th>\n",
                            "      <th></th>\n",
                            "      <th></th>\n",
                            "      <th></th>\n",
                            "      <th></th>\n",
                            "      <th></th>\n",
                            "      <th></th>\n",
                            "      <th></th>\n",
                            "      <th></th>\n",
                            "    </tr>\n",
                            "  </thead>\n",
                            "  <tbody>\n",
                            "    <tr>\n",
                            "      <th>108</th>\n",
                            "      <td>0.0</td>\n",
                            "      <td>0.0</td>\n",
                            "      <td>0.0</td>\n",
                            "      <td>0.0</td>\n",
                            "      <td>0.0</td>\n",
                            "      <td>0.0</td>\n",
                            "      <td>0.0</td>\n",
                            "      <td>0.0</td>\n",
                            "      <td>0.0</td>\n",
                            "      <td>0.0</td>\n",
                            "      <td>...</td>\n",
                            "      <td>0.0</td>\n",
                            "      <td>0.0</td>\n",
                            "      <td>0.0</td>\n",
                            "      <td>0.0</td>\n",
                            "      <td>0.0</td>\n",
                            "      <td>0.0</td>\n",
                            "      <td>0.0</td>\n",
                            "      <td>0.0</td>\n",
                            "      <td>0.0</td>\n",
                            "      <td>0.0</td>\n",
                            "    </tr>\n",
                            "    <tr>\n",
                            "      <th>126</th>\n",
                            "      <td>0.0</td>\n",
                            "      <td>0.0</td>\n",
                            "      <td>0.0</td>\n",
                            "      <td>0.0</td>\n",
                            "      <td>0.0</td>\n",
                            "      <td>0.0</td>\n",
                            "      <td>0.0</td>\n",
                            "      <td>0.0</td>\n",
                            "      <td>0.0</td>\n",
                            "      <td>0.0</td>\n",
                            "      <td>...</td>\n",
                            "      <td>0.0</td>\n",
                            "      <td>0.0</td>\n",
                            "      <td>0.0</td>\n",
                            "      <td>0.0</td>\n",
                            "      <td>0.0</td>\n",
                            "      <td>0.0</td>\n",
                            "      <td>0.0</td>\n",
                            "      <td>0.0</td>\n",
                            "      <td>0.0</td>\n",
                            "      <td>0.0</td>\n",
                            "    </tr>\n",
                            "    <tr>\n",
                            "      <th>139</th>\n",
                            "      <td>0.0</td>\n",
                            "      <td>0.0</td>\n",
                            "      <td>0.0</td>\n",
                            "      <td>0.0</td>\n",
                            "      <td>0.0</td>\n",
                            "      <td>0.0</td>\n",
                            "      <td>0.0</td>\n",
                            "      <td>0.0</td>\n",
                            "      <td>0.0</td>\n",
                            "      <td>0.0</td>\n",
                            "      <td>...</td>\n",
                            "      <td>0.0</td>\n",
                            "      <td>0.0</td>\n",
                            "      <td>0.0</td>\n",
                            "      <td>0.0</td>\n",
                            "      <td>0.0</td>\n",
                            "      <td>0.0</td>\n",
                            "      <td>0.0</td>\n",
                            "      <td>0.0</td>\n",
                            "      <td>0.0</td>\n",
                            "      <td>0.0</td>\n",
                            "    </tr>\n",
                            "    <tr>\n",
                            "      <th>244</th>\n",
                            "      <td>0.0</td>\n",
                            "      <td>0.0</td>\n",
                            "      <td>0.0</td>\n",
                            "      <td>0.0</td>\n",
                            "      <td>0.0</td>\n",
                            "      <td>0.0</td>\n",
                            "      <td>0.0</td>\n",
                            "      <td>0.0</td>\n",
                            "      <td>0.0</td>\n",
                            "      <td>0.0</td>\n",
                            "      <td>...</td>\n",
                            "      <td>0.0</td>\n",
                            "      <td>0.0</td>\n",
                            "      <td>0.0</td>\n",
                            "      <td>0.0</td>\n",
                            "      <td>0.0</td>\n",
                            "      <td>0.0</td>\n",
                            "      <td>0.0</td>\n",
                            "      <td>0.0</td>\n",
                            "      <td>0.0</td>\n",
                            "      <td>0.0</td>\n",
                            "    </tr>\n",
                            "    <tr>\n",
                            "      <th>290</th>\n",
                            "      <td>0.0</td>\n",
                            "      <td>0.0</td>\n",
                            "      <td>0.0</td>\n",
                            "      <td>0.0</td>\n",
                            "      <td>0.0</td>\n",
                            "      <td>0.0</td>\n",
                            "      <td>0.0</td>\n",
                            "      <td>0.0</td>\n",
                            "      <td>0.0</td>\n",
                            "      <td>0.0</td>\n",
                            "      <td>...</td>\n",
                            "      <td>0.0</td>\n",
                            "      <td>0.0</td>\n",
                            "      <td>0.0</td>\n",
                            "      <td>0.0</td>\n",
                            "      <td>0.0</td>\n",
                            "      <td>0.0</td>\n",
                            "      <td>0.0</td>\n",
                            "      <td>0.0</td>\n",
                            "      <td>0.0</td>\n",
                            "      <td>0.0</td>\n",
                            "    </tr>\n",
                            "  </tbody>\n",
                            "</table>\n",
                            "<p>5 rows × 56820 columns</p>\n",
                            "</div>"
                        ]
                    },
                    "metadata": {},
                    "execution_count": 13
                }
            ],
            "metadata": {}
        },
        {
            "cell_type": "code",
            "execution_count": null,
            "source": [],
            "outputs": [],
            "metadata": {}
        },
        {
            "cell_type": "markdown",
            "source": [
                "# PCA"
            ],
            "metadata": {}
        },
        {
            "cell_type": "code",
            "execution_count": 14,
            "source": [
                "from sklearn.decomposition import PCA\n",
                "from scipy.linalg import norm\n",
                "import plotly_express as px\n",
                "import seaborn as sns"
            ],
            "outputs": [],
            "metadata": {}
        },
        {
            "cell_type": "code",
            "execution_count": 15,
            "source": [
                "pca_engine = PCA(n_components=10)"
            ],
            "outputs": [],
            "metadata": {}
        },
        {
            "cell_type": "code",
            "execution_count": 16,
            "source": [
                "DCM = pd.DataFrame(pca_engine.fit_transform(TFIDF), index=TFIDF.index)\n",
                "DCM.columns = ['PC{}'.format(i) for i in DCM.columns]\n",
                "DCM['title'] = LIBRARY.title"
            ],
            "outputs": [],
            "metadata": {}
        },
        {
            "cell_type": "code",
            "execution_count": 19,
            "source": [
                "DCM.style.background_gradient()"
            ],
            "outputs": [
                {
                    "output_type": "execute_result",
                    "data": {
                        "text/plain": [
                            "<pandas.io.formats.style.Styler at 0x7ff4da7f2f10>"
                        ],
                        "text/html": [
                            "<style  type=\"text/css\" >\n",
                            "#T_2ba5cdec_f974_11eb_9dff_acde48001122row0_col0,#T_2ba5cdec_f974_11eb_9dff_acde48001122row21_col6{\n",
                            "            background-color:  #eee8f3;\n",
                            "            color:  #000000;\n",
                            "        }#T_2ba5cdec_f974_11eb_9dff_acde48001122row0_col1{\n",
                            "            background-color:  #cdd0e5;\n",
                            "            color:  #000000;\n",
                            "        }#T_2ba5cdec_f974_11eb_9dff_acde48001122row0_col2,#T_2ba5cdec_f974_11eb_9dff_acde48001122row3_col8,#T_2ba5cdec_f974_11eb_9dff_acde48001122row6_col6,#T_2ba5cdec_f974_11eb_9dff_acde48001122row18_col5,#T_2ba5cdec_f974_11eb_9dff_acde48001122row19_col2,#T_2ba5cdec_f974_11eb_9dff_acde48001122row46_col8{\n",
                            "            background-color:  #d0d1e6;\n",
                            "            color:  #000000;\n",
                            "        }#T_2ba5cdec_f974_11eb_9dff_acde48001122row0_col3,#T_2ba5cdec_f974_11eb_9dff_acde48001122row3_col3,#T_2ba5cdec_f974_11eb_9dff_acde48001122row13_col3,#T_2ba5cdec_f974_11eb_9dff_acde48001122row14_col3,#T_2ba5cdec_f974_11eb_9dff_acde48001122row20_col3,#T_2ba5cdec_f974_11eb_9dff_acde48001122row25_col3,#T_2ba5cdec_f974_11eb_9dff_acde48001122row27_col3,#T_2ba5cdec_f974_11eb_9dff_acde48001122row33_col3,#T_2ba5cdec_f974_11eb_9dff_acde48001122row34_col3,#T_2ba5cdec_f974_11eb_9dff_acde48001122row36_col3,#T_2ba5cdec_f974_11eb_9dff_acde48001122row36_col7,#T_2ba5cdec_f974_11eb_9dff_acde48001122row41_col3,#T_2ba5cdec_f974_11eb_9dff_acde48001122row48_col7,#T_2ba5cdec_f974_11eb_9dff_acde48001122row49_col3{\n",
                            "            background-color:  #a2bcda;\n",
                            "            color:  #000000;\n",
                            "        }#T_2ba5cdec_f974_11eb_9dff_acde48001122row0_col4,#T_2ba5cdec_f974_11eb_9dff_acde48001122row21_col4,#T_2ba5cdec_f974_11eb_9dff_acde48001122row27_col4{\n",
                            "            background-color:  #8cb3d5;\n",
                            "            color:  #000000;\n",
                            "        }#T_2ba5cdec_f974_11eb_9dff_acde48001122row0_col5,#T_2ba5cdec_f974_11eb_9dff_acde48001122row16_col7,#T_2ba5cdec_f974_11eb_9dff_acde48001122row17_col5,#T_2ba5cdec_f974_11eb_9dff_acde48001122row46_col7,#T_2ba5cdec_f974_11eb_9dff_acde48001122row58_col9{\n",
                            "            background-color:  #c2cbe2;\n",
                            "            color:  #000000;\n",
                            "        }#T_2ba5cdec_f974_11eb_9dff_acde48001122row0_col6,#T_2ba5cdec_f974_11eb_9dff_acde48001122row20_col0,#T_2ba5cdec_f974_11eb_9dff_acde48001122row23_col2,#T_2ba5cdec_f974_11eb_9dff_acde48001122row26_col2,#T_2ba5cdec_f974_11eb_9dff_acde48001122row43_col2,#T_2ba5cdec_f974_11eb_9dff_acde48001122row49_col2{\n",
                            "            background-color:  #e1dfed;\n",
                            "            color:  #000000;\n",
                            "        }#T_2ba5cdec_f974_11eb_9dff_acde48001122row0_col7,#T_2ba5cdec_f974_11eb_9dff_acde48001122row10_col7,#T_2ba5cdec_f974_11eb_9dff_acde48001122row35_col7,#T_2ba5cdec_f974_11eb_9dff_acde48001122row39_col7,#T_2ba5cdec_f974_11eb_9dff_acde48001122row52_col7,#T_2ba5cdec_f974_11eb_9dff_acde48001122row60_col4{\n",
                            "            background-color:  #afc1dd;\n",
                            "            color:  #000000;\n",
                            "        }#T_2ba5cdec_f974_11eb_9dff_acde48001122row0_col8,#T_2ba5cdec_f974_11eb_9dff_acde48001122row2_col7,#T_2ba5cdec_f974_11eb_9dff_acde48001122row11_col7,#T_2ba5cdec_f974_11eb_9dff_acde48001122row21_col2,#T_2ba5cdec_f974_11eb_9dff_acde48001122row21_col5,#T_2ba5cdec_f974_11eb_9dff_acde48001122row24_col7,#T_2ba5cdec_f974_11eb_9dff_acde48001122row37_col5{\n",
                            "            background-color:  #c5cce3;\n",
                            "            color:  #000000;\n",
                            "        }#T_2ba5cdec_f974_11eb_9dff_acde48001122row0_col9,#T_2ba5cdec_f974_11eb_9dff_acde48001122row2_col9,#T_2ba5cdec_f974_11eb_9dff_acde48001122row13_col9,#T_2ba5cdec_f974_11eb_9dff_acde48001122row20_col9,#T_2ba5cdec_f974_11eb_9dff_acde48001122row29_col7,#T_2ba5cdec_f974_11eb_9dff_acde48001122row34_col9,#T_2ba5cdec_f974_11eb_9dff_acde48001122row38_col9,#T_2ba5cdec_f974_11eb_9dff_acde48001122row53_col5{\n",
                            "            background-color:  #b4c4df;\n",
                            "            color:  #000000;\n",
                            "        }#T_2ba5cdec_f974_11eb_9dff_acde48001122row1_col0,#T_2ba5cdec_f974_11eb_9dff_acde48001122row42_col0{\n",
                            "            background-color:  #fbf3f9;\n",
                            "            color:  #000000;\n",
                            "        }#T_2ba5cdec_f974_11eb_9dff_acde48001122row1_col1{\n",
                            "            background-color:  #3790c0;\n",
                            "            color:  #000000;\n",
                            "        }#T_2ba5cdec_f974_11eb_9dff_acde48001122row1_col2,#T_2ba5cdec_f974_11eb_9dff_acde48001122row18_col6,#T_2ba5cdec_f974_11eb_9dff_acde48001122row28_col3,#T_2ba5cdec_f974_11eb_9dff_acde48001122row28_col4,#T_2ba5cdec_f974_11eb_9dff_acde48001122row28_col7,#T_2ba5cdec_f974_11eb_9dff_acde48001122row42_col5,#T_2ba5cdec_f974_11eb_9dff_acde48001122row45_col5,#T_2ba5cdec_f974_11eb_9dff_acde48001122row53_col9,#T_2ba5cdec_f974_11eb_9dff_acde48001122row55_col0,#T_2ba5cdec_f974_11eb_9dff_acde48001122row59_col8,#T_2ba5cdec_f974_11eb_9dff_acde48001122row60_col1{\n",
                            "            background-color:  #fff7fb;\n",
                            "            color:  #000000;\n",
                            "        }#T_2ba5cdec_f974_11eb_9dff_acde48001122row1_col3,#T_2ba5cdec_f974_11eb_9dff_acde48001122row23_col0,#T_2ba5cdec_f974_11eb_9dff_acde48001122row24_col9,#T_2ba5cdec_f974_11eb_9dff_acde48001122row33_col5,#T_2ba5cdec_f974_11eb_9dff_acde48001122row45_col4,#T_2ba5cdec_f974_11eb_9dff_acde48001122row54_col7,#T_2ba5cdec_f974_11eb_9dff_acde48001122row54_col8,#T_2ba5cdec_f974_11eb_9dff_acde48001122row55_col1,#T_2ba5cdec_f974_11eb_9dff_acde48001122row55_col2,#T_2ba5cdec_f974_11eb_9dff_acde48001122row60_col6{\n",
                            "            background-color:  #023858;\n",
                            "            color:  #f1f1f1;\n",
                            "        }#T_2ba5cdec_f974_11eb_9dff_acde48001122row1_col4,#T_2ba5cdec_f974_11eb_9dff_acde48001122row14_col0,#T_2ba5cdec_f974_11eb_9dff_acde48001122row17_col0,#T_2ba5cdec_f974_11eb_9dff_acde48001122row25_col0,#T_2ba5cdec_f974_11eb_9dff_acde48001122row43_col8,#T_2ba5cdec_f974_11eb_9dff_acde48001122row45_col2{\n",
                            "            background-color:  #f1ebf4;\n",
                            "            color:  #000000;\n",
                            "        }#T_2ba5cdec_f974_11eb_9dff_acde48001122row1_col5,#T_2ba5cdec_f974_11eb_9dff_acde48001122row19_col1,#T_2ba5cdec_f974_11eb_9dff_acde48001122row21_col0,#T_2ba5cdec_f974_11eb_9dff_acde48001122row33_col2{\n",
                            "            background-color:  #e7e3f0;\n",
                            "            color:  #000000;\n",
                            "        }#T_2ba5cdec_f974_11eb_9dff_acde48001122row1_col6,#T_2ba5cdec_f974_11eb_9dff_acde48001122row59_col2{\n",
                            "            background-color:  #e0deed;\n",
                            "            color:  #000000;\n",
                            "        }#T_2ba5cdec_f974_11eb_9dff_acde48001122row1_col7,#T_2ba5cdec_f974_11eb_9dff_acde48001122row5_col6,#T_2ba5cdec_f974_11eb_9dff_acde48001122row34_col6,#T_2ba5cdec_f974_11eb_9dff_acde48001122row35_col8,#T_2ba5cdec_f974_11eb_9dff_acde48001122row39_col8,#T_2ba5cdec_f974_11eb_9dff_acde48001122row41_col8,#T_2ba5cdec_f974_11eb_9dff_acde48001122row47_col6,#T_2ba5cdec_f974_11eb_9dff_acde48001122row50_col6,#T_2ba5cdec_f974_11eb_9dff_acde48001122row51_col6,#T_2ba5cdec_f974_11eb_9dff_acde48001122row55_col5,#T_2ba5cdec_f974_11eb_9dff_acde48001122row57_col6{\n",
                            "            background-color:  #d5d5e8;\n",
                            "            color:  #000000;\n",
                            "        }#T_2ba5cdec_f974_11eb_9dff_acde48001122row1_col8,#T_2ba5cdec_f974_11eb_9dff_acde48001122row53_col4{\n",
                            "            background-color:  #78abd0;\n",
                            "            color:  #000000;\n",
                            "        }#T_2ba5cdec_f974_11eb_9dff_acde48001122row1_col9,#T_2ba5cdec_f974_11eb_9dff_acde48001122row6_col7,#T_2ba5cdec_f974_11eb_9dff_acde48001122row39_col9{\n",
                            "            background-color:  #b1c2de;\n",
                            "            color:  #000000;\n",
                            "        }#T_2ba5cdec_f974_11eb_9dff_acde48001122row2_col0,#T_2ba5cdec_f974_11eb_9dff_acde48001122row11_col0,#T_2ba5cdec_f974_11eb_9dff_acde48001122row46_col2,#T_2ba5cdec_f974_11eb_9dff_acde48001122row49_col8{\n",
                            "            background-color:  #f9f2f8;\n",
                            "            color:  #000000;\n",
                            "        }#T_2ba5cdec_f974_11eb_9dff_acde48001122row2_col1{\n",
                            "            background-color:  #5a9ec9;\n",
                            "            color:  #000000;\n",
                            "        }#T_2ba5cdec_f974_11eb_9dff_acde48001122row2_col2,#T_2ba5cdec_f974_11eb_9dff_acde48001122row11_col8,#T_2ba5cdec_f974_11eb_9dff_acde48001122row15_col0,#T_2ba5cdec_f974_11eb_9dff_acde48001122row27_col0,#T_2ba5cdec_f974_11eb_9dff_acde48001122row49_col9{\n",
                            "            background-color:  #f2ecf5;\n",
                            "            color:  #000000;\n",
                            "        }#T_2ba5cdec_f974_11eb_9dff_acde48001122row2_col3{\n",
                            "            background-color:  #056fae;\n",
                            "            color:  #f1f1f1;\n",
                            "        }#T_2ba5cdec_f974_11eb_9dff_acde48001122row2_col4,#T_2ba5cdec_f974_11eb_9dff_acde48001122row15_col8,#T_2ba5cdec_f974_11eb_9dff_acde48001122row17_col2,#T_2ba5cdec_f974_11eb_9dff_acde48001122row28_col9{\n",
                            "            background-color:  #ced0e6;\n",
                            "            color:  #000000;\n",
                            "        }#T_2ba5cdec_f974_11eb_9dff_acde48001122row2_col5,#T_2ba5cdec_f974_11eb_9dff_acde48001122row9_col8,#T_2ba5cdec_f974_11eb_9dff_acde48001122row17_col8{\n",
                            "            background-color:  #d8d7e9;\n",
                            "            color:  #000000;\n",
                            "        }#T_2ba5cdec_f974_11eb_9dff_acde48001122row2_col6,#T_2ba5cdec_f974_11eb_9dff_acde48001122row12_col2,#T_2ba5cdec_f974_11eb_9dff_acde48001122row13_col2,#T_2ba5cdec_f974_11eb_9dff_acde48001122row15_col6,#T_2ba5cdec_f974_11eb_9dff_acde48001122row32_col2,#T_2ba5cdec_f974_11eb_9dff_acde48001122row39_col2,#T_2ba5cdec_f974_11eb_9dff_acde48001122row47_col2,#T_2ba5cdec_f974_11eb_9dff_acde48001122row55_col6,#T_2ba5cdec_f974_11eb_9dff_acde48001122row57_col2{\n",
                            "            background-color:  #dbdaeb;\n",
                            "            color:  #000000;\n",
                            "        }#T_2ba5cdec_f974_11eb_9dff_acde48001122row2_col8,#T_2ba5cdec_f974_11eb_9dff_acde48001122row19_col3,#T_2ba5cdec_f974_11eb_9dff_acde48001122row23_col3,#T_2ba5cdec_f974_11eb_9dff_acde48001122row26_col3,#T_2ba5cdec_f974_11eb_9dff_acde48001122row35_col3{\n",
                            "            background-color:  #a4bcda;\n",
                            "            color:  #000000;\n",
                            "        }#T_2ba5cdec_f974_11eb_9dff_acde48001122row3_col0,#T_2ba5cdec_f974_11eb_9dff_acde48001122row46_col6{\n",
                            "            background-color:  #f3edf5;\n",
                            "            color:  #000000;\n",
                            "        }#T_2ba5cdec_f974_11eb_9dff_acde48001122row3_col1,#T_2ba5cdec_f974_11eb_9dff_acde48001122row12_col7,#T_2ba5cdec_f974_11eb_9dff_acde48001122row19_col9,#T_2ba5cdec_f974_11eb_9dff_acde48001122row24_col5,#T_2ba5cdec_f974_11eb_9dff_acde48001122row28_col8,#T_2ba5cdec_f974_11eb_9dff_acde48001122row32_col7,#T_2ba5cdec_f974_11eb_9dff_acde48001122row35_col9,#T_2ba5cdec_f974_11eb_9dff_acde48001122row56_col7,#T_2ba5cdec_f974_11eb_9dff_acde48001122row57_col7{\n",
                            "            background-color:  #abbfdc;\n",
                            "            color:  #000000;\n",
                            "        }#T_2ba5cdec_f974_11eb_9dff_acde48001122row3_col2,#T_2ba5cdec_f974_11eb_9dff_acde48001122row6_col8,#T_2ba5cdec_f974_11eb_9dff_acde48001122row7_col6,#T_2ba5cdec_f974_11eb_9dff_acde48001122row12_col8,#T_2ba5cdec_f974_11eb_9dff_acde48001122row29_col6,#T_2ba5cdec_f974_11eb_9dff_acde48001122row30_col8,#T_2ba5cdec_f974_11eb_9dff_acde48001122row37_col6,#T_2ba5cdec_f974_11eb_9dff_acde48001122row38_col8,#T_2ba5cdec_f974_11eb_9dff_acde48001122row40_col8,#T_2ba5cdec_f974_11eb_9dff_acde48001122row44_col8,#T_2ba5cdec_f974_11eb_9dff_acde48001122row56_col8{\n",
                            "            background-color:  #d7d6e9;\n",
                            "            color:  #000000;\n",
                            "        }#T_2ba5cdec_f974_11eb_9dff_acde48001122row3_col4,#T_2ba5cdec_f974_11eb_9dff_acde48001122row4_col1,#T_2ba5cdec_f974_11eb_9dff_acde48001122row7_col1,#T_2ba5cdec_f974_11eb_9dff_acde48001122row15_col4,#T_2ba5cdec_f974_11eb_9dff_acde48001122row50_col1,#T_2ba5cdec_f974_11eb_9dff_acde48001122row52_col1{\n",
                            "            background-color:  #86b0d3;\n",
                            "            color:  #000000;\n",
                            "        }#T_2ba5cdec_f974_11eb_9dff_acde48001122row3_col5,#T_2ba5cdec_f974_11eb_9dff_acde48001122row15_col5,#T_2ba5cdec_f974_11eb_9dff_acde48001122row19_col5{\n",
                            "            background-color:  #bfc9e1;\n",
                            "            color:  #000000;\n",
                            "        }#T_2ba5cdec_f974_11eb_9dff_acde48001122row3_col6,#T_2ba5cdec_f974_11eb_9dff_acde48001122row9_col2,#T_2ba5cdec_f974_11eb_9dff_acde48001122row16_col5,#T_2ba5cdec_f974_11eb_9dff_acde48001122row36_col2,#T_2ba5cdec_f974_11eb_9dff_acde48001122row38_col2,#T_2ba5cdec_f974_11eb_9dff_acde48001122row40_col2,#T_2ba5cdec_f974_11eb_9dff_acde48001122row56_col2,#T_2ba5cdec_f974_11eb_9dff_acde48001122row58_col2{\n",
                            "            background-color:  #dcdaeb;\n",
                            "            color:  #000000;\n",
                            "        }#T_2ba5cdec_f974_11eb_9dff_acde48001122row3_col7,#T_2ba5cdec_f974_11eb_9dff_acde48001122row13_col7,#T_2ba5cdec_f974_11eb_9dff_acde48001122row41_col7,#T_2ba5cdec_f974_11eb_9dff_acde48001122row44_col7,#T_2ba5cdec_f974_11eb_9dff_acde48001122row47_col7,#T_2ba5cdec_f974_11eb_9dff_acde48001122row51_col7{\n",
                            "            background-color:  #acc0dd;\n",
                            "            color:  #000000;\n",
                            "        }#T_2ba5cdec_f974_11eb_9dff_acde48001122row3_col9,#T_2ba5cdec_f974_11eb_9dff_acde48001122row14_col7,#T_2ba5cdec_f974_11eb_9dff_acde48001122row15_col9,#T_2ba5cdec_f974_11eb_9dff_acde48001122row16_col2,#T_2ba5cdec_f974_11eb_9dff_acde48001122row20_col8,#T_2ba5cdec_f974_11eb_9dff_acde48001122row49_col5{\n",
                            "            background-color:  #b3c3de;\n",
                            "            color:  #000000;\n",
                            "        }#T_2ba5cdec_f974_11eb_9dff_acde48001122row4_col0,#T_2ba5cdec_f974_11eb_9dff_acde48001122row6_col0,#T_2ba5cdec_f974_11eb_9dff_acde48001122row9_col0,#T_2ba5cdec_f974_11eb_9dff_acde48001122row12_col0,#T_2ba5cdec_f974_11eb_9dff_acde48001122row13_col0,#T_2ba5cdec_f974_11eb_9dff_acde48001122row16_col6,#T_2ba5cdec_f974_11eb_9dff_acde48001122row22_col6,#T_2ba5cdec_f974_11eb_9dff_acde48001122row29_col0,#T_2ba5cdec_f974_11eb_9dff_acde48001122row32_col0,#T_2ba5cdec_f974_11eb_9dff_acde48001122row35_col0,#T_2ba5cdec_f974_11eb_9dff_acde48001122row38_col0,#T_2ba5cdec_f974_11eb_9dff_acde48001122row40_col0,#T_2ba5cdec_f974_11eb_9dff_acde48001122row41_col0,#T_2ba5cdec_f974_11eb_9dff_acde48001122row44_col0,#T_2ba5cdec_f974_11eb_9dff_acde48001122row48_col0,#T_2ba5cdec_f974_11eb_9dff_acde48001122row51_col0,#T_2ba5cdec_f974_11eb_9dff_acde48001122row56_col0{\n",
                            "            background-color:  #f7f0f7;\n",
                            "            color:  #000000;\n",
                            "        }#T_2ba5cdec_f974_11eb_9dff_acde48001122row4_col2,#T_2ba5cdec_f974_11eb_9dff_acde48001122row5_col2,#T_2ba5cdec_f974_11eb_9dff_acde48001122row8_col2,#T_2ba5cdec_f974_11eb_9dff_acde48001122row29_col2,#T_2ba5cdec_f974_11eb_9dff_acde48001122row31_col2,#T_2ba5cdec_f974_11eb_9dff_acde48001122row34_col2,#T_2ba5cdec_f974_11eb_9dff_acde48001122row35_col2,#T_2ba5cdec_f974_11eb_9dff_acde48001122row41_col2,#T_2ba5cdec_f974_11eb_9dff_acde48001122row50_col2,#T_2ba5cdec_f974_11eb_9dff_acde48001122row52_col2{\n",
                            "            background-color:  #dad9ea;\n",
                            "            color:  #000000;\n",
                            "        }#T_2ba5cdec_f974_11eb_9dff_acde48001122row4_col3,#T_2ba5cdec_f974_11eb_9dff_acde48001122row5_col3,#T_2ba5cdec_f974_11eb_9dff_acde48001122row8_col3,#T_2ba5cdec_f974_11eb_9dff_acde48001122row10_col3,#T_2ba5cdec_f974_11eb_9dff_acde48001122row18_col3,#T_2ba5cdec_f974_11eb_9dff_acde48001122row30_col3,#T_2ba5cdec_f974_11eb_9dff_acde48001122row37_col3,#T_2ba5cdec_f974_11eb_9dff_acde48001122row44_col3,#T_2ba5cdec_f974_11eb_9dff_acde48001122row47_col3,#T_2ba5cdec_f974_11eb_9dff_acde48001122row48_col3,#T_2ba5cdec_f974_11eb_9dff_acde48001122row50_col3,#T_2ba5cdec_f974_11eb_9dff_acde48001122row52_col3,#T_2ba5cdec_f974_11eb_9dff_acde48001122row56_col3{\n",
                            "            background-color:  #9fbad9;\n",
                            "            color:  #000000;\n",
                            "        }#T_2ba5cdec_f974_11eb_9dff_acde48001122row4_col4,#T_2ba5cdec_f974_11eb_9dff_acde48001122row5_col4,#T_2ba5cdec_f974_11eb_9dff_acde48001122row6_col1,#T_2ba5cdec_f974_11eb_9dff_acde48001122row9_col4,#T_2ba5cdec_f974_11eb_9dff_acde48001122row12_col4,#T_2ba5cdec_f974_11eb_9dff_acde48001122row23_col4,#T_2ba5cdec_f974_11eb_9dff_acde48001122row34_col4,#T_2ba5cdec_f974_11eb_9dff_acde48001122row36_col4,#T_2ba5cdec_f974_11eb_9dff_acde48001122row40_col1,#T_2ba5cdec_f974_11eb_9dff_acde48001122row41_col4,#T_2ba5cdec_f974_11eb_9dff_acde48001122row51_col1,#T_2ba5cdec_f974_11eb_9dff_acde48001122row51_col4,#T_2ba5cdec_f974_11eb_9dff_acde48001122row52_col4,#T_2ba5cdec_f974_11eb_9dff_acde48001122row56_col4,#T_2ba5cdec_f974_11eb_9dff_acde48001122row57_col4,#T_2ba5cdec_f974_11eb_9dff_acde48001122row58_col1,#T_2ba5cdec_f974_11eb_9dff_acde48001122row59_col7,#T_2ba5cdec_f974_11eb_9dff_acde48001122row60_col8{\n",
                            "            background-color:  #80aed2;\n",
                            "            color:  #000000;\n",
                            "        }#T_2ba5cdec_f974_11eb_9dff_acde48001122row4_col5,#T_2ba5cdec_f974_11eb_9dff_acde48001122row9_col5,#T_2ba5cdec_f974_11eb_9dff_acde48001122row14_col1,#T_2ba5cdec_f974_11eb_9dff_acde48001122row36_col9,#T_2ba5cdec_f974_11eb_9dff_acde48001122row38_col5,#T_2ba5cdec_f974_11eb_9dff_acde48001122row44_col9,#T_2ba5cdec_f974_11eb_9dff_acde48001122row53_col6,#T_2ba5cdec_f974_11eb_9dff_acde48001122row57_col9,#T_2ba5cdec_f974_11eb_9dff_acde48001122row58_col5,#T_2ba5cdec_f974_11eb_9dff_acde48001122row60_col3{\n",
                            "            background-color:  #b9c6e0;\n",
                            "            color:  #000000;\n",
                            "        }#T_2ba5cdec_f974_11eb_9dff_acde48001122row4_col6,#T_2ba5cdec_f974_11eb_9dff_acde48001122row4_col8,#T_2ba5cdec_f974_11eb_9dff_acde48001122row9_col6,#T_2ba5cdec_f974_11eb_9dff_acde48001122row12_col6,#T_2ba5cdec_f974_11eb_9dff_acde48001122row13_col6,#T_2ba5cdec_f974_11eb_9dff_acde48001122row13_col8,#T_2ba5cdec_f974_11eb_9dff_acde48001122row27_col2,#T_2ba5cdec_f974_11eb_9dff_acde48001122row31_col6,#T_2ba5cdec_f974_11eb_9dff_acde48001122row32_col6,#T_2ba5cdec_f974_11eb_9dff_acde48001122row35_col6,#T_2ba5cdec_f974_11eb_9dff_acde48001122row39_col6,#T_2ba5cdec_f974_11eb_9dff_acde48001122row41_col6,#T_2ba5cdec_f974_11eb_9dff_acde48001122row47_col8,#T_2ba5cdec_f974_11eb_9dff_acde48001122row51_col8,#T_2ba5cdec_f974_11eb_9dff_acde48001122row54_col3,#T_2ba5cdec_f974_11eb_9dff_acde48001122row56_col6,#T_2ba5cdec_f974_11eb_9dff_acde48001122row59_col6{\n",
                            "            background-color:  #d4d4e8;\n",
                            "            color:  #000000;\n",
                            "        }#T_2ba5cdec_f974_11eb_9dff_acde48001122row4_col7,#T_2ba5cdec_f974_11eb_9dff_acde48001122row5_col7,#T_2ba5cdec_f974_11eb_9dff_acde48001122row8_col7,#T_2ba5cdec_f974_11eb_9dff_acde48001122row11_col5,#T_2ba5cdec_f974_11eb_9dff_acde48001122row15_col1,#T_2ba5cdec_f974_11eb_9dff_acde48001122row15_col7,#T_2ba5cdec_f974_11eb_9dff_acde48001122row20_col7,#T_2ba5cdec_f974_11eb_9dff_acde48001122row31_col7,#T_2ba5cdec_f974_11eb_9dff_acde48001122row34_col7,#T_2ba5cdec_f974_11eb_9dff_acde48001122row38_col7,#T_2ba5cdec_f974_11eb_9dff_acde48001122row50_col7{\n",
                            "            background-color:  #adc1dd;\n",
                            "            color:  #000000;\n",
                            "        }#T_2ba5cdec_f974_11eb_9dff_acde48001122row4_col9,#T_2ba5cdec_f974_11eb_9dff_acde48001122row8_col9,#T_2ba5cdec_f974_11eb_9dff_acde48001122row10_col9,#T_2ba5cdec_f974_11eb_9dff_acde48001122row22_col2,#T_2ba5cdec_f974_11eb_9dff_acde48001122row23_col7,#T_2ba5cdec_f974_11eb_9dff_acde48001122row23_col9,#T_2ba5cdec_f974_11eb_9dff_acde48001122row32_col5,#T_2ba5cdec_f974_11eb_9dff_acde48001122row37_col9{\n",
                            "            background-color:  #b8c6e0;\n",
                            "            color:  #000000;\n",
                            "        }#T_2ba5cdec_f974_11eb_9dff_acde48001122row5_col0,#T_2ba5cdec_f974_11eb_9dff_acde48001122row28_col2,#T_2ba5cdec_f974_11eb_9dff_acde48001122row33_col6,#T_2ba5cdec_f974_11eb_9dff_acde48001122row50_col0,#T_2ba5cdec_f974_11eb_9dff_acde48001122row57_col0{\n",
                            "            background-color:  #f5eff6;\n",
                            "            color:  #000000;\n",
                            "        }#T_2ba5cdec_f974_11eb_9dff_acde48001122row5_col1,#T_2ba5cdec_f974_11eb_9dff_acde48001122row9_col1,#T_2ba5cdec_f974_11eb_9dff_acde48001122row30_col1,#T_2ba5cdec_f974_11eb_9dff_acde48001122row31_col1,#T_2ba5cdec_f974_11eb_9dff_acde48001122row37_col4,#T_2ba5cdec_f974_11eb_9dff_acde48001122row44_col1,#T_2ba5cdec_f974_11eb_9dff_acde48001122row47_col1,#T_2ba5cdec_f974_11eb_9dff_acde48001122row56_col1{\n",
                            "            background-color:  #84b0d3;\n",
                            "            color:  #000000;\n",
                            "        }#T_2ba5cdec_f974_11eb_9dff_acde48001122row5_col5,#T_2ba5cdec_f974_11eb_9dff_acde48001122row6_col5,#T_2ba5cdec_f974_11eb_9dff_acde48001122row8_col5,#T_2ba5cdec_f974_11eb_9dff_acde48001122row12_col5,#T_2ba5cdec_f974_11eb_9dff_acde48001122row31_col5,#T_2ba5cdec_f974_11eb_9dff_acde48001122row35_col5,#T_2ba5cdec_f974_11eb_9dff_acde48001122row36_col5,#T_2ba5cdec_f974_11eb_9dff_acde48001122row41_col5,#T_2ba5cdec_f974_11eb_9dff_acde48001122row44_col5,#T_2ba5cdec_f974_11eb_9dff_acde48001122row47_col5,#T_2ba5cdec_f974_11eb_9dff_acde48001122row50_col5,#T_2ba5cdec_f974_11eb_9dff_acde48001122row56_col5{\n",
                            "            background-color:  #bbc7e0;\n",
                            "            color:  #000000;\n",
                            "        }#T_2ba5cdec_f974_11eb_9dff_acde48001122row5_col8,#T_2ba5cdec_f974_11eb_9dff_acde48001122row14_col2,#T_2ba5cdec_f974_11eb_9dff_acde48001122row29_col8,#T_2ba5cdec_f974_11eb_9dff_acde48001122row30_col7,#T_2ba5cdec_f974_11eb_9dff_acde48001122row31_col8,#T_2ba5cdec_f974_11eb_9dff_acde48001122row38_col6,#T_2ba5cdec_f974_11eb_9dff_acde48001122row40_col6,#T_2ba5cdec_f974_11eb_9dff_acde48001122row44_col6,#T_2ba5cdec_f974_11eb_9dff_acde48001122row48_col6,#T_2ba5cdec_f974_11eb_9dff_acde48001122row60_col9{\n",
                            "            background-color:  #d3d4e7;\n",
                            "            color:  #000000;\n",
                            "        }#T_2ba5cdec_f974_11eb_9dff_acde48001122row5_col9,#T_2ba5cdec_f974_11eb_9dff_acde48001122row14_col9,#T_2ba5cdec_f974_11eb_9dff_acde48001122row18_col8,#T_2ba5cdec_f974_11eb_9dff_acde48001122row24_col6,#T_2ba5cdec_f974_11eb_9dff_acde48001122row26_col5,#T_2ba5cdec_f974_11eb_9dff_acde48001122row27_col1,#T_2ba5cdec_f974_11eb_9dff_acde48001122row29_col9,#T_2ba5cdec_f974_11eb_9dff_acde48001122row30_col5,#T_2ba5cdec_f974_11eb_9dff_acde48001122row32_col9,#T_2ba5cdec_f974_11eb_9dff_acde48001122row37_col7,#T_2ba5cdec_f974_11eb_9dff_acde48001122row40_col7,#T_2ba5cdec_f974_11eb_9dff_acde48001122row41_col9,#T_2ba5cdec_f974_11eb_9dff_acde48001122row42_col3,#T_2ba5cdec_f974_11eb_9dff_acde48001122row42_col9,#T_2ba5cdec_f974_11eb_9dff_acde48001122row45_col3,#T_2ba5cdec_f974_11eb_9dff_acde48001122row51_col9,#T_2ba5cdec_f974_11eb_9dff_acde48001122row54_col5{\n",
                            "            background-color:  #b5c4df;\n",
                            "            color:  #000000;\n",
                            "        }#T_2ba5cdec_f974_11eb_9dff_acde48001122row6_col2,#T_2ba5cdec_f974_11eb_9dff_acde48001122row10_col2,#T_2ba5cdec_f974_11eb_9dff_acde48001122row30_col2,#T_2ba5cdec_f974_11eb_9dff_acde48001122row44_col2,#T_2ba5cdec_f974_11eb_9dff_acde48001122row51_col2,#T_2ba5cdec_f974_11eb_9dff_acde48001122row53_col2,#T_2ba5cdec_f974_11eb_9dff_acde48001122row58_col8{\n",
                            "            background-color:  #d9d8ea;\n",
                            "            color:  #000000;\n",
                            "        }#T_2ba5cdec_f974_11eb_9dff_acde48001122row6_col3,#T_2ba5cdec_f974_11eb_9dff_acde48001122row19_col4,#T_2ba5cdec_f974_11eb_9dff_acde48001122row43_col7,#T_2ba5cdec_f974_11eb_9dff_acde48001122row54_col9{\n",
                            "            background-color:  #93b5d6;\n",
                            "            color:  #000000;\n",
                            "        }#T_2ba5cdec_f974_11eb_9dff_acde48001122row6_col4,#T_2ba5cdec_f974_11eb_9dff_acde48001122row8_col4,#T_2ba5cdec_f974_11eb_9dff_acde48001122row10_col4,#T_2ba5cdec_f974_11eb_9dff_acde48001122row31_col4,#T_2ba5cdec_f974_11eb_9dff_acde48001122row32_col4,#T_2ba5cdec_f974_11eb_9dff_acde48001122row35_col1,#T_2ba5cdec_f974_11eb_9dff_acde48001122row35_col4,#T_2ba5cdec_f974_11eb_9dff_acde48001122row36_col1,#T_2ba5cdec_f974_11eb_9dff_acde48001122row41_col1,#T_2ba5cdec_f974_11eb_9dff_acde48001122row44_col4,#T_2ba5cdec_f974_11eb_9dff_acde48001122row47_col4,#T_2ba5cdec_f974_11eb_9dff_acde48001122row50_col4,#T_2ba5cdec_f974_11eb_9dff_acde48001122row53_col1{\n",
                            "            background-color:  #81aed2;\n",
                            "            color:  #000000;\n",
                            "        }#T_2ba5cdec_f974_11eb_9dff_acde48001122row6_col9,#T_2ba5cdec_f974_11eb_9dff_acde48001122row12_col9,#T_2ba5cdec_f974_11eb_9dff_acde48001122row23_col5,#T_2ba5cdec_f974_11eb_9dff_acde48001122row25_col5,#T_2ba5cdec_f974_11eb_9dff_acde48001122row29_col5,#T_2ba5cdec_f974_11eb_9dff_acde48001122row55_col9{\n",
                            "            background-color:  #bdc8e1;\n",
                            "            color:  #000000;\n",
                            "        }#T_2ba5cdec_f974_11eb_9dff_acde48001122row7_col0,#T_2ba5cdec_f974_11eb_9dff_acde48001122row26_col0,#T_2ba5cdec_f974_11eb_9dff_acde48001122row30_col0,#T_2ba5cdec_f974_11eb_9dff_acde48001122row37_col0,#T_2ba5cdec_f974_11eb_9dff_acde48001122row49_col0,#T_2ba5cdec_f974_11eb_9dff_acde48001122row53_col0,#T_2ba5cdec_f974_11eb_9dff_acde48001122row59_col0{\n",
                            "            background-color:  #f8f1f8;\n",
                            "            color:  #000000;\n",
                            "        }#T_2ba5cdec_f974_11eb_9dff_acde48001122row7_col2{\n",
                            "            background-color:  #dedcec;\n",
                            "            color:  #000000;\n",
                            "        }#T_2ba5cdec_f974_11eb_9dff_acde48001122row7_col3,#T_2ba5cdec_f974_11eb_9dff_acde48001122row15_col3,#T_2ba5cdec_f974_11eb_9dff_acde48001122row17_col9,#T_2ba5cdec_f974_11eb_9dff_acde48001122row31_col3,#T_2ba5cdec_f974_11eb_9dff_acde48001122row32_col3,#T_2ba5cdec_f974_11eb_9dff_acde48001122row38_col3,#T_2ba5cdec_f974_11eb_9dff_acde48001122row39_col3,#T_2ba5cdec_f974_11eb_9dff_acde48001122row51_col3,#T_2ba5cdec_f974_11eb_9dff_acde48001122row57_col3,#T_2ba5cdec_f974_11eb_9dff_acde48001122row58_col3{\n",
                            "            background-color:  #a1bbda;\n",
                            "            color:  #000000;\n",
                            "        }#T_2ba5cdec_f974_11eb_9dff_acde48001122row7_col4,#T_2ba5cdec_f974_11eb_9dff_acde48001122row24_col4,#T_2ba5cdec_f974_11eb_9dff_acde48001122row38_col4,#T_2ba5cdec_f974_11eb_9dff_acde48001122row40_col4,#T_2ba5cdec_f974_11eb_9dff_acde48001122row43_col4{\n",
                            "            background-color:  #7bacd1;\n",
                            "            color:  #000000;\n",
                            "        }#T_2ba5cdec_f974_11eb_9dff_acde48001122row7_col5,#T_2ba5cdec_f974_11eb_9dff_acde48001122row7_col7,#T_2ba5cdec_f974_11eb_9dff_acde48001122row16_col4,#T_2ba5cdec_f974_11eb_9dff_acde48001122row21_col7,#T_2ba5cdec_f974_11eb_9dff_acde48001122row25_col7,#T_2ba5cdec_f974_11eb_9dff_acde48001122row40_col9,#T_2ba5cdec_f974_11eb_9dff_acde48001122row43_col5,#T_2ba5cdec_f974_11eb_9dff_acde48001122row54_col4,#T_2ba5cdec_f974_11eb_9dff_acde48001122row59_col5{\n",
                            "            background-color:  #b0c2de;\n",
                            "            color:  #000000;\n",
                            "        }#T_2ba5cdec_f974_11eb_9dff_acde48001122row7_col8,#T_2ba5cdec_f974_11eb_9dff_acde48001122row36_col8,#T_2ba5cdec_f974_11eb_9dff_acde48001122row52_col8{\n",
                            "            background-color:  #d2d2e7;\n",
                            "            color:  #000000;\n",
                            "        }#T_2ba5cdec_f974_11eb_9dff_acde48001122row7_col9,#T_2ba5cdec_f974_11eb_9dff_acde48001122row27_col5,#T_2ba5cdec_f974_11eb_9dff_acde48001122row48_col9{\n",
                            "            background-color:  #c4cbe3;\n",
                            "            color:  #000000;\n",
                            "        }#T_2ba5cdec_f974_11eb_9dff_acde48001122row8_col0,#T_2ba5cdec_f974_11eb_9dff_acde48001122row10_col0,#T_2ba5cdec_f974_11eb_9dff_acde48001122row20_col1,#T_2ba5cdec_f974_11eb_9dff_acde48001122row31_col0,#T_2ba5cdec_f974_11eb_9dff_acde48001122row34_col0,#T_2ba5cdec_f974_11eb_9dff_acde48001122row36_col0,#T_2ba5cdec_f974_11eb_9dff_acde48001122row39_col0,#T_2ba5cdec_f974_11eb_9dff_acde48001122row43_col0,#T_2ba5cdec_f974_11eb_9dff_acde48001122row47_col0,#T_2ba5cdec_f974_11eb_9dff_acde48001122row52_col0{\n",
                            "            background-color:  #f6eff7;\n",
                            "            color:  #000000;\n",
                            "        }#T_2ba5cdec_f974_11eb_9dff_acde48001122row8_col1,#T_2ba5cdec_f974_11eb_9dff_acde48001122row12_col1,#T_2ba5cdec_f974_11eb_9dff_acde48001122row49_col7{\n",
                            "            background-color:  #88b1d4;\n",
                            "            color:  #000000;\n",
                            "        }#T_2ba5cdec_f974_11eb_9dff_acde48001122row8_col6,#T_2ba5cdec_f974_11eb_9dff_acde48001122row10_col6,#T_2ba5cdec_f974_11eb_9dff_acde48001122row14_col6,#T_2ba5cdec_f974_11eb_9dff_acde48001122row15_col2,#T_2ba5cdec_f974_11eb_9dff_acde48001122row32_col8,#T_2ba5cdec_f974_11eb_9dff_acde48001122row52_col6,#T_2ba5cdec_f974_11eb_9dff_acde48001122row57_col8,#T_2ba5cdec_f974_11eb_9dff_acde48001122row60_col5{\n",
                            "            background-color:  #d6d6e9;\n",
                            "            color:  #000000;\n",
                            "        }#T_2ba5cdec_f974_11eb_9dff_acde48001122row8_col8,#T_2ba5cdec_f974_11eb_9dff_acde48001122row10_col8,#T_2ba5cdec_f974_11eb_9dff_acde48001122row34_col8,#T_2ba5cdec_f974_11eb_9dff_acde48001122row36_col6,#T_2ba5cdec_f974_11eb_9dff_acde48001122row50_col8,#T_2ba5cdec_f974_11eb_9dff_acde48001122row58_col6{\n",
                            "            background-color:  #d2d3e7;\n",
                            "            color:  #000000;\n",
                            "        }#T_2ba5cdec_f974_11eb_9dff_acde48001122row9_col3,#T_2ba5cdec_f974_11eb_9dff_acde48001122row54_col6,#T_2ba5cdec_f974_11eb_9dff_acde48001122row59_col3{\n",
                            "            background-color:  #9cb9d9;\n",
                            "            color:  #000000;\n",
                            "        }#T_2ba5cdec_f974_11eb_9dff_acde48001122row9_col7,#T_2ba5cdec_f974_11eb_9dff_acde48001122row11_col3,#T_2ba5cdec_f974_11eb_9dff_acde48001122row16_col3,#T_2ba5cdec_f974_11eb_9dff_acde48001122row24_col3{\n",
                            "            background-color:  #a9bfdc;\n",
                            "            color:  #000000;\n",
                            "        }#T_2ba5cdec_f974_11eb_9dff_acde48001122row9_col9,#T_2ba5cdec_f974_11eb_9dff_acde48001122row56_col9{\n",
                            "            background-color:  #c1cae2;\n",
                            "            color:  #000000;\n",
                            "        }#T_2ba5cdec_f974_11eb_9dff_acde48001122row10_col1,#T_2ba5cdec_f974_11eb_9dff_acde48001122row14_col4,#T_2ba5cdec_f974_11eb_9dff_acde48001122row17_col4,#T_2ba5cdec_f974_11eb_9dff_acde48001122row25_col4{\n",
                            "            background-color:  #89b1d4;\n",
                            "            color:  #000000;\n",
                            "        }#T_2ba5cdec_f974_11eb_9dff_acde48001122row10_col5,#T_2ba5cdec_f974_11eb_9dff_acde48001122row13_col5,#T_2ba5cdec_f974_11eb_9dff_acde48001122row18_col2,#T_2ba5cdec_f974_11eb_9dff_acde48001122row25_col1,#T_2ba5cdec_f974_11eb_9dff_acde48001122row34_col5,#T_2ba5cdec_f974_11eb_9dff_acde48001122row39_col5,#T_2ba5cdec_f974_11eb_9dff_acde48001122row40_col5,#T_2ba5cdec_f974_11eb_9dff_acde48001122row48_col5,#T_2ba5cdec_f974_11eb_9dff_acde48001122row51_col5,#T_2ba5cdec_f974_11eb_9dff_acde48001122row52_col5,#T_2ba5cdec_f974_11eb_9dff_acde48001122row57_col5{\n",
                            "            background-color:  #bcc7e1;\n",
                            "            color:  #000000;\n",
                            "        }#T_2ba5cdec_f974_11eb_9dff_acde48001122row11_col1,#T_2ba5cdec_f974_11eb_9dff_acde48001122row24_col1,#T_2ba5cdec_f974_11eb_9dff_acde48001122row26_col4{\n",
                            "            background-color:  #6da6cd;\n",
                            "            color:  #000000;\n",
                            "        }#T_2ba5cdec_f974_11eb_9dff_acde48001122row11_col2,#T_2ba5cdec_f974_11eb_9dff_acde48001122row48_col2,#T_2ba5cdec_f974_11eb_9dff_acde48001122row48_col8{\n",
                            "            background-color:  #dddbec;\n",
                            "            color:  #000000;\n",
                            "        }#T_2ba5cdec_f974_11eb_9dff_acde48001122row11_col4,#T_2ba5cdec_f974_11eb_9dff_acde48001122row29_col1,#T_2ba5cdec_f974_11eb_9dff_acde48001122row48_col4{\n",
                            "            background-color:  #7dacd1;\n",
                            "            color:  #000000;\n",
                            "        }#T_2ba5cdec_f974_11eb_9dff_acde48001122row11_col6,#T_2ba5cdec_f974_11eb_9dff_acde48001122row25_col9,#T_2ba5cdec_f974_11eb_9dff_acde48001122row30_col6,#T_2ba5cdec_f974_11eb_9dff_acde48001122row31_col9,#T_2ba5cdec_f974_11eb_9dff_acde48001122row45_col9,#T_2ba5cdec_f974_11eb_9dff_acde48001122row47_col9,#T_2ba5cdec_f974_11eb_9dff_acde48001122row50_col9,#T_2ba5cdec_f974_11eb_9dff_acde48001122row52_col9{\n",
                            "            background-color:  #b7c5df;\n",
                            "            color:  #000000;\n",
                            "        }#T_2ba5cdec_f974_11eb_9dff_acde48001122row11_col9{\n",
                            "            background-color:  #034871;\n",
                            "            color:  #f1f1f1;\n",
                            "        }#T_2ba5cdec_f974_11eb_9dff_acde48001122row12_col3,#T_2ba5cdec_f974_11eb_9dff_acde48001122row18_col7,#T_2ba5cdec_f974_11eb_9dff_acde48001122row21_col3,#T_2ba5cdec_f974_11eb_9dff_acde48001122row22_col8,#T_2ba5cdec_f974_11eb_9dff_acde48001122row53_col7{\n",
                            "            background-color:  #9ebad9;\n",
                            "            color:  #000000;\n",
                            "        }#T_2ba5cdec_f974_11eb_9dff_acde48001122row13_col1,#T_2ba5cdec_f974_11eb_9dff_acde48001122row16_col9,#T_2ba5cdec_f974_11eb_9dff_acde48001122row27_col7,#T_2ba5cdec_f974_11eb_9dff_acde48001122row32_col1,#T_2ba5cdec_f974_11eb_9dff_acde48001122row34_col1,#T_2ba5cdec_f974_11eb_9dff_acde48001122row38_col1,#T_2ba5cdec_f974_11eb_9dff_acde48001122row39_col1,#T_2ba5cdec_f974_11eb_9dff_acde48001122row48_col1,#T_2ba5cdec_f974_11eb_9dff_acde48001122row57_col1{\n",
                            "            background-color:  #83afd3;\n",
                            "            color:  #000000;\n",
                            "        }#T_2ba5cdec_f974_11eb_9dff_acde48001122row13_col4,#T_2ba5cdec_f974_11eb_9dff_acde48001122row39_col4,#T_2ba5cdec_f974_11eb_9dff_acde48001122row58_col4,#T_2ba5cdec_f974_11eb_9dff_acde48001122row59_col1{\n",
                            "            background-color:  #7eadd1;\n",
                            "            color:  #000000;\n",
                            "        }#T_2ba5cdec_f974_11eb_9dff_acde48001122row14_col5,#T_2ba5cdec_f974_11eb_9dff_acde48001122row19_col8,#T_2ba5cdec_f974_11eb_9dff_acde48001122row20_col2{\n",
                            "            background-color:  #c0c9e2;\n",
                            "            color:  #000000;\n",
                            "        }#T_2ba5cdec_f974_11eb_9dff_acde48001122row14_col8,#T_2ba5cdec_f974_11eb_9dff_acde48001122row33_col9,#T_2ba5cdec_f974_11eb_9dff_acde48001122row55_col7,#T_2ba5cdec_f974_11eb_9dff_acde48001122row60_col2{\n",
                            "            background-color:  #c8cde4;\n",
                            "            color:  #000000;\n",
                            "        }#T_2ba5cdec_f974_11eb_9dff_acde48001122row16_col0,#T_2ba5cdec_f974_11eb_9dff_acde48001122row42_col6,#T_2ba5cdec_f974_11eb_9dff_acde48001122row45_col6{\n",
                            "            background-color:  #eae6f1;\n",
                            "            color:  #000000;\n",
                            "        }#T_2ba5cdec_f974_11eb_9dff_acde48001122row16_col1{\n",
                            "            background-color:  #fef6fb;\n",
                            "            color:  #000000;\n",
                            "        }#T_2ba5cdec_f974_11eb_9dff_acde48001122row16_col8,#T_2ba5cdec_f974_11eb_9dff_acde48001122row22_col3{\n",
                            "            background-color:  #9ab8d8;\n",
                            "            color:  #000000;\n",
                            "        }#T_2ba5cdec_f974_11eb_9dff_acde48001122row17_col1,#T_2ba5cdec_f974_11eb_9dff_acde48001122row23_col6{\n",
                            "            background-color:  #cacee5;\n",
                            "            color:  #000000;\n",
                            "        }#T_2ba5cdec_f974_11eb_9dff_acde48001122row17_col3,#T_2ba5cdec_f974_11eb_9dff_acde48001122row17_col7,#T_2ba5cdec_f974_11eb_9dff_acde48001122row37_col2,#T_2ba5cdec_f974_11eb_9dff_acde48001122row40_col3{\n",
                            "            background-color:  #a5bddb;\n",
                            "            color:  #000000;\n",
                            "        }#T_2ba5cdec_f974_11eb_9dff_acde48001122row17_col6,#T_2ba5cdec_f974_11eb_9dff_acde48001122row19_col0,#T_2ba5cdec_f974_11eb_9dff_acde48001122row54_col2{\n",
                            "            background-color:  #ebe6f2;\n",
                            "            color:  #000000;\n",
                            "        }#T_2ba5cdec_f974_11eb_9dff_acde48001122row18_col0,#T_2ba5cdec_f974_11eb_9dff_acde48001122row53_col8{\n",
                            "            background-color:  #e8e4f0;\n",
                            "            color:  #000000;\n",
                            "        }#T_2ba5cdec_f974_11eb_9dff_acde48001122row18_col1,#T_2ba5cdec_f974_11eb_9dff_acde48001122row22_col1,#T_2ba5cdec_f974_11eb_9dff_acde48001122row24_col0,#T_2ba5cdec_f974_11eb_9dff_acde48001122row46_col4,#T_2ba5cdec_f974_11eb_9dff_acde48001122row54_col0{\n",
                            "            background-color:  #faf2f8;\n",
                            "            color:  #000000;\n",
                            "        }#T_2ba5cdec_f974_11eb_9dff_acde48001122row18_col4,#T_2ba5cdec_f974_11eb_9dff_acde48001122row43_col9,#T_2ba5cdec_f974_11eb_9dff_acde48001122row53_col3,#T_2ba5cdec_f974_11eb_9dff_acde48001122row55_col8{\n",
                            "            background-color:  #99b8d8;\n",
                            "            color:  #000000;\n",
                            "        }#T_2ba5cdec_f974_11eb_9dff_acde48001122row18_col9,#T_2ba5cdec_f974_11eb_9dff_acde48001122row22_col4{\n",
                            "            background-color:  #8eb3d5;\n",
                            "            color:  #000000;\n",
                            "        }#T_2ba5cdec_f974_11eb_9dff_acde48001122row19_col6,#T_2ba5cdec_f974_11eb_9dff_acde48001122row42_col2,#T_2ba5cdec_f974_11eb_9dff_acde48001122row60_col0{\n",
                            "            background-color:  #f0eaf4;\n",
                            "            color:  #000000;\n",
                            "        }#T_2ba5cdec_f974_11eb_9dff_acde48001122row19_col7,#T_2ba5cdec_f974_11eb_9dff_acde48001122row29_col3,#T_2ba5cdec_f974_11eb_9dff_acde48001122row55_col4{\n",
                            "            background-color:  #a8bedc;\n",
                            "            color:  #000000;\n",
                            "        }#T_2ba5cdec_f974_11eb_9dff_acde48001122row20_col4,#T_2ba5cdec_f974_11eb_9dff_acde48001122row27_col9{\n",
                            "            background-color:  #96b6d7;\n",
                            "            color:  #000000;\n",
                            "        }#T_2ba5cdec_f974_11eb_9dff_acde48001122row20_col5,#T_2ba5cdec_f974_11eb_9dff_acde48001122row22_col7,#T_2ba5cdec_f974_11eb_9dff_acde48001122row26_col6{\n",
                            "            background-color:  #cccfe5;\n",
                            "            color:  #000000;\n",
                            "        }#T_2ba5cdec_f974_11eb_9dff_acde48001122row20_col6,#T_2ba5cdec_f974_11eb_9dff_acde48001122row24_col8,#T_2ba5cdec_f974_11eb_9dff_acde48001122row28_col6{\n",
                            "            background-color:  #f4edf6;\n",
                            "            color:  #000000;\n",
                            "        }#T_2ba5cdec_f974_11eb_9dff_acde48001122row21_col1,#T_2ba5cdec_f974_11eb_9dff_acde48001122row26_col8,#T_2ba5cdec_f974_11eb_9dff_acde48001122row58_col0{\n",
                            "            background-color:  #f5eef6;\n",
                            "            color:  #000000;\n",
                            "        }#T_2ba5cdec_f974_11eb_9dff_acde48001122row21_col8,#T_2ba5cdec_f974_11eb_9dff_acde48001122row21_col9,#T_2ba5cdec_f974_11eb_9dff_acde48001122row22_col5,#T_2ba5cdec_f974_11eb_9dff_acde48001122row25_col8,#T_2ba5cdec_f974_11eb_9dff_acde48001122row37_col8{\n",
                            "            background-color:  #c6cce3;\n",
                            "            color:  #000000;\n",
                            "        }#T_2ba5cdec_f974_11eb_9dff_acde48001122row22_col0{\n",
                            "            background-color:  #e9e5f1;\n",
                            "            color:  #000000;\n",
                            "        }#T_2ba5cdec_f974_11eb_9dff_acde48001122row22_col9{\n",
                            "            background-color:  #e4e1ef;\n",
                            "            color:  #000000;\n",
                            "        }#T_2ba5cdec_f974_11eb_9dff_acde48001122row23_col1{\n",
                            "            background-color:  #056aa6;\n",
                            "            color:  #f1f1f1;\n",
                            "        }#T_2ba5cdec_f974_11eb_9dff_acde48001122row23_col8,#T_2ba5cdec_f974_11eb_9dff_acde48001122row46_col9,#T_2ba5cdec_f974_11eb_9dff_acde48001122row49_col6{\n",
                            "            background-color:  #c9cee4;\n",
                            "            color:  #000000;\n",
                            "        }#T_2ba5cdec_f974_11eb_9dff_acde48001122row24_col2,#T_2ba5cdec_f974_11eb_9dff_acde48001122row42_col7,#T_2ba5cdec_f974_11eb_9dff_acde48001122row43_col6,#T_2ba5cdec_f974_11eb_9dff_acde48001122row46_col5{\n",
                            "            background-color:  #dfddec;\n",
                            "            color:  #000000;\n",
                            "        }#T_2ba5cdec_f974_11eb_9dff_acde48001122row25_col2{\n",
                            "            background-color:  #d1d2e6;\n",
                            "            color:  #000000;\n",
                            "        }#T_2ba5cdec_f974_11eb_9dff_acde48001122row25_col6,#T_2ba5cdec_f974_11eb_9dff_acde48001122row28_col5{\n",
                            "            background-color:  #e2dfee;\n",
                            "            color:  #000000;\n",
                            "        }#T_2ba5cdec_f974_11eb_9dff_acde48001122row26_col1,#T_2ba5cdec_f974_11eb_9dff_acde48001122row43_col1,#T_2ba5cdec_f974_11eb_9dff_acde48001122row59_col4{\n",
                            "            background-color:  #73a9cf;\n",
                            "            color:  #000000;\n",
                            "        }#T_2ba5cdec_f974_11eb_9dff_acde48001122row26_col7,#T_2ba5cdec_f974_11eb_9dff_acde48001122row29_col4{\n",
                            "            background-color:  #8bb2d4;\n",
                            "            color:  #000000;\n",
                            "        }#T_2ba5cdec_f974_11eb_9dff_acde48001122row26_col9{\n",
                            "            background-color:  #ede7f2;\n",
                            "            color:  #000000;\n",
                            "        }#T_2ba5cdec_f974_11eb_9dff_acde48001122row27_col6{\n",
                            "            background-color:  #e6e2ef;\n",
                            "            color:  #000000;\n",
                            "        }#T_2ba5cdec_f974_11eb_9dff_acde48001122row27_col8,#T_2ba5cdec_f974_11eb_9dff_acde48001122row30_col9{\n",
                            "            background-color:  #e5e1ef;\n",
                            "            color:  #000000;\n",
                            "        }#T_2ba5cdec_f974_11eb_9dff_acde48001122row28_col0,#T_2ba5cdec_f974_11eb_9dff_acde48001122row45_col0,#T_2ba5cdec_f974_11eb_9dff_acde48001122row60_col7{\n",
                            "            background-color:  #fbf4f9;\n",
                            "            color:  #000000;\n",
                            "        }#T_2ba5cdec_f974_11eb_9dff_acde48001122row28_col1{\n",
                            "            background-color:  #2786bb;\n",
                            "            color:  #000000;\n",
                            "        }#T_2ba5cdec_f974_11eb_9dff_acde48001122row30_col4,#T_2ba5cdec_f974_11eb_9dff_acde48001122row49_col1{\n",
                            "            background-color:  #75a9cf;\n",
                            "            color:  #000000;\n",
                            "        }#T_2ba5cdec_f974_11eb_9dff_acde48001122row33_col0{\n",
                            "            background-color:  #faf3f9;\n",
                            "            color:  #000000;\n",
                            "        }#T_2ba5cdec_f974_11eb_9dff_acde48001122row33_col1{\n",
                            "            background-color:  #69a5cc;\n",
                            "            color:  #000000;\n",
                            "        }#T_2ba5cdec_f974_11eb_9dff_acde48001122row33_col4{\n",
                            "            background-color:  #4496c3;\n",
                            "            color:  #000000;\n",
                            "        }#T_2ba5cdec_f974_11eb_9dff_acde48001122row33_col7,#T_2ba5cdec_f974_11eb_9dff_acde48001122row46_col3,#T_2ba5cdec_f974_11eb_9dff_acde48001122row59_col9{\n",
                            "            background-color:  #fdf5fa;\n",
                            "            color:  #000000;\n",
                            "        }#T_2ba5cdec_f974_11eb_9dff_acde48001122row33_col8{\n",
                            "            background-color:  #1379b5;\n",
                            "            color:  #f1f1f1;\n",
                            "        }#T_2ba5cdec_f974_11eb_9dff_acde48001122row37_col1{\n",
                            "            background-color:  #4a98c5;\n",
                            "            color:  #000000;\n",
                            "        }#T_2ba5cdec_f974_11eb_9dff_acde48001122row42_col1,#T_2ba5cdec_f974_11eb_9dff_acde48001122row45_col1{\n",
                            "            background-color:  #4c99c5;\n",
                            "            color:  #000000;\n",
                            "        }#T_2ba5cdec_f974_11eb_9dff_acde48001122row42_col4{\n",
                            "            background-color:  #02395a;\n",
                            "            color:  #f1f1f1;\n",
                            "        }#T_2ba5cdec_f974_11eb_9dff_acde48001122row42_col8{\n",
                            "            background-color:  #65a3cb;\n",
                            "            color:  #000000;\n",
                            "        }#T_2ba5cdec_f974_11eb_9dff_acde48001122row43_col3,#T_2ba5cdec_f974_11eb_9dff_acde48001122row58_col7{\n",
                            "            background-color:  #a7bddb;\n",
                            "            color:  #000000;\n",
                            "        }#T_2ba5cdec_f974_11eb_9dff_acde48001122row45_col7{\n",
                            "            background-color:  #e0dded;\n",
                            "            color:  #000000;\n",
                            "        }#T_2ba5cdec_f974_11eb_9dff_acde48001122row45_col8{\n",
                            "            background-color:  #63a2cb;\n",
                            "            color:  #000000;\n",
                            "        }#T_2ba5cdec_f974_11eb_9dff_acde48001122row46_col0{\n",
                            "            background-color:  #fcf4fa;\n",
                            "            color:  #000000;\n",
                            "        }#T_2ba5cdec_f974_11eb_9dff_acde48001122row46_col1{\n",
                            "            background-color:  #2383ba;\n",
                            "            color:  #000000;\n",
                            "        }#T_2ba5cdec_f974_11eb_9dff_acde48001122row49_col4{\n",
                            "            background-color:  #6fa7ce;\n",
                            "            color:  #000000;\n",
                            "        }#T_2ba5cdec_f974_11eb_9dff_acde48001122row54_col1{\n",
                            "            background-color:  #589ec8;\n",
                            "            color:  #000000;\n",
                            "        }#T_2ba5cdec_f974_11eb_9dff_acde48001122row55_col3{\n",
                            "            background-color:  #8fb4d6;\n",
                            "            color:  #000000;\n",
                            "        }</style><table id=\"T_2ba5cdec_f974_11eb_9dff_acde48001122\" ><thead>    <tr>        <th class=\"blank level0\" ></th>        <th class=\"col_heading level0 col0\" >PC0</th>        <th class=\"col_heading level0 col1\" >PC1</th>        <th class=\"col_heading level0 col2\" >PC2</th>        <th class=\"col_heading level0 col3\" >PC3</th>        <th class=\"col_heading level0 col4\" >PC4</th>        <th class=\"col_heading level0 col5\" >PC5</th>        <th class=\"col_heading level0 col6\" >PC6</th>        <th class=\"col_heading level0 col7\" >PC7</th>        <th class=\"col_heading level0 col8\" >PC8</th>        <th class=\"col_heading level0 col9\" >PC9</th>        <th class=\"col_heading level0 col10\" >title</th>    </tr>    <tr>        <th class=\"index_name level0\" >book_id</th>        <th class=\"blank\" ></th>        <th class=\"blank\" ></th>        <th class=\"blank\" ></th>        <th class=\"blank\" ></th>        <th class=\"blank\" ></th>        <th class=\"blank\" ></th>        <th class=\"blank\" ></th>        <th class=\"blank\" ></th>        <th class=\"blank\" ></th>        <th class=\"blank\" ></th>        <th class=\"blank\" ></th>    </tr></thead><tbody>\n",
                            "                <tr>\n",
                            "                        <th id=\"T_2ba5cdec_f974_11eb_9dff_acde48001122level0_row0\" class=\"row_heading level0 row0\" >108</th>\n",
                            "                        <td id=\"T_2ba5cdec_f974_11eb_9dff_acde48001122row0_col0\" class=\"data row0 col0\" >0.000431</td>\n",
                            "                        <td id=\"T_2ba5cdec_f974_11eb_9dff_acde48001122row0_col1\" class=\"data row0 col1\" >-0.001309</td>\n",
                            "                        <td id=\"T_2ba5cdec_f974_11eb_9dff_acde48001122row0_col2\" class=\"data row0 col2\" >0.000391</td>\n",
                            "                        <td id=\"T_2ba5cdec_f974_11eb_9dff_acde48001122row0_col3\" class=\"data row0 col3\" >-0.000002</td>\n",
                            "                        <td id=\"T_2ba5cdec_f974_11eb_9dff_acde48001122row0_col4\" class=\"data row0 col4\" >-0.000123</td>\n",
                            "                        <td id=\"T_2ba5cdec_f974_11eb_9dff_acde48001122row0_col5\" class=\"data row0 col5\" >-0.000105</td>\n",
                            "                        <td id=\"T_2ba5cdec_f974_11eb_9dff_acde48001122row0_col6\" class=\"data row0 col6\" >-0.000430</td>\n",
                            "                        <td id=\"T_2ba5cdec_f974_11eb_9dff_acde48001122row0_col7\" class=\"data row0 col7\" >0.000090</td>\n",
                            "                        <td id=\"T_2ba5cdec_f974_11eb_9dff_acde48001122row0_col8\" class=\"data row0 col8\" >0.000076</td>\n",
                            "                        <td id=\"T_2ba5cdec_f974_11eb_9dff_acde48001122row0_col9\" class=\"data row0 col9\" >0.000040</td>\n",
                            "                        <td id=\"T_2ba5cdec_f974_11eb_9dff_acde48001122row0_col10\" class=\"data row0 col10\" >THE RETURN OF SHERLOCK HOLMES</td>\n",
                            "            </tr>\n",
                            "            <tr>\n",
                            "                        <th id=\"T_2ba5cdec_f974_11eb_9dff_acde48001122level0_row1\" class=\"row_heading level0 row1\" >126</th>\n",
                            "                        <td id=\"T_2ba5cdec_f974_11eb_9dff_acde48001122row1_col0\" class=\"data row1 col0\" >-0.000634</td>\n",
                            "                        <td id=\"T_2ba5cdec_f974_11eb_9dff_acde48001122row1_col1\" class=\"data row1 col1\" >0.001411</td>\n",
                            "                        <td id=\"T_2ba5cdec_f974_11eb_9dff_acde48001122row1_col2\" class=\"data row1 col2\" >-0.002283</td>\n",
                            "                        <td id=\"T_2ba5cdec_f974_11eb_9dff_acde48001122row1_col3\" class=\"data row1 col3\" >0.006361</td>\n",
                            "                        <td id=\"T_2ba5cdec_f974_11eb_9dff_acde48001122row1_col4\" class=\"data row1 col4\" >-0.003054</td>\n",
                            "                        <td id=\"T_2ba5cdec_f974_11eb_9dff_acde48001122row1_col5\" class=\"data row1 col5\" >-0.001573</td>\n",
                            "                        <td id=\"T_2ba5cdec_f974_11eb_9dff_acde48001122row1_col6\" class=\"data row1 col6\" >-0.000403</td>\n",
                            "                        <td id=\"T_2ba5cdec_f974_11eb_9dff_acde48001122row1_col7\" class=\"data row1 col7\" >-0.001003</td>\n",
                            "                        <td id=\"T_2ba5cdec_f974_11eb_9dff_acde48001122row1_col8\" class=\"data row1 col8\" >0.001607</td>\n",
                            "                        <td id=\"T_2ba5cdec_f974_11eb_9dff_acde48001122row1_col9\" class=\"data row1 col9\" >0.000107</td>\n",
                            "                        <td id=\"T_2ba5cdec_f974_11eb_9dff_acde48001122row1_col10\" class=\"data row1 col10\" >THE POISON BELT</td>\n",
                            "            </tr>\n",
                            "            <tr>\n",
                            "                        <th id=\"T_2ba5cdec_f974_11eb_9dff_acde48001122level0_row2\" class=\"row_heading level0 row2\" >139</th>\n",
                            "                        <td id=\"T_2ba5cdec_f974_11eb_9dff_acde48001122row2_col0\" class=\"data row2 col0\" >-0.000499</td>\n",
                            "                        <td id=\"T_2ba5cdec_f974_11eb_9dff_acde48001122row2_col1\" class=\"data row2 col1\" >0.000880</td>\n",
                            "                        <td id=\"T_2ba5cdec_f974_11eb_9dff_acde48001122row2_col2\" class=\"data row2 col2\" >-0.001390</td>\n",
                            "                        <td id=\"T_2ba5cdec_f974_11eb_9dff_acde48001122row2_col3\" class=\"data row2 col3\" >0.003811</td>\n",
                            "                        <td id=\"T_2ba5cdec_f974_11eb_9dff_acde48001122row2_col4\" class=\"data row2 col4\" >-0.001686</td>\n",
                            "                        <td id=\"T_2ba5cdec_f974_11eb_9dff_acde48001122row2_col5\" class=\"data row2 col5\" >-0.000863</td>\n",
                            "                        <td id=\"T_2ba5cdec_f974_11eb_9dff_acde48001122row2_col6\" class=\"data row2 col6\" >-0.000171</td>\n",
                            "                        <td id=\"T_2ba5cdec_f974_11eb_9dff_acde48001122row2_col7\" class=\"data row2 col7\" >-0.000513</td>\n",
                            "                        <td id=\"T_2ba5cdec_f974_11eb_9dff_acde48001122row2_col8\" class=\"data row2 col8\" >0.000812</td>\n",
                            "                        <td id=\"T_2ba5cdec_f974_11eb_9dff_acde48001122row2_col9\" class=\"data row2 col9\" >0.000051</td>\n",
                            "                        <td id=\"T_2ba5cdec_f974_11eb_9dff_acde48001122row2_col10\" class=\"data row2 col10\" >THE LOST WORLD</td>\n",
                            "            </tr>\n",
                            "            <tr>\n",
                            "                        <th id=\"T_2ba5cdec_f974_11eb_9dff_acde48001122level0_row3\" class=\"row_heading level0 row3\" >244</th>\n",
                            "                        <td id=\"T_2ba5cdec_f974_11eb_9dff_acde48001122row3_col0\" class=\"data row3 col0\" >-0.000019</td>\n",
                            "                        <td id=\"T_2ba5cdec_f974_11eb_9dff_acde48001122row3_col1\" class=\"data row3 col1\" >-0.000548</td>\n",
                            "                        <td id=\"T_2ba5cdec_f974_11eb_9dff_acde48001122row3_col2\" class=\"data row3 col2\" >0.000072</td>\n",
                            "                        <td id=\"T_2ba5cdec_f974_11eb_9dff_acde48001122row3_col3\" class=\"data row3 col3\" >-0.000006</td>\n",
                            "                        <td id=\"T_2ba5cdec_f974_11eb_9dff_acde48001122row3_col4\" class=\"data row3 col4\" >0.000002</td>\n",
                            "                        <td id=\"T_2ba5cdec_f974_11eb_9dff_acde48001122row3_col5\" class=\"data row3 col5\" >0.000031</td>\n",
                            "                        <td id=\"T_2ba5cdec_f974_11eb_9dff_acde48001122row3_col6\" class=\"data row3 col6\" >-0.000189</td>\n",
                            "                        <td id=\"T_2ba5cdec_f974_11eb_9dff_acde48001122row3_col7\" class=\"data row3 col7\" >0.000169</td>\n",
                            "                        <td id=\"T_2ba5cdec_f974_11eb_9dff_acde48001122row3_col8\" class=\"data row3 col8\" >-0.000153</td>\n",
                            "                        <td id=\"T_2ba5cdec_f974_11eb_9dff_acde48001122row3_col9\" class=\"data row3 col9\" >0.000085</td>\n",
                            "                        <td id=\"T_2ba5cdec_f974_11eb_9dff_acde48001122row3_col10\" class=\"data row3 col10\" >A STUDY IN SCARLET</td>\n",
                            "            </tr>\n",
                            "            <tr>\n",
                            "                        <th id=\"T_2ba5cdec_f974_11eb_9dff_acde48001122level0_row4\" class=\"row_heading level0 row4\" >290</th>\n",
                            "                        <td id=\"T_2ba5cdec_f974_11eb_9dff_acde48001122row4_col0\" class=\"data row4 col0\" >-0.000279</td>\n",
                            "                        <td id=\"T_2ba5cdec_f974_11eb_9dff_acde48001122row4_col1\" class=\"data row4 col1\" >0.000145</td>\n",
                            "                        <td id=\"T_2ba5cdec_f974_11eb_9dff_acde48001122row4_col2\" class=\"data row4 col2\" >-0.000125</td>\n",
                            "                        <td id=\"T_2ba5cdec_f974_11eb_9dff_acde48001122row4_col3\" class=\"data row4 col3\" >0.000063</td>\n",
                            "                        <td id=\"T_2ba5cdec_f974_11eb_9dff_acde48001122row4_col4\" class=\"data row4 col4\" >0.000135</td>\n",
                            "                        <td id=\"T_2ba5cdec_f974_11eb_9dff_acde48001122row4_col5\" class=\"data row4 col5\" >0.000202</td>\n",
                            "                        <td id=\"T_2ba5cdec_f974_11eb_9dff_acde48001122row4_col6\" class=\"data row4 col6\" >0.000108</td>\n",
                            "                        <td id=\"T_2ba5cdec_f974_11eb_9dff_acde48001122row4_col7\" class=\"data row4 col7\" >0.000139</td>\n",
                            "                        <td id=\"T_2ba5cdec_f974_11eb_9dff_acde48001122row4_col8\" class=\"data row4 col8\" >-0.000304</td>\n",
                            "                        <td id=\"T_2ba5cdec_f974_11eb_9dff_acde48001122row4_col9\" class=\"data row4 col9\" >-0.000044</td>\n",
                            "                        <td id=\"T_2ba5cdec_f974_11eb_9dff_acde48001122row4_col10\" class=\"data row4 col10\" >THE STARK MUNRO LETTERS BEING SERIES OF TWELVE LETTERS WRITTEN BY J STARK MUNRO M B TO HIS FRIEND AND FORMER FELLOW STUDENT HERBERT SWANBOROUGH OF LOWELL MASSACHUSETTS DURING THE YEARS 1881 1884</td>\n",
                            "            </tr>\n",
                            "            <tr>\n",
                            "                        <th id=\"T_2ba5cdec_f974_11eb_9dff_acde48001122level0_row5\" class=\"row_heading level0 row5\" >294</th>\n",
                            "                        <td id=\"T_2ba5cdec_f974_11eb_9dff_acde48001122row5_col0\" class=\"data row5 col0\" >-0.000209</td>\n",
                            "                        <td id=\"T_2ba5cdec_f974_11eb_9dff_acde48001122row5_col1\" class=\"data row5 col1\" >0.000180</td>\n",
                            "                        <td id=\"T_2ba5cdec_f974_11eb_9dff_acde48001122row5_col2\" class=\"data row5 col2\" >-0.000111</td>\n",
                            "                        <td id=\"T_2ba5cdec_f974_11eb_9dff_acde48001122row5_col3\" class=\"data row5 col3\" >0.000044</td>\n",
                            "                        <td id=\"T_2ba5cdec_f974_11eb_9dff_acde48001122row5_col4\" class=\"data row5 col4\" >0.000134</td>\n",
                            "                        <td id=\"T_2ba5cdec_f974_11eb_9dff_acde48001122row5_col5\" class=\"data row5 col5\" >0.000132</td>\n",
                            "                        <td id=\"T_2ba5cdec_f974_11eb_9dff_acde48001122row5_col6\" class=\"data row5 col6\" >0.000088</td>\n",
                            "                        <td id=\"T_2ba5cdec_f974_11eb_9dff_acde48001122row5_col7\" class=\"data row5 col7\" >0.000133</td>\n",
                            "                        <td id=\"T_2ba5cdec_f974_11eb_9dff_acde48001122row5_col8\" class=\"data row5 col8\" >-0.000258</td>\n",
                            "                        <td id=\"T_2ba5cdec_f974_11eb_9dff_acde48001122row5_col9\" class=\"data row5 col9\" >0.000009</td>\n",
                            "                        <td id=\"T_2ba5cdec_f974_11eb_9dff_acde48001122row5_col10\" class=\"data row5 col10\" >THE CAPTAIN OF THE POLESTAR AND OTHER TALES</td>\n",
                            "            </tr>\n",
                            "            <tr>\n",
                            "                        <th id=\"T_2ba5cdec_f974_11eb_9dff_acde48001122level0_row6\" class=\"row_heading level0 row6\" >355</th>\n",
                            "                        <td id=\"T_2ba5cdec_f974_11eb_9dff_acde48001122row6_col0\" class=\"data row6 col0\" >-0.000334</td>\n",
                            "                        <td id=\"T_2ba5cdec_f974_11eb_9dff_acde48001122row6_col1\" class=\"data row6 col1\" >0.000256</td>\n",
                            "                        <td id=\"T_2ba5cdec_f974_11eb_9dff_acde48001122row6_col2\" class=\"data row6 col2\" >-0.000044</td>\n",
                            "                        <td id=\"T_2ba5cdec_f974_11eb_9dff_acde48001122row6_col3\" class=\"data row6 col3\" >0.000397</td>\n",
                            "                        <td id=\"T_2ba5cdec_f974_11eb_9dff_acde48001122row6_col4\" class=\"data row6 col4\" >0.000099</td>\n",
                            "                        <td id=\"T_2ba5cdec_f974_11eb_9dff_acde48001122row6_col5\" class=\"data row6 col5\" >0.000130</td>\n",
                            "                        <td id=\"T_2ba5cdec_f974_11eb_9dff_acde48001122row6_col6\" class=\"data row6 col6\" >0.000294</td>\n",
                            "                        <td id=\"T_2ba5cdec_f974_11eb_9dff_acde48001122row6_col7\" class=\"data row6 col7\" >0.000033</td>\n",
                            "                        <td id=\"T_2ba5cdec_f974_11eb_9dff_acde48001122row6_col8\" class=\"data row6 col8\" >-0.000370</td>\n",
                            "                        <td id=\"T_2ba5cdec_f974_11eb_9dff_acde48001122row6_col9\" class=\"data row6 col9\" >-0.000158</td>\n",
                            "                        <td id=\"T_2ba5cdec_f974_11eb_9dff_acde48001122row6_col10\" class=\"data row6 col10\" >THE PARASITE A STORY</td>\n",
                            "            </tr>\n",
                            "            <tr>\n",
                            "                        <th id=\"T_2ba5cdec_f974_11eb_9dff_acde48001122level0_row7\" class=\"row_heading level0 row7\" >356</th>\n",
                            "                        <td id=\"T_2ba5cdec_f974_11eb_9dff_acde48001122row7_col0\" class=\"data row7 col0\" >-0.000371</td>\n",
                            "                        <td id=\"T_2ba5cdec_f974_11eb_9dff_acde48001122row7_col1\" class=\"data row7 col1\" >0.000155</td>\n",
                            "                        <td id=\"T_2ba5cdec_f974_11eb_9dff_acde48001122row7_col2\" class=\"data row7 col2\" >-0.000289</td>\n",
                            "                        <td id=\"T_2ba5cdec_f974_11eb_9dff_acde48001122row7_col3\" class=\"data row7 col3\" >0.000007</td>\n",
                            "                        <td id=\"T_2ba5cdec_f974_11eb_9dff_acde48001122row7_col4\" class=\"data row7 col4\" >0.000236</td>\n",
                            "                        <td id=\"T_2ba5cdec_f974_11eb_9dff_acde48001122row7_col5\" class=\"data row7 col5\" >0.000462</td>\n",
                            "                        <td id=\"T_2ba5cdec_f974_11eb_9dff_acde48001122row7_col6\" class=\"data row7 col6\" >0.000005</td>\n",
                            "                        <td id=\"T_2ba5cdec_f974_11eb_9dff_acde48001122row7_col7\" class=\"data row7 col7\" >0.000063</td>\n",
                            "                        <td id=\"T_2ba5cdec_f974_11eb_9dff_acde48001122row7_col8\" class=\"data row7 col8\" >-0.000209</td>\n",
                            "                        <td id=\"T_2ba5cdec_f974_11eb_9dff_acde48001122row7_col9\" class=\"data row7 col9\" >-0.000293</td>\n",
                            "                        <td id=\"T_2ba5cdec_f974_11eb_9dff_acde48001122row7_col10\" class=\"data row7 col10\" >BEYOND THE CITY</td>\n",
                            "            </tr>\n",
                            "            <tr>\n",
                            "                        <th id=\"T_2ba5cdec_f974_11eb_9dff_acde48001122level0_row8\" class=\"row_heading level0 row8\" >423</th>\n",
                            "                        <td id=\"T_2ba5cdec_f974_11eb_9dff_acde48001122row8_col0\" class=\"data row8 col0\" >-0.000253</td>\n",
                            "                        <td id=\"T_2ba5cdec_f974_11eb_9dff_acde48001122row8_col1\" class=\"data row8 col1\" >0.000116</td>\n",
                            "                        <td id=\"T_2ba5cdec_f974_11eb_9dff_acde48001122row8_col2\" class=\"data row8 col2\" >-0.000108</td>\n",
                            "                        <td id=\"T_2ba5cdec_f974_11eb_9dff_acde48001122row8_col3\" class=\"data row8 col3\" >0.000055</td>\n",
                            "                        <td id=\"T_2ba5cdec_f974_11eb_9dff_acde48001122row8_col4\" class=\"data row8 col4\" >0.000112</td>\n",
                            "                        <td id=\"T_2ba5cdec_f974_11eb_9dff_acde48001122row8_col5\" class=\"data row8 col5\" >0.000152</td>\n",
                            "                        <td id=\"T_2ba5cdec_f974_11eb_9dff_acde48001122row8_col6\" class=\"data row8 col6\" >0.000057</td>\n",
                            "                        <td id=\"T_2ba5cdec_f974_11eb_9dff_acde48001122row8_col7\" class=\"data row8 col7\" >0.000122</td>\n",
                            "                        <td id=\"T_2ba5cdec_f974_11eb_9dff_acde48001122row8_col8\" class=\"data row8 col8\" >-0.000236</td>\n",
                            "                        <td id=\"T_2ba5cdec_f974_11eb_9dff_acde48001122row8_col9\" class=\"data row8 col9\" >-0.000028</td>\n",
                            "                        <td id=\"T_2ba5cdec_f974_11eb_9dff_acde48001122row8_col10\" class=\"data row8 col10\" >ROUND THE RED LAMP BEING FACTS AND FANCIES OF MEDICAL LIFE</td>\n",
                            "            </tr>\n",
                            "            <tr>\n",
                            "                        <th id=\"T_2ba5cdec_f974_11eb_9dff_acde48001122level0_row9\" class=\"row_heading level0 row9\" >439</th>\n",
                            "                        <td id=\"T_2ba5cdec_f974_11eb_9dff_acde48001122row9_col0\" class=\"data row9 col0\" >-0.000302</td>\n",
                            "                        <td id=\"T_2ba5cdec_f974_11eb_9dff_acde48001122row9_col1\" class=\"data row9 col1\" >0.000173</td>\n",
                            "                        <td id=\"T_2ba5cdec_f974_11eb_9dff_acde48001122row9_col2\" class=\"data row9 col2\" >-0.000192</td>\n",
                            "                        <td id=\"T_2ba5cdec_f974_11eb_9dff_acde48001122row9_col3\" class=\"data row9 col3\" >0.000135</td>\n",
                            "                        <td id=\"T_2ba5cdec_f974_11eb_9dff_acde48001122row9_col4\" class=\"data row9 col4\" >0.000153</td>\n",
                            "                        <td id=\"T_2ba5cdec_f974_11eb_9dff_acde48001122row9_col5\" class=\"data row9 col5\" >0.000177</td>\n",
                            "                        <td id=\"T_2ba5cdec_f974_11eb_9dff_acde48001122row9_col6\" class=\"data row9 col6\" >0.000125</td>\n",
                            "                        <td id=\"T_2ba5cdec_f974_11eb_9dff_acde48001122row9_col7\" class=\"data row9 col7\" >0.000235</td>\n",
                            "                        <td id=\"T_2ba5cdec_f974_11eb_9dff_acde48001122row9_col8\" class=\"data row9 col8\" >-0.000420</td>\n",
                            "                        <td id=\"T_2ba5cdec_f974_11eb_9dff_acde48001122row9_col9\" class=\"data row9 col9\" >-0.000226</td>\n",
                            "                        <td id=\"T_2ba5cdec_f974_11eb_9dff_acde48001122row9_col10\" class=\"data row9 col10\" >THE VITAL MESSAGE</td>\n",
                            "            </tr>\n",
                            "            <tr>\n",
                            "                        <th id=\"T_2ba5cdec_f974_11eb_9dff_acde48001122level0_row10\" class=\"row_heading level0 row10\" >537</th>\n",
                            "                        <td id=\"T_2ba5cdec_f974_11eb_9dff_acde48001122row10_col0\" class=\"data row10 col0\" >-0.000228</td>\n",
                            "                        <td id=\"T_2ba5cdec_f974_11eb_9dff_acde48001122row10_col1\" class=\"data row10 col1\" >0.000095</td>\n",
                            "                        <td id=\"T_2ba5cdec_f974_11eb_9dff_acde48001122row10_col2\" class=\"data row10 col2\" >-0.000064</td>\n",
                            "                        <td id=\"T_2ba5cdec_f974_11eb_9dff_acde48001122row10_col3\" class=\"data row10 col3\" >0.000061</td>\n",
                            "                        <td id=\"T_2ba5cdec_f974_11eb_9dff_acde48001122row10_col4\" class=\"data row10 col4\" >0.000094</td>\n",
                            "                        <td id=\"T_2ba5cdec_f974_11eb_9dff_acde48001122row10_col5\" class=\"data row10 col5\" >0.000120</td>\n",
                            "                        <td id=\"T_2ba5cdec_f974_11eb_9dff_acde48001122row10_col6\" class=\"data row10 col6\" >0.000046</td>\n",
                            "                        <td id=\"T_2ba5cdec_f974_11eb_9dff_acde48001122row10_col7\" class=\"data row10 col7\" >0.000105</td>\n",
                            "                        <td id=\"T_2ba5cdec_f974_11eb_9dff_acde48001122row10_col8\" class=\"data row10 col8\" >-0.000249</td>\n",
                            "                        <td id=\"T_2ba5cdec_f974_11eb_9dff_acde48001122row10_col9\" class=\"data row10 col9\" >-0.000028</td>\n",
                            "                        <td id=\"T_2ba5cdec_f974_11eb_9dff_acde48001122row10_col10\" class=\"data row10 col10\" >TALES OF TERROR AND MYSTERY</td>\n",
                            "            </tr>\n",
                            "            <tr>\n",
                            "                        <th id=\"T_2ba5cdec_f974_11eb_9dff_acde48001122level0_row11\" class=\"row_heading level0 row11\" >903</th>\n",
                            "                        <td id=\"T_2ba5cdec_f974_11eb_9dff_acde48001122row11_col0\" class=\"data row11 col0\" >-0.000497</td>\n",
                            "                        <td id=\"T_2ba5cdec_f974_11eb_9dff_acde48001122row11_col1\" class=\"data row11 col1\" >0.000584</td>\n",
                            "                        <td id=\"T_2ba5cdec_f974_11eb_9dff_acde48001122row11_col2\" class=\"data row11 col2\" >-0.000227</td>\n",
                            "                        <td id=\"T_2ba5cdec_f974_11eb_9dff_acde48001122row11_col3\" class=\"data row11 col3\" >-0.000233</td>\n",
                            "                        <td id=\"T_2ba5cdec_f974_11eb_9dff_acde48001122row11_col4\" class=\"data row11 col4\" >0.000221</td>\n",
                            "                        <td id=\"T_2ba5cdec_f974_11eb_9dff_acde48001122row11_col5\" class=\"data row11 col5\" >0.000548</td>\n",
                            "                        <td id=\"T_2ba5cdec_f974_11eb_9dff_acde48001122row11_col6\" class=\"data row11 col6\" >0.000989</td>\n",
                            "                        <td id=\"T_2ba5cdec_f974_11eb_9dff_acde48001122row11_col7\" class=\"data row11 col7\" >-0.000504</td>\n",
                            "                        <td id=\"T_2ba5cdec_f974_11eb_9dff_acde48001122row11_col8\" class=\"data row11 col8\" >-0.001368</td>\n",
                            "                        <td id=\"T_2ba5cdec_f974_11eb_9dff_acde48001122row11_col9\" class=\"data row11 col9\" >0.004483</td>\n",
                            "                        <td id=\"T_2ba5cdec_f974_11eb_9dff_acde48001122row11_col10\" class=\"data row11 col10\" >THE WHITE COMPANY</td>\n",
                            "            </tr>\n",
                            "            <tr>\n",
                            "                        <th id=\"T_2ba5cdec_f974_11eb_9dff_acde48001122level0_row12\" class=\"row_heading level0 row12\" >1638</th>\n",
                            "                        <td id=\"T_2ba5cdec_f974_11eb_9dff_acde48001122row12_col0\" class=\"data row12 col0\" >-0.000277</td>\n",
                            "                        <td id=\"T_2ba5cdec_f974_11eb_9dff_acde48001122row12_col1\" class=\"data row12 col1\" >0.000135</td>\n",
                            "                        <td id=\"T_2ba5cdec_f974_11eb_9dff_acde48001122row12_col2\" class=\"data row12 col2\" >-0.000163</td>\n",
                            "                        <td id=\"T_2ba5cdec_f974_11eb_9dff_acde48001122row12_col3\" class=\"data row12 col3\" >0.000121</td>\n",
                            "                        <td id=\"T_2ba5cdec_f974_11eb_9dff_acde48001122row12_col4\" class=\"data row12 col4\" >0.000141</td>\n",
                            "                        <td id=\"T_2ba5cdec_f974_11eb_9dff_acde48001122row12_col5\" class=\"data row12 col5\" >0.000164</td>\n",
                            "                        <td id=\"T_2ba5cdec_f974_11eb_9dff_acde48001122row12_col6\" class=\"data row12 col6\" >0.000110</td>\n",
                            "                        <td id=\"T_2ba5cdec_f974_11eb_9dff_acde48001122row12_col7\" class=\"data row12 col7\" >0.000196</td>\n",
                            "                        <td id=\"T_2ba5cdec_f974_11eb_9dff_acde48001122row12_col8\" class=\"data row12 col8\" >-0.000366</td>\n",
                            "                        <td id=\"T_2ba5cdec_f974_11eb_9dff_acde48001122row12_col9\" class=\"data row12 col9\" >-0.000139</td>\n",
                            "                        <td id=\"T_2ba5cdec_f974_11eb_9dff_acde48001122row12_col10\" class=\"data row12 col10\" >THE NEW REVELATION</td>\n",
                            "            </tr>\n",
                            "            <tr>\n",
                            "                        <th id=\"T_2ba5cdec_f974_11eb_9dff_acde48001122level0_row13\" class=\"row_heading level0 row13\" >1644</th>\n",
                            "                        <td id=\"T_2ba5cdec_f974_11eb_9dff_acde48001122row13_col0\" class=\"data row13 col0\" >-0.000288</td>\n",
                            "                        <td id=\"T_2ba5cdec_f974_11eb_9dff_acde48001122row13_col1\" class=\"data row13 col1\" >0.000211</td>\n",
                            "                        <td id=\"T_2ba5cdec_f974_11eb_9dff_acde48001122row13_col2\" class=\"data row13 col2\" >-0.000162</td>\n",
                            "                        <td id=\"T_2ba5cdec_f974_11eb_9dff_acde48001122row13_col3\" class=\"data row13 col3\" >-0.000008</td>\n",
                            "                        <td id=\"T_2ba5cdec_f974_11eb_9dff_acde48001122row13_col4\" class=\"data row13 col4\" >0.000176</td>\n",
                            "                        <td id=\"T_2ba5cdec_f974_11eb_9dff_acde48001122row13_col5\" class=\"data row13 col5\" >0.000124</td>\n",
                            "                        <td id=\"T_2ba5cdec_f974_11eb_9dff_acde48001122row13_col6\" class=\"data row13 col6\" >0.000130</td>\n",
                            "                        <td id=\"T_2ba5cdec_f974_11eb_9dff_acde48001122row13_col7\" class=\"data row13 col7\" >0.000148</td>\n",
                            "                        <td id=\"T_2ba5cdec_f974_11eb_9dff_acde48001122row13_col8\" class=\"data row13 col8\" >-0.000297</td>\n",
                            "                        <td id=\"T_2ba5cdec_f974_11eb_9dff_acde48001122row13_col9\" class=\"data row13 col9\" >0.000040</td>\n",
                            "                        <td id=\"T_2ba5cdec_f974_11eb_9dff_acde48001122row13_col10\" class=\"data row13 col10\" >THE ADVENTURES OF GERARD</td>\n",
                            "            </tr>\n",
                            "            <tr>\n",
                            "                        <th id=\"T_2ba5cdec_f974_11eb_9dff_acde48001122level0_row14\" class=\"row_heading level0 row14\" >1661</th>\n",
                            "                        <td id=\"T_2ba5cdec_f974_11eb_9dff_acde48001122row14_col0\" class=\"data row14 col0\" >0.000183</td>\n",
                            "                        <td id=\"T_2ba5cdec_f974_11eb_9dff_acde48001122row14_col1\" class=\"data row14 col1\" >-0.000863</td>\n",
                            "                        <td id=\"T_2ba5cdec_f974_11eb_9dff_acde48001122row14_col2\" class=\"data row14 col2\" >0.000223</td>\n",
                            "                        <td id=\"T_2ba5cdec_f974_11eb_9dff_acde48001122row14_col3\" class=\"data row14 col3\" >-0.000019</td>\n",
                            "                        <td id=\"T_2ba5cdec_f974_11eb_9dff_acde48001122row14_col4\" class=\"data row14 col4\" >-0.000054</td>\n",
                            "                        <td id=\"T_2ba5cdec_f974_11eb_9dff_acde48001122row14_col5\" class=\"data row14 col5\" >-0.000031</td>\n",
                            "                        <td id=\"T_2ba5cdec_f974_11eb_9dff_acde48001122row14_col6\" class=\"data row14 col6\" >0.000034</td>\n",
                            "                        <td id=\"T_2ba5cdec_f974_11eb_9dff_acde48001122row14_col7\" class=\"data row14 col7\" >-0.000029</td>\n",
                            "                        <td id=\"T_2ba5cdec_f974_11eb_9dff_acde48001122row14_col8\" class=\"data row14 col8\" >0.000019</td>\n",
                            "                        <td id=\"T_2ba5cdec_f974_11eb_9dff_acde48001122row14_col9\" class=\"data row14 col9\" >0.000006</td>\n",
                            "                        <td id=\"T_2ba5cdec_f974_11eb_9dff_acde48001122row14_col10\" class=\"data row14 col10\" >THE ADVENTURES OF SHERLOCK HOLMES</td>\n",
                            "            </tr>\n",
                            "            <tr>\n",
                            "                        <th id=\"T_2ba5cdec_f974_11eb_9dff_acde48001122level0_row15\" class=\"row_heading level0 row15\" >2097</th>\n",
                            "                        <td id=\"T_2ba5cdec_f974_11eb_9dff_acde48001122row15_col0\" class=\"data row15 col0\" >0.000045</td>\n",
                            "                        <td id=\"T_2ba5cdec_f974_11eb_9dff_acde48001122row15_col1\" class=\"data row15 col1\" >-0.000611</td>\n",
                            "                        <td id=\"T_2ba5cdec_f974_11eb_9dff_acde48001122row15_col2\" class=\"data row15 col2\" >0.000108</td>\n",
                            "                        <td id=\"T_2ba5cdec_f974_11eb_9dff_acde48001122row15_col3\" class=\"data row15 col3\" >0.000001</td>\n",
                            "                        <td id=\"T_2ba5cdec_f974_11eb_9dff_acde48001122row15_col4\" class=\"data row15 col4\" >0.000009</td>\n",
                            "                        <td id=\"T_2ba5cdec_f974_11eb_9dff_acde48001122row15_col5\" class=\"data row15 col5\" >0.000028</td>\n",
                            "                        <td id=\"T_2ba5cdec_f974_11eb_9dff_acde48001122row15_col6\" class=\"data row15 col6\" >-0.000166</td>\n",
                            "                        <td id=\"T_2ba5cdec_f974_11eb_9dff_acde48001122row15_col7\" class=\"data row15 col7\" >0.000127</td>\n",
                            "                        <td id=\"T_2ba5cdec_f974_11eb_9dff_acde48001122row15_col8\" class=\"data row15 col8\" >-0.000132</td>\n",
                            "                        <td id=\"T_2ba5cdec_f974_11eb_9dff_acde48001122row15_col9\" class=\"data row15 col9\" >0.000069</td>\n",
                            "                        <td id=\"T_2ba5cdec_f974_11eb_9dff_acde48001122row15_col10\" class=\"data row15 col10\" >THE SIGN OF THE FOUR</td>\n",
                            "            </tr>\n",
                            "            <tr>\n",
                            "                        <th id=\"T_2ba5cdec_f974_11eb_9dff_acde48001122level0_row16\" class=\"row_heading level0 row16\" >2343</th>\n",
                            "                        <td id=\"T_2ba5cdec_f974_11eb_9dff_acde48001122row16_col0\" class=\"data row16 col0\" >0.000674</td>\n",
                            "                        <td id=\"T_2ba5cdec_f974_11eb_9dff_acde48001122row16_col1\" class=\"data row16 col1\" >-0.003211</td>\n",
                            "                        <td id=\"T_2ba5cdec_f974_11eb_9dff_acde48001122row16_col2\" class=\"data row16 col2\" >0.001310</td>\n",
                            "                        <td id=\"T_2ba5cdec_f974_11eb_9dff_acde48001122row16_col3\" class=\"data row16 col3\" >-0.000219</td>\n",
                            "                        <td id=\"T_2ba5cdec_f974_11eb_9dff_acde48001122row16_col4\" class=\"data row16 col4\" >-0.000924</td>\n",
                            "                        <td id=\"T_2ba5cdec_f974_11eb_9dff_acde48001122row16_col5\" class=\"data row16 col5\" >-0.001091</td>\n",
                            "                        <td id=\"T_2ba5cdec_f974_11eb_9dff_acde48001122row16_col6\" class=\"data row16 col6\" >-0.001524</td>\n",
                            "                        <td id=\"T_2ba5cdec_f974_11eb_9dff_acde48001122row16_col7\" class=\"data row16 col7\" >-0.000430</td>\n",
                            "                        <td id=\"T_2ba5cdec_f974_11eb_9dff_acde48001122row16_col8\" class=\"data row16 col8\" >0.000975</td>\n",
                            "                        <td id=\"T_2ba5cdec_f974_11eb_9dff_acde48001122row16_col9\" class=\"data row16 col9\" >0.000995</td>\n",
                            "                        <td id=\"T_2ba5cdec_f974_11eb_9dff_acde48001122row16_col10\" class=\"data row16 col10\" >THE ADVENTURE OF WISTERIA LODGE</td>\n",
                            "            </tr>\n",
                            "            <tr>\n",
                            "                        <th id=\"T_2ba5cdec_f974_11eb_9dff_acde48001122level0_row17\" class=\"row_heading level0 row17\" >2344</th>\n",
                            "                        <td id=\"T_2ba5cdec_f974_11eb_9dff_acde48001122row17_col0\" class=\"data row17 col0\" >0.000208</td>\n",
                            "                        <td id=\"T_2ba5cdec_f974_11eb_9dff_acde48001122row17_col1\" class=\"data row17 col1\" >-0.001238</td>\n",
                            "                        <td id=\"T_2ba5cdec_f974_11eb_9dff_acde48001122row17_col2\" class=\"data row17 col2\" >0.000439</td>\n",
                            "                        <td id=\"T_2ba5cdec_f974_11eb_9dff_acde48001122row17_col3\" class=\"data row17 col3\" >-0.000082</td>\n",
                            "                        <td id=\"T_2ba5cdec_f974_11eb_9dff_acde48001122row17_col4\" class=\"data row17 col4\" >-0.000048</td>\n",
                            "                        <td id=\"T_2ba5cdec_f974_11eb_9dff_acde48001122row17_col5\" class=\"data row17 col5\" >-0.000104</td>\n",
                            "                        <td id=\"T_2ba5cdec_f974_11eb_9dff_acde48001122row17_col6\" class=\"data row17 col6\" >-0.000828</td>\n",
                            "                        <td id=\"T_2ba5cdec_f974_11eb_9dff_acde48001122row17_col7\" class=\"data row17 col7\" >0.000358</td>\n",
                            "                        <td id=\"T_2ba5cdec_f974_11eb_9dff_acde48001122row17_col8\" class=\"data row17 col8\" >-0.000420</td>\n",
                            "                        <td id=\"T_2ba5cdec_f974_11eb_9dff_acde48001122row17_col9\" class=\"data row17 col9\" >0.000442</td>\n",
                            "                        <td id=\"T_2ba5cdec_f974_11eb_9dff_acde48001122row17_col10\" class=\"data row17 col10\" >THE ADVENTURE OF THE CARDBOARD BOX</td>\n",
                            "            </tr>\n",
                            "            <tr>\n",
                            "                        <th id=\"T_2ba5cdec_f974_11eb_9dff_acde48001122level0_row18\" class=\"row_heading level0 row18\" >2345</th>\n",
                            "                        <td id=\"T_2ba5cdec_f974_11eb_9dff_acde48001122row18_col0\" class=\"data row18 col0\" >0.000774</td>\n",
                            "                        <td id=\"T_2ba5cdec_f974_11eb_9dff_acde48001122row18_col1\" class=\"data row18 col1\" >-0.002977</td>\n",
                            "                        <td id=\"T_2ba5cdec_f974_11eb_9dff_acde48001122row18_col2\" class=\"data row18 col2\" >0.000994</td>\n",
                            "                        <td id=\"T_2ba5cdec_f974_11eb_9dff_acde48001122row18_col3\" class=\"data row18 col3\" >0.000046</td>\n",
                            "                        <td id=\"T_2ba5cdec_f974_11eb_9dff_acde48001122row18_col4\" class=\"data row18 col4\" >-0.000375</td>\n",
                            "                        <td id=\"T_2ba5cdec_f974_11eb_9dff_acde48001122row18_col5\" class=\"data row18 col5\" >-0.000491</td>\n",
                            "                        <td id=\"T_2ba5cdec_f974_11eb_9dff_acde48001122row18_col6\" class=\"data row18 col6\" >-0.002045</td>\n",
                            "                        <td id=\"T_2ba5cdec_f974_11eb_9dff_acde48001122row18_col7\" class=\"data row18 col7\" >0.000513</td>\n",
                            "                        <td id=\"T_2ba5cdec_f974_11eb_9dff_acde48001122row18_col8\" class=\"data row18 col8\" >0.000441</td>\n",
                            "                        <td id=\"T_2ba5cdec_f974_11eb_9dff_acde48001122row18_col9\" class=\"data row18 col9\" >0.000787</td>\n",
                            "                        <td id=\"T_2ba5cdec_f974_11eb_9dff_acde48001122row18_col10\" class=\"data row18 col10\" >THE ADVENTURE OF THE RED CIRCLE</td>\n",
                            "            </tr>\n",
                            "            <tr>\n",
                            "                        <th id=\"T_2ba5cdec_f974_11eb_9dff_acde48001122level0_row19\" class=\"row_heading level0 row19\" >2346</th>\n",
                            "                        <td id=\"T_2ba5cdec_f974_11eb_9dff_acde48001122row19_col0\" class=\"data row19 col0\" >0.000617</td>\n",
                            "                        <td id=\"T_2ba5cdec_f974_11eb_9dff_acde48001122row19_col1\" class=\"data row19 col1\" >-0.002106</td>\n",
                            "                        <td id=\"T_2ba5cdec_f974_11eb_9dff_acde48001122row19_col2\" class=\"data row19 col2\" >0.000373</td>\n",
                            "                        <td id=\"T_2ba5cdec_f974_11eb_9dff_acde48001122row19_col3\" class=\"data row19 col3\" >-0.000044</td>\n",
                            "                        <td id=\"T_2ba5cdec_f974_11eb_9dff_acde48001122row19_col4\" class=\"data row19 col4\" >-0.000244</td>\n",
                            "                        <td id=\"T_2ba5cdec_f974_11eb_9dff_acde48001122row19_col5\" class=\"data row19 col5\" >0.000013</td>\n",
                            "                        <td id=\"T_2ba5cdec_f974_11eb_9dff_acde48001122row19_col6\" class=\"data row19 col6\" >-0.001066</td>\n",
                            "                        <td id=\"T_2ba5cdec_f974_11eb_9dff_acde48001122row19_col7\" class=\"data row19 col7\" >0.000260</td>\n",
                            "                        <td id=\"T_2ba5cdec_f974_11eb_9dff_acde48001122row19_col8\" class=\"data row19 col8\" >0.000202</td>\n",
                            "                        <td id=\"T_2ba5cdec_f974_11eb_9dff_acde48001122row19_col9\" class=\"data row19 col9\" >0.000253</td>\n",
                            "                        <td id=\"T_2ba5cdec_f974_11eb_9dff_acde48001122row19_col10\" class=\"data row19 col10\" >THE ADVENTURE OF THE BRUCE PARTINGTON PLANS</td>\n",
                            "            </tr>\n",
                            "            <tr>\n",
                            "                        <th id=\"T_2ba5cdec_f974_11eb_9dff_acde48001122level0_row20\" class=\"row_heading level0 row20\" >2347</th>\n",
                            "                        <td id=\"T_2ba5cdec_f974_11eb_9dff_acde48001122row20_col0\" class=\"data row20 col0\" >0.001162</td>\n",
                            "                        <td id=\"T_2ba5cdec_f974_11eb_9dff_acde48001122row20_col1\" class=\"data row20 col1\" >-0.002795</td>\n",
                            "                        <td id=\"T_2ba5cdec_f974_11eb_9dff_acde48001122row20_col2\" class=\"data row20 col2\" >0.000882</td>\n",
                            "                        <td id=\"T_2ba5cdec_f974_11eb_9dff_acde48001122row20_col3\" class=\"data row20 col3\" >-0.000008</td>\n",
                            "                        <td id=\"T_2ba5cdec_f974_11eb_9dff_acde48001122row20_col4\" class=\"data row20 col4\" >-0.000330</td>\n",
                            "                        <td id=\"T_2ba5cdec_f974_11eb_9dff_acde48001122row20_col5\" class=\"data row20 col5\" >-0.000385</td>\n",
                            "                        <td id=\"T_2ba5cdec_f974_11eb_9dff_acde48001122row20_col6\" class=\"data row20 col6\" >-0.001339</td>\n",
                            "                        <td id=\"T_2ba5cdec_f974_11eb_9dff_acde48001122row20_col7\" class=\"data row20 col7\" >0.000138</td>\n",
                            "                        <td id=\"T_2ba5cdec_f974_11eb_9dff_acde48001122row20_col8\" class=\"data row20 col8\" >0.000484</td>\n",
                            "                        <td id=\"T_2ba5cdec_f974_11eb_9dff_acde48001122row20_col9\" class=\"data row20 col9\" >0.000061</td>\n",
                            "                        <td id=\"T_2ba5cdec_f974_11eb_9dff_acde48001122row20_col10\" class=\"data row20 col10\" >THE ADVENTURE OF THE DYING DETECTIVE</td>\n",
                            "            </tr>\n",
                            "            <tr>\n",
                            "                        <th id=\"T_2ba5cdec_f974_11eb_9dff_acde48001122level0_row21\" class=\"row_heading level0 row21\" >2348</th>\n",
                            "                        <td id=\"T_2ba5cdec_f974_11eb_9dff_acde48001122row21_col0\" class=\"data row21 col0\" >0.000802</td>\n",
                            "                        <td id=\"T_2ba5cdec_f974_11eb_9dff_acde48001122row21_col1\" class=\"data row21 col1\" >-0.002719</td>\n",
                            "                        <td id=\"T_2ba5cdec_f974_11eb_9dff_acde48001122row21_col2\" class=\"data row21 col2\" >0.000719</td>\n",
                            "                        <td id=\"T_2ba5cdec_f974_11eb_9dff_acde48001122row21_col3\" class=\"data row21 col3\" >0.000112</td>\n",
                            "                        <td id=\"T_2ba5cdec_f974_11eb_9dff_acde48001122row21_col4\" class=\"data row21 col4\" >-0.000131</td>\n",
                            "                        <td id=\"T_2ba5cdec_f974_11eb_9dff_acde48001122row21_col5\" class=\"data row21 col5\" >-0.000178</td>\n",
                            "                        <td id=\"T_2ba5cdec_f974_11eb_9dff_acde48001122row21_col6\" class=\"data row21 col6\" >-0.000957</td>\n",
                            "                        <td id=\"T_2ba5cdec_f974_11eb_9dff_acde48001122row21_col7\" class=\"data row21 col7\" >0.000048</td>\n",
                            "                        <td id=\"T_2ba5cdec_f974_11eb_9dff_acde48001122row21_col8\" class=\"data row21 col8\" >0.000065</td>\n",
                            "                        <td id=\"T_2ba5cdec_f974_11eb_9dff_acde48001122row21_col9\" class=\"data row21 col9\" >-0.000349</td>\n",
                            "                        <td id=\"T_2ba5cdec_f974_11eb_9dff_acde48001122row21_col10\" class=\"data row21 col10\" >THE DISAPPEARANCE OF LADY FRANCES CARFAX</td>\n",
                            "            </tr>\n",
                            "            <tr>\n",
                            "                        <th id=\"T_2ba5cdec_f974_11eb_9dff_acde48001122level0_row22\" class=\"row_heading level0 row22\" >2349</th>\n",
                            "                        <td id=\"T_2ba5cdec_f974_11eb_9dff_acde48001122row22_col0\" class=\"data row22 col0\" >0.000716</td>\n",
                            "                        <td id=\"T_2ba5cdec_f974_11eb_9dff_acde48001122row22_col1\" class=\"data row22 col1\" >-0.002966</td>\n",
                            "                        <td id=\"T_2ba5cdec_f974_11eb_9dff_acde48001122row22_col2\" class=\"data row22 col2\" >0.001119</td>\n",
                            "                        <td id=\"T_2ba5cdec_f974_11eb_9dff_acde48001122row22_col3\" class=\"data row22 col3\" >0.000173</td>\n",
                            "                        <td id=\"T_2ba5cdec_f974_11eb_9dff_acde48001122row22_col4\" class=\"data row22 col4\" >-0.000166</td>\n",
                            "                        <td id=\"T_2ba5cdec_f974_11eb_9dff_acde48001122row22_col5\" class=\"data row22 col5\" >-0.000236</td>\n",
                            "                        <td id=\"T_2ba5cdec_f974_11eb_9dff_acde48001122row22_col6\" class=\"data row22 col6\" >-0.001553</td>\n",
                            "                        <td id=\"T_2ba5cdec_f974_11eb_9dff_acde48001122row22_col7\" class=\"data row22 col7\" >-0.000674</td>\n",
                            "                        <td id=\"T_2ba5cdec_f974_11eb_9dff_acde48001122row22_col8\" class=\"data row22 col8\" >0.000924</td>\n",
                            "                        <td id=\"T_2ba5cdec_f974_11eb_9dff_acde48001122row22_col9\" class=\"data row22 col9\" >-0.001221</td>\n",
                            "                        <td id=\"T_2ba5cdec_f974_11eb_9dff_acde48001122row22_col10\" class=\"data row22 col10\" >THE ADVENTURE OF THE DEVIL S FOOT</td>\n",
                            "            </tr>\n",
                            "            <tr>\n",
                            "                        <th id=\"T_2ba5cdec_f974_11eb_9dff_acde48001122level0_row23\" class=\"row_heading level0 row23\" >2350</th>\n",
                            "                        <td id=\"T_2ba5cdec_f974_11eb_9dff_acde48001122row23_col0\" class=\"data row23 col0\" >0.011334</td>\n",
                            "                        <td id=\"T_2ba5cdec_f974_11eb_9dff_acde48001122row23_col1\" class=\"data row23 col1\" >0.002583</td>\n",
                            "                        <td id=\"T_2ba5cdec_f974_11eb_9dff_acde48001122row23_col2\" class=\"data row23 col2\" >-0.000439</td>\n",
                            "                        <td id=\"T_2ba5cdec_f974_11eb_9dff_acde48001122row23_col3\" class=\"data row23 col3\" >-0.000043</td>\n",
                            "                        <td id=\"T_2ba5cdec_f974_11eb_9dff_acde48001122row23_col4\" class=\"data row23 col4\" >0.000157</td>\n",
                            "                        <td id=\"T_2ba5cdec_f974_11eb_9dff_acde48001122row23_col5\" class=\"data row23 col5\" >0.000087</td>\n",
                            "                        <td id=\"T_2ba5cdec_f974_11eb_9dff_acde48001122row23_col6\" class=\"data row23 col6\" >0.000439</td>\n",
                            "                        <td id=\"T_2ba5cdec_f974_11eb_9dff_acde48001122row23_col7\" class=\"data row23 col7\" >-0.000153</td>\n",
                            "                        <td id=\"T_2ba5cdec_f974_11eb_9dff_acde48001122row23_col8\" class=\"data row23 col8\" >0.000008</td>\n",
                            "                        <td id=\"T_2ba5cdec_f974_11eb_9dff_acde48001122row23_col9\" class=\"data row23 col9\" >-0.000031</td>\n",
                            "                        <td id=\"T_2ba5cdec_f974_11eb_9dff_acde48001122row23_col10\" class=\"data row23 col10\" >HIS LAST BOW AN EPILOGUE OF SHERLOCK HOLMES</td>\n",
                            "            </tr>\n",
                            "            <tr>\n",
                            "                        <th id=\"T_2ba5cdec_f974_11eb_9dff_acde48001122level0_row24\" class=\"row_heading level0 row24\" >2845</th>\n",
                            "                        <td id=\"T_2ba5cdec_f974_11eb_9dff_acde48001122row24_col0\" class=\"data row24 col0\" >-0.000515</td>\n",
                            "                        <td id=\"T_2ba5cdec_f974_11eb_9dff_acde48001122row24_col1\" class=\"data row24 col1\" >0.000584</td>\n",
                            "                        <td id=\"T_2ba5cdec_f974_11eb_9dff_acde48001122row24_col2\" class=\"data row24 col2\" >-0.000308</td>\n",
                            "                        <td id=\"T_2ba5cdec_f974_11eb_9dff_acde48001122row24_col3\" class=\"data row24 col3\" >-0.000238</td>\n",
                            "                        <td id=\"T_2ba5cdec_f974_11eb_9dff_acde48001122row24_col4\" class=\"data row24 col4\" >0.000253</td>\n",
                            "                        <td id=\"T_2ba5cdec_f974_11eb_9dff_acde48001122row24_col5\" class=\"data row24 col5\" >0.000639</td>\n",
                            "                        <td id=\"T_2ba5cdec_f974_11eb_9dff_acde48001122row24_col6\" class=\"data row24 col6\" >0.001046</td>\n",
                            "                        <td id=\"T_2ba5cdec_f974_11eb_9dff_acde48001122row24_col7\" class=\"data row24 col7\" >-0.000521</td>\n",
                            "                        <td id=\"T_2ba5cdec_f974_11eb_9dff_acde48001122row24_col8\" class=\"data row24 col8\" >-0.001458</td>\n",
                            "                        <td id=\"T_2ba5cdec_f974_11eb_9dff_acde48001122row24_col9\" class=\"data row24 col9\" >0.004934</td>\n",
                            "                        <td id=\"T_2ba5cdec_f974_11eb_9dff_acde48001122row24_col10\" class=\"data row24 col10\" >SIR NIGEL</td>\n",
                            "            </tr>\n",
                            "            <tr>\n",
                            "                        <th id=\"T_2ba5cdec_f974_11eb_9dff_acde48001122level0_row25\" class=\"row_heading level0 row25\" >2852</th>\n",
                            "                        <td id=\"T_2ba5cdec_f974_11eb_9dff_acde48001122row25_col0\" class=\"data row25 col0\" >0.000188</td>\n",
                            "                        <td id=\"T_2ba5cdec_f974_11eb_9dff_acde48001122row25_col1\" class=\"data row25 col1\" >-0.000926</td>\n",
                            "                        <td id=\"T_2ba5cdec_f974_11eb_9dff_acde48001122row25_col2\" class=\"data row25 col2\" >0.000361</td>\n",
                            "                        <td id=\"T_2ba5cdec_f974_11eb_9dff_acde48001122row25_col3\" class=\"data row25 col3\" >-0.000005</td>\n",
                            "                        <td id=\"T_2ba5cdec_f974_11eb_9dff_acde48001122row25_col4\" class=\"data row25 col4\" >-0.000050</td>\n",
                            "                        <td id=\"T_2ba5cdec_f974_11eb_9dff_acde48001122row25_col5\" class=\"data row25 col5\" >0.000081</td>\n",
                            "                        <td id=\"T_2ba5cdec_f974_11eb_9dff_acde48001122row25_col6\" class=\"data row25 col6\" >-0.000459</td>\n",
                            "                        <td id=\"T_2ba5cdec_f974_11eb_9dff_acde48001122row25_col7\" class=\"data row25 col7\" >0.000059</td>\n",
                            "                        <td id=\"T_2ba5cdec_f974_11eb_9dff_acde48001122row25_col8\" class=\"data row25 col8\" >0.000058</td>\n",
                            "                        <td id=\"T_2ba5cdec_f974_11eb_9dff_acde48001122row25_col9\" class=\"data row25 col9\" >-0.000014</td>\n",
                            "                        <td id=\"T_2ba5cdec_f974_11eb_9dff_acde48001122row25_col10\" class=\"data row25 col10\" >THE HOUND OF THE BASKERVILLES</td>\n",
                            "            </tr>\n",
                            "            <tr>\n",
                            "                        <th id=\"T_2ba5cdec_f974_11eb_9dff_acde48001122level0_row26\" class=\"row_heading level0 row26\" >3069</th>\n",
                            "                        <td id=\"T_2ba5cdec_f974_11eb_9dff_acde48001122row26_col0\" class=\"data row26 col0\" >-0.000459</td>\n",
                            "                        <td id=\"T_2ba5cdec_f974_11eb_9dff_acde48001122row26_col1\" class=\"data row26 col1\" >0.000489</td>\n",
                            "                        <td id=\"T_2ba5cdec_f974_11eb_9dff_acde48001122row26_col2\" class=\"data row26 col2\" >-0.000454</td>\n",
                            "                        <td id=\"T_2ba5cdec_f974_11eb_9dff_acde48001122row26_col3\" class=\"data row26 col3\" >-0.000068</td>\n",
                            "                        <td id=\"T_2ba5cdec_f974_11eb_9dff_acde48001122row26_col4\" class=\"data row26 col4\" >0.000492</td>\n",
                            "                        <td id=\"T_2ba5cdec_f974_11eb_9dff_acde48001122row26_col5\" class=\"data row26 col5\" >0.000315</td>\n",
                            "                        <td id=\"T_2ba5cdec_f974_11eb_9dff_acde48001122row26_col6\" class=\"data row26 col6\" >0.000413</td>\n",
                            "                        <td id=\"T_2ba5cdec_f974_11eb_9dff_acde48001122row26_col7\" class=\"data row26 col7\" >0.000953</td>\n",
                            "                        <td id=\"T_2ba5cdec_f974_11eb_9dff_acde48001122row26_col8\" class=\"data row26 col8\" >-0.001506</td>\n",
                            "                        <td id=\"T_2ba5cdec_f974_11eb_9dff_acde48001122row26_col9\" class=\"data row26 col9\" >-0.001494</td>\n",
                            "                        <td id=\"T_2ba5cdec_f974_11eb_9dff_acde48001122row26_col10\" class=\"data row26 col10\" >THE GREAT BOER WAR</td>\n",
                            "            </tr>\n",
                            "            <tr>\n",
                            "                        <th id=\"T_2ba5cdec_f974_11eb_9dff_acde48001122level0_row27\" class=\"row_heading level0 row27\" >3289</th>\n",
                            "                        <td id=\"T_2ba5cdec_f974_11eb_9dff_acde48001122row27_col0\" class=\"data row27 col0\" >0.000112</td>\n",
                            "                        <td id=\"T_2ba5cdec_f974_11eb_9dff_acde48001122row27_col1\" class=\"data row27 col1\" >-0.000785</td>\n",
                            "                        <td id=\"T_2ba5cdec_f974_11eb_9dff_acde48001122row27_col2\" class=\"data row27 col2\" >0.000194</td>\n",
                            "                        <td id=\"T_2ba5cdec_f974_11eb_9dff_acde48001122row27_col3\" class=\"data row27 col3\" >-0.000039</td>\n",
                            "                        <td id=\"T_2ba5cdec_f974_11eb_9dff_acde48001122row27_col4\" class=\"data row27 col4\" >-0.000135</td>\n",
                            "                        <td id=\"T_2ba5cdec_f974_11eb_9dff_acde48001122row27_col5\" class=\"data row27 col5\" >-0.000154</td>\n",
                            "                        <td id=\"T_2ba5cdec_f974_11eb_9dff_acde48001122row27_col6\" class=\"data row27 col6\" >-0.000606</td>\n",
                            "                        <td id=\"T_2ba5cdec_f974_11eb_9dff_acde48001122row27_col7\" class=\"data row27 col7\" >0.001121</td>\n",
                            "                        <td id=\"T_2ba5cdec_f974_11eb_9dff_acde48001122row27_col8\" class=\"data row27 col8\" >-0.000829</td>\n",
                            "                        <td id=\"T_2ba5cdec_f974_11eb_9dff_acde48001122row27_col9\" class=\"data row27 col9\" >0.000641</td>\n",
                            "                        <td id=\"T_2ba5cdec_f974_11eb_9dff_acde48001122row27_col10\" class=\"data row27 col10\" >THE VALLEY OF FEAR</td>\n",
                            "            </tr>\n",
                            "            <tr>\n",
                            "                        <th id=\"T_2ba5cdec_f974_11eb_9dff_acde48001122level0_row28\" class=\"row_heading level0 row28\" >4295</th>\n",
                            "                        <td id=\"T_2ba5cdec_f974_11eb_9dff_acde48001122row28_col0\" class=\"data row28 col0\" >-0.000689</td>\n",
                            "                        <td id=\"T_2ba5cdec_f974_11eb_9dff_acde48001122row28_col1\" class=\"data row28 col1\" >0.001706</td>\n",
                            "                        <td id=\"T_2ba5cdec_f974_11eb_9dff_acde48001122row28_col2\" class=\"data row28 col2\" >-0.001592</td>\n",
                            "                        <td id=\"T_2ba5cdec_f974_11eb_9dff_acde48001122row28_col3\" class=\"data row28 col3\" >-0.004011</td>\n",
                            "                        <td id=\"T_2ba5cdec_f974_11eb_9dff_acde48001122row28_col4\" class=\"data row28 col4\" >-0.003862</td>\n",
                            "                        <td id=\"T_2ba5cdec_f974_11eb_9dff_acde48001122row28_col5\" class=\"data row28 col5\" >-0.001356</td>\n",
                            "                        <td id=\"T_2ba5cdec_f974_11eb_9dff_acde48001122row28_col6\" class=\"data row28 col6\" >-0.001322</td>\n",
                            "                        <td id=\"T_2ba5cdec_f974_11eb_9dff_acde48001122row28_col7\" class=\"data row28 col7\" >-0.003099</td>\n",
                            "                        <td id=\"T_2ba5cdec_f974_11eb_9dff_acde48001122row28_col8\" class=\"data row28 col8\" >0.000649</td>\n",
                            "                        <td id=\"T_2ba5cdec_f974_11eb_9dff_acde48001122row28_col9\" class=\"data row28 col9\" >-0.000534</td>\n",
                            "                        <td id=\"T_2ba5cdec_f974_11eb_9dff_acde48001122row28_col10\" class=\"data row28 col10\" >SONGS OF ACTION</td>\n",
                            "            </tr>\n",
                            "            <tr>\n",
                            "                        <th id=\"T_2ba5cdec_f974_11eb_9dff_acde48001122level0_row29\" class=\"row_heading level0 row29\" >5148</th>\n",
                            "                        <td id=\"T_2ba5cdec_f974_11eb_9dff_acde48001122row29_col0\" class=\"data row29 col0\" >-0.000311</td>\n",
                            "                        <td id=\"T_2ba5cdec_f974_11eb_9dff_acde48001122row29_col1\" class=\"data row29 col1\" >0.000332</td>\n",
                            "                        <td id=\"T_2ba5cdec_f974_11eb_9dff_acde48001122row29_col2\" class=\"data row29 col2\" >-0.000100</td>\n",
                            "                        <td id=\"T_2ba5cdec_f974_11eb_9dff_acde48001122row29_col3\" class=\"data row29 col3\" >-0.000192</td>\n",
                            "                        <td id=\"T_2ba5cdec_f974_11eb_9dff_acde48001122row29_col4\" class=\"data row29 col4\" >-0.000101</td>\n",
                            "                        <td id=\"T_2ba5cdec_f974_11eb_9dff_acde48001122row29_col5\" class=\"data row29 col5\" >0.000060</td>\n",
                            "                        <td id=\"T_2ba5cdec_f974_11eb_9dff_acde48001122row29_col6\" class=\"data row29 col6\" >0.000030</td>\n",
                            "                        <td id=\"T_2ba5cdec_f974_11eb_9dff_acde48001122row29_col7\" class=\"data row29 col7\" >-0.000033</td>\n",
                            "                        <td id=\"T_2ba5cdec_f974_11eb_9dff_acde48001122row29_col8\" class=\"data row29 col8\" >-0.000276</td>\n",
                            "                        <td id=\"T_2ba5cdec_f974_11eb_9dff_acde48001122row29_col9\" class=\"data row29 col9\" >0.000005</td>\n",
                            "                        <td id=\"T_2ba5cdec_f974_11eb_9dff_acde48001122row29_col10\" class=\"data row29 col10\" >RODNEY STONE</td>\n",
                            "            </tr>\n",
                            "            <tr>\n",
                            "                        <th id=\"T_2ba5cdec_f974_11eb_9dff_acde48001122level0_row30\" class=\"row_heading level0 row30\" >5260</th>\n",
                            "                        <td id=\"T_2ba5cdec_f974_11eb_9dff_acde48001122row30_col0\" class=\"data row30 col0\" >-0.000380</td>\n",
                            "                        <td id=\"T_2ba5cdec_f974_11eb_9dff_acde48001122row30_col1\" class=\"data row30 col1\" >0.000180</td>\n",
                            "                        <td id=\"T_2ba5cdec_f974_11eb_9dff_acde48001122row30_col2\" class=\"data row30 col2\" >-0.000018</td>\n",
                            "                        <td id=\"T_2ba5cdec_f974_11eb_9dff_acde48001122row30_col3\" class=\"data row30 col3\" >0.000050</td>\n",
                            "                        <td id=\"T_2ba5cdec_f974_11eb_9dff_acde48001122row30_col4\" class=\"data row30 col4\" >0.000384</td>\n",
                            "                        <td id=\"T_2ba5cdec_f974_11eb_9dff_acde48001122row30_col5\" class=\"data row30 col5\" >0.000310</td>\n",
                            "                        <td id=\"T_2ba5cdec_f974_11eb_9dff_acde48001122row30_col6\" class=\"data row30 col6\" >0.001008</td>\n",
                            "                        <td id=\"T_2ba5cdec_f974_11eb_9dff_acde48001122row30_col7\" class=\"data row30 col7\" >-0.000942</td>\n",
                            "                        <td id=\"T_2ba5cdec_f974_11eb_9dff_acde48001122row30_col8\" class=\"data row30 col8\" >-0.000366</td>\n",
                            "                        <td id=\"T_2ba5cdec_f974_11eb_9dff_acde48001122row30_col9\" class=\"data row30 col9\" >-0.001247</td>\n",
                            "                        <td id=\"T_2ba5cdec_f974_11eb_9dff_acde48001122row30_col10\" class=\"data row30 col10\" >A DUET WITH AN OCCASIONAL CHORUS</td>\n",
                            "            </tr>\n",
                            "            <tr>\n",
                            "                        <th id=\"T_2ba5cdec_f974_11eb_9dff_acde48001122level0_row31\" class=\"row_heading level0 row31\" >5317</th>\n",
                            "                        <td id=\"T_2ba5cdec_f974_11eb_9dff_acde48001122row31_col0\" class=\"data row31 col0\" >-0.000256</td>\n",
                            "                        <td id=\"T_2ba5cdec_f974_11eb_9dff_acde48001122row31_col1\" class=\"data row31 col1\" >0.000177</td>\n",
                            "                        <td id=\"T_2ba5cdec_f974_11eb_9dff_acde48001122row31_col2\" class=\"data row31 col2\" >-0.000095</td>\n",
                            "                        <td id=\"T_2ba5cdec_f974_11eb_9dff_acde48001122row31_col3\" class=\"data row31 col3\" >0.000029</td>\n",
                            "                        <td id=\"T_2ba5cdec_f974_11eb_9dff_acde48001122row31_col4\" class=\"data row31 col4\" >0.000107</td>\n",
                            "                        <td id=\"T_2ba5cdec_f974_11eb_9dff_acde48001122row31_col5\" class=\"data row31 col5\" >0.000142</td>\n",
                            "                        <td id=\"T_2ba5cdec_f974_11eb_9dff_acde48001122row31_col6\" class=\"data row31 col6\" >0.000111</td>\n",
                            "                        <td id=\"T_2ba5cdec_f974_11eb_9dff_acde48001122row31_col7\" class=\"data row31 col7\" >0.000139</td>\n",
                            "                        <td id=\"T_2ba5cdec_f974_11eb_9dff_acde48001122row31_col8\" class=\"data row31 col8\" >-0.000265</td>\n",
                            "                        <td id=\"T_2ba5cdec_f974_11eb_9dff_acde48001122row31_col9\" class=\"data row31 col9\" >-0.000006</td>\n",
                            "                        <td id=\"T_2ba5cdec_f974_11eb_9dff_acde48001122row31_col10\" class=\"data row31 col10\" >THROUGH THE MAGIC DOOR</td>\n",
                            "            </tr>\n",
                            "            <tr>\n",
                            "                        <th id=\"T_2ba5cdec_f974_11eb_9dff_acde48001122level0_row32\" class=\"row_heading level0 row32\" >7964</th>\n",
                            "                        <td id=\"T_2ba5cdec_f974_11eb_9dff_acde48001122row32_col0\" class=\"data row32 col0\" >-0.000300</td>\n",
                            "                        <td id=\"T_2ba5cdec_f974_11eb_9dff_acde48001122row32_col1\" class=\"data row32 col1\" >0.000197</td>\n",
                            "                        <td id=\"T_2ba5cdec_f974_11eb_9dff_acde48001122row32_col2\" class=\"data row32 col2\" >-0.000137</td>\n",
                            "                        <td id=\"T_2ba5cdec_f974_11eb_9dff_acde48001122row32_col3\" class=\"data row32 col3\" >0.000027</td>\n",
                            "                        <td id=\"T_2ba5cdec_f974_11eb_9dff_acde48001122row32_col4\" class=\"data row32 col4\" >0.000110</td>\n",
                            "                        <td id=\"T_2ba5cdec_f974_11eb_9dff_acde48001122row32_col5\" class=\"data row32 col5\" >0.000230</td>\n",
                            "                        <td id=\"T_2ba5cdec_f974_11eb_9dff_acde48001122row32_col6\" class=\"data row32 col6\" >0.000114</td>\n",
                            "                        <td id=\"T_2ba5cdec_f974_11eb_9dff_acde48001122row32_col7\" class=\"data row32 col7\" >0.000188</td>\n",
                            "                        <td id=\"T_2ba5cdec_f974_11eb_9dff_acde48001122row32_col8\" class=\"data row32 col8\" >-0.000353</td>\n",
                            "                        <td id=\"T_2ba5cdec_f974_11eb_9dff_acde48001122row32_col9\" class=\"data row32 col9\" >0.000030</td>\n",
                            "                        <td id=\"T_2ba5cdec_f974_11eb_9dff_acde48001122row32_col10\" class=\"data row32 col10\" >THE MYSTERY OF CLOOMBER</td>\n",
                            "            </tr>\n",
                            "            <tr>\n",
                            "                        <th id=\"T_2ba5cdec_f974_11eb_9dff_acde48001122level0_row33\" class=\"row_heading level0 row33\" >8394</th>\n",
                            "                        <td id=\"T_2ba5cdec_f974_11eb_9dff_acde48001122row33_col0\" class=\"data row33 col0\" >-0.000564</td>\n",
                            "                        <td id=\"T_2ba5cdec_f974_11eb_9dff_acde48001122row33_col1\" class=\"data row33 col1\" >0.000638</td>\n",
                            "                        <td id=\"T_2ba5cdec_f974_11eb_9dff_acde48001122row33_col2\" class=\"data row33 col2\" >-0.000679</td>\n",
                            "                        <td id=\"T_2ba5cdec_f974_11eb_9dff_acde48001122row33_col3\" class=\"data row33 col3\" >-0.000014</td>\n",
                            "                        <td id=\"T_2ba5cdec_f974_11eb_9dff_acde48001122row33_col4\" class=\"data row33 col4\" >0.001203</td>\n",
                            "                        <td id=\"T_2ba5cdec_f974_11eb_9dff_acde48001122row33_col5\" class=\"data row33 col5\" >0.007293</td>\n",
                            "                        <td id=\"T_2ba5cdec_f974_11eb_9dff_acde48001122row33_col6\" class=\"data row33 col6\" >-0.001436</td>\n",
                            "                        <td id=\"T_2ba5cdec_f974_11eb_9dff_acde48001122row33_col7\" class=\"data row33 col7\" >-0.002972</td>\n",
                            "                        <td id=\"T_2ba5cdec_f974_11eb_9dff_acde48001122row33_col8\" class=\"data row33 col8\" >0.003265</td>\n",
                            "                        <td id=\"T_2ba5cdec_f974_11eb_9dff_acde48001122row33_col9\" class=\"data row33 col9\" >-0.000371</td>\n",
                            "                        <td id=\"T_2ba5cdec_f974_11eb_9dff_acde48001122row33_col10\" class=\"data row33 col10\" >THE DOINGS OF RAFFLES HAW</td>\n",
                            "            </tr>\n",
                            "            <tr>\n",
                            "                        <th id=\"T_2ba5cdec_f974_11eb_9dff_acde48001122level0_row34\" class=\"row_heading level0 row34\" >8727</th>\n",
                            "                        <td id=\"T_2ba5cdec_f974_11eb_9dff_acde48001122row34_col0\" class=\"data row34 col0\" >-0.000272</td>\n",
                            "                        <td id=\"T_2ba5cdec_f974_11eb_9dff_acde48001122row34_col1\" class=\"data row34 col1\" >0.000213</td>\n",
                            "                        <td id=\"T_2ba5cdec_f974_11eb_9dff_acde48001122row34_col2\" class=\"data row34 col2\" >-0.000110</td>\n",
                            "                        <td id=\"T_2ba5cdec_f974_11eb_9dff_acde48001122row34_col3\" class=\"data row34 col3\" >-0.000000</td>\n",
                            "                        <td id=\"T_2ba5cdec_f974_11eb_9dff_acde48001122row34_col4\" class=\"data row34 col4\" >0.000134</td>\n",
                            "                        <td id=\"T_2ba5cdec_f974_11eb_9dff_acde48001122row34_col5\" class=\"data row34 col5\" >0.000109</td>\n",
                            "                        <td id=\"T_2ba5cdec_f974_11eb_9dff_acde48001122row34_col6\" class=\"data row34 col6\" >0.000104</td>\n",
                            "                        <td id=\"T_2ba5cdec_f974_11eb_9dff_acde48001122row34_col7\" class=\"data row34 col7\" >0.000124</td>\n",
                            "                        <td id=\"T_2ba5cdec_f974_11eb_9dff_acde48001122row34_col8\" class=\"data row34 col8\" >-0.000248</td>\n",
                            "                        <td id=\"T_2ba5cdec_f974_11eb_9dff_acde48001122row34_col9\" class=\"data row34 col9\" >0.000061</td>\n",
                            "                        <td id=\"T_2ba5cdec_f974_11eb_9dff_acde48001122row34_col10\" class=\"data row34 col10\" >THE LAST GALLEY IMPRESSIONS AND TALES</td>\n",
                            "            </tr>\n",
                            "            <tr>\n",
                            "                        <th id=\"T_2ba5cdec_f974_11eb_9dff_acde48001122level0_row35\" class=\"row_heading level0 row35\" >9504</th>\n",
                            "                        <td id=\"T_2ba5cdec_f974_11eb_9dff_acde48001122row35_col0\" class=\"data row35 col0\" >-0.000293</td>\n",
                            "                        <td id=\"T_2ba5cdec_f974_11eb_9dff_acde48001122row35_col1\" class=\"data row35 col1\" >0.000247</td>\n",
                            "                        <td id=\"T_2ba5cdec_f974_11eb_9dff_acde48001122row35_col2\" class=\"data row35 col2\" >-0.000119</td>\n",
                            "                        <td id=\"T_2ba5cdec_f974_11eb_9dff_acde48001122row35_col3\" class=\"data row35 col3\" >-0.000051</td>\n",
                            "                        <td id=\"T_2ba5cdec_f974_11eb_9dff_acde48001122row35_col4\" class=\"data row35 col4\" >0.000117</td>\n",
                            "                        <td id=\"T_2ba5cdec_f974_11eb_9dff_acde48001122row35_col5\" class=\"data row35 col5\" >0.000144</td>\n",
                            "                        <td id=\"T_2ba5cdec_f974_11eb_9dff_acde48001122row35_col6\" class=\"data row35 col6\" >0.000140</td>\n",
                            "                        <td id=\"T_2ba5cdec_f974_11eb_9dff_acde48001122row35_col7\" class=\"data row35 col7\" >0.000097</td>\n",
                            "                        <td id=\"T_2ba5cdec_f974_11eb_9dff_acde48001122row35_col8\" class=\"data row35 col8\" >-0.000319</td>\n",
                            "                        <td id=\"T_2ba5cdec_f974_11eb_9dff_acde48001122row35_col9\" class=\"data row35 col9\" >0.000243</td>\n",
                            "                        <td id=\"T_2ba5cdec_f974_11eb_9dff_acde48001122row35_col10\" class=\"data row35 col10\" >MICAH CLARKE HIS STATEMENT AS MADE TO HIS THREE GRANDCHILDREN JOSEPH GERVAS AND REUBEN DURING THE HARD WINTER OF 1734</td>\n",
                            "            </tr>\n",
                            "            <tr>\n",
                            "                        <th id=\"T_2ba5cdec_f974_11eb_9dff_acde48001122level0_row36\" class=\"row_heading level0 row36\" >9874</th>\n",
                            "                        <td id=\"T_2ba5cdec_f974_11eb_9dff_acde48001122row36_col0\" class=\"data row36 col0\" >-0.000269</td>\n",
                            "                        <td id=\"T_2ba5cdec_f974_11eb_9dff_acde48001122row36_col1\" class=\"data row36 col1\" >0.000231</td>\n",
                            "                        <td id=\"T_2ba5cdec_f974_11eb_9dff_acde48001122row36_col2\" class=\"data row36 col2\" >-0.000203</td>\n",
                            "                        <td id=\"T_2ba5cdec_f974_11eb_9dff_acde48001122row36_col3\" class=\"data row36 col3\" >0.000000</td>\n",
                            "                        <td id=\"T_2ba5cdec_f974_11eb_9dff_acde48001122row36_col4\" class=\"data row36 col4\" >0.000140</td>\n",
                            "                        <td id=\"T_2ba5cdec_f974_11eb_9dff_acde48001122row36_col5\" class=\"data row36 col5\" >0.000167</td>\n",
                            "                        <td id=\"T_2ba5cdec_f974_11eb_9dff_acde48001122row36_col6\" class=\"data row36 col6\" >0.000204</td>\n",
                            "                        <td id=\"T_2ba5cdec_f974_11eb_9dff_acde48001122row36_col7\" class=\"data row36 col7\" >0.000425</td>\n",
                            "                        <td id=\"T_2ba5cdec_f974_11eb_9dff_acde48001122row36_col8\" class=\"data row36 col8\" >-0.000215</td>\n",
                            "                        <td id=\"T_2ba5cdec_f974_11eb_9dff_acde48001122row36_col9\" class=\"data row36 col9\" >-0.000075</td>\n",
                            "                        <td id=\"T_2ba5cdec_f974_11eb_9dff_acde48001122row36_col10\" class=\"data row36 col10\" >A VISIT TO THREE FRONTS JUNE 1916</td>\n",
                            "            </tr>\n",
                            "            <tr>\n",
                            "                        <th id=\"T_2ba5cdec_f974_11eb_9dff_acde48001122level0_row37\" class=\"row_heading level0 row37\" >10446</th>\n",
                            "                        <td id=\"T_2ba5cdec_f974_11eb_9dff_acde48001122row37_col0\" class=\"data row37 col0\" >-0.000454</td>\n",
                            "                        <td id=\"T_2ba5cdec_f974_11eb_9dff_acde48001122row37_col1\" class=\"data row37 col1\" >0.001124</td>\n",
                            "                        <td id=\"T_2ba5cdec_f974_11eb_9dff_acde48001122row37_col2\" class=\"data row37 col2\" >0.001739</td>\n",
                            "                        <td id=\"T_2ba5cdec_f974_11eb_9dff_acde48001122row37_col3\" class=\"data row37 col3\" >0.000066</td>\n",
                            "                        <td id=\"T_2ba5cdec_f974_11eb_9dff_acde48001122row37_col4\" class=\"data row37 col4\" >0.000044</td>\n",
                            "                        <td id=\"T_2ba5cdec_f974_11eb_9dff_acde48001122row37_col5\" class=\"data row37 col5\" >-0.000162</td>\n",
                            "                        <td id=\"T_2ba5cdec_f974_11eb_9dff_acde48001122row37_col6\" class=\"data row37 col6\" >0.000007</td>\n",
                            "                        <td id=\"T_2ba5cdec_f974_11eb_9dff_acde48001122row37_col7\" class=\"data row37 col7\" >-0.000095</td>\n",
                            "                        <td id=\"T_2ba5cdec_f974_11eb_9dff_acde48001122row37_col8\" class=\"data row37 col8\" >0.000042</td>\n",
                            "                        <td id=\"T_2ba5cdec_f974_11eb_9dff_acde48001122row37_col9\" class=\"data row37 col9\" >-0.000034</td>\n",
                            "                        <td id=\"T_2ba5cdec_f974_11eb_9dff_acde48001122row37_col10\" class=\"data row37 col10\" >THE GREEN FLAG AND OTHER STORIES OF WAR AND SPORT</td>\n",
                            "            </tr>\n",
                            "            <tr>\n",
                            "                        <th id=\"T_2ba5cdec_f974_11eb_9dff_acde48001122level0_row38\" class=\"row_heading level0 row38\" >10581</th>\n",
                            "                        <td id=\"T_2ba5cdec_f974_11eb_9dff_acde48001122row38_col0\" class=\"data row38 col0\" >-0.000301</td>\n",
                            "                        <td id=\"T_2ba5cdec_f974_11eb_9dff_acde48001122row38_col1\" class=\"data row38 col1\" >0.000220</td>\n",
                            "                        <td id=\"T_2ba5cdec_f974_11eb_9dff_acde48001122row38_col2\" class=\"data row38 col2\" >-0.000194</td>\n",
                            "                        <td id=\"T_2ba5cdec_f974_11eb_9dff_acde48001122row38_col3\" class=\"data row38 col3\" >0.000027</td>\n",
                            "                        <td id=\"T_2ba5cdec_f974_11eb_9dff_acde48001122row38_col4\" class=\"data row38 col4\" >0.000235</td>\n",
                            "                        <td id=\"T_2ba5cdec_f974_11eb_9dff_acde48001122row38_col5\" class=\"data row38 col5\" >0.000181</td>\n",
                            "                        <td id=\"T_2ba5cdec_f974_11eb_9dff_acde48001122row38_col6\" class=\"data row38 col6\" >0.000164</td>\n",
                            "                        <td id=\"T_2ba5cdec_f974_11eb_9dff_acde48001122row38_col7\" class=\"data row38 col7\" >0.000139</td>\n",
                            "                        <td id=\"T_2ba5cdec_f974_11eb_9dff_acde48001122row38_col8\" class=\"data row38 col8\" >-0.000391</td>\n",
                            "                        <td id=\"T_2ba5cdec_f974_11eb_9dff_acde48001122row38_col9\" class=\"data row38 col9\" >0.000047</td>\n",
                            "                        <td id=\"T_2ba5cdec_f974_11eb_9dff_acde48001122row38_col10\" class=\"data row38 col10\" >UNCLE BERNAC A MEMORY OF THE EMPIRE</td>\n",
                            "            </tr>\n",
                            "            <tr>\n",
                            "                        <th id=\"T_2ba5cdec_f974_11eb_9dff_acde48001122level0_row39\" class=\"row_heading level0 row39\" >11247</th>\n",
                            "                        <td id=\"T_2ba5cdec_f974_11eb_9dff_acde48001122row39_col0\" class=\"data row39 col0\" >-0.000261</td>\n",
                            "                        <td id=\"T_2ba5cdec_f974_11eb_9dff_acde48001122row39_col1\" class=\"data row39 col1\" >0.000198</td>\n",
                            "                        <td id=\"T_2ba5cdec_f974_11eb_9dff_acde48001122row39_col2\" class=\"data row39 col2\" >-0.000159</td>\n",
                            "                        <td id=\"T_2ba5cdec_f974_11eb_9dff_acde48001122row39_col3\" class=\"data row39 col3\" >0.000003</td>\n",
                            "                        <td id=\"T_2ba5cdec_f974_11eb_9dff_acde48001122row39_col4\" class=\"data row39 col4\" >0.000180</td>\n",
                            "                        <td id=\"T_2ba5cdec_f974_11eb_9dff_acde48001122row39_col5\" class=\"data row39 col5\" >0.000125</td>\n",
                            "                        <td id=\"T_2ba5cdec_f974_11eb_9dff_acde48001122row39_col6\" class=\"data row39 col6\" >0.000131</td>\n",
                            "                        <td id=\"T_2ba5cdec_f974_11eb_9dff_acde48001122row39_col7\" class=\"data row39 col7\" >0.000103</td>\n",
                            "                        <td id=\"T_2ba5cdec_f974_11eb_9dff_acde48001122row39_col8\" class=\"data row39 col8\" >-0.000311</td>\n",
                            "                        <td id=\"T_2ba5cdec_f974_11eb_9dff_acde48001122row39_col9\" class=\"data row39 col9\" >0.000092</td>\n",
                            "                        <td id=\"T_2ba5cdec_f974_11eb_9dff_acde48001122row39_col10\" class=\"data row39 col10\" >THE EXPLOITS OF BRIGADIER GERARD</td>\n",
                            "            </tr>\n",
                            "            <tr>\n",
                            "                        <th id=\"T_2ba5cdec_f974_11eb_9dff_acde48001122level0_row40\" class=\"row_heading level0 row40\" >11413</th>\n",
                            "                        <td id=\"T_2ba5cdec_f974_11eb_9dff_acde48001122row40_col0\" class=\"data row40 col0\" >-0.000354</td>\n",
                            "                        <td id=\"T_2ba5cdec_f974_11eb_9dff_acde48001122row40_col1\" class=\"data row40 col1\" >0.000270</td>\n",
                            "                        <td id=\"T_2ba5cdec_f974_11eb_9dff_acde48001122row40_col2\" class=\"data row40 col2\" >-0.000208</td>\n",
                            "                        <td id=\"T_2ba5cdec_f974_11eb_9dff_acde48001122row40_col3\" class=\"data row40 col3\" >-0.000090</td>\n",
                            "                        <td id=\"T_2ba5cdec_f974_11eb_9dff_acde48001122row40_col4\" class=\"data row40 col4\" >0.000242</td>\n",
                            "                        <td id=\"T_2ba5cdec_f974_11eb_9dff_acde48001122row40_col5\" class=\"data row40 col5\" >0.000128</td>\n",
                            "                        <td id=\"T_2ba5cdec_f974_11eb_9dff_acde48001122row40_col6\" class=\"data row40 col6\" >0.000158</td>\n",
                            "                        <td id=\"T_2ba5cdec_f974_11eb_9dff_acde48001122row40_col7\" class=\"data row40 col7\" >-0.000073</td>\n",
                            "                        <td id=\"T_2ba5cdec_f974_11eb_9dff_acde48001122row40_col8\" class=\"data row40 col8\" >-0.000381</td>\n",
                            "                        <td id=\"T_2ba5cdec_f974_11eb_9dff_acde48001122row40_col9\" class=\"data row40 col9\" >0.000129</td>\n",
                            "                        <td id=\"T_2ba5cdec_f974_11eb_9dff_acde48001122row40_col10\" class=\"data row40 col10\" >THE REFUGEES A TALE OF TWO CONTINENTS</td>\n",
                            "            </tr>\n",
                            "            <tr>\n",
                            "                        <th id=\"T_2ba5cdec_f974_11eb_9dff_acde48001122level0_row41\" class=\"row_heading level0 row41\" >11656</th>\n",
                            "                        <td id=\"T_2ba5cdec_f974_11eb_9dff_acde48001122row41_col0\" class=\"data row41 col0\" >-0.000302</td>\n",
                            "                        <td id=\"T_2ba5cdec_f974_11eb_9dff_acde48001122row41_col1\" class=\"data row41 col1\" >0.000244</td>\n",
                            "                        <td id=\"T_2ba5cdec_f974_11eb_9dff_acde48001122row41_col2\" class=\"data row41 col2\" >-0.000118</td>\n",
                            "                        <td id=\"T_2ba5cdec_f974_11eb_9dff_acde48001122row41_col3\" class=\"data row41 col3\" >-0.000029</td>\n",
                            "                        <td id=\"T_2ba5cdec_f974_11eb_9dff_acde48001122row41_col4\" class=\"data row41 col4\" >0.000135</td>\n",
                            "                        <td id=\"T_2ba5cdec_f974_11eb_9dff_acde48001122row41_col5\" class=\"data row41 col5\" >0.000138</td>\n",
                            "                        <td id=\"T_2ba5cdec_f974_11eb_9dff_acde48001122row41_col6\" class=\"data row41 col6\" >0.000120</td>\n",
                            "                        <td id=\"T_2ba5cdec_f974_11eb_9dff_acde48001122row41_col7\" class=\"data row41 col7\" >0.000148</td>\n",
                            "                        <td id=\"T_2ba5cdec_f974_11eb_9dff_acde48001122row41_col8\" class=\"data row41 col8\" >-0.000325</td>\n",
                            "                        <td id=\"T_2ba5cdec_f974_11eb_9dff_acde48001122row41_col9\" class=\"data row41 col9\" >0.000026</td>\n",
                            "                        <td id=\"T_2ba5cdec_f974_11eb_9dff_acde48001122row41_col10\" class=\"data row41 col10\" >THE GREAT SHADOW AND OTHER NAPOLEONIC TALES</td>\n",
                            "            </tr>\n",
                            "            <tr>\n",
                            "                        <th id=\"T_2ba5cdec_f974_11eb_9dff_acde48001122level0_row42\" class=\"row_heading level0 row42\" >12555</th>\n",
                            "                        <td id=\"T_2ba5cdec_f974_11eb_9dff_acde48001122row42_col0\" class=\"data row42 col0\" >-0.000655</td>\n",
                            "                        <td id=\"T_2ba5cdec_f974_11eb_9dff_acde48001122row42_col1\" class=\"data row42 col1\" >0.001072</td>\n",
                            "                        <td id=\"T_2ba5cdec_f974_11eb_9dff_acde48001122row42_col2\" class=\"data row42 col2\" >-0.001245</td>\n",
                            "                        <td id=\"T_2ba5cdec_f974_11eb_9dff_acde48001122row42_col3\" class=\"data row42 col3\" >-0.000570</td>\n",
                            "                        <td id=\"T_2ba5cdec_f974_11eb_9dff_acde48001122row42_col4\" class=\"data row42 col4\" >0.004583</td>\n",
                            "                        <td id=\"T_2ba5cdec_f974_11eb_9dff_acde48001122row42_col5\" class=\"data row42 col5\" >-0.003087</td>\n",
                            "                        <td id=\"T_2ba5cdec_f974_11eb_9dff_acde48001122row42_col6\" class=\"data row42 col6\" >-0.000782</td>\n",
                            "                        <td id=\"T_2ba5cdec_f974_11eb_9dff_acde48001122row42_col7\" class=\"data row42 col7\" >-0.001405</td>\n",
                            "                        <td id=\"T_2ba5cdec_f974_11eb_9dff_acde48001122row42_col8\" class=\"data row42 col8\" >0.001909</td>\n",
                            "                        <td id=\"T_2ba5cdec_f974_11eb_9dff_acde48001122row42_col9\" class=\"data row42 col9\" >0.000015</td>\n",
                            "                        <td id=\"T_2ba5cdec_f974_11eb_9dff_acde48001122row42_col10\" class=\"data row42 col10\" >THE TRAGEDY OF THE KOROSKO</td>\n",
                            "            </tr>\n",
                            "            <tr>\n",
                            "                        <th id=\"T_2ba5cdec_f974_11eb_9dff_acde48001122level0_row43\" class=\"row_heading level0 row43\" >13152</th>\n",
                            "                        <td id=\"T_2ba5cdec_f974_11eb_9dff_acde48001122row43_col0\" class=\"data row43 col0\" >-0.000272</td>\n",
                            "                        <td id=\"T_2ba5cdec_f974_11eb_9dff_acde48001122row43_col1\" class=\"data row43 col1\" >0.000494</td>\n",
                            "                        <td id=\"T_2ba5cdec_f974_11eb_9dff_acde48001122row43_col2\" class=\"data row43 col2\" >-0.000450</td>\n",
                            "                        <td id=\"T_2ba5cdec_f974_11eb_9dff_acde48001122row43_col3\" class=\"data row43 col3\" >-0.000146</td>\n",
                            "                        <td id=\"T_2ba5cdec_f974_11eb_9dff_acde48001122row43_col4\" class=\"data row43 col4\" >0.000237</td>\n",
                            "                        <td id=\"T_2ba5cdec_f974_11eb_9dff_acde48001122row43_col5\" class=\"data row43 col5\" >0.000482</td>\n",
                            "                        <td id=\"T_2ba5cdec_f974_11eb_9dff_acde48001122row43_col6\" class=\"data row43 col6\" >-0.000298</td>\n",
                            "                        <td id=\"T_2ba5cdec_f974_11eb_9dff_acde48001122row43_col7\" class=\"data row43 col7\" >0.000777</td>\n",
                            "                        <td id=\"T_2ba5cdec_f974_11eb_9dff_acde48001122row43_col8\" class=\"data row43 col8\" >-0.001299</td>\n",
                            "                        <td id=\"T_2ba5cdec_f974_11eb_9dff_acde48001122row43_col9\" class=\"data row43 col9\" >0.000583</td>\n",
                            "                        <td id=\"T_2ba5cdec_f974_11eb_9dff_acde48001122row43_col10\" class=\"data row43 col10\" >THE FIRM OF GIRDLESTONE</td>\n",
                            "            </tr>\n",
                            "            <tr>\n",
                            "                        <th id=\"T_2ba5cdec_f974_11eb_9dff_acde48001122level0_row44\" class=\"row_heading level0 row44\" >17398</th>\n",
                            "                        <td id=\"T_2ba5cdec_f974_11eb_9dff_acde48001122row44_col0\" class=\"data row44 col0\" >-0.000299</td>\n",
                            "                        <td id=\"T_2ba5cdec_f974_11eb_9dff_acde48001122row44_col1\" class=\"data row44 col1\" >0.000170</td>\n",
                            "                        <td id=\"T_2ba5cdec_f974_11eb_9dff_acde48001122row44_col2\" class=\"data row44 col2\" >-0.000084</td>\n",
                            "                        <td id=\"T_2ba5cdec_f974_11eb_9dff_acde48001122row44_col3\" class=\"data row44 col3\" >0.000059</td>\n",
                            "                        <td id=\"T_2ba5cdec_f974_11eb_9dff_acde48001122row44_col4\" class=\"data row44 col4\" >0.000105</td>\n",
                            "                        <td id=\"T_2ba5cdec_f974_11eb_9dff_acde48001122row44_col5\" class=\"data row44 col5\" >0.000159</td>\n",
                            "                        <td id=\"T_2ba5cdec_f974_11eb_9dff_acde48001122row44_col6\" class=\"data row44 col6\" >0.000163</td>\n",
                            "                        <td id=\"T_2ba5cdec_f974_11eb_9dff_acde48001122row44_col7\" class=\"data row44 col7\" >0.000150</td>\n",
                            "                        <td id=\"T_2ba5cdec_f974_11eb_9dff_acde48001122row44_col8\" class=\"data row44 col8\" >-0.000384</td>\n",
                            "                        <td id=\"T_2ba5cdec_f974_11eb_9dff_acde48001122row44_col9\" class=\"data row44 col9\" >-0.000067</td>\n",
                            "                        <td id=\"T_2ba5cdec_f974_11eb_9dff_acde48001122row44_col10\" class=\"data row44 col10\" >THE CABMAN S STORY THE MYSTERIES OF A LONDON GROWLER</td>\n",
                            "            </tr>\n",
                            "            <tr>\n",
                            "                        <th id=\"T_2ba5cdec_f974_11eb_9dff_acde48001122level0_row45\" class=\"row_heading level0 row45\" >21768</th>\n",
                            "                        <td id=\"T_2ba5cdec_f974_11eb_9dff_acde48001122row45_col0\" class=\"data row45 col0\" >-0.000662</td>\n",
                            "                        <td id=\"T_2ba5cdec_f974_11eb_9dff_acde48001122row45_col1\" class=\"data row45 col1\" >0.001084</td>\n",
                            "                        <td id=\"T_2ba5cdec_f974_11eb_9dff_acde48001122row45_col2\" class=\"data row45 col2\" >-0.001253</td>\n",
                            "                        <td id=\"T_2ba5cdec_f974_11eb_9dff_acde48001122row45_col3\" class=\"data row45 col3\" >-0.000576</td>\n",
                            "                        <td id=\"T_2ba5cdec_f974_11eb_9dff_acde48001122row45_col4\" class=\"data row45 col4\" >0.004640</td>\n",
                            "                        <td id=\"T_2ba5cdec_f974_11eb_9dff_acde48001122row45_col5\" class=\"data row45 col5\" >-0.003126</td>\n",
                            "                        <td id=\"T_2ba5cdec_f974_11eb_9dff_acde48001122row45_col6\" class=\"data row45 col6\" >-0.000782</td>\n",
                            "                        <td id=\"T_2ba5cdec_f974_11eb_9dff_acde48001122row45_col7\" class=\"data row45 col7\" >-0.001424</td>\n",
                            "                        <td id=\"T_2ba5cdec_f974_11eb_9dff_acde48001122row45_col8\" class=\"data row45 col8\" >0.001923</td>\n",
                            "                        <td id=\"T_2ba5cdec_f974_11eb_9dff_acde48001122row45_col9\" class=\"data row45 col9\" >0.000000</td>\n",
                            "                        <td id=\"T_2ba5cdec_f974_11eb_9dff_acde48001122row45_col10\" class=\"data row45 col10\" >A DESERT DRAMA BEING THE TRAGEDY OF THE KOROSKO</td>\n",
                            "            </tr>\n",
                            "            <tr>\n",
                            "                        <th id=\"T_2ba5cdec_f974_11eb_9dff_acde48001122level0_row46\" class=\"row_heading level0 row46\" >21769</th>\n",
                            "                        <td id=\"T_2ba5cdec_f974_11eb_9dff_acde48001122row46_col0\" class=\"data row46 col0\" >-0.000742</td>\n",
                            "                        <td id=\"T_2ba5cdec_f974_11eb_9dff_acde48001122row46_col1\" class=\"data row46 col1\" >0.001791</td>\n",
                            "                        <td id=\"T_2ba5cdec_f974_11eb_9dff_acde48001122row46_col2\" class=\"data row46 col2\" >-0.001837</td>\n",
                            "                        <td id=\"T_2ba5cdec_f974_11eb_9dff_acde48001122row46_col3\" class=\"data row46 col3\" >-0.003838</td>\n",
                            "                        <td id=\"T_2ba5cdec_f974_11eb_9dff_acde48001122row46_col4\" class=\"data row46 col4\" >-0.003546</td>\n",
                            "                        <td id=\"T_2ba5cdec_f974_11eb_9dff_acde48001122row46_col5\" class=\"data row46 col5\" >-0.001190</td>\n",
                            "                        <td id=\"T_2ba5cdec_f974_11eb_9dff_acde48001122row46_col6\" class=\"data row46 col6\" >-0.001284</td>\n",
                            "                        <td id=\"T_2ba5cdec_f974_11eb_9dff_acde48001122row46_col7\" class=\"data row46 col7\" >-0.000451</td>\n",
                            "                        <td id=\"T_2ba5cdec_f974_11eb_9dff_acde48001122row46_col8\" class=\"data row46 col8\" >-0.000156</td>\n",
                            "                        <td id=\"T_2ba5cdec_f974_11eb_9dff_acde48001122row46_col9\" class=\"data row46 col9\" >-0.000403</td>\n",
                            "                        <td id=\"T_2ba5cdec_f974_11eb_9dff_acde48001122row46_col10\" class=\"data row46 col10\" >SONGS OF THE ROAD</td>\n",
                            "            </tr>\n",
                            "            <tr>\n",
                            "                        <th id=\"T_2ba5cdec_f974_11eb_9dff_acde48001122level0_row47\" class=\"row_heading level0 row47\" >22357</th>\n",
                            "                        <td id=\"T_2ba5cdec_f974_11eb_9dff_acde48001122row47_col0\" class=\"data row47 col0\" >-0.000233</td>\n",
                            "                        <td id=\"T_2ba5cdec_f974_11eb_9dff_acde48001122row47_col1\" class=\"data row47 col1\" >0.000174</td>\n",
                            "                        <td id=\"T_2ba5cdec_f974_11eb_9dff_acde48001122row47_col2\" class=\"data row47 col2\" >-0.000162</td>\n",
                            "                        <td id=\"T_2ba5cdec_f974_11eb_9dff_acde48001122row47_col3\" class=\"data row47 col3\" >0.000042</td>\n",
                            "                        <td id=\"T_2ba5cdec_f974_11eb_9dff_acde48001122row47_col4\" class=\"data row47 col4\" >0.000103</td>\n",
                            "                        <td id=\"T_2ba5cdec_f974_11eb_9dff_acde48001122row47_col5\" class=\"data row47 col5\" >0.000141</td>\n",
                            "                        <td id=\"T_2ba5cdec_f974_11eb_9dff_acde48001122row47_col6\" class=\"data row47 col6\" >0.000097</td>\n",
                            "                        <td id=\"T_2ba5cdec_f974_11eb_9dff_acde48001122row47_col7\" class=\"data row47 col7\" >0.000175</td>\n",
                            "                        <td id=\"T_2ba5cdec_f974_11eb_9dff_acde48001122row47_col8\" class=\"data row47 col8\" >-0.000287</td>\n",
                            "                        <td id=\"T_2ba5cdec_f974_11eb_9dff_acde48001122row47_col9\" class=\"data row47 col9\" >-0.000012</td>\n",
                            "                        <td id=\"T_2ba5cdec_f974_11eb_9dff_acde48001122row47_col10\" class=\"data row47 col10\" >DANGER AND OTHER STORIES</td>\n",
                            "            </tr>\n",
                            "            <tr>\n",
                            "                        <th id=\"T_2ba5cdec_f974_11eb_9dff_acde48001122level0_row48\" class=\"row_heading level0 row48\" >23059</th>\n",
                            "                        <td id=\"T_2ba5cdec_f974_11eb_9dff_acde48001122row48_col0\" class=\"data row48 col0\" >-0.000280</td>\n",
                            "                        <td id=\"T_2ba5cdec_f974_11eb_9dff_acde48001122row48_col1\" class=\"data row48 col1\" >0.000202</td>\n",
                            "                        <td id=\"T_2ba5cdec_f974_11eb_9dff_acde48001122row48_col2\" class=\"data row48 col2\" >-0.000224</td>\n",
                            "                        <td id=\"T_2ba5cdec_f974_11eb_9dff_acde48001122row48_col3\" class=\"data row48 col3\" >0.000074</td>\n",
                            "                        <td id=\"T_2ba5cdec_f974_11eb_9dff_acde48001122row48_col4\" class=\"data row48 col4\" >0.000202</td>\n",
                            "                        <td id=\"T_2ba5cdec_f974_11eb_9dff_acde48001122row48_col5\" class=\"data row48 col5\" >0.000124</td>\n",
                            "                        <td id=\"T_2ba5cdec_f974_11eb_9dff_acde48001122row48_col6\" class=\"data row48 col6\" >0.000143</td>\n",
                            "                        <td id=\"T_2ba5cdec_f974_11eb_9dff_acde48001122row48_col7\" class=\"data row48 col7\" >0.000414</td>\n",
                            "                        <td id=\"T_2ba5cdec_f974_11eb_9dff_acde48001122row48_col8\" class=\"data row48 col8\" >-0.000584</td>\n",
                            "                        <td id=\"T_2ba5cdec_f974_11eb_9dff_acde48001122row48_col9\" class=\"data row48 col9\" >-0.000290</td>\n",
                            "                        <td id=\"T_2ba5cdec_f974_11eb_9dff_acde48001122row48_col10\" class=\"data row48 col10\" >MY FRIEND THE MURDERER</td>\n",
                            "            </tr>\n",
                            "            <tr>\n",
                            "                        <th id=\"T_2ba5cdec_f974_11eb_9dff_acde48001122level0_row49\" class=\"row_heading level0 row49\" >24951</th>\n",
                            "                        <td id=\"T_2ba5cdec_f974_11eb_9dff_acde48001122row49_col0\" class=\"data row49 col0\" >-0.000461</td>\n",
                            "                        <td id=\"T_2ba5cdec_f974_11eb_9dff_acde48001122row49_col1\" class=\"data row49 col1\" >0.000470</td>\n",
                            "                        <td id=\"T_2ba5cdec_f974_11eb_9dff_acde48001122row49_col2\" class=\"data row49 col2\" >-0.000458</td>\n",
                            "                        <td id=\"T_2ba5cdec_f974_11eb_9dff_acde48001122row49_col3\" class=\"data row49 col3\" >-0.000029</td>\n",
                            "                        <td id=\"T_2ba5cdec_f974_11eb_9dff_acde48001122row49_col4\" class=\"data row49 col4\" >0.000484</td>\n",
                            "                        <td id=\"T_2ba5cdec_f974_11eb_9dff_acde48001122row49_col5\" class=\"data row49 col5\" >0.000376</td>\n",
                            "                        <td id=\"T_2ba5cdec_f974_11eb_9dff_acde48001122row49_col6\" class=\"data row49 col6\" >0.000486</td>\n",
                            "                        <td id=\"T_2ba5cdec_f974_11eb_9dff_acde48001122row49_col7\" class=\"data row49 col7\" >0.001016</td>\n",
                            "                        <td id=\"T_2ba5cdec_f974_11eb_9dff_acde48001122row49_col8\" class=\"data row49 col8\" >-0.001696</td>\n",
                            "                        <td id=\"T_2ba5cdec_f974_11eb_9dff_acde48001122row49_col9\" class=\"data row49 col9\" >-0.001784</td>\n",
                            "                        <td id=\"T_2ba5cdec_f974_11eb_9dff_acde48001122row49_col10\" class=\"data row49 col10\" >THE WAR IN SOUTH AFRICA ITS CAUSE AND CONDUCT</td>\n",
                            "            </tr>\n",
                            "            <tr>\n",
                            "                        <th id=\"T_2ba5cdec_f974_11eb_9dff_acde48001122level0_row50\" class=\"row_heading level0 row50\" >32777</th>\n",
                            "                        <td id=\"T_2ba5cdec_f974_11eb_9dff_acde48001122row50_col0\" class=\"data row50 col0\" >-0.000189</td>\n",
                            "                        <td id=\"T_2ba5cdec_f974_11eb_9dff_acde48001122row50_col1\" class=\"data row50 col1\" >0.000162</td>\n",
                            "                        <td id=\"T_2ba5cdec_f974_11eb_9dff_acde48001122row50_col2\" class=\"data row50 col2\" >-0.000100</td>\n",
                            "                        <td id=\"T_2ba5cdec_f974_11eb_9dff_acde48001122row50_col3\" class=\"data row50 col3\" >0.000049</td>\n",
                            "                        <td id=\"T_2ba5cdec_f974_11eb_9dff_acde48001122row50_col4\" class=\"data row50 col4\" >0.000116</td>\n",
                            "                        <td id=\"T_2ba5cdec_f974_11eb_9dff_acde48001122row50_col5\" class=\"data row50 col5\" >0.000137</td>\n",
                            "                        <td id=\"T_2ba5cdec_f974_11eb_9dff_acde48001122row50_col6\" class=\"data row50 col6\" >0.000084</td>\n",
                            "                        <td id=\"T_2ba5cdec_f974_11eb_9dff_acde48001122row50_col7\" class=\"data row50 col7\" >0.000114</td>\n",
                            "                        <td id=\"T_2ba5cdec_f974_11eb_9dff_acde48001122row50_col8\" class=\"data row50 col8\" >-0.000245</td>\n",
                            "                        <td id=\"T_2ba5cdec_f974_11eb_9dff_acde48001122row50_col9\" class=\"data row50 col9\" >0.000004</td>\n",
                            "                        <td id=\"T_2ba5cdec_f974_11eb_9dff_acde48001122row50_col10\" class=\"data row50 col10\" >THE GREAT KEINPLATZ EXPERIMENT AND OTHER TALES OF TWILIGHT AND THE UNSEEN</td>\n",
                            "            </tr>\n",
                            "            <tr>\n",
                            "                        <th id=\"T_2ba5cdec_f974_11eb_9dff_acde48001122level0_row51\" class=\"row_heading level0 row51\" >34627</th>\n",
                            "                        <td id=\"T_2ba5cdec_f974_11eb_9dff_acde48001122row51_col0\" class=\"data row51 col0\" >-0.000286</td>\n",
                            "                        <td id=\"T_2ba5cdec_f974_11eb_9dff_acde48001122row51_col1\" class=\"data row51 col1\" >0.000264</td>\n",
                            "                        <td id=\"T_2ba5cdec_f974_11eb_9dff_acde48001122row51_col2\" class=\"data row51 col2\" >-0.000019</td>\n",
                            "                        <td id=\"T_2ba5cdec_f974_11eb_9dff_acde48001122row51_col3\" class=\"data row51 col3\" >0.000020</td>\n",
                            "                        <td id=\"T_2ba5cdec_f974_11eb_9dff_acde48001122row51_col4\" class=\"data row51 col4\" >0.000125</td>\n",
                            "                        <td id=\"T_2ba5cdec_f974_11eb_9dff_acde48001122row51_col5\" class=\"data row51 col5\" >0.000129</td>\n",
                            "                        <td id=\"T_2ba5cdec_f974_11eb_9dff_acde48001122row51_col6\" class=\"data row51 col6\" >0.000103</td>\n",
                            "                        <td id=\"T_2ba5cdec_f974_11eb_9dff_acde48001122row51_col7\" class=\"data row51 col7\" >0.000150</td>\n",
                            "                        <td id=\"T_2ba5cdec_f974_11eb_9dff_acde48001122row51_col8\" class=\"data row51 col8\" >-0.000296</td>\n",
                            "                        <td id=\"T_2ba5cdec_f974_11eb_9dff_acde48001122row51_col9\" class=\"data row51 col9\" >0.000015</td>\n",
                            "                        <td id=\"T_2ba5cdec_f974_11eb_9dff_acde48001122row51_col10\" class=\"data row51 col10\" >THE DEALINGS OF CAPTAIN SHARKEY AND OTHER TALES OF PIRATES</td>\n",
                            "            </tr>\n",
                            "            <tr>\n",
                            "                        <th id=\"T_2ba5cdec_f974_11eb_9dff_acde48001122level0_row52\" class=\"row_heading level0 row52\" >34797</th>\n",
                            "                        <td id=\"T_2ba5cdec_f974_11eb_9dff_acde48001122row52_col0\" class=\"data row52 col0\" >-0.000256</td>\n",
                            "                        <td id=\"T_2ba5cdec_f974_11eb_9dff_acde48001122row52_col1\" class=\"data row52 col1\" >0.000151</td>\n",
                            "                        <td id=\"T_2ba5cdec_f974_11eb_9dff_acde48001122row52_col2\" class=\"data row52 col2\" >-0.000109</td>\n",
                            "                        <td id=\"T_2ba5cdec_f974_11eb_9dff_acde48001122row52_col3\" class=\"data row52 col3\" >0.000049</td>\n",
                            "                        <td id=\"T_2ba5cdec_f974_11eb_9dff_acde48001122row52_col4\" class=\"data row52 col4\" >0.000137</td>\n",
                            "                        <td id=\"T_2ba5cdec_f974_11eb_9dff_acde48001122row52_col5\" class=\"data row52 col5\" >0.000114</td>\n",
                            "                        <td id=\"T_2ba5cdec_f974_11eb_9dff_acde48001122row52_col6\" class=\"data row52 col6\" >0.000065</td>\n",
                            "                        <td id=\"T_2ba5cdec_f974_11eb_9dff_acde48001122row52_col7\" class=\"data row52 col7\" >0.000102</td>\n",
                            "                        <td id=\"T_2ba5cdec_f974_11eb_9dff_acde48001122row52_col8\" class=\"data row52 col8\" >-0.000203</td>\n",
                            "                        <td id=\"T_2ba5cdec_f974_11eb_9dff_acde48001122row52_col9\" class=\"data row52 col9\" >-0.000017</td>\n",
                            "                        <td id=\"T_2ba5cdec_f974_11eb_9dff_acde48001122row52_col10\" class=\"data row52 col10\" >THE MAN FROM ARCHANGEL AND OTHER TALES OF ADVENTURE</td>\n",
                            "            </tr>\n",
                            "            <tr>\n",
                            "                        <th id=\"T_2ba5cdec_f974_11eb_9dff_acde48001122level0_row53\" class=\"row_heading level0 row53\" >37712</th>\n",
                            "                        <td id=\"T_2ba5cdec_f974_11eb_9dff_acde48001122row53_col0\" class=\"data row53 col0\" >-0.000410</td>\n",
                            "                        <td id=\"T_2ba5cdec_f974_11eb_9dff_acde48001122row53_col1\" class=\"data row53 col1\" >0.000237</td>\n",
                            "                        <td id=\"T_2ba5cdec_f974_11eb_9dff_acde48001122row53_col2\" class=\"data row53 col2\" >-0.000043</td>\n",
                            "                        <td id=\"T_2ba5cdec_f974_11eb_9dff_acde48001122row53_col3\" class=\"data row53 col3\" >0.000235</td>\n",
                            "                        <td id=\"T_2ba5cdec_f974_11eb_9dff_acde48001122row53_col4\" class=\"data row53 col4\" >0.000301</td>\n",
                            "                        <td id=\"T_2ba5cdec_f974_11eb_9dff_acde48001122row53_col5\" class=\"data row53 col5\" >0.000337</td>\n",
                            "                        <td id=\"T_2ba5cdec_f974_11eb_9dff_acde48001122row53_col6\" class=\"data row53 col6\" >0.000940</td>\n",
                            "                        <td id=\"T_2ba5cdec_f974_11eb_9dff_acde48001122row53_col7\" class=\"data row53 col7\" >0.000526</td>\n",
                            "                        <td id=\"T_2ba5cdec_f974_11eb_9dff_acde48001122row53_col8\" class=\"data row53 col8\" >-0.000969</td>\n",
                            "                        <td id=\"T_2ba5cdec_f974_11eb_9dff_acde48001122row53_col9\" class=\"data row53 col9\" >-0.002403</td>\n",
                            "                        <td id=\"T_2ba5cdec_f974_11eb_9dff_acde48001122row53_col10\" class=\"data row53 col10\" >THE CRIME OF THE CONGO</td>\n",
                            "            </tr>\n",
                            "            <tr>\n",
                            "                        <th id=\"T_2ba5cdec_f974_11eb_9dff_acde48001122level0_row54\" class=\"row_heading level0 row54\" >38071</th>\n",
                            "                        <td id=\"T_2ba5cdec_f974_11eb_9dff_acde48001122row54_col0\" class=\"data row54 col0\" >-0.000518</td>\n",
                            "                        <td id=\"T_2ba5cdec_f974_11eb_9dff_acde48001122row54_col1\" class=\"data row54 col1\" >0.000922</td>\n",
                            "                        <td id=\"T_2ba5cdec_f974_11eb_9dff_acde48001122row54_col2\" class=\"data row54 col2\" >-0.000889</td>\n",
                            "                        <td id=\"T_2ba5cdec_f974_11eb_9dff_acde48001122row54_col3\" class=\"data row54 col3\" >-0.001600</td>\n",
                            "                        <td id=\"T_2ba5cdec_f974_11eb_9dff_acde48001122row54_col4\" class=\"data row54 col4\" >-0.000927</td>\n",
                            "                        <td id=\"T_2ba5cdec_f974_11eb_9dff_acde48001122row54_col5\" class=\"data row54 col5\" >0.000302</td>\n",
                            "                        <td id=\"T_2ba5cdec_f974_11eb_9dff_acde48001122row54_col6\" class=\"data row54 col6\" >0.001689</td>\n",
                            "                        <td id=\"T_2ba5cdec_f974_11eb_9dff_acde48001122row54_col7\" class=\"data row54 col7\" >0.006032</td>\n",
                            "                        <td id=\"T_2ba5cdec_f974_11eb_9dff_acde48001122row54_col8\" class=\"data row54 col8\" >0.005373</td>\n",
                            "                        <td id=\"T_2ba5cdec_f974_11eb_9dff_acde48001122row54_col9\" class=\"data row54 col9\" >0.000706</td>\n",
                            "                        <td id=\"T_2ba5cdec_f974_11eb_9dff_acde48001122row54_col10\" class=\"data row54 col10\" >THE GUARDS CAME THROUGH AND OTHER POEMS</td>\n",
                            "            </tr>\n",
                            "            <tr>\n",
                            "                        <th id=\"T_2ba5cdec_f974_11eb_9dff_acde48001122level0_row55\" class=\"row_heading level0 row55\" >38443</th>\n",
                            "                        <td id=\"T_2ba5cdec_f974_11eb_9dff_acde48001122row55_col0\" class=\"data row55 col0\" >-0.000995</td>\n",
                            "                        <td id=\"T_2ba5cdec_f974_11eb_9dff_acde48001122row55_col1\" class=\"data row55 col1\" >0.004212</td>\n",
                            "                        <td id=\"T_2ba5cdec_f974_11eb_9dff_acde48001122row55_col2\" class=\"data row55 col2\" >0.008335</td>\n",
                            "                        <td id=\"T_2ba5cdec_f974_11eb_9dff_acde48001122row55_col3\" class=\"data row55 col3\" >0.000461</td>\n",
                            "                        <td id=\"T_2ba5cdec_f974_11eb_9dff_acde48001122row55_col4\" class=\"data row55 col4\" >-0.000727</td>\n",
                            "                        <td id=\"T_2ba5cdec_f974_11eb_9dff_acde48001122row55_col5\" class=\"data row55 col5\" >-0.000765</td>\n",
                            "                        <td id=\"T_2ba5cdec_f974_11eb_9dff_acde48001122row55_col6\" class=\"data row55 col6\" >-0.000161</td>\n",
                            "                        <td id=\"T_2ba5cdec_f974_11eb_9dff_acde48001122row55_col7\" class=\"data row55 col7\" >-0.000571</td>\n",
                            "                        <td id=\"T_2ba5cdec_f974_11eb_9dff_acde48001122row55_col8\" class=\"data row55 col8\" >0.001000</td>\n",
                            "                        <td id=\"T_2ba5cdec_f974_11eb_9dff_acde48001122row55_col9\" class=\"data row55 col9\" >-0.000167</td>\n",
                            "                        <td id=\"T_2ba5cdec_f974_11eb_9dff_acde48001122row55_col10\" class=\"data row55 col10\" >THE CROXLEY MASTER A GREAT TALE OF THE PRIZE RING</td>\n",
                            "            </tr>\n",
                            "            <tr>\n",
                            "                        <th id=\"T_2ba5cdec_f974_11eb_9dff_acde48001122level0_row56\" class=\"row_heading level0 row56\" >39718</th>\n",
                            "                        <td id=\"T_2ba5cdec_f974_11eb_9dff_acde48001122row56_col0\" class=\"data row56 col0\" >-0.000274</td>\n",
                            "                        <td id=\"T_2ba5cdec_f974_11eb_9dff_acde48001122row56_col1\" class=\"data row56 col1\" >0.000170</td>\n",
                            "                        <td id=\"T_2ba5cdec_f974_11eb_9dff_acde48001122row56_col2\" class=\"data row56 col2\" >-0.000172</td>\n",
                            "                        <td id=\"T_2ba5cdec_f974_11eb_9dff_acde48001122row56_col3\" class=\"data row56 col3\" >0.000070</td>\n",
                            "                        <td id=\"T_2ba5cdec_f974_11eb_9dff_acde48001122row56_col4\" class=\"data row56 col4\" >0.000148</td>\n",
                            "                        <td id=\"T_2ba5cdec_f974_11eb_9dff_acde48001122row56_col5\" class=\"data row56 col5\" >0.000163</td>\n",
                            "                        <td id=\"T_2ba5cdec_f974_11eb_9dff_acde48001122row56_col6\" class=\"data row56 col6\" >0.000136</td>\n",
                            "                        <td id=\"T_2ba5cdec_f974_11eb_9dff_acde48001122row56_col7\" class=\"data row56 col7\" >0.000214</td>\n",
                            "                        <td id=\"T_2ba5cdec_f974_11eb_9dff_acde48001122row56_col8\" class=\"data row56 col8\" >-0.000385</td>\n",
                            "                        <td id=\"T_2ba5cdec_f974_11eb_9dff_acde48001122row56_col9\" class=\"data row56 col9\" >-0.000240</td>\n",
                            "                        <td id=\"T_2ba5cdec_f974_11eb_9dff_acde48001122row56_col10\" class=\"data row56 col10\" >THE WANDERINGS OF A SPIRITUALIST</td>\n",
                            "            </tr>\n",
                            "            <tr>\n",
                            "                        <th id=\"T_2ba5cdec_f974_11eb_9dff_acde48001122level0_row57\" class=\"row_heading level0 row57\" >40848</th>\n",
                            "                        <td id=\"T_2ba5cdec_f974_11eb_9dff_acde48001122row57_col0\" class=\"data row57 col0\" >-0.000195</td>\n",
                            "                        <td id=\"T_2ba5cdec_f974_11eb_9dff_acde48001122row57_col1\" class=\"data row57 col1\" >0.000202</td>\n",
                            "                        <td id=\"T_2ba5cdec_f974_11eb_9dff_acde48001122row57_col2\" class=\"data row57 col2\" >-0.000157</td>\n",
                            "                        <td id=\"T_2ba5cdec_f974_11eb_9dff_acde48001122row57_col3\" class=\"data row57 col3\" >0.000036</td>\n",
                            "                        <td id=\"T_2ba5cdec_f974_11eb_9dff_acde48001122row57_col4\" class=\"data row57 col4\" >0.000140</td>\n",
                            "                        <td id=\"T_2ba5cdec_f974_11eb_9dff_acde48001122row57_col5\" class=\"data row57 col5\" >0.000122</td>\n",
                            "                        <td id=\"T_2ba5cdec_f974_11eb_9dff_acde48001122row57_col6\" class=\"data row57 col6\" >0.000101</td>\n",
                            "                        <td id=\"T_2ba5cdec_f974_11eb_9dff_acde48001122row57_col7\" class=\"data row57 col7\" >0.000207</td>\n",
                            "                        <td id=\"T_2ba5cdec_f974_11eb_9dff_acde48001122row57_col8\" class=\"data row57 col8\" >-0.000337</td>\n",
                            "                        <td id=\"T_2ba5cdec_f974_11eb_9dff_acde48001122row57_col9\" class=\"data row57 col9\" >-0.000074</td>\n",
                            "                        <td id=\"T_2ba5cdec_f974_11eb_9dff_acde48001122row57_col10\" class=\"data row57 col10\" >THE GULLY OF BLUEMANSDYKE AND OTHER STORIES</td>\n",
                            "            </tr>\n",
                            "            <tr>\n",
                            "                        <th id=\"T_2ba5cdec_f974_11eb_9dff_acde48001122level0_row58\" class=\"row_heading level0 row58\" >42127</th>\n",
                            "                        <td id=\"T_2ba5cdec_f974_11eb_9dff_acde48001122row58_col0\" class=\"data row58 col0\" >-0.000176</td>\n",
                            "                        <td id=\"T_2ba5cdec_f974_11eb_9dff_acde48001122row58_col1\" class=\"data row58 col1\" >0.000254</td>\n",
                            "                        <td id=\"T_2ba5cdec_f974_11eb_9dff_acde48001122row58_col2\" class=\"data row58 col2\" >-0.000207</td>\n",
                            "                        <td id=\"T_2ba5cdec_f974_11eb_9dff_acde48001122row58_col3\" class=\"data row58 col3\" >0.000040</td>\n",
                            "                        <td id=\"T_2ba5cdec_f974_11eb_9dff_acde48001122row58_col4\" class=\"data row58 col4\" >0.000180</td>\n",
                            "                        <td id=\"T_2ba5cdec_f974_11eb_9dff_acde48001122row58_col5\" class=\"data row58 col5\" >0.000188</td>\n",
                            "                        <td id=\"T_2ba5cdec_f974_11eb_9dff_acde48001122row58_col6\" class=\"data row58 col6\" >0.000203</td>\n",
                            "                        <td id=\"T_2ba5cdec_f974_11eb_9dff_acde48001122row58_col7\" class=\"data row58 col7\" >0.000311</td>\n",
                            "                        <td id=\"T_2ba5cdec_f974_11eb_9dff_acde48001122row58_col8\" class=\"data row58 col8\" >-0.000433</td>\n",
                            "                        <td id=\"T_2ba5cdec_f974_11eb_9dff_acde48001122row58_col9\" class=\"data row58 col9\" >-0.000270</td>\n",
                            "                        <td id=\"T_2ba5cdec_f974_11eb_9dff_acde48001122row58_col10\" class=\"data row58 col10\" >THE GERMAN WAR</td>\n",
                            "            </tr>\n",
                            "            <tr>\n",
                            "                        <th id=\"T_2ba5cdec_f974_11eb_9dff_acde48001122level0_row59\" class=\"row_heading level0 row59\" >47506</th>\n",
                            "                        <td id=\"T_2ba5cdec_f974_11eb_9dff_acde48001122row59_col0\" class=\"data row59 col0\" >-0.000449</td>\n",
                            "                        <td id=\"T_2ba5cdec_f974_11eb_9dff_acde48001122row59_col1\" class=\"data row59 col1\" >0.000294</td>\n",
                            "                        <td id=\"T_2ba5cdec_f974_11eb_9dff_acde48001122row59_col2\" class=\"data row59 col2\" >-0.000412</td>\n",
                            "                        <td id=\"T_2ba5cdec_f974_11eb_9dff_acde48001122row59_col3\" class=\"data row59 col3\" >0.000149</td>\n",
                            "                        <td id=\"T_2ba5cdec_f974_11eb_9dff_acde48001122row59_col4\" class=\"data row59 col4\" >0.000411</td>\n",
                            "                        <td id=\"T_2ba5cdec_f974_11eb_9dff_acde48001122row59_col5\" class=\"data row59 col5\" >0.000462</td>\n",
                            "                        <td id=\"T_2ba5cdec_f974_11eb_9dff_acde48001122row59_col6\" class=\"data row59 col6\" >0.000135</td>\n",
                            "                        <td id=\"T_2ba5cdec_f974_11eb_9dff_acde48001122row59_col7\" class=\"data row59 col7\" >0.001185</td>\n",
                            "                        <td id=\"T_2ba5cdec_f974_11eb_9dff_acde48001122row59_col8\" class=\"data row59 col8\" >-0.002008</td>\n",
                            "                        <td id=\"T_2ba5cdec_f974_11eb_9dff_acde48001122row59_col9\" class=\"data row59 col9\" >-0.002286</td>\n",
                            "                        <td id=\"T_2ba5cdec_f974_11eb_9dff_acde48001122row59_col10\" class=\"data row59 col10\" >THE COMING OF THE FAIRIES</td>\n",
                            "            </tr>\n",
                            "            <tr>\n",
                            "                        <th id=\"T_2ba5cdec_f974_11eb_9dff_acde48001122level0_row60\" class=\"row_heading level0 row60\" >48320</th>\n",
                            "                        <td id=\"T_2ba5cdec_f974_11eb_9dff_acde48001122row60_col0\" class=\"data row60 col0\" >0.000277</td>\n",
                            "                        <td id=\"T_2ba5cdec_f974_11eb_9dff_acde48001122row60_col1\" class=\"data row60 col1\" >-0.003241</td>\n",
                            "                        <td id=\"T_2ba5cdec_f974_11eb_9dff_acde48001122row60_col2\" class=\"data row60 col2\" >0.000653</td>\n",
                            "                        <td id=\"T_2ba5cdec_f974_11eb_9dff_acde48001122row60_col3\" class=\"data row60 col3\" >-0.000709</td>\n",
                            "                        <td id=\"T_2ba5cdec_f974_11eb_9dff_acde48001122row60_col4\" class=\"data row60 col4\" >-0.000874</td>\n",
                            "                        <td id=\"T_2ba5cdec_f974_11eb_9dff_acde48001122row60_col5\" class=\"data row60 col5\" >-0.000770</td>\n",
                            "                        <td id=\"T_2ba5cdec_f974_11eb_9dff_acde48001122row60_col6\" class=\"data row60 col6\" >0.007280</td>\n",
                            "                        <td id=\"T_2ba5cdec_f974_11eb_9dff_acde48001122row60_col7\" class=\"data row60 col7\" >-0.002855</td>\n",
                            "                        <td id=\"T_2ba5cdec_f974_11eb_9dff_acde48001122row60_col8\" class=\"data row60 col8\" >0.001475</td>\n",
                            "                        <td id=\"T_2ba5cdec_f974_11eb_9dff_acde48001122row60_col9\" class=\"data row60 col9\" >-0.000659</td>\n",
                            "                        <td id=\"T_2ba5cdec_f974_11eb_9dff_acde48001122row60_col10\" class=\"data row60 col10\" >ADVENTURES OF SHERLOCK HOLMES ILLUSTRATED</td>\n",
                            "            </tr>\n",
                            "    </tbody></table>"
                        ]
                    },
                    "metadata": {},
                    "execution_count": 19
                }
            ],
            "metadata": {}
        },
        {
            "cell_type": "code",
            "execution_count": 20,
            "source": [
                "px.scatter_3d(DCM, 'PC0', 'PC1','PC2', hover_name='title', height=1000, width=1200)"
            ],
            "outputs": [
                {
                    "output_type": "display_data",
                    "data": {
                        "application/vnd.plotly.v1+json": {
                            "config": {
                                "plotlyServerURL": "https://plot.ly"
                            },
                            "data": [
                                {
                                    "hovertemplate": "<b>%{hovertext}</b><br><br>PC0=%{x}<br>PC1=%{y}<br>PC2=%{z}<extra></extra>",
                                    "hovertext": [
                                        "THE RETURN OF SHERLOCK HOLMES",
                                        "THE POISON BELT",
                                        "THE LOST WORLD",
                                        "A STUDY IN SCARLET",
                                        "THE STARK MUNRO LETTERS BEING SERIES OF TWELVE LETTERS WRITTEN BY J STARK MUNRO M B TO HIS FRIEND AND FORMER FELLOW STUDENT HERBERT SWANBOROUGH OF LOWELL MASSACHUSETTS DURING THE YEARS 1881 1884",
                                        "THE CAPTAIN OF THE POLESTAR AND OTHER TALES",
                                        "THE PARASITE A STORY",
                                        "BEYOND THE CITY",
                                        "ROUND THE RED LAMP BEING FACTS AND FANCIES OF MEDICAL LIFE",
                                        "THE VITAL MESSAGE",
                                        "TALES OF TERROR AND MYSTERY",
                                        "THE WHITE COMPANY",
                                        "THE NEW REVELATION",
                                        "THE ADVENTURES OF GERARD",
                                        "THE ADVENTURES OF SHERLOCK HOLMES",
                                        "THE SIGN OF THE FOUR",
                                        "THE ADVENTURE OF WISTERIA LODGE",
                                        "THE ADVENTURE OF THE CARDBOARD BOX",
                                        "THE ADVENTURE OF THE RED CIRCLE",
                                        "THE ADVENTURE OF THE BRUCE PARTINGTON PLANS",
                                        "THE ADVENTURE OF THE DYING DETECTIVE",
                                        "THE DISAPPEARANCE OF LADY FRANCES CARFAX",
                                        "THE ADVENTURE OF THE DEVIL S FOOT",
                                        "HIS LAST BOW AN EPILOGUE OF SHERLOCK HOLMES",
                                        "SIR NIGEL",
                                        "THE HOUND OF THE BASKERVILLES",
                                        "THE GREAT BOER WAR",
                                        "THE VALLEY OF FEAR",
                                        "SONGS OF ACTION",
                                        "RODNEY STONE",
                                        "A DUET WITH AN OCCASIONAL CHORUS",
                                        "THROUGH THE MAGIC DOOR",
                                        "THE MYSTERY OF CLOOMBER",
                                        "THE DOINGS OF RAFFLES HAW",
                                        "THE LAST GALLEY IMPRESSIONS AND TALES",
                                        "MICAH CLARKE HIS STATEMENT AS MADE TO HIS THREE GRANDCHILDREN JOSEPH GERVAS AND REUBEN DURING THE HARD WINTER OF 1734",
                                        "A VISIT TO THREE FRONTS JUNE 1916",
                                        "THE GREEN FLAG AND OTHER STORIES OF WAR AND SPORT",
                                        "UNCLE BERNAC A MEMORY OF THE EMPIRE",
                                        "THE EXPLOITS OF BRIGADIER GERARD",
                                        "THE REFUGEES A TALE OF TWO CONTINENTS",
                                        "THE GREAT SHADOW AND OTHER NAPOLEONIC TALES",
                                        "THE TRAGEDY OF THE KOROSKO",
                                        "THE FIRM OF GIRDLESTONE",
                                        "THE CABMAN S STORY THE MYSTERIES OF A LONDON GROWLER",
                                        "A DESERT DRAMA BEING THE TRAGEDY OF THE KOROSKO",
                                        "SONGS OF THE ROAD",
                                        "DANGER AND OTHER STORIES",
                                        "MY FRIEND THE MURDERER",
                                        "THE WAR IN SOUTH AFRICA ITS CAUSE AND CONDUCT",
                                        "THE GREAT KEINPLATZ EXPERIMENT AND OTHER TALES OF TWILIGHT AND THE UNSEEN",
                                        "THE DEALINGS OF CAPTAIN SHARKEY AND OTHER TALES OF PIRATES",
                                        "THE MAN FROM ARCHANGEL AND OTHER TALES OF ADVENTURE",
                                        "THE CRIME OF THE CONGO",
                                        "THE GUARDS CAME THROUGH AND OTHER POEMS",
                                        "THE CROXLEY MASTER A GREAT TALE OF THE PRIZE RING",
                                        "THE WANDERINGS OF A SPIRITUALIST",
                                        "THE GULLY OF BLUEMANSDYKE AND OTHER STORIES",
                                        "THE GERMAN WAR",
                                        "THE COMING OF THE FAIRIES",
                                        "ADVENTURES OF SHERLOCK HOLMES ILLUSTRATED"
                                    ],
                                    "legendgroup": "",
                                    "marker": {
                                        "color": "#636efa",
                                        "symbol": "circle"
                                    },
                                    "mode": "markers",
                                    "name": "",
                                    "scene": "scene",
                                    "showlegend": false,
                                    "type": "scatter3d",
                                    "x": [
                                        0.00043111025060765405,
                                        -0.0006335761748340602,
                                        -0.0004993182629587013,
                                        -0.000018718035594889364,
                                        -0.0002785740912493692,
                                        -0.00020884608249004366,
                                        -0.0003338907756770587,
                                        -0.00037143959459703566,
                                        -0.00025314715605649364,
                                        -0.000302214785267027,
                                        -0.0002275152403499687,
                                        -0.0004973898873401514,
                                        -0.0002773986811250238,
                                        -0.00028801924544320464,
                                        0.0001830950039424806,
                                        0.00004470365299074558,
                                        0.0006737785408311609,
                                        0.0002084242980250345,
                                        0.0007737792850190029,
                                        0.0006169638497756408,
                                        0.001161565068457608,
                                        0.0008019044448849344,
                                        0.0007158630538192924,
                                        0.011333536556117985,
                                        -0.0005145044942157605,
                                        0.0001882123585576175,
                                        -0.00045937851292328477,
                                        0.00011205100769393331,
                                        -0.0006892208453393479,
                                        -0.0003114006914990488,
                                        -0.0003804498908108943,
                                        -0.0002561971178774534,
                                        -0.0002999538321860372,
                                        -0.0005639383245754266,
                                        -0.0002721239471776239,
                                        -0.0002931481137314855,
                                        -0.0002685510385850969,
                                        -0.000453531368264263,
                                        -0.0003013882798503637,
                                        -0.00026066045470331045,
                                        -0.0003538748522366098,
                                        -0.00030228435022486684,
                                        -0.0006554924979909081,
                                        -0.00027160644375616455,
                                        -0.0002988626698785167,
                                        -0.0006622795449969258,
                                        -0.000742451061252664,
                                        -0.00023277966155357005,
                                        -0.00027988568874011324,
                                        -0.0004612727017932445,
                                        -0.00018851887760406585,
                                        -0.0002859371406160123,
                                        -0.00025568860594886043,
                                        -0.0004095445830824135,
                                        -0.0005178016841783603,
                                        -0.0009949769157190395,
                                        -0.0002743914266086619,
                                        -0.00019466010840498186,
                                        -0.00017609657031111758,
                                        -0.0004491071449957821,
                                        0.00027702008389222845
                                    ],
                                    "y": [
                                        -0.0013094735611267417,
                                        0.0014106946469362824,
                                        0.0008797230430756165,
                                        -0.0005479247353633684,
                                        0.00014497858068028113,
                                        0.0001795330019197193,
                                        0.0002558195386435003,
                                        0.00015474598825073328,
                                        0.00011625601900978465,
                                        0.00017340515171406211,
                                        0.00009456959977320421,
                                        0.0005842195611085191,
                                        0.00013524888174131874,
                                        0.00021053466946875662,
                                        -0.0008632930575663112,
                                        -0.0006112451856036213,
                                        -0.003210926864648565,
                                        -0.0012377070228575863,
                                        -0.002976858522351218,
                                        -0.002105827706156203,
                                        -0.0027953060285024734,
                                        -0.002719363640598028,
                                        -0.0029661324008288447,
                                        0.0025825406243662648,
                                        0.0005835231737774425,
                                        -0.000926192657080041,
                                        0.000489451154464406,
                                        -0.0007854799064658996,
                                        0.0017059135926214702,
                                        0.0003319261656717469,
                                        0.00018032054678133845,
                                        0.00017653413969397815,
                                        0.00019666124229848362,
                                        0.0006382874782994251,
                                        0.00021346462939684978,
                                        0.0002466027612035238,
                                        0.00023068715108795918,
                                        0.001123996303815964,
                                        0.00021999745340740327,
                                        0.0001982970332539466,
                                        0.00027008387139565085,
                                        0.00024397305250969126,
                                        0.0010724001355234963,
                                        0.0004942265824411104,
                                        0.00016951282424255257,
                                        0.001084373499794447,
                                        0.0017907635932384045,
                                        0.00017432711844475655,
                                        0.0002019565428162761,
                                        0.00047004359777715683,
                                        0.00016153709785187245,
                                        0.00026367174764570396,
                                        0.00015071778098090302,
                                        0.00023713728206597407,
                                        0.0009222654148111835,
                                        0.004212220596887307,
                                        0.00016989325917688583,
                                        0.00020177825704052965,
                                        0.0002543445215314473,
                                        0.0002936700855376811,
                                        -0.00324109770502612
                                    ],
                                    "z": [
                                        0.00039106521761045343,
                                        -0.002282830893786086,
                                        -0.00138996016890355,
                                        0.00007195916050159095,
                                        -0.00012542481108468884,
                                        -0.00011117719725175616,
                                        -0.000043751492002038816,
                                        -0.00028913300024079237,
                                        -0.00010760316323430156,
                                        -0.00019194076377200317,
                                        -0.0000636891131157318,
                                        -0.00022704294514368196,
                                        -0.00016344303755651453,
                                        -0.0001616929920647209,
                                        0.00022306249215841645,
                                        0.00010784740825226344,
                                        0.0013102266668890365,
                                        0.0004387893664284897,
                                        0.0009939470298112316,
                                        0.0003733345567270685,
                                        0.0008821101455402633,
                                        0.0007189424294194146,
                                        0.0011192264623186828,
                                        -0.0004394214517620346,
                                        -0.00030815811641973014,
                                        0.00036073389194411906,
                                        -0.00045352747676171237,
                                        0.00019390075197217054,
                                        -0.001591854308505583,
                                        -0.00009974743203906448,
                                        -0.0000184991192074791,
                                        -0.00009473151021670042,
                                        -0.00013708344464030754,
                                        -0.0006794619764762367,
                                        -0.00011018325620463365,
                                        -0.0001194337936625104,
                                        -0.00020255491607531673,
                                        0.0017393045721082786,
                                        -0.00019372768063463707,
                                        -0.00015940795525053257,
                                        -0.00020821785204273283,
                                        -0.00011847781464749195,
                                        -0.0012453803192999328,
                                        -0.0004499424316961719,
                                        -0.00008378028197772604,
                                        -0.0012526062912397047,
                                        -0.0018365738028025672,
                                        -0.00016154527411766672,
                                        -0.00022401876424410876,
                                        -0.0004575191998255522,
                                        -0.00009993017356680915,
                                        -0.00001949107448410747,
                                        -0.00010929934279693755,
                                        -0.00004271513805683733,
                                        -0.0008893534043844068,
                                        0.008334601795872289,
                                        -0.00017209174539241086,
                                        -0.00015672206436421687,
                                        -0.00020703028237173033,
                                        -0.00041195872896416017,
                                        0.0006530840547338405
                                    ]
                                }
                            ],
                            "layout": {
                                "height": 1000,
                                "legend": {
                                    "tracegroupgap": 0
                                },
                                "margin": {
                                    "t": 60
                                },
                                "scene": {
                                    "domain": {
                                        "x": [
                                            0,
                                            1
                                        ],
                                        "y": [
                                            0,
                                            1
                                        ]
                                    },
                                    "xaxis": {
                                        "title": {
                                            "text": "PC0"
                                        }
                                    },
                                    "yaxis": {
                                        "title": {
                                            "text": "PC1"
                                        }
                                    },
                                    "zaxis": {
                                        "title": {
                                            "text": "PC2"
                                        }
                                    }
                                },
                                "template": {
                                    "data": {
                                        "bar": [
                                            {
                                                "error_x": {
                                                    "color": "#2a3f5f"
                                                },
                                                "error_y": {
                                                    "color": "#2a3f5f"
                                                },
                                                "marker": {
                                                    "line": {
                                                        "color": "#E5ECF6",
                                                        "width": 0.5
                                                    }
                                                },
                                                "type": "bar"
                                            }
                                        ],
                                        "barpolar": [
                                            {
                                                "marker": {
                                                    "line": {
                                                        "color": "#E5ECF6",
                                                        "width": 0.5
                                                    }
                                                },
                                                "type": "barpolar"
                                            }
                                        ],
                                        "carpet": [
                                            {
                                                "aaxis": {
                                                    "endlinecolor": "#2a3f5f",
                                                    "gridcolor": "white",
                                                    "linecolor": "white",
                                                    "minorgridcolor": "white",
                                                    "startlinecolor": "#2a3f5f"
                                                },
                                                "baxis": {
                                                    "endlinecolor": "#2a3f5f",
                                                    "gridcolor": "white",
                                                    "linecolor": "white",
                                                    "minorgridcolor": "white",
                                                    "startlinecolor": "#2a3f5f"
                                                },
                                                "type": "carpet"
                                            }
                                        ],
                                        "choropleth": [
                                            {
                                                "colorbar": {
                                                    "outlinewidth": 0,
                                                    "ticks": ""
                                                },
                                                "type": "choropleth"
                                            }
                                        ],
                                        "contour": [
                                            {
                                                "colorbar": {
                                                    "outlinewidth": 0,
                                                    "ticks": ""
                                                },
                                                "colorscale": [
                                                    [
                                                        0,
                                                        "#0d0887"
                                                    ],
                                                    [
                                                        0.1111111111111111,
                                                        "#46039f"
                                                    ],
                                                    [
                                                        0.2222222222222222,
                                                        "#7201a8"
                                                    ],
                                                    [
                                                        0.3333333333333333,
                                                        "#9c179e"
                                                    ],
                                                    [
                                                        0.4444444444444444,
                                                        "#bd3786"
                                                    ],
                                                    [
                                                        0.5555555555555556,
                                                        "#d8576b"
                                                    ],
                                                    [
                                                        0.6666666666666666,
                                                        "#ed7953"
                                                    ],
                                                    [
                                                        0.7777777777777778,
                                                        "#fb9f3a"
                                                    ],
                                                    [
                                                        0.8888888888888888,
                                                        "#fdca26"
                                                    ],
                                                    [
                                                        1,
                                                        "#f0f921"
                                                    ]
                                                ],
                                                "type": "contour"
                                            }
                                        ],
                                        "contourcarpet": [
                                            {
                                                "colorbar": {
                                                    "outlinewidth": 0,
                                                    "ticks": ""
                                                },
                                                "type": "contourcarpet"
                                            }
                                        ],
                                        "heatmap": [
                                            {
                                                "colorbar": {
                                                    "outlinewidth": 0,
                                                    "ticks": ""
                                                },
                                                "colorscale": [
                                                    [
                                                        0,
                                                        "#0d0887"
                                                    ],
                                                    [
                                                        0.1111111111111111,
                                                        "#46039f"
                                                    ],
                                                    [
                                                        0.2222222222222222,
                                                        "#7201a8"
                                                    ],
                                                    [
                                                        0.3333333333333333,
                                                        "#9c179e"
                                                    ],
                                                    [
                                                        0.4444444444444444,
                                                        "#bd3786"
                                                    ],
                                                    [
                                                        0.5555555555555556,
                                                        "#d8576b"
                                                    ],
                                                    [
                                                        0.6666666666666666,
                                                        "#ed7953"
                                                    ],
                                                    [
                                                        0.7777777777777778,
                                                        "#fb9f3a"
                                                    ],
                                                    [
                                                        0.8888888888888888,
                                                        "#fdca26"
                                                    ],
                                                    [
                                                        1,
                                                        "#f0f921"
                                                    ]
                                                ],
                                                "type": "heatmap"
                                            }
                                        ],
                                        "heatmapgl": [
                                            {
                                                "colorbar": {
                                                    "outlinewidth": 0,
                                                    "ticks": ""
                                                },
                                                "colorscale": [
                                                    [
                                                        0,
                                                        "#0d0887"
                                                    ],
                                                    [
                                                        0.1111111111111111,
                                                        "#46039f"
                                                    ],
                                                    [
                                                        0.2222222222222222,
                                                        "#7201a8"
                                                    ],
                                                    [
                                                        0.3333333333333333,
                                                        "#9c179e"
                                                    ],
                                                    [
                                                        0.4444444444444444,
                                                        "#bd3786"
                                                    ],
                                                    [
                                                        0.5555555555555556,
                                                        "#d8576b"
                                                    ],
                                                    [
                                                        0.6666666666666666,
                                                        "#ed7953"
                                                    ],
                                                    [
                                                        0.7777777777777778,
                                                        "#fb9f3a"
                                                    ],
                                                    [
                                                        0.8888888888888888,
                                                        "#fdca26"
                                                    ],
                                                    [
                                                        1,
                                                        "#f0f921"
                                                    ]
                                                ],
                                                "type": "heatmapgl"
                                            }
                                        ],
                                        "histogram": [
                                            {
                                                "marker": {
                                                    "colorbar": {
                                                        "outlinewidth": 0,
                                                        "ticks": ""
                                                    }
                                                },
                                                "type": "histogram"
                                            }
                                        ],
                                        "histogram2d": [
                                            {
                                                "colorbar": {
                                                    "outlinewidth": 0,
                                                    "ticks": ""
                                                },
                                                "colorscale": [
                                                    [
                                                        0,
                                                        "#0d0887"
                                                    ],
                                                    [
                                                        0.1111111111111111,
                                                        "#46039f"
                                                    ],
                                                    [
                                                        0.2222222222222222,
                                                        "#7201a8"
                                                    ],
                                                    [
                                                        0.3333333333333333,
                                                        "#9c179e"
                                                    ],
                                                    [
                                                        0.4444444444444444,
                                                        "#bd3786"
                                                    ],
                                                    [
                                                        0.5555555555555556,
                                                        "#d8576b"
                                                    ],
                                                    [
                                                        0.6666666666666666,
                                                        "#ed7953"
                                                    ],
                                                    [
                                                        0.7777777777777778,
                                                        "#fb9f3a"
                                                    ],
                                                    [
                                                        0.8888888888888888,
                                                        "#fdca26"
                                                    ],
                                                    [
                                                        1,
                                                        "#f0f921"
                                                    ]
                                                ],
                                                "type": "histogram2d"
                                            }
                                        ],
                                        "histogram2dcontour": [
                                            {
                                                "colorbar": {
                                                    "outlinewidth": 0,
                                                    "ticks": ""
                                                },
                                                "colorscale": [
                                                    [
                                                        0,
                                                        "#0d0887"
                                                    ],
                                                    [
                                                        0.1111111111111111,
                                                        "#46039f"
                                                    ],
                                                    [
                                                        0.2222222222222222,
                                                        "#7201a8"
                                                    ],
                                                    [
                                                        0.3333333333333333,
                                                        "#9c179e"
                                                    ],
                                                    [
                                                        0.4444444444444444,
                                                        "#bd3786"
                                                    ],
                                                    [
                                                        0.5555555555555556,
                                                        "#d8576b"
                                                    ],
                                                    [
                                                        0.6666666666666666,
                                                        "#ed7953"
                                                    ],
                                                    [
                                                        0.7777777777777778,
                                                        "#fb9f3a"
                                                    ],
                                                    [
                                                        0.8888888888888888,
                                                        "#fdca26"
                                                    ],
                                                    [
                                                        1,
                                                        "#f0f921"
                                                    ]
                                                ],
                                                "type": "histogram2dcontour"
                                            }
                                        ],
                                        "mesh3d": [
                                            {
                                                "colorbar": {
                                                    "outlinewidth": 0,
                                                    "ticks": ""
                                                },
                                                "type": "mesh3d"
                                            }
                                        ],
                                        "parcoords": [
                                            {
                                                "line": {
                                                    "colorbar": {
                                                        "outlinewidth": 0,
                                                        "ticks": ""
                                                    }
                                                },
                                                "type": "parcoords"
                                            }
                                        ],
                                        "pie": [
                                            {
                                                "automargin": true,
                                                "type": "pie"
                                            }
                                        ],
                                        "scatter": [
                                            {
                                                "marker": {
                                                    "colorbar": {
                                                        "outlinewidth": 0,
                                                        "ticks": ""
                                                    }
                                                },
                                                "type": "scatter"
                                            }
                                        ],
                                        "scatter3d": [
                                            {
                                                "line": {
                                                    "colorbar": {
                                                        "outlinewidth": 0,
                                                        "ticks": ""
                                                    }
                                                },
                                                "marker": {
                                                    "colorbar": {
                                                        "outlinewidth": 0,
                                                        "ticks": ""
                                                    }
                                                },
                                                "type": "scatter3d"
                                            }
                                        ],
                                        "scattercarpet": [
                                            {
                                                "marker": {
                                                    "colorbar": {
                                                        "outlinewidth": 0,
                                                        "ticks": ""
                                                    }
                                                },
                                                "type": "scattercarpet"
                                            }
                                        ],
                                        "scattergeo": [
                                            {
                                                "marker": {
                                                    "colorbar": {
                                                        "outlinewidth": 0,
                                                        "ticks": ""
                                                    }
                                                },
                                                "type": "scattergeo"
                                            }
                                        ],
                                        "scattergl": [
                                            {
                                                "marker": {
                                                    "colorbar": {
                                                        "outlinewidth": 0,
                                                        "ticks": ""
                                                    }
                                                },
                                                "type": "scattergl"
                                            }
                                        ],
                                        "scattermapbox": [
                                            {
                                                "marker": {
                                                    "colorbar": {
                                                        "outlinewidth": 0,
                                                        "ticks": ""
                                                    }
                                                },
                                                "type": "scattermapbox"
                                            }
                                        ],
                                        "scatterpolar": [
                                            {
                                                "marker": {
                                                    "colorbar": {
                                                        "outlinewidth": 0,
                                                        "ticks": ""
                                                    }
                                                },
                                                "type": "scatterpolar"
                                            }
                                        ],
                                        "scatterpolargl": [
                                            {
                                                "marker": {
                                                    "colorbar": {
                                                        "outlinewidth": 0,
                                                        "ticks": ""
                                                    }
                                                },
                                                "type": "scatterpolargl"
                                            }
                                        ],
                                        "scatterternary": [
                                            {
                                                "marker": {
                                                    "colorbar": {
                                                        "outlinewidth": 0,
                                                        "ticks": ""
                                                    }
                                                },
                                                "type": "scatterternary"
                                            }
                                        ],
                                        "surface": [
                                            {
                                                "colorbar": {
                                                    "outlinewidth": 0,
                                                    "ticks": ""
                                                },
                                                "colorscale": [
                                                    [
                                                        0,
                                                        "#0d0887"
                                                    ],
                                                    [
                                                        0.1111111111111111,
                                                        "#46039f"
                                                    ],
                                                    [
                                                        0.2222222222222222,
                                                        "#7201a8"
                                                    ],
                                                    [
                                                        0.3333333333333333,
                                                        "#9c179e"
                                                    ],
                                                    [
                                                        0.4444444444444444,
                                                        "#bd3786"
                                                    ],
                                                    [
                                                        0.5555555555555556,
                                                        "#d8576b"
                                                    ],
                                                    [
                                                        0.6666666666666666,
                                                        "#ed7953"
                                                    ],
                                                    [
                                                        0.7777777777777778,
                                                        "#fb9f3a"
                                                    ],
                                                    [
                                                        0.8888888888888888,
                                                        "#fdca26"
                                                    ],
                                                    [
                                                        1,
                                                        "#f0f921"
                                                    ]
                                                ],
                                                "type": "surface"
                                            }
                                        ],
                                        "table": [
                                            {
                                                "cells": {
                                                    "fill": {
                                                        "color": "#EBF0F8"
                                                    },
                                                    "line": {
                                                        "color": "white"
                                                    }
                                                },
                                                "header": {
                                                    "fill": {
                                                        "color": "#C8D4E3"
                                                    },
                                                    "line": {
                                                        "color": "white"
                                                    }
                                                },
                                                "type": "table"
                                            }
                                        ]
                                    },
                                    "layout": {
                                        "annotationdefaults": {
                                            "arrowcolor": "#2a3f5f",
                                            "arrowhead": 0,
                                            "arrowwidth": 1
                                        },
                                        "autotypenumbers": "strict",
                                        "coloraxis": {
                                            "colorbar": {
                                                "outlinewidth": 0,
                                                "ticks": ""
                                            }
                                        },
                                        "colorscale": {
                                            "diverging": [
                                                [
                                                    0,
                                                    "#8e0152"
                                                ],
                                                [
                                                    0.1,
                                                    "#c51b7d"
                                                ],
                                                [
                                                    0.2,
                                                    "#de77ae"
                                                ],
                                                [
                                                    0.3,
                                                    "#f1b6da"
                                                ],
                                                [
                                                    0.4,
                                                    "#fde0ef"
                                                ],
                                                [
                                                    0.5,
                                                    "#f7f7f7"
                                                ],
                                                [
                                                    0.6,
                                                    "#e6f5d0"
                                                ],
                                                [
                                                    0.7,
                                                    "#b8e186"
                                                ],
                                                [
                                                    0.8,
                                                    "#7fbc41"
                                                ],
                                                [
                                                    0.9,
                                                    "#4d9221"
                                                ],
                                                [
                                                    1,
                                                    "#276419"
                                                ]
                                            ],
                                            "sequential": [
                                                [
                                                    0,
                                                    "#0d0887"
                                                ],
                                                [
                                                    0.1111111111111111,
                                                    "#46039f"
                                                ],
                                                [
                                                    0.2222222222222222,
                                                    "#7201a8"
                                                ],
                                                [
                                                    0.3333333333333333,
                                                    "#9c179e"
                                                ],
                                                [
                                                    0.4444444444444444,
                                                    "#bd3786"
                                                ],
                                                [
                                                    0.5555555555555556,
                                                    "#d8576b"
                                                ],
                                                [
                                                    0.6666666666666666,
                                                    "#ed7953"
                                                ],
                                                [
                                                    0.7777777777777778,
                                                    "#fb9f3a"
                                                ],
                                                [
                                                    0.8888888888888888,
                                                    "#fdca26"
                                                ],
                                                [
                                                    1,
                                                    "#f0f921"
                                                ]
                                            ],
                                            "sequentialminus": [
                                                [
                                                    0,
                                                    "#0d0887"
                                                ],
                                                [
                                                    0.1111111111111111,
                                                    "#46039f"
                                                ],
                                                [
                                                    0.2222222222222222,
                                                    "#7201a8"
                                                ],
                                                [
                                                    0.3333333333333333,
                                                    "#9c179e"
                                                ],
                                                [
                                                    0.4444444444444444,
                                                    "#bd3786"
                                                ],
                                                [
                                                    0.5555555555555556,
                                                    "#d8576b"
                                                ],
                                                [
                                                    0.6666666666666666,
                                                    "#ed7953"
                                                ],
                                                [
                                                    0.7777777777777778,
                                                    "#fb9f3a"
                                                ],
                                                [
                                                    0.8888888888888888,
                                                    "#fdca26"
                                                ],
                                                [
                                                    1,
                                                    "#f0f921"
                                                ]
                                            ]
                                        },
                                        "colorway": [
                                            "#636efa",
                                            "#EF553B",
                                            "#00cc96",
                                            "#ab63fa",
                                            "#FFA15A",
                                            "#19d3f3",
                                            "#FF6692",
                                            "#B6E880",
                                            "#FF97FF",
                                            "#FECB52"
                                        ],
                                        "font": {
                                            "color": "#2a3f5f"
                                        },
                                        "geo": {
                                            "bgcolor": "white",
                                            "lakecolor": "white",
                                            "landcolor": "#E5ECF6",
                                            "showlakes": true,
                                            "showland": true,
                                            "subunitcolor": "white"
                                        },
                                        "hoverlabel": {
                                            "align": "left"
                                        },
                                        "hovermode": "closest",
                                        "mapbox": {
                                            "style": "light"
                                        },
                                        "paper_bgcolor": "white",
                                        "plot_bgcolor": "#E5ECF6",
                                        "polar": {
                                            "angularaxis": {
                                                "gridcolor": "white",
                                                "linecolor": "white",
                                                "ticks": ""
                                            },
                                            "bgcolor": "#E5ECF6",
                                            "radialaxis": {
                                                "gridcolor": "white",
                                                "linecolor": "white",
                                                "ticks": ""
                                            }
                                        },
                                        "scene": {
                                            "xaxis": {
                                                "backgroundcolor": "#E5ECF6",
                                                "gridcolor": "white",
                                                "gridwidth": 2,
                                                "linecolor": "white",
                                                "showbackground": true,
                                                "ticks": "",
                                                "zerolinecolor": "white"
                                            },
                                            "yaxis": {
                                                "backgroundcolor": "#E5ECF6",
                                                "gridcolor": "white",
                                                "gridwidth": 2,
                                                "linecolor": "white",
                                                "showbackground": true,
                                                "ticks": "",
                                                "zerolinecolor": "white"
                                            },
                                            "zaxis": {
                                                "backgroundcolor": "#E5ECF6",
                                                "gridcolor": "white",
                                                "gridwidth": 2,
                                                "linecolor": "white",
                                                "showbackground": true,
                                                "ticks": "",
                                                "zerolinecolor": "white"
                                            }
                                        },
                                        "shapedefaults": {
                                            "line": {
                                                "color": "#2a3f5f"
                                            }
                                        },
                                        "ternary": {
                                            "aaxis": {
                                                "gridcolor": "white",
                                                "linecolor": "white",
                                                "ticks": ""
                                            },
                                            "baxis": {
                                                "gridcolor": "white",
                                                "linecolor": "white",
                                                "ticks": ""
                                            },
                                            "bgcolor": "#E5ECF6",
                                            "caxis": {
                                                "gridcolor": "white",
                                                "linecolor": "white",
                                                "ticks": ""
                                            }
                                        },
                                        "title": {
                                            "x": 0.05
                                        },
                                        "xaxis": {
                                            "automargin": true,
                                            "gridcolor": "white",
                                            "linecolor": "white",
                                            "ticks": "",
                                            "title": {
                                                "standoff": 15
                                            },
                                            "zerolinecolor": "white",
                                            "zerolinewidth": 2
                                        },
                                        "yaxis": {
                                            "automargin": true,
                                            "gridcolor": "white",
                                            "linecolor": "white",
                                            "ticks": "",
                                            "title": {
                                                "standoff": 15
                                            },
                                            "zerolinecolor": "white",
                                            "zerolinewidth": 2
                                        }
                                    }
                                },
                                "width": 1200
                            }
                        }
                    },
                    "metadata": {}
                }
            ],
            "metadata": {}
        },
        {
            "cell_type": "code",
            "execution_count": 21,
            "source": [
                "LOADINGS = pd.DataFrame(pca_engine.components_.T * np.sqrt(pca_engine.explained_variance_))\n",
                "LOADINGS.columns = [\"PC{}\".format(i) for i in LOADINGS.columns]"
            ],
            "outputs": [],
            "metadata": {}
        },
        {
            "cell_type": "code",
            "execution_count": 22,
            "source": [
                "LOADINGS.index = TFIDF.columns\n",
                "LOADINGS.index.name = 'term_id'\n",
                "LOADINGS['term_str'] = LOADINGS.apply(lambda x: VOCAB.loc[int(x.name)].term_str, 1)"
            ],
            "outputs": [],
            "metadata": {}
        },
        {
            "cell_type": "code",
            "execution_count": 23,
            "source": [
                "pc0_pos = LOADINGS.sort_values('PC0', ascending=False).head(10).term_str.str.cat(sep=' ')\n",
                "pc0_neg = LOADINGS.sort_values('PC0', ascending=True).head(10).term_str.str.cat(sep=' ')\n",
                "pc1_pos = LOADINGS.sort_values('PC1', ascending=False).head(10).term_str.str.cat(sep=' ')\n",
                "pc1_neg = LOADINGS.sort_values('PC1', ascending=True).head(10).term_str.str.cat(sep=' ')\n",
                "pc2_pos = LOADINGS.sort_values('PC2', ascending=False).head(10).term_str.str.cat(sep=' ')\n",
                "pc2_neg = LOADINGS.sort_values('PC2', ascending=True).head(10).term_str.str.cat(sep=' ')\n",
                "pc3_pos = LOADINGS.sort_values('PC3', ascending=False).head(10).term_str.str.cat(sep=' ')\n",
                "pc3_neg = LOADINGS.sort_values('PC3', ascending=True).head(10).term_str.str.cat(sep=' ')"
            ],
            "outputs": [],
            "metadata": {}
        },
        {
            "cell_type": "code",
            "execution_count": 24,
            "source": [
                "print('BOOKS PC0+', pc0_pos)\n",
                "print('BOOKS PC0-', pc0_neg)\n",
                "print('BOOKS PC1+', pc1_pos)\n",
                "print('BOOKS PC1-', pc1_neg)\n",
                "print('BOOKS PC2+', pc2_pos)\n",
                "print('BOOKS PC2-', pc2_neg)\n",
                "print('BOOKS PC3+', pc3_pos)\n",
                "print('BOOKS PC3-', pc3_neg)"
            ],
            "outputs": [
                {
                    "output_type": "stream",
                    "name": "stdout",
                    "text": [
                        "BOOKS PC0+ Bork Von Holmes Altamont Watson Steiner Martha mister dossier valise\n",
                        "BOOKS PC0- Montgomery Challenger Summerlee Nigel Belmont e Haw Croxley mdash Sadie\n",
                        "BOOKS PC1+ Montgomery Bork Croxley Challenger referee e Von Summerlee mdash Barton\n",
                        "BOOKS PC1- Holmes Watson Tregennis “I Baynes Gennaro — Gregson Eccles Lestrade\n",
                        "BOOKS PC2+ Montgomery Croxley referee Barton Holmes Craggs t thou Master Montgomerys\n",
                        "BOOKS PC2- Challenger Summerlee e mdash Belmont Sadie im orse Cochrane dragoman\n",
                        "BOOKS PC3+ Challenger Summerlee oxygen Austin Malone Professor Challengers Roxton ether McArdle\n",
                        "BOOKS PC3- e mdash orse Cremona im oer Pennarby Till Spider orses\n"
                    ]
                }
            ],
            "metadata": {}
        },
        {
            "cell_type": "markdown",
            "source": [
                "Looking at the PCA's we can see a clear seperation between Sherlock Holmes books and books about George Challenger (The Lost World, The Poison Belt, The Land of the Mist).\n",
                "\n",
                "Summerlee is a character who travels with Challenger."
            ],
            "metadata": {}
        },
        {
            "cell_type": "markdown",
            "source": [
                "## Word2Vec - Word Similarity"
            ],
            "metadata": {}
        },
        {
            "cell_type": "code",
            "execution_count": null,
            "source": [
                "LIBRARY.shape"
            ],
            "outputs": [],
            "metadata": {}
        },
        {
            "cell_type": "code",
            "execution_count": null,
            "source": [
                "#gensims prefered format\n",
                "bag = BOOKS # book\n",
                "corpus = TOKEN[~TOKEN.pos.str.match('NNPS?')]\\\n",
                "    .groupby(bag)\\\n",
                "    .token_str.apply(lambda  x:  x.tolist())\\\n",
                "    .reset_index()['token_str'].tolist()"
            ],
            "outputs": [],
            "metadata": {}
        },
        {
            "cell_type": "code",
            "execution_count": null,
            "source": [
                "window = 5\n",
                "model = word2vec.Word2Vec(corpus, window=window, min_count=200, workers=4) #size = 246"
            ],
            "outputs": [],
            "metadata": {}
        },
        {
            "cell_type": "code",
            "execution_count": null,
            "source": [
                "coords = pd.DataFrame(index=range(len(model.wv.key_to_index)))\n",
                "coords['label'] = model.wv.index_to_key\n",
                "coords['vector'] = coords['label'].apply(lambda x: model.wv.get_vector(x))"
            ],
            "outputs": [],
            "metadata": {}
        },
        {
            "cell_type": "code",
            "execution_count": null,
            "source": [
                "coords.head()"
            ],
            "outputs": [],
            "metadata": {}
        },
        {
            "cell_type": "code",
            "execution_count": null,
            "source": [
                "tsne_model = TSNE(perplexity=40, n_components=2, init='pca', n_iter=2500, random_state=23)\n",
                "tsne_values = tsne_model.fit_transform(coords['vector'].tolist())"
            ],
            "outputs": [],
            "metadata": {}
        },
        {
            "cell_type": "code",
            "execution_count": null,
            "source": [
                "coords['x'] = tsne_values[:,0]\n",
                "coords['y'] = tsne_values[:,1]"
            ],
            "outputs": [],
            "metadata": {}
        },
        {
            "cell_type": "code",
            "execution_count": null,
            "source": [
                "coords.head()"
            ],
            "outputs": [],
            "metadata": {}
        },
        {
            "cell_type": "code",
            "execution_count": null,
            "source": [
                "px.scatter(coords, 'x', 'y', text='label', height=1000).update_traces(mode='text')"
            ],
            "outputs": [],
            "metadata": {}
        },
        {
            "cell_type": "code",
            "execution_count": null,
            "source": [
                "bag = PARAS # paragraph\n",
                "corpus2 = TOKEN[~TOKEN.pos.str.match('NNPS?')]\\\n",
                "    .groupby(bag)\\\n",
                "    .token_str.apply(lambda  x:  x.tolist())\\\n",
                "    .reset_index()['token_str'].tolist()\n",
                "window = 5\n",
                "model2 = word2vec.Word2Vec(corpus2, window=window, min_count=200, workers=4) #size = 246\n",
                "coords2 = pd.DataFrame(index=range(len(model2.wv.key_to_index)))\n",
                "coords2['label'] = model2.wv.index_to_key\n",
                "coords2['vector'] = coords2['label'].apply(lambda x: model2.wv.get_vector(x))\n",
                "tsne_values2 = tsne_model.fit_transform(coords2['vector'].tolist())\n",
                "coords2['x'] = tsne_values2[:,0]\n",
                "coords2['y'] = tsne_values2[:,1]\n",
                "px.scatter(coords2, 'x', 'y', text='label', height=1000).update_traces(mode='text')"
            ],
            "outputs": [],
            "metadata": {}
        },
        {
            "cell_type": "code",
            "execution_count": null,
            "source": [
                "# include proper nouns\n",
                "bag = PARAS\n",
                "corpus3 = TOKEN\\\n",
                "    .groupby(bag)\\\n",
                "    .token_str.apply(lambda  x:  x.tolist())\\\n",
                "    .reset_index()['token_str'].tolist()\n",
                "window = 5\n",
                "model3 = word2vec.Word2Vec(corpus3, window=window, min_count=200, workers=4) #size = 246\n",
                "coords3 = pd.DataFrame(index=range(len(model3.wv.key_to_index)))\n",
                "coords3['label'] = model3.wv.index_to_key\n",
                "coords3['vector'] = coords3['label'].apply(lambda x: model3.wv.get_vector(x))\n",
                "tsne_values3 = tsne_model.fit_transform(coords3['vector'].tolist())\n",
                "coords3['x'] = tsne_values3[:,0]\n",
                "coords3['y'] = tsne_values3[:,1]\n",
                "px.scatter(coords3, 'x', 'y', text='label', height=1000).update_traces(mode='text')"
            ],
            "outputs": [],
            "metadata": {}
        },
        {
            "cell_type": "markdown",
            "source": [
                "ACD's corpus is very uniform in tone, even between different series/characters"
            ],
            "metadata": {}
        },
        {
            "cell_type": "markdown",
            "source": [
                "## Book Similarity"
            ],
            "metadata": {}
        },
        {
            "cell_type": "code",
            "execution_count": null,
            "source": [
                "# create DOC table\n",
                "DOC=TFIDF\n",
                "DOC = DOC.reset_index()\n",
                "DOC.index.name = 'doc_id'\n",
                "DOC['title'] = DOC.book_id.map(LIBRARY.title.str[:40])\n",
                "DOC = DOC[['book_id', 'title']].rename_axis(None, axis='columns')\n",
                "\n",
                "DOC#.head()"
            ],
            "outputs": [],
            "metadata": {}
        },
        {
            "cell_type": "code",
            "execution_count": null,
            "source": [
                "# pd.options.display.max_rows = 30\n",
                "# LIBRARY.title.str.len()"
            ],
            "outputs": [],
            "metadata": {}
        },
        {
            "cell_type": "code",
            "execution_count": null,
            "source": [
                "# normalized tables\n",
                "L0 = TFIDF.astype('bool').astype('int')\n",
                "L1 = TFIDF.apply(lambda x: x / x.sum(), 1)\n",
                "L2 = TFIDF.apply(lambda x: x / norm(x), 1)\n",
                "((L2.T)**2).sum() # looks good"
            ],
            "outputs": [],
            "metadata": {}
        },
        {
            "cell_type": "code",
            "execution_count": null,
            "source": [
                "# create pairs\n",
                "PAIRS = pd.DataFrame(index=pd.MultiIndex.from_product([DOC.index.tolist(), DOC.index.tolist()])).reset_index()\n",
                "PAIRS = PAIRS[PAIRS.level_0 < PAIRS.level_1].set_index(['level_0','level_1'])\n",
                "PAIRS.index.names = ['doc_a', 'doc_b']\n",
                "PAIRS.head()"
            ],
            "outputs": [],
            "metadata": {}
        },
        {
            "cell_type": "code",
            "execution_count": null,
            "source": [
                "PAIRS.shape"
            ],
            "outputs": [],
            "metadata": {}
        },
        {
            "cell_type": "code",
            "execution_count": null,
            "source": [
                "PAIRS['cityblock'] = pdist(TFIDF, 'cityblock')\n",
                "PAIRS['euclidean'] = pdist(TFIDF, 'euclidean')\n",
                "PAIRS['cosine'] = pdist(TFIDF, 'cosine')\n",
                "PAIRS['jaccard'] = pdist(L0, 'jaccard') # Fast, and similar to js\n",
                "PAIRS['dice'] = pdist(L0, 'dice')\n",
                "PAIRS['js'] = pdist(L1, 'jensenshannon') # Turns out to be really slow\n",
                "PAIRS['euclidean2'] = pdist(L2, 'euclidean') # Should be the same as cosine \n",
                "\n",
                "PAIRS['yule'] = pdist(L0, 'yule') # Should be the same as cosine \n",
                "PAIRS.head()"
            ],
            "outputs": [],
            "metadata": {}
        },
        {
            "cell_type": "code",
            "execution_count": null,
            "source": [
                "def hca(sims, linkage_method='ward', color_thresh=.3, figsize=(10, 10)):\n",
                "    tree = sch.linkage(sims, method=linkage_method)\n",
                "    labels = DOC.title.values\n",
                "    plt.figure()\n",
                "    fig, axes = plt.subplots(figsize=figsize)\n",
                "    dendrogram = sch.dendrogram(tree, \n",
                "                                labels=labels, \n",
                "                                orientation=\"left\", \n",
                "                                count_sort=True,\n",
                "                                distance_sort=True,\n",
                "                                above_threshold_color='.75',\n",
                "                                color_threshold=color_thresh\n",
                "                               )\n",
                "    plt.tick_params(axis='both', which='major', labelsize=14)"
            ],
            "outputs": [],
            "metadata": {}
        },
        {
            "cell_type": "code",
            "execution_count": null,
            "source": [
                "print(\"Method: cityblock\")\n",
                "hca(PAIRS.cityblock, color_thresh=.3)\n",
                "print(\"Method: euclidean\")\n",
                "hca(PAIRS.euclidean, color_thresh=.3)\n",
                "print(\"Method: cosine\")\n",
                "hca(PAIRS.cosine, color_thresh=.3)\n",
                "print(\"Method: jaccard\")\n",
                "hca(PAIRS.jaccard, color_thresh=.3)\n",
                "print(\"Method: dice\")\n",
                "hca(PAIRS.dice, color_thresh=.3)\n",
                "print(\"Method: js\")\n",
                "hca(PAIRS.js, color_thresh=.3)\n",
                "print(\"Method: euclidean2\")\n",
                "hca(PAIRS.euclidean2, color_thresh=.3)\n",
                "print(\"Method: yule\")\n",
                "hca(PAIRS.yule, color_thresh=.3)"
            ],
            "outputs": [],
            "metadata": {}
        },
        {
            "cell_type": "markdown",
            "source": [
                "## Topic modeling"
            ],
            "metadata": {}
        },
        {
            "cell_type": "code",
            "execution_count": null,
            "source": [
                "n_terms = 4000\n",
                "n_topics = 30\n",
                "max_iter = 5"
            ],
            "outputs": [],
            "metadata": {}
        },
        {
            "cell_type": "code",
            "execution_count": null,
            "source": [
                "# make paragraphs out of regular nouns only\n",
                "PARA_TOKEN = TOKEN[TOKEN.pos.str.match(r'^NNS?$')]\\\n",
                "    .groupby(PARAS).token_str\\\n",
                "    .apply(lambda x: ' '.join(x))\\\n",
                "    .to_frame()\\\n",
                "    .rename(columns={'token_str':'para_str'})"
            ],
            "outputs": [],
            "metadata": {}
        },
        {
            "cell_type": "code",
            "execution_count": null,
            "source": [
                "PARA_TOKEN.sample(15)"
            ],
            "outputs": [],
            "metadata": {}
        },
        {
            "cell_type": "code",
            "execution_count": null,
            "source": [
                "tfv = CountVectorizer(max_features=n_terms, stop_words='english')\n",
                "tf = tfv.fit_transform(PARA_TOKEN.para_str)\n",
                "TERMS = tfv.get_feature_names()"
            ],
            "outputs": [],
            "metadata": {}
        },
        {
            "cell_type": "code",
            "execution_count": null,
            "source": [
                "lda = LDA(n_components=n_topics, max_iter=max_iter, learning_offset=50., random_state=0)"
            ],
            "outputs": [],
            "metadata": {}
        },
        {
            "cell_type": "code",
            "execution_count": null,
            "source": [
                "THETA = pd.DataFrame(lda.fit_transform(tf), index=PARA_TOKEN.index)\n",
                "THETA.columns.name = 'topic_id'"
            ],
            "outputs": [],
            "metadata": {}
        },
        {
            "cell_type": "code",
            "execution_count": null,
            "source": [
                "THETA.sample(20).style.background_gradient()"
            ],
            "outputs": [],
            "metadata": {}
        },
        {
            "cell_type": "code",
            "execution_count": null,
            "source": [
                "PHI = pd.DataFrame(lda.components_, columns=TERMS)\n",
                "PHI.index.name = 'topic_id'\n",
                "PHI.columns.name  = 'term_str'"
            ],
            "outputs": [],
            "metadata": {}
        },
        {
            "cell_type": "code",
            "execution_count": null,
            "source": [
                "PHI.T.head().style.background_gradient()"
            ],
            "outputs": [],
            "metadata": {}
        },
        {
            "cell_type": "code",
            "execution_count": null,
            "source": [
                "TOPICS = PHI.stack().to_frame().rename(columns={0:'weight'})\\\n",
                "    .groupby('topic_id')\\\n",
                "    .apply(lambda x: \n",
                "           x.weight.sort_values(ascending=False)\\\n",
                "               .head(10)\\\n",
                "               .reset_index()\\\n",
                "               .drop('topic_id',1)\\\n",
                "               .term_str)"
            ],
            "outputs": [],
            "metadata": {}
        },
        {
            "cell_type": "code",
            "execution_count": null,
            "source": [
                "TOPICS"
            ],
            "outputs": [],
            "metadata": {}
        },
        {
            "cell_type": "code",
            "execution_count": null,
            "source": [
                "TOPICS['label'] = TOPICS.apply(lambda x: str(x.name) + ' ' + ' '.join(x), 1)"
            ],
            "outputs": [],
            "metadata": {}
        },
        {
            "cell_type": "code",
            "execution_count": null,
            "source": [
                "TOPICS['doc_weight_sum'] = THETA.sum()"
            ],
            "outputs": [],
            "metadata": {}
        },
        {
            "cell_type": "code",
            "execution_count": null,
            "source": [
                "TOPICS.sort_values('doc_weight_sum', ascending=True).plot.barh(y='doc_weight_sum', x='label', figsize=(5,10)) "
            ],
            "outputs": [],
            "metadata": {}
        },
        {
            "cell_type": "code",
            "execution_count": null,
            "source": [
                "def plot_tree(tree, labels):\n",
                "    plt.figure()\n",
                "    fig, axes = plt.subplots(figsize=(5, 10))\n",
                "    dendrogram = sch.dendrogram(tree, labels=labels, orientation=\"left\")\n",
                "    plt.tick_params(axis='both', which='major', labelsize=14)"
            ],
            "outputs": [],
            "metadata": {}
        },
        {
            "cell_type": "code",
            "execution_count": null,
            "source": [
                "SIMS = pdist(normalize(PHI), metric='euclidean')\n",
                "TREE = sch.linkage(SIMS, method='ward')"
            ],
            "outputs": [],
            "metadata": {}
        },
        {
            "cell_type": "code",
            "execution_count": null,
            "source": [
                "labels  = [\"{}: {}\".format(a,b) for a, b in zip(PARA_TOKEN.index,  PARA_TOKEN.topterms.tolist())]"
            ],
            "outputs": [],
            "metadata": {}
        },
        {
            "cell_type": "code",
            "execution_count": null,
            "source": [
                "# research question.  Can we group books by character reliably?  What methods are most reliable?\n",
                "\n",
                "# word cloud? (where is this?)\n",
                "# word2vec, include in PCA?? (add sentement analysis too?) - Include in VOCAB table\n",
                "# Can I use PCA to predict whether a book has sherlock holmes or not?\n",
                "# clustering analysis to group books with trees - more exploring\n",
                "# LDA topic modeling\n",
                "# sentiment analysis to compare plots? Select books?\n",
                "\n",
                "# Do some more research into the books categories of books that ACD wrote"
            ],
            "outputs": [],
            "metadata": {}
        },
        {
            "cell_type": "code",
            "execution_count": null,
            "source": [
                "salex = pd.read_csv('salex_nrc.csv').set_index('token_str')\n",
                "salex.columns = [col.replace('nrc_','') for col in salex.columns]\n",
                "salex['polarity'] = salex.positive - salex.negative\n",
                "emo_cols = \"anger anticipation disgust fear joy sadness surprise trust polarity\".split()\n",
                "TOKEN = TOKEN.join(salex, on='token_str', how='left')\n",
                "TOKEN[emo_cols] = TOKEN[emo_cols].fillna(0)"
            ],
            "outputs": [],
            "metadata": {}
        },
        {
            "cell_type": "code",
            "execution_count": null,
            "source": [
                "def get_dct_transform(raw_values, low_pass_size=5, x_reverse_len=100):\n",
                "    if low_pass_size > len(raw_values):\n",
                "        raise ValueError(\"low_pass_size must be smaller than or equal to length of raw_values\")\n",
                "\n",
                "    values_dct = fftpack.dct(raw_values, type = 2) # also try 4\n",
                "\n",
                "    keepers = values_dct[:low_pass_size]\n",
                "    padded_keepers = list(keepers) + list(np.zeros(x_reverse_len - low_pass_size))\n",
                "\n",
                "    dct_out = fftpack.idct(padded_keepers)\n",
                "\n",
                "    return dct_out"
            ],
            "outputs": [],
            "metadata": {}
        },
        {
            "cell_type": "code",
            "execution_count": null,
            "source": [
                "NOVELS = TOKEN.groupby(SENTS)[emo_cols].mean().reset_index().set_index('book_id').join(LIBRARY[['title','author']])\n",
                "NOVELS = NOVELS.reset_index().set_index(['title'] + SENTS)"
            ],
            "outputs": [],
            "metadata": {}
        },
        {
            "cell_type": "code",
            "execution_count": null,
            "source": [
                "def plot_novel(title, dct=True, low_pass_size=5, x_reverse_len=100, emo='polarity', item=1, color='blue'):\n",
                "    global NOVELS, axes, plot_cfg\n",
                "\n",
                "    X = NOVELS.loc[title, emo].values\n",
                "\n",
                "    method=\"DCT\"\n",
                "    X = get_dct_transform(X, low_pass_size=low_pass_size, x_reverse_len=x_reverse_len)\n",
                "\n",
                "\n",
                "    plot_cfg['title'] = \"{} ({})\".format(title, method)\n",
                "\n",
                "    pd.Series(X).plot(**plot_cfg, ax=axes[i], color = color);"
            ],
            "outputs": [],
            "metadata": {}
        },
        {
            "cell_type": "code",
            "execution_count": null,
            "source": [
                "titles = {\"THE HOUND OF THE BASKERVILLES\",\"A STUDY IN SCARLET\",\"THE SIGN OF THE FOUR\",\"THE VALLEY OF FEAR\", \"THE LOST WORLD\",\"THE POISON BELT\"}"
            ],
            "outputs": [],
            "metadata": {}
        },
        {
            "cell_type": "code",
            "execution_count": null,
            "source": [
                "fig, axes = plt.subplots(len(titles),1)\n",
                "plot_cfg = dict(\n",
                "    figsize=(25, 5 * len(titles)),\n",
                "    legend = False,\n",
                "    fontsize=14,\n",
                "    rot=45\n",
                ")\n",
                "\n",
                "for i, title in enumerate(sorted(titles)):\n",
                "    if (title in [\"THE LOST WORLD\",\"THE POISON BELT\"]):\n",
                "        plot_novel(title, item=i, color=\"red\")\n",
                "    else:\n",
                "        plot_novel(title, item=i)"
            ],
            "outputs": [],
            "metadata": {}
        },
        {
            "cell_type": "markdown",
            "source": [],
            "metadata": {}
        },
        {
            "cell_type": "code",
            "execution_count": null,
            "source": [],
            "outputs": [],
            "metadata": {}
        },
        {
            "cell_type": "code",
            "execution_count": null,
            "source": [
                "PLOTS = {}\n",
                "FIG = dict(\n",
                "    figsize=(25, 5),\n",
                "    legend=True,\n",
                "    fontsize=20,\n",
                "    rot=45\n",
                ")"
            ],
            "outputs": [],
            "metadata": {}
        }
    ],
    "metadata": {
        "orig_nbformat": 4,
        "language_info": {
            "name": "python",
            "version": "3.8.3",
            "mimetype": "text/x-python",
            "codemirror_mode": {
                "name": "ipython",
                "version": 3
            },
            "pygments_lexer": "ipython3",
            "nbconvert_exporter": "python",
            "file_extension": ".py"
        },
        "kernelspec": {
            "name": "python3",
            "display_name": "Python 3.8.3 64-bit ('base': conda)"
        },
        "interpreter": {
            "hash": "b3d065463af8e3c52545a9d586f241a2a947b5dd1e81241794a42d6e30975c25"
        }
    },
    "nbformat": 4,
    "nbformat_minor": 2
}