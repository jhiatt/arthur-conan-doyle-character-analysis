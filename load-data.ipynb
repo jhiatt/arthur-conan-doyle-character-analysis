{
 "cells": [
  {
   "cell_type": "code",
   "execution_count": 2,
   "source": [
    "import pandas as pd\n",
    "import sqlite3\n",
    "import requests\n",
    "import re\n",
    "import nltk\n",
    "import numpy as np\n",
    "import string"
   ],
   "outputs": [],
   "metadata": {}
  },
  {
   "cell_type": "code",
   "execution_count": 3,
   "source": [
    "# https://stackoverflow.com/questions/4636970/sqlite3-operationalerror-unable-to-open-database-file/4637055\n",
    "db_path = 'C:\\\\users\\\\jordanhiatt\\\\ETAClass\\\\gutenberg.db'"
   ],
   "outputs": [],
   "metadata": {}
  },
  {
   "cell_type": "code",
   "execution_count": 4,
   "source": [
    "con = sqlite3.connect('gutenberg.db')\n",
    "con"
   ],
   "outputs": [
    {
     "output_type": "execute_result",
     "data": {
      "text/plain": [
       "<sqlite3.Connection at 0x7ff3695f0120>"
      ]
     },
     "metadata": {},
     "execution_count": 4
    }
   ],
   "metadata": {}
  },
  {
   "cell_type": "code",
   "execution_count": 5,
   "source": [
    "# https://datacarpentry.org/python-ecology-lesson/09-working-with-sql/index.html\n",
    "cur = con.cursor()\n",
    "\n",
    "# are there any other spellings of Arthur Conan Doyle?  Looks like only one spelling/format\n",
    "for row in cur.execute(\"SELECT DISTINCT creators from 'catalog' WHERE creators LIKE '%Doyle%' AND creators LIKE '%Arthur Conan%';\"):\n",
    "    print(row)"
   ],
   "outputs": [
    {
     "output_type": "stream",
     "name": "stdout",
     "text": [
      "('DOYLE, ARTHUR CONAN',)\n"
     ]
    }
   ],
   "metadata": {}
  },
  {
   "cell_type": "code",
   "execution_count": 6,
   "source": [
    "# get a unique list of titles and gid's\n",
    "gid_titles = list(cur.execute(\"\"\"\n",
    "SELECT DISTINCT gid, creators, title \n",
    "FROM (SELECT * FROM 'catalog' GROUP BY title)\n",
    "WHERE creators = 'DOYLE, ARTHUR CONAN' AND languages = \"EN\";\n",
    "\"\"\"))\n",
    "for row in gid_titles[:10]:\n",
    "    print(row)"
   ],
   "outputs": [
    {
     "output_type": "stream",
     "name": "stdout",
     "text": [
      "(21768, 'DOYLE, ARTHUR CONAN', 'A DESERT DRAMA: BEING THE TRAGEDY OF THE \"KOROSKO\"')\n",
      "(5260, 'DOYLE, ARTHUR CONAN', 'A DUET, WITH AN OCCASIONAL CHORUS')\n",
      "(244, 'DOYLE, ARTHUR CONAN', 'A STUDY IN SCARLET')\n",
      "(9874, 'DOYLE, ARTHUR CONAN', 'A VISIT TO THREE FRONTS: JUNE 1916')\n",
      "(48320, 'DOYLE, ARTHUR CONAN', 'ADVENTURES OF SHERLOCK HOLMES ILLUSTRATED')\n",
      "(356, 'DOYLE, ARTHUR CONAN', 'BEYOND THE CITY')\n",
      "(22357, 'DOYLE, ARTHUR CONAN', 'DANGER! AND OTHER STORIES')\n",
      "(8634, 'DOYLE, ARTHUR CONAN', 'HIS LAST BOW')\n",
      "(2350, 'DOYLE, ARTHUR CONAN', 'HIS LAST BOW: AN EPILOGUE OF SHERLOCK HOLMES')\n",
      "(58574, 'DOYLE, ARTHUR CONAN', 'INDEX OF THE PROJECT GUTENBERG WORKS OF ARTHUR CONAN DOYLE')\n"
     ]
    }
   ],
   "metadata": {}
  },
  {
   "cell_type": "code",
   "execution_count": 7,
   "source": [
    "# https://www.kite.com/python/answers/how-to-make-a-list-into-a-comma-separated-string-in-python\n",
    "gid_file = []\n",
    "for row in gid_titles:\n",
    "    s = [str(element) for element in row]\n",
    "    joined = \"|\".join(s)\n",
    "    gid_file.append(joined)\n",
    "gid_file[:10]"
   ],
   "outputs": [
    {
     "output_type": "execute_result",
     "data": {
      "text/plain": [
       "['21768|DOYLE, ARTHUR CONAN|A DESERT DRAMA: BEING THE TRAGEDY OF THE \"KOROSKO\"',\n",
       " '5260|DOYLE, ARTHUR CONAN|A DUET, WITH AN OCCASIONAL CHORUS',\n",
       " '244|DOYLE, ARTHUR CONAN|A STUDY IN SCARLET',\n",
       " '9874|DOYLE, ARTHUR CONAN|A VISIT TO THREE FRONTS: JUNE 1916',\n",
       " '48320|DOYLE, ARTHUR CONAN|ADVENTURES OF SHERLOCK HOLMES ILLUSTRATED',\n",
       " '356|DOYLE, ARTHUR CONAN|BEYOND THE CITY',\n",
       " '22357|DOYLE, ARTHUR CONAN|DANGER! AND OTHER STORIES',\n",
       " '8634|DOYLE, ARTHUR CONAN|HIS LAST BOW',\n",
       " '2350|DOYLE, ARTHUR CONAN|HIS LAST BOW: AN EPILOGUE OF SHERLOCK HOLMES',\n",
       " '58574|DOYLE, ARTHUR CONAN|INDEX OF THE PROJECT GUTENBERG WORKS OF ARTHUR CONAN DOYLE']"
      ]
     },
     "metadata": {},
     "execution_count": 7
    }
   ],
   "metadata": {}
  },
  {
   "cell_type": "code",
   "execution_count": 8,
   "source": [
    "# https://github.com/ontoligent-design/pgtk\n",
    "\n",
    "gut_utf8 = 'https://www.gutenberg.org/ebooks/{}.txt.utf-8'\n",
    "\n",
    "def download_epubs(doc_list, outdir=None, sep='|'):\n",
    "# def download_epubs(epub_file, outdir=None):\n",
    "    \"\"\"Download epubs from a list of files generated from a search\"\"\"\n",
    "     \n",
    "    doc_names = []\n",
    "\n",
    "    if not outdir:\n",
    "        outdir=\"books\"       \n",
    "    \n",
    "    print(\"Downloading files to\", outdir)\n",
    "    for line in doc_list:\n",
    "        row = line.split(sep)\n",
    "        gid = row[0]\n",
    "        try:\n",
    "            int(gid)         \n",
    "            url = gut_utf8.format(gid)\n",
    "            r = requests.get(url)\n",
    "            filename = '_'.join(row[1:3]).strip()\n",
    "            filename = re.sub(r'\\W+', '_', filename)\n",
    "            filename = re.sub(r'_+', '_', filename)\n",
    "            print(gid, filename)\n",
    "            doc_name = \"{}/{}-{}.txt\".format(outdir, filename, gid)\n",
    "            with open(doc_name, 'w') as outfile:\n",
    "                outfile.write(r.text)\n",
    "            doc_names.append((gid, filename, doc_name))\n",
    "        except ValueError as e:\n",
    "            print('#', gid, \"not a GID\")\n",
    "    return doc_names"
   ],
   "outputs": [],
   "metadata": {}
  },
  {
   "cell_type": "code",
   "execution_count": 9,
   "source": [
    "doc_names = download_epubs(gid_file)"
   ],
   "outputs": [
    {
     "output_type": "stream",
     "name": "stdout",
     "text": [
      "Downloading files to books\n",
      "21768 DOYLE_ARTHUR_CONAN_A_DESERT_DRAMA_BEING_THE_TRAGEDY_OF_THE_KOROSKO_\n",
      "5260 DOYLE_ARTHUR_CONAN_A_DUET_WITH_AN_OCCASIONAL_CHORUS\n",
      "244 DOYLE_ARTHUR_CONAN_A_STUDY_IN_SCARLET\n",
      "9874 DOYLE_ARTHUR_CONAN_A_VISIT_TO_THREE_FRONTS_JUNE_1916\n",
      "48320 DOYLE_ARTHUR_CONAN_ADVENTURES_OF_SHERLOCK_HOLMES_ILLUSTRATED\n",
      "356 DOYLE_ARTHUR_CONAN_BEYOND_THE_CITY\n",
      "22357 DOYLE_ARTHUR_CONAN_DANGER_AND_OTHER_STORIES\n",
      "8634 DOYLE_ARTHUR_CONAN_HIS_LAST_BOW\n",
      "2350 DOYLE_ARTHUR_CONAN_HIS_LAST_BOW_AN_EPILOGUE_OF_SHERLOCK_HOLMES\n",
      "58574 DOYLE_ARTHUR_CONAN_INDEX_OF_THE_PROJECT_GUTENBERG_WORKS_OF_ARTHUR_CONAN_DOYLE\n",
      "9504 DOYLE_ARTHUR_CONAN_MICAH_CLARKE_HIS_STATEMENT_AS_MADE_TO_HIS_THREE_GRANDCHILDREN_JOSEPH_GERVAS_AND_REUBEN_DURING_THE_HARD_WINTER_OF_1734\n"
     ]
    }
   ],
   "metadata": {}
  },
  {
   "cell_type": "markdown",
   "source": [
    "After removing duplicate titles and foreign languages, I've downloaded about 69 of the 130 or more Arthur Conan Doyle's works listed on Project Gutenberg.  However, some of these returned error pages and many others are short stories that might be duplicated in diffferent documents.  The next step will be to pull in this data in OCHO format. While we do this we will eliminate documents that are HTML formatted (the error pages) and will look for tables of contents that match."
   ],
   "metadata": {}
  },
  {
   "cell_type": "code",
   "execution_count": null,
   "source": [
    "# I've decided to skip chapters for now because of inconsistent formatting.  I'll see if I need it.\n",
    "OHCO = ['book_id', 'para_num', 'sent_num', 'token_num']"
   ],
   "outputs": [],
   "metadata": {}
  },
  {
   "cell_type": "code",
   "execution_count": null,
   "source": [
    "# remove metadata\n",
    "def stripMetadata(df):\n",
    "\n",
    "    # general clean up\n",
    "    df[OHCO[1]] = df[OHCO[1]].str.replace('—', ' — ')\n",
    "    df[OHCO[1]] = df[OHCO[1]].str.replace('-', ' - ')\n",
    "\n",
    "    # find begining line\n",
    "    a = df[OHCO[1]].str.match(r\"\\*\\*\\*\\s*START OF (THE|THIS) PROJECT\")\n",
    "    a_1 = df[OHCO[1]].str.match(r\"\\*END THE SMALL PRINT\") #backup start for when the above isn't used\n",
    "\n",
    "    if (df.loc[a].empty):\n",
    "        an = df.loc[a_1].index[0]\n",
    "    else:\n",
    "        an = df.loc[a].index[0]\n",
    "\n",
    "    # find ending line\n",
    "    b = df[OHCO[1]].str.match(r\"\\*\\*\\*\\s*END OF (THE|THIS) PROJECT\")\n",
    "    if (df.loc[b].empty):\n",
    "        bn = df.tail(1).index[0]\n",
    "    else:\n",
    "        bn = df.loc[b].index[0]\n",
    "        # print(df.loc[b])\n",
    "\n",
    "    return(df.loc[an + 1 : bn - 2])"
   ],
   "outputs": [],
   "metadata": {}
  },
  {
   "cell_type": "code",
   "execution_count": null,
   "source": [
    "def splitParagraphs(df, id):\n",
    "    # dataframes have columns OHCO[0] and OHCO[1]\n",
    "    # paragraph will be OHCO[-3]\n",
    "    # id should be book_id\n",
    "\n",
    "\n",
    "    df_p = df[OHCO[1]].str.split(r'\\n\\n+', expand=True).stack().to_frame().rename(columns={0:'para_str'})\n",
    "    df_p['para_str'] = df_p['para_str'].str.replace(r'\\n', ' ').str.strip()\n",
    "    df_p = df_p[~df_p['para_str'].str.match(r'^\\s*$')] # Remove empty paragraphs\n",
    "\n",
    "    df_p = df_p.reset_index(drop=True)\n",
    "    df_p.index.names = [OHCO[1]]\n",
    "    df_p = df_p.reset_index()\n",
    "    df_p[OHCO[0]]=id\n",
    "    df_p.set_index(OHCO[:2], inplace=True)\n",
    "\n",
    "    return df_p"
   ],
   "outputs": [],
   "metadata": {}
  },
  {
   "cell_type": "code",
   "execution_count": null,
   "source": [
    "def cleanString(row):\n",
    "    # remove numbers and punctuation\n",
    "    # https://www.codegrepper.com/code-examples/python/pandas+series+remove+punctuation\n",
    "    \n",
    "    s = string.punctuation + '0123456789' + \"″\"\n",
    "    for x in s:\n",
    "        row = row.replace(x,'')\n",
    "    return row\n"
   ],
   "outputs": [],
   "metadata": {}
  },
  {
   "cell_type": "code",
   "execution_count": null,
   "source": [
    "def getLibSeries(row,df):\n",
    "    #format the LIBRARY table\n",
    "    # customized for Arthur Conan Doyle books currently\n",
    "    \n",
    "    book_id = row[0]\n",
    "    book_title = row[1].replace('_',' ').strip()\n",
    "    book_file = row[2]\n",
    "    author = \"Doyle, Arthur Conan\"\n",
    "    title = row[1][19:].replace('_',' ').strip()\n",
    "    libSeries = pd.Series([book_id, book_title, book_file, author, title], index=df.columns)\n",
    "\n",
    "    return libSeries"
   ],
   "outputs": [],
   "metadata": {}
  },
  {
   "cell_type": "code",
   "execution_count": null,
   "source": [
    "df = pd.DataFrame(columns=['para_str', OHCO[0], OHCO[1]])\n",
    "df = df.set_index(OHCO[:2])\n",
    "LIBRARY = pd.DataFrame(columns=['book_id','book_title','book_file','author','title'])\n",
    "for doc in doc_names:\n",
    "    # pull in data\n",
    "    epub = open(doc[2], 'r', encoding='utf-8-sig').readlines()\n",
    "    # print(epub)\n",
    "\n",
    "    # remove error pages\n",
    "    if not (epub[0].startswith('<!DOCTYPE html>')):\n",
    "        # strip metadata\n",
    "        book = pd.DataFrame({OHCO[0]: doc[0], OHCO[1]: epub})\n",
    "\n",
    "        book = stripMetadata(book)\n",
    "\n",
    "        book = splitParagraphs(book, doc[0])\n",
    "\n",
    "        book['para_str'] = book['para_str'].map(cleanString)\n",
    "\n",
    "        libSeries = getLibSeries(doc, LIBRARY)\n",
    "        \n",
    "        LIBRARY = LIBRARY.append(libSeries, ignore_index=True) #https://www.kite.com/python/answers/how-to-append-a-list-as-a-row-to-a-pandas-dataframe-in-python\n",
    "\n",
    "        # save to dataframe\n",
    "        df = df.append(book)\n",
    "    else:\n",
    "        print(\"GID: {}, Title: {} was not found in Project Gutenberg\".format(doc[0], doc[1]))"
   ],
   "outputs": [
    {
     "output_type": "stream",
     "name": "stdout",
     "text": [
      "GID: 8634, Title: DOYLE_ARTHUR_CONAN_HIS_LAST_BOW was not found in Project Gutenberg\n",
      "GID: 58574, Title: DOYLE_ARTHUR_CONAN_INDEX_OF_THE_PROJECT_GUTENBERG_WORKS_OF_ARTHUR_CONAN_DOYLE was not found in Project Gutenberg\n",
      "GID: 54109, Title: DOYLE_ARTHUR_CONAN_ROUND_THE_FIRE_STORIES was not found in Project Gutenberg\n",
      "GID: 8619, Title: DOYLE_ARTHUR_CONAN_ROUND_THE_RED_LAMP was not found in Project Gutenberg\n",
      "GID: 59809, Title: DOYLE_ARTHUR_CONAN_THE_CASE_FOR_SPIRIT_PHOTOGRAPHY_WITH_CORROBORATIVE_EVIDENCE_BY_EXPERIENCED_RESEARCHERS_AND_PHOTOGRAPHERS was not found in Project Gutenberg\n",
      "GID: 26153, Title: DOYLE_ARTHUR_CONAN_THE_LAST_OF_THE_LEGIONS_AND_OTHER_TALES_OF_LONG_AGO was not found in Project Gutenberg\n",
      "GID: 834, Title: DOYLE_ARTHUR_CONAN_THE_MEMOIRS_OF_SHERLOCK_HOLMES was not found in Project Gutenberg\n",
      "GID: 8618, Title: DOYLE_ARTHUR_CONAN_THE_PARASITE was not found in Project Gutenberg\n"
     ]
    }
   ],
   "metadata": {}
  },
  {
   "cell_type": "code",
   "execution_count": null,
   "source": [
    "LIBRARY = LIBRARY.set_index('book_id')\n",
    "LIBRARY"
   ],
   "outputs": [
    {
     "output_type": "execute_result",
     "data": {
      "text/plain": [
       "                                                book_title  \\\n",
       "book_id                                                      \n",
       "21768    DOYLE ARTHUR CONAN A DESERT DRAMA BEING THE TR...   \n",
       "5260     DOYLE ARTHUR CONAN A DUET WITH AN OCCASIONAL C...   \n",
       "244                  DOYLE ARTHUR CONAN A STUDY IN SCARLET   \n",
       "9874     DOYLE ARTHUR CONAN A VISIT TO THREE FRONTS JUN...   \n",
       "48320    DOYLE ARTHUR CONAN ADVENTURES OF SHERLOCK HOLM...   \n",
       "...                                                    ...   \n",
       "39718    DOYLE ARTHUR CONAN THE WANDERINGS OF A SPIRITU...   \n",
       "24951    DOYLE ARTHUR CONAN THE WAR IN SOUTH AFRICA ITS...   \n",
       "903                   DOYLE ARTHUR CONAN THE WHITE COMPANY   \n",
       "5317             DOYLE ARTHUR CONAN THROUGH THE MAGIC DOOR   \n",
       "10581    DOYLE ARTHUR CONAN UNCLE BERNAC A MEMORY OF TH...   \n",
       "\n",
       "                                                 book_file  \\\n",
       "book_id                                                      \n",
       "21768    books/DOYLE_ARTHUR_CONAN_A_DESERT_DRAMA_BEING_...   \n",
       "5260     books/DOYLE_ARTHUR_CONAN_A_DUET_WITH_AN_OCCASI...   \n",
       "244      books/DOYLE_ARTHUR_CONAN_A_STUDY_IN_SCARLET-24...   \n",
       "9874     books/DOYLE_ARTHUR_CONAN_A_VISIT_TO_THREE_FRON...   \n",
       "48320    books/DOYLE_ARTHUR_CONAN_ADVENTURES_OF_SHERLOC...   \n",
       "...                                                    ...   \n",
       "39718    books/DOYLE_ARTHUR_CONAN_THE_WANDERINGS_OF_A_S...   \n",
       "24951    books/DOYLE_ARTHUR_CONAN_THE_WAR_IN_SOUTH_AFRI...   \n",
       "903      books/DOYLE_ARTHUR_CONAN_THE_WHITE_COMPANY-903...   \n",
       "5317     books/DOYLE_ARTHUR_CONAN_THROUGH_THE_MAGIC_DOO...   \n",
       "10581    books/DOYLE_ARTHUR_CONAN_UNCLE_BERNAC_A_MEMORY...   \n",
       "\n",
       "                      author                                            title  \n",
       "book_id                                                                        \n",
       "21768    Doyle, Arthur Conan  A DESERT DRAMA BEING THE TRAGEDY OF THE KOROSKO  \n",
       "5260     Doyle, Arthur Conan                 A DUET WITH AN OCCASIONAL CHORUS  \n",
       "244      Doyle, Arthur Conan                               A STUDY IN SCARLET  \n",
       "9874     Doyle, Arthur Conan                A VISIT TO THREE FRONTS JUNE 1916  \n",
       "48320    Doyle, Arthur Conan        ADVENTURES OF SHERLOCK HOLMES ILLUSTRATED  \n",
       "...                      ...                                              ...  \n",
       "39718    Doyle, Arthur Conan                 THE WANDERINGS OF A SPIRITUALIST  \n",
       "24951    Doyle, Arthur Conan    THE WAR IN SOUTH AFRICA ITS CAUSE AND CONDUCT  \n",
       "903      Doyle, Arthur Conan                                THE WHITE COMPANY  \n",
       "5317     Doyle, Arthur Conan                           THROUGH THE MAGIC DOOR  \n",
       "10581    Doyle, Arthur Conan              UNCLE BERNAC A MEMORY OF THE EMPIRE  \n",
       "\n",
       "[61 rows x 4 columns]"
      ],
      "text/html": [
       "<div>\n",
       "<style scoped>\n",
       "    .dataframe tbody tr th:only-of-type {\n",
       "        vertical-align: middle;\n",
       "    }\n",
       "\n",
       "    .dataframe tbody tr th {\n",
       "        vertical-align: top;\n",
       "    }\n",
       "\n",
       "    .dataframe thead th {\n",
       "        text-align: right;\n",
       "    }\n",
       "</style>\n",
       "<table border=\"1\" class=\"dataframe\">\n",
       "  <thead>\n",
       "    <tr style=\"text-align: right;\">\n",
       "      <th></th>\n",
       "      <th>book_title</th>\n",
       "      <th>book_file</th>\n",
       "      <th>author</th>\n",
       "      <th>title</th>\n",
       "    </tr>\n",
       "    <tr>\n",
       "      <th>book_id</th>\n",
       "      <th></th>\n",
       "      <th></th>\n",
       "      <th></th>\n",
       "      <th></th>\n",
       "    </tr>\n",
       "  </thead>\n",
       "  <tbody>\n",
       "    <tr>\n",
       "      <th>21768</th>\n",
       "      <td>DOYLE ARTHUR CONAN A DESERT DRAMA BEING THE TR...</td>\n",
       "      <td>books/DOYLE_ARTHUR_CONAN_A_DESERT_DRAMA_BEING_...</td>\n",
       "      <td>Doyle, Arthur Conan</td>\n",
       "      <td>A DESERT DRAMA BEING THE TRAGEDY OF THE KOROSKO</td>\n",
       "    </tr>\n",
       "    <tr>\n",
       "      <th>5260</th>\n",
       "      <td>DOYLE ARTHUR CONAN A DUET WITH AN OCCASIONAL C...</td>\n",
       "      <td>books/DOYLE_ARTHUR_CONAN_A_DUET_WITH_AN_OCCASI...</td>\n",
       "      <td>Doyle, Arthur Conan</td>\n",
       "      <td>A DUET WITH AN OCCASIONAL CHORUS</td>\n",
       "    </tr>\n",
       "    <tr>\n",
       "      <th>244</th>\n",
       "      <td>DOYLE ARTHUR CONAN A STUDY IN SCARLET</td>\n",
       "      <td>books/DOYLE_ARTHUR_CONAN_A_STUDY_IN_SCARLET-24...</td>\n",
       "      <td>Doyle, Arthur Conan</td>\n",
       "      <td>A STUDY IN SCARLET</td>\n",
       "    </tr>\n",
       "    <tr>\n",
       "      <th>9874</th>\n",
       "      <td>DOYLE ARTHUR CONAN A VISIT TO THREE FRONTS JUN...</td>\n",
       "      <td>books/DOYLE_ARTHUR_CONAN_A_VISIT_TO_THREE_FRON...</td>\n",
       "      <td>Doyle, Arthur Conan</td>\n",
       "      <td>A VISIT TO THREE FRONTS JUNE 1916</td>\n",
       "    </tr>\n",
       "    <tr>\n",
       "      <th>48320</th>\n",
       "      <td>DOYLE ARTHUR CONAN ADVENTURES OF SHERLOCK HOLM...</td>\n",
       "      <td>books/DOYLE_ARTHUR_CONAN_ADVENTURES_OF_SHERLOC...</td>\n",
       "      <td>Doyle, Arthur Conan</td>\n",
       "      <td>ADVENTURES OF SHERLOCK HOLMES ILLUSTRATED</td>\n",
       "    </tr>\n",
       "    <tr>\n",
       "      <th>...</th>\n",
       "      <td>...</td>\n",
       "      <td>...</td>\n",
       "      <td>...</td>\n",
       "      <td>...</td>\n",
       "    </tr>\n",
       "    <tr>\n",
       "      <th>39718</th>\n",
       "      <td>DOYLE ARTHUR CONAN THE WANDERINGS OF A SPIRITU...</td>\n",
       "      <td>books/DOYLE_ARTHUR_CONAN_THE_WANDERINGS_OF_A_S...</td>\n",
       "      <td>Doyle, Arthur Conan</td>\n",
       "      <td>THE WANDERINGS OF A SPIRITUALIST</td>\n",
       "    </tr>\n",
       "    <tr>\n",
       "      <th>24951</th>\n",
       "      <td>DOYLE ARTHUR CONAN THE WAR IN SOUTH AFRICA ITS...</td>\n",
       "      <td>books/DOYLE_ARTHUR_CONAN_THE_WAR_IN_SOUTH_AFRI...</td>\n",
       "      <td>Doyle, Arthur Conan</td>\n",
       "      <td>THE WAR IN SOUTH AFRICA ITS CAUSE AND CONDUCT</td>\n",
       "    </tr>\n",
       "    <tr>\n",
       "      <th>903</th>\n",
       "      <td>DOYLE ARTHUR CONAN THE WHITE COMPANY</td>\n",
       "      <td>books/DOYLE_ARTHUR_CONAN_THE_WHITE_COMPANY-903...</td>\n",
       "      <td>Doyle, Arthur Conan</td>\n",
       "      <td>THE WHITE COMPANY</td>\n",
       "    </tr>\n",
       "    <tr>\n",
       "      <th>5317</th>\n",
       "      <td>DOYLE ARTHUR CONAN THROUGH THE MAGIC DOOR</td>\n",
       "      <td>books/DOYLE_ARTHUR_CONAN_THROUGH_THE_MAGIC_DOO...</td>\n",
       "      <td>Doyle, Arthur Conan</td>\n",
       "      <td>THROUGH THE MAGIC DOOR</td>\n",
       "    </tr>\n",
       "    <tr>\n",
       "      <th>10581</th>\n",
       "      <td>DOYLE ARTHUR CONAN UNCLE BERNAC A MEMORY OF TH...</td>\n",
       "      <td>books/DOYLE_ARTHUR_CONAN_UNCLE_BERNAC_A_MEMORY...</td>\n",
       "      <td>Doyle, Arthur Conan</td>\n",
       "      <td>UNCLE BERNAC A MEMORY OF THE EMPIRE</td>\n",
       "    </tr>\n",
       "  </tbody>\n",
       "</table>\n",
       "<p>61 rows × 4 columns</p>\n",
       "</div>"
      ]
     },
     "metadata": {},
     "execution_count": 366
    }
   ],
   "metadata": {}
  },
  {
   "cell_type": "code",
   "execution_count": null,
   "source": [
    "df.shape"
   ],
   "outputs": [
    {
     "output_type": "execute_result",
     "data": {
      "text/plain": [
       "(305926, 1)"
      ]
     },
     "metadata": {},
     "execution_count": 367
    }
   ],
   "metadata": {}
  },
  {
   "cell_type": "code",
   "execution_count": null,
   "source": [
    "df.head()"
   ],
   "outputs": [
    {
     "output_type": "execute_result",
     "data": {
      "text/plain": [
       "                                    para_str\n",
       "book_id para_num                            \n",
       "21768   0           Produced by David Widger\n",
       "        1                     A DESERT DRAMA\n",
       "        2                              BEING\n",
       "        3         The Tragedy of the Korosko\n",
       "        4                                 BY"
      ],
      "text/html": [
       "<div>\n",
       "<style scoped>\n",
       "    .dataframe tbody tr th:only-of-type {\n",
       "        vertical-align: middle;\n",
       "    }\n",
       "\n",
       "    .dataframe tbody tr th {\n",
       "        vertical-align: top;\n",
       "    }\n",
       "\n",
       "    .dataframe thead th {\n",
       "        text-align: right;\n",
       "    }\n",
       "</style>\n",
       "<table border=\"1\" class=\"dataframe\">\n",
       "  <thead>\n",
       "    <tr style=\"text-align: right;\">\n",
       "      <th></th>\n",
       "      <th></th>\n",
       "      <th>para_str</th>\n",
       "    </tr>\n",
       "    <tr>\n",
       "      <th>book_id</th>\n",
       "      <th>para_num</th>\n",
       "      <th></th>\n",
       "    </tr>\n",
       "  </thead>\n",
       "  <tbody>\n",
       "    <tr>\n",
       "      <th rowspan=\"5\" valign=\"top\">21768</th>\n",
       "      <th>0</th>\n",
       "      <td>Produced by David Widger</td>\n",
       "    </tr>\n",
       "    <tr>\n",
       "      <th>1</th>\n",
       "      <td>A DESERT DRAMA</td>\n",
       "    </tr>\n",
       "    <tr>\n",
       "      <th>2</th>\n",
       "      <td>BEING</td>\n",
       "    </tr>\n",
       "    <tr>\n",
       "      <th>3</th>\n",
       "      <td>The Tragedy of the Korosko</td>\n",
       "    </tr>\n",
       "    <tr>\n",
       "      <th>4</th>\n",
       "      <td>BY</td>\n",
       "    </tr>\n",
       "  </tbody>\n",
       "</table>\n",
       "</div>"
      ]
     },
     "metadata": {},
     "execution_count": 368
    }
   ],
   "metadata": {}
  },
  {
   "cell_type": "code",
   "execution_count": null,
   "source": [
    "# confiming we have multiple books here\n",
    "df.sample(5)"
   ],
   "outputs": [
    {
     "output_type": "execute_result",
     "data": {
      "text/plain": [
       "                                                           para_str\n",
       "book_id para_num                                                   \n",
       "7964    3349      we have had occasion to talk of more than once...\n",
       "9504    1158      Hows that eh Waller himself could not have cap...\n",
       "13152   7018                   Do light a cigarette said Mrs Scully\n",
       "24951   3103         Bethulie and Edenburg in the Orange Free State\n",
       "5260    1793                   the only visitors at the Swiss hotel"
      ],
      "text/html": [
       "<div>\n",
       "<style scoped>\n",
       "    .dataframe tbody tr th:only-of-type {\n",
       "        vertical-align: middle;\n",
       "    }\n",
       "\n",
       "    .dataframe tbody tr th {\n",
       "        vertical-align: top;\n",
       "    }\n",
       "\n",
       "    .dataframe thead th {\n",
       "        text-align: right;\n",
       "    }\n",
       "</style>\n",
       "<table border=\"1\" class=\"dataframe\">\n",
       "  <thead>\n",
       "    <tr style=\"text-align: right;\">\n",
       "      <th></th>\n",
       "      <th></th>\n",
       "      <th>para_str</th>\n",
       "    </tr>\n",
       "    <tr>\n",
       "      <th>book_id</th>\n",
       "      <th>para_num</th>\n",
       "      <th></th>\n",
       "    </tr>\n",
       "  </thead>\n",
       "  <tbody>\n",
       "    <tr>\n",
       "      <th>7964</th>\n",
       "      <th>3349</th>\n",
       "      <td>we have had occasion to talk of more than once...</td>\n",
       "    </tr>\n",
       "    <tr>\n",
       "      <th>9504</th>\n",
       "      <th>1158</th>\n",
       "      <td>Hows that eh Waller himself could not have cap...</td>\n",
       "    </tr>\n",
       "    <tr>\n",
       "      <th>13152</th>\n",
       "      <th>7018</th>\n",
       "      <td>Do light a cigarette said Mrs Scully</td>\n",
       "    </tr>\n",
       "    <tr>\n",
       "      <th>24951</th>\n",
       "      <th>3103</th>\n",
       "      <td>Bethulie and Edenburg in the Orange Free State</td>\n",
       "    </tr>\n",
       "    <tr>\n",
       "      <th>5260</th>\n",
       "      <th>1793</th>\n",
       "      <td>the only visitors at the Swiss hotel</td>\n",
       "    </tr>\n",
       "  </tbody>\n",
       "</table>\n",
       "</div>"
      ]
     },
     "metadata": {},
     "execution_count": 369
    }
   ],
   "metadata": {}
  },
  {
   "cell_type": "code",
   "execution_count": null,
   "source": [
    "# remove punctuation\n",
    "# import string\n",
    "# df['para_str'] = df['para_str'].map(lambda x: x.translate(None, string.punctuation)) #https://stackoverflow.com/questions/15547409/how-to-get-rid-of-punctuation-using-nltk-tokenizer\n",
    "string.punctuation\n",
    "df[df.para_str == '9']"
   ],
   "outputs": [
    {
     "output_type": "execute_result",
     "data": {
      "text/plain": [
       "Empty DataFrame\n",
       "Columns: [para_str]\n",
       "Index: []"
      ],
      "text/html": [
       "<div>\n",
       "<style scoped>\n",
       "    .dataframe tbody tr th:only-of-type {\n",
       "        vertical-align: middle;\n",
       "    }\n",
       "\n",
       "    .dataframe tbody tr th {\n",
       "        vertical-align: top;\n",
       "    }\n",
       "\n",
       "    .dataframe thead th {\n",
       "        text-align: right;\n",
       "    }\n",
       "</style>\n",
       "<table border=\"1\" class=\"dataframe\">\n",
       "  <thead>\n",
       "    <tr style=\"text-align: right;\">\n",
       "      <th></th>\n",
       "      <th></th>\n",
       "      <th>para_str</th>\n",
       "    </tr>\n",
       "    <tr>\n",
       "      <th>book_id</th>\n",
       "      <th>para_num</th>\n",
       "      <th></th>\n",
       "    </tr>\n",
       "  </thead>\n",
       "  <tbody>\n",
       "  </tbody>\n",
       "</table>\n",
       "</div>"
      ]
     },
     "metadata": {},
     "execution_count": 370
    }
   ],
   "metadata": {}
  },
  {
   "cell_type": "code",
   "execution_count": null,
   "source": [
    "# Grab contents tables to see if there are any repeated short stories\n",
    "# !!!!!!!!!!!!!!!!!! reevaluate this, I may not be able to do anything here with the time I have\n"
   ],
   "outputs": [],
   "metadata": {}
  },
  {
   "cell_type": "code",
   "execution_count": null,
   "source": [
    "def tokenize(doc_df, OHCO=OHCO, remove_pos_tuple=False, ws=False):\n",
    "    \n",
    "    # Paragraphs to Sentences\n",
    "    df = doc_df.para_str\\\n",
    "        .apply(lambda x: pd.Series(nltk.sent_tokenize(x)))\\\n",
    "        .stack()\\\n",
    "        .to_frame()\\\n",
    "        .rename(columns={0:'sent_str'})\n",
    "    \n",
    "    # Sentences to Tokens\n",
    "    # Local function to pick tokenizer\n",
    "    def word_tokenize(x):\n",
    "        if ws:\n",
    "            s = pd.Series(nltk.pos_tag(nltk.WhitespaceTokenizer().tokenize(x)))\n",
    "        else:\n",
    "            s = pd.Series(nltk.pos_tag(nltk.word_tokenize(x)))\n",
    "        return s\n",
    "            \n",
    "    df = df.sent_str\\\n",
    "        .apply(word_tokenize)\\\n",
    "        .stack()\\\n",
    "        .to_frame()\\\n",
    "        .rename(columns={0:'pos_tuple'})\n",
    "    \n",
    "    # Grab info from tuple\n",
    "    df['pos'] = df.pos_tuple.apply(lambda x: x[1])\n",
    "    df['token_str'] = df.pos_tuple.apply(lambda x: x[0])\n",
    "    if remove_pos_tuple:\n",
    "        df = df.drop('pos_tuple', 1)\n",
    "    \n",
    "    # Add index\n",
    "    df.index.names = OHCO\n",
    "    \n",
    "    return df"
   ],
   "outputs": [],
   "metadata": {}
  },
  {
   "cell_type": "code",
   "execution_count": null,
   "source": [
    "TOKEN = tokenize(df,ws=True)"
   ],
   "outputs": [
    {
     "output_type": "stream",
     "name": "stderr",
     "text": [
      "<ipython-input-372-690f95e99429>:5: DeprecationWarning: The default dtype for empty Series will be 'object' instead of 'float64' in a future version. Specify a dtype explicitly to silence this warning.\n",
      "  .apply(lambda x: pd.Series(nltk.sent_tokenize(x)))\\\n"
     ]
    }
   ],
   "metadata": {}
  },
  {
   "cell_type": "code",
   "execution_count": null,
   "source": [
    "TOKEN.head(5)"
   ],
   "outputs": [
    {
     "output_type": "execute_result",
     "data": {
      "text/plain": [
       "                                           pos_tuple  pos token_str\n",
       "book_id para_num sent_num token_num                                \n",
       "21768   0        0        0          (Produced, VBN)  VBN  Produced\n",
       "                          1                 (by, IN)   IN        by\n",
       "                          2             (David, NNP)  NNP     David\n",
       "                          3            (Widger, NNP)  NNP    Widger\n",
       "        1        0        0                  (A, DT)   DT         A"
      ],
      "text/html": [
       "<div>\n",
       "<style scoped>\n",
       "    .dataframe tbody tr th:only-of-type {\n",
       "        vertical-align: middle;\n",
       "    }\n",
       "\n",
       "    .dataframe tbody tr th {\n",
       "        vertical-align: top;\n",
       "    }\n",
       "\n",
       "    .dataframe thead th {\n",
       "        text-align: right;\n",
       "    }\n",
       "</style>\n",
       "<table border=\"1\" class=\"dataframe\">\n",
       "  <thead>\n",
       "    <tr style=\"text-align: right;\">\n",
       "      <th></th>\n",
       "      <th></th>\n",
       "      <th></th>\n",
       "      <th></th>\n",
       "      <th>pos_tuple</th>\n",
       "      <th>pos</th>\n",
       "      <th>token_str</th>\n",
       "    </tr>\n",
       "    <tr>\n",
       "      <th>book_id</th>\n",
       "      <th>para_num</th>\n",
       "      <th>sent_num</th>\n",
       "      <th>token_num</th>\n",
       "      <th></th>\n",
       "      <th></th>\n",
       "      <th></th>\n",
       "    </tr>\n",
       "  </thead>\n",
       "  <tbody>\n",
       "    <tr>\n",
       "      <th rowspan=\"5\" valign=\"top\">21768</th>\n",
       "      <th rowspan=\"4\" valign=\"top\">0</th>\n",
       "      <th rowspan=\"4\" valign=\"top\">0</th>\n",
       "      <th>0</th>\n",
       "      <td>(Produced, VBN)</td>\n",
       "      <td>VBN</td>\n",
       "      <td>Produced</td>\n",
       "    </tr>\n",
       "    <tr>\n",
       "      <th>1</th>\n",
       "      <td>(by, IN)</td>\n",
       "      <td>IN</td>\n",
       "      <td>by</td>\n",
       "    </tr>\n",
       "    <tr>\n",
       "      <th>2</th>\n",
       "      <td>(David, NNP)</td>\n",
       "      <td>NNP</td>\n",
       "      <td>David</td>\n",
       "    </tr>\n",
       "    <tr>\n",
       "      <th>3</th>\n",
       "      <td>(Widger, NNP)</td>\n",
       "      <td>NNP</td>\n",
       "      <td>Widger</td>\n",
       "    </tr>\n",
       "    <tr>\n",
       "      <th>1</th>\n",
       "      <th>0</th>\n",
       "      <th>0</th>\n",
       "      <td>(A, DT)</td>\n",
       "      <td>DT</td>\n",
       "      <td>A</td>\n",
       "    </tr>\n",
       "  </tbody>\n",
       "</table>\n",
       "</div>"
      ]
     },
     "metadata": {},
     "execution_count": 374
    }
   ],
   "metadata": {}
  },
  {
   "cell_type": "code",
   "execution_count": null,
   "source": [
    "TOKEN.sort_values('token_str')"
   ],
   "outputs": [
    {
     "output_type": "execute_result",
     "data": {
      "text/plain": [
       "                                    pos_tuple  pos token_str\n",
       "book_id para_num sent_num token_num                         \n",
       "9874    35       0        0           (A, DT)   DT         A\n",
       "34627   3537     0        7           (A, DT)   DT         A\n",
       "        3522     0        3          (A, NNP)  NNP         A\n",
       "48320   734      0        4          (A, NNP)  NNP         A\n",
       "34627   3458     0        7          (A, NNP)  NNP         A\n",
       "...                                       ...  ...       ...\n",
       "48320   219      0        4           (”, NN)   NN         ”\n",
       "        5095     0        11          (”, NN)   NN         ”\n",
       "        5199     0        4           (”, NN)   NN         ”\n",
       "        3651     0        7           (”, NN)   NN         ”\n",
       "        3704     0        5           (”, NN)   NN         ”\n",
       "\n",
       "[3513063 rows x 3 columns]"
      ],
      "text/html": [
       "<div>\n",
       "<style scoped>\n",
       "    .dataframe tbody tr th:only-of-type {\n",
       "        vertical-align: middle;\n",
       "    }\n",
       "\n",
       "    .dataframe tbody tr th {\n",
       "        vertical-align: top;\n",
       "    }\n",
       "\n",
       "    .dataframe thead th {\n",
       "        text-align: right;\n",
       "    }\n",
       "</style>\n",
       "<table border=\"1\" class=\"dataframe\">\n",
       "  <thead>\n",
       "    <tr style=\"text-align: right;\">\n",
       "      <th></th>\n",
       "      <th></th>\n",
       "      <th></th>\n",
       "      <th></th>\n",
       "      <th>pos_tuple</th>\n",
       "      <th>pos</th>\n",
       "      <th>token_str</th>\n",
       "    </tr>\n",
       "    <tr>\n",
       "      <th>book_id</th>\n",
       "      <th>para_num</th>\n",
       "      <th>sent_num</th>\n",
       "      <th>token_num</th>\n",
       "      <th></th>\n",
       "      <th></th>\n",
       "      <th></th>\n",
       "    </tr>\n",
       "  </thead>\n",
       "  <tbody>\n",
       "    <tr>\n",
       "      <th>9874</th>\n",
       "      <th>35</th>\n",
       "      <th>0</th>\n",
       "      <th>0</th>\n",
       "      <td>(A, DT)</td>\n",
       "      <td>DT</td>\n",
       "      <td>A</td>\n",
       "    </tr>\n",
       "    <tr>\n",
       "      <th rowspan=\"2\" valign=\"top\">34627</th>\n",
       "      <th>3537</th>\n",
       "      <th>0</th>\n",
       "      <th>7</th>\n",
       "      <td>(A, DT)</td>\n",
       "      <td>DT</td>\n",
       "      <td>A</td>\n",
       "    </tr>\n",
       "    <tr>\n",
       "      <th>3522</th>\n",
       "      <th>0</th>\n",
       "      <th>3</th>\n",
       "      <td>(A, NNP)</td>\n",
       "      <td>NNP</td>\n",
       "      <td>A</td>\n",
       "    </tr>\n",
       "    <tr>\n",
       "      <th>48320</th>\n",
       "      <th>734</th>\n",
       "      <th>0</th>\n",
       "      <th>4</th>\n",
       "      <td>(A, NNP)</td>\n",
       "      <td>NNP</td>\n",
       "      <td>A</td>\n",
       "    </tr>\n",
       "    <tr>\n",
       "      <th>34627</th>\n",
       "      <th>3458</th>\n",
       "      <th>0</th>\n",
       "      <th>7</th>\n",
       "      <td>(A, NNP)</td>\n",
       "      <td>NNP</td>\n",
       "      <td>A</td>\n",
       "    </tr>\n",
       "    <tr>\n",
       "      <th>...</th>\n",
       "      <th>...</th>\n",
       "      <th>...</th>\n",
       "      <th>...</th>\n",
       "      <td>...</td>\n",
       "      <td>...</td>\n",
       "      <td>...</td>\n",
       "    </tr>\n",
       "    <tr>\n",
       "      <th rowspan=\"5\" valign=\"top\">48320</th>\n",
       "      <th>219</th>\n",
       "      <th>0</th>\n",
       "      <th>4</th>\n",
       "      <td>(”, NN)</td>\n",
       "      <td>NN</td>\n",
       "      <td>”</td>\n",
       "    </tr>\n",
       "    <tr>\n",
       "      <th>5095</th>\n",
       "      <th>0</th>\n",
       "      <th>11</th>\n",
       "      <td>(”, NN)</td>\n",
       "      <td>NN</td>\n",
       "      <td>”</td>\n",
       "    </tr>\n",
       "    <tr>\n",
       "      <th>5199</th>\n",
       "      <th>0</th>\n",
       "      <th>4</th>\n",
       "      <td>(”, NN)</td>\n",
       "      <td>NN</td>\n",
       "      <td>”</td>\n",
       "    </tr>\n",
       "    <tr>\n",
       "      <th>3651</th>\n",
       "      <th>0</th>\n",
       "      <th>7</th>\n",
       "      <td>(”, NN)</td>\n",
       "      <td>NN</td>\n",
       "      <td>”</td>\n",
       "    </tr>\n",
       "    <tr>\n",
       "      <th>3704</th>\n",
       "      <th>0</th>\n",
       "      <th>5</th>\n",
       "      <td>(”, NN)</td>\n",
       "      <td>NN</td>\n",
       "      <td>”</td>\n",
       "    </tr>\n",
       "  </tbody>\n",
       "</table>\n",
       "<p>3513063 rows × 3 columns</p>\n",
       "</div>"
      ]
     },
     "metadata": {},
     "execution_count": 375
    }
   ],
   "metadata": {}
  },
  {
   "cell_type": "code",
   "execution_count": null,
   "source": [
    "TOKEN[TOKEN.token_str == '″']"
   ],
   "outputs": [
    {
     "output_type": "execute_result",
     "data": {
      "text/plain": [
       "Empty DataFrame\n",
       "Columns: [pos_tuple, pos, token_str]\n",
       "Index: []"
      ],
      "text/html": [
       "<div>\n",
       "<style scoped>\n",
       "    .dataframe tbody tr th:only-of-type {\n",
       "        vertical-align: middle;\n",
       "    }\n",
       "\n",
       "    .dataframe tbody tr th {\n",
       "        vertical-align: top;\n",
       "    }\n",
       "\n",
       "    .dataframe thead th {\n",
       "        text-align: right;\n",
       "    }\n",
       "</style>\n",
       "<table border=\"1\" class=\"dataframe\">\n",
       "  <thead>\n",
       "    <tr style=\"text-align: right;\">\n",
       "      <th></th>\n",
       "      <th></th>\n",
       "      <th></th>\n",
       "      <th></th>\n",
       "      <th>pos_tuple</th>\n",
       "      <th>pos</th>\n",
       "      <th>token_str</th>\n",
       "    </tr>\n",
       "    <tr>\n",
       "      <th>book_id</th>\n",
       "      <th>para_num</th>\n",
       "      <th>sent_num</th>\n",
       "      <th>token_num</th>\n",
       "      <th></th>\n",
       "      <th></th>\n",
       "      <th></th>\n",
       "    </tr>\n",
       "  </thead>\n",
       "  <tbody>\n",
       "  </tbody>\n",
       "</table>\n",
       "</div>"
      ]
     },
     "metadata": {},
     "execution_count": 376
    }
   ],
   "metadata": {}
  },
  {
   "cell_type": "code",
   "execution_count": 377,
   "source": [
    "# patternDel = \"/[!\"#$%&'()*+,-./:;<=>?@[\\]^_`{|}~]/g\"\n",
    "# filter = temp['token_str'].str.match(r'<quote>') #https://www.codegrepper.com/code-examples/javascript/regex+find+all+punctuation\n",
    "# filter\n",
    "\n",
    "# patternDel = \"(^*[1-9!'\"'\"'\"])\"\n",
    "# filter = temp['token_str'].str.contains(patternDel)\n",
    "# filter"
   ],
   "outputs": [],
   "metadata": {}
  },
  {
   "cell_type": "code",
   "execution_count": 378,
   "source": [
    "# remove punctuation and integers\n",
    "# https://stackoverflow.com/questions/39948757/how-to-delete-rows-in-python-pandas-dataframe-using-regular-expressions\n",
    "\n",
    "# patternDel = \"(^*[1-9!'\"'\"'\"])\"\n",
    "# filter = df['Event Name'].str.contains(patternDel)\n",
    "\n",
    "# df = df[~filter]"
   ],
   "outputs": [],
   "metadata": {}
  },
  {
   "cell_type": "code",
   "execution_count": null,
   "source": [
    "VOCAB = TOKEN['token_str'].value_counts()\\\n",
    "    .to_frame()\\\n",
    "    .reset_index()\\\n",
    "    .rename(columns={'token_str':'n', 'index':'term_str'})\\\n",
    "    .sort_values('term_str')\n",
    "    \n",
    "VOCAB.index.name = 'term_id'"
   ],
   "outputs": [],
   "metadata": {}
  },
  {
   "cell_type": "code",
   "execution_count": null,
   "source": [
    "n_tokens = VOCAB.n.sum()\n",
    "VOCAB['p'] = VOCAB['n'] / n_tokens\n",
    "VOCAB['log_p'] = np.log2(VOCAB['p'])"
   ],
   "outputs": [],
   "metadata": {}
  },
  {
   "cell_type": "code",
   "execution_count": null,
   "source": [
    "VOCAB.head()"
   ],
   "outputs": [
    {
     "output_type": "execute_result",
     "data": {
      "text/plain": [
       "        term_str     n             p      log_p\n",
       "term_id                                        \n",
       "100            A  4277  1.217456e-03  -9.681915\n",
       "47080         AB     1  2.846519e-07 -21.744298\n",
       "39729    ABANDON     1  2.846519e-07 -21.744298\n",
       "33967      ABBEY     2  5.693038e-07 -20.744298\n",
       "36300      ABBOT     2  5.693038e-07 -20.744298"
      ],
      "text/html": [
       "<div>\n",
       "<style scoped>\n",
       "    .dataframe tbody tr th:only-of-type {\n",
       "        vertical-align: middle;\n",
       "    }\n",
       "\n",
       "    .dataframe tbody tr th {\n",
       "        vertical-align: top;\n",
       "    }\n",
       "\n",
       "    .dataframe thead th {\n",
       "        text-align: right;\n",
       "    }\n",
       "</style>\n",
       "<table border=\"1\" class=\"dataframe\">\n",
       "  <thead>\n",
       "    <tr style=\"text-align: right;\">\n",
       "      <th></th>\n",
       "      <th>term_str</th>\n",
       "      <th>n</th>\n",
       "      <th>p</th>\n",
       "      <th>log_p</th>\n",
       "    </tr>\n",
       "    <tr>\n",
       "      <th>term_id</th>\n",
       "      <th></th>\n",
       "      <th></th>\n",
       "      <th></th>\n",
       "      <th></th>\n",
       "    </tr>\n",
       "  </thead>\n",
       "  <tbody>\n",
       "    <tr>\n",
       "      <th>100</th>\n",
       "      <td>A</td>\n",
       "      <td>4277</td>\n",
       "      <td>1.217456e-03</td>\n",
       "      <td>-9.681915</td>\n",
       "    </tr>\n",
       "    <tr>\n",
       "      <th>47080</th>\n",
       "      <td>AB</td>\n",
       "      <td>1</td>\n",
       "      <td>2.846519e-07</td>\n",
       "      <td>-21.744298</td>\n",
       "    </tr>\n",
       "    <tr>\n",
       "      <th>39729</th>\n",
       "      <td>ABANDON</td>\n",
       "      <td>1</td>\n",
       "      <td>2.846519e-07</td>\n",
       "      <td>-21.744298</td>\n",
       "    </tr>\n",
       "    <tr>\n",
       "      <th>33967</th>\n",
       "      <td>ABBEY</td>\n",
       "      <td>2</td>\n",
       "      <td>5.693038e-07</td>\n",
       "      <td>-20.744298</td>\n",
       "    </tr>\n",
       "    <tr>\n",
       "      <th>36300</th>\n",
       "      <td>ABBOT</td>\n",
       "      <td>2</td>\n",
       "      <td>5.693038e-07</td>\n",
       "      <td>-20.744298</td>\n",
       "    </tr>\n",
       "  </tbody>\n",
       "</table>\n",
       "</div>"
      ]
     },
     "metadata": {},
     "execution_count": 381
    }
   ],
   "metadata": {}
  },
  {
   "cell_type": "code",
   "execution_count": null,
   "source": [
    "TOKEN.to_csv('./TOKEN.csv')"
   ],
   "outputs": [],
   "metadata": {}
  },
  {
   "cell_type": "code",
   "execution_count": null,
   "source": [
    "LIBRARY.to_csv('./LIBRARY.csv')"
   ],
   "outputs": [],
   "metadata": {}
  },
  {
   "cell_type": "code",
   "execution_count": null,
   "source": [
    "# vocab table?? term_id\tterm_rank\tterm_str\tn\tnum\tstop\tstem_porter\tstem_snowball\tstem_lancaster\tpos_max\tterm_rank2\tp\tzipf_k\tzipf_k2\tzipf_k3\tp2\th\tdf\tidf\ttfidf_sum\th2\tx_factor2\tlog of term_rank2\n",
    "VOCAB.to_csv('./VOCAB.csv')"
   ],
   "outputs": [],
   "metadata": {}
  },
  {
   "cell_type": "code",
   "execution_count": null,
   "source": [
    "LIBRARY.shape"
   ],
   "outputs": [
    {
     "output_type": "error",
     "ename": "NameError",
     "evalue": "name 'LIBRARY' is not defined",
     "traceback": [
      "\u001b[0;31m---------------------------------------------------------------------------\u001b[0m",
      "\u001b[0;31mNameError\u001b[0m                                 Traceback (most recent call last)",
      "\u001b[0;32m<ipython-input-1-0e56213aa196>\u001b[0m in \u001b[0;36m<module>\u001b[0;34m\u001b[0m\n\u001b[0;32m----> 1\u001b[0;31m \u001b[0mLIBRARY\u001b[0m\u001b[0;34m.\u001b[0m\u001b[0mshape\u001b[0m\u001b[0;34m\u001b[0m\u001b[0;34m\u001b[0m\u001b[0m\n\u001b[0m",
      "\u001b[0;31mNameError\u001b[0m: name 'LIBRARY' is not defined"
     ]
    }
   ],
   "metadata": {}
  },
  {
   "cell_type": "code",
   "execution_count": null,
   "source": [],
   "outputs": [],
   "metadata": {}
  }
 ],
 "metadata": {
  "interpreter": {
   "hash": "b3d065463af8e3c52545a9d586f241a2a947b5dd1e81241794a42d6e30975c25"
  },
  "kernelspec": {
   "name": "python3",
   "display_name": "Python 3.8.3 64-bit ('base': conda)"
  },
  "language_info": {
   "codemirror_mode": {
    "name": "ipython",
    "version": 3
   },
   "file_extension": ".py",
   "mimetype": "text/x-python",
   "name": "python",
   "nbconvert_exporter": "python",
   "pygments_lexer": "ipython3",
   "version": "3.8.3"
  },
  "orig_nbformat": 4
 },
 "nbformat": 4,
 "nbformat_minor": 2
}